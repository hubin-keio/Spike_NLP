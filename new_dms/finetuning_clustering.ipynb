{
 "cells": [
  {
   "cell_type": "markdown",
   "metadata": {},
   "source": [
    "Here, I want to explore different different clustering methods, in addition to finetuning tSNE and UMAP clustering methods. A particular focus that would be great is using some algorithm to better identify/automate the clusters found in tSNE and UMAP for analysis."
   ]
  },
  {
   "cell_type": "code",
   "execution_count": null,
   "metadata": {},
   "outputs": [],
   "source": []
  }
 ],
 "metadata": {
  "language_info": {
   "name": "python"
  }
 },
 "nbformat": 4,
 "nbformat_minor": 2
}
