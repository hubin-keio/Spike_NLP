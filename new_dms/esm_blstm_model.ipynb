{
 "cells": [
  {
   "cell_type": "markdown",
   "metadata": {},
   "source": [
    "### Running through entire dataset using test mode\n",
    "We'll do this to evaluate the success of the ESM-BLSTM model (that we utilized transfer learning on using original DMS data) on new DMS data."
   ]
  },
  {
   "cell_type": "code",
   "execution_count": 1,
   "metadata": {},
   "outputs": [
    {
     "name": "stderr",
     "output_type": "stream",
     "text": [
      "/data/miniconda3/envs/spike_env/lib/python3.11/site-packages/tqdm/auto.py:21: TqdmWarning: IProgress not found. Please update jupyter and ipywidgets. See https://ipywidgets.readthedocs.io/en/stable/user_install.html\n",
      "  from .autonotebook import tqdm as notebook_tqdm\n"
     ]
    }
   ],
   "source": [
    "#!/usr/bin/env python\n",
    "\"\"\"\n",
    "Model runner for ESM model fed into BLSTM, where ESM embeddings get updated.\n",
    "\"\"\"\n",
    "\n",
    "import os\n",
    "import re\n",
    "import sys\n",
    "import math\n",
    "import tqdm\n",
    "import torch\n",
    "import time\n",
    "import datetime\n",
    "import numpy as np\n",
    "import pandas as pd\n",
    "from typing import Union\n",
    "from torch import nn\n",
    "from torch.utils.data import Dataset, DataLoader\n",
    "from transformers import AutoTokenizer, EsmModel \n",
    "import seaborn as sns\n",
    "import matplotlib.pyplot as plt\n",
    "from prettytable import PrettyTable\n",
    "\n",
    "# BLSTM\n",
    "class BLSTM(nn.Module):\n",
    "    \"\"\" Bidirectional LSTM with FCN layer. \"\"\"\n",
    "\n",
    "    def __init__(self,\n",
    "                 lstm_input_size,    # The number of expected features.\n",
    "                 lstm_hidden_size,   # The number of features in hidden state h.\n",
    "                 lstm_num_layers,    # Number of recurrent layers in LSTM.\n",
    "                 lstm_bidirectional, # Bidrectional LSTM.\n",
    "                 fcn_hidden_size):   # The number of features in hidden layer of CN.\n",
    "        super().__init__()\n",
    "\n",
    "        # LSTM layer\n",
    "        self.lstm = nn.LSTM(input_size=lstm_input_size,\n",
    "                            hidden_size=lstm_hidden_size,\n",
    "                            num_layers=lstm_num_layers,\n",
    "                            bidirectional=lstm_bidirectional,\n",
    "                            batch_first=True)           \n",
    "\n",
    "        # FCN\n",
    "        if lstm_bidirectional:\n",
    "            self.fcn = nn.Sequential(nn.Linear(2 * lstm_hidden_size, fcn_hidden_size),\n",
    "                                     nn.ReLU())\n",
    "        else:\n",
    "            self.fcn = nn.Sequential(nn.Linear(lstm_hidden_size, fcn_hidden_size),\n",
    "                                     nn.ReLU())\n",
    "\n",
    "        # FCN output layer\n",
    "        self.out = nn.Linear(fcn_hidden_size, 1)\n",
    "\n",
    "    def forward(self, x):\n",
    "        num_directions = 2 if self.lstm.bidirectional else 1\n",
    "        h_0 = torch.zeros(num_directions * self.lstm.num_layers, x.size(0), self.lstm.hidden_size, device=x.device)\n",
    "        c_0 = torch.zeros(num_directions * self.lstm.num_layers, x.size(0), self.lstm.hidden_size, device=x.device)\n",
    "\n",
    "        lstm_out, (h_n, c_n) = self.lstm(x, (h_0, c_0))\n",
    "        h_n.detach()\n",
    "        c_n.detach()\n",
    "        lstm_final_out = lstm_out[:, -1, :]\n",
    "        fcn_out = self.fcn(lstm_final_out)\n",
    "        prediction = self.out(fcn_out)\n",
    "\n",
    "        return prediction\n",
    "\n",
    "# ESM-BLSTM\n",
    "class ESM_BLSTM(nn.Module):\n",
    "    def __init__(self, esm, blstm):\n",
    "        super().__init__()\n",
    "        self.esm = esm\n",
    "        self.blstm = blstm\n",
    "\n",
    "    def forward(self, tokenized_seqs):\n",
    "        with torch.set_grad_enabled(self.training):  # Enable gradients, managed by model.eval() or model.train() in epoch_iteration\n",
    "            esm_output = self.esm(**tokenized_seqs).last_hidden_state\n",
    "            output = self.blstm(esm_output)\n",
    "        return output\n",
    "\n",
    "# DATASET    \n",
    "class DMSDataset(Dataset):\n",
    "    \"\"\" Binding or Expression DMS Dataset, not from pickle! \"\"\"\n",
    "    \n",
    "    def __init__(self, csv_file:str):\n",
    "        \"\"\"\n",
    "        Load from csv file into pandas:\n",
    "        - sequence label ('labels'), \n",
    "        - binding or expression numerical target ('log10Ka' or 'ML_meanF'), and \n",
    "        - 'sequence'\n",
    "        \"\"\"\n",
    "        try:\n",
    "            self.full_df = pd.read_csv(csv_file, sep=',', header=0)\n",
    "            self.target = 'log10Ka' if 'binding' in csv_file else 'expression'\n",
    "        except (FileNotFoundError, pd.errors.ParserError, Exception) as e:\n",
    "            print(f\"Error reading in .csv file: {csv_file}\\n{e}\", file=sys.stderr)\n",
    "            sys.exit(1)\n",
    "\n",
    "    def __len__(self) -> int:\n",
    "        return len(self.full_df)\n",
    "\n",
    "    def __getitem__(self, idx):\n",
    "        # label, seq, target\n",
    "        return self.full_df['label'][idx], self.full_df['sequence'][idx], self.full_df[self.target][idx]\n",
    "\n",
    "# HELPER FUNCTIONS\n",
    "def count_parameters(model):\n",
    "    \"\"\"\n",
    "    Count model parameters and print a summary\n",
    "\n",
    "    A nice hack from:\n",
    "    https://stackoverflow.com/a/62508086/1992369\n",
    "    \"\"\"\n",
    "    table = PrettyTable([\"Modules\", \"Parameters\"])\n",
    "    total_params = 0\n",
    "    for name, parameter in model.named_parameters():\n",
    "        if not parameter.requires_grad: continue\n",
    "        params = parameter.numel()\n",
    "        table.add_row([name, params])\n",
    "        total_params+=params\n",
    "    print(table)\n",
    "    print(f\"Total Trainable Params: {total_params}\\n\")\n",
    "    return total_params\n",
    "\n",
    "def save_model(model, optimizer, path_to_pth, epoch, loss):\n",
    "    torch.save({\n",
    "        'model_state_dict': model.state_dict(),\n",
    "        'optimizer_state_dict': optimizer.state_dict(),\n",
    "        'epoch': epoch,\n",
    "        'loss': loss\n",
    "    }, path_to_pth\n",
    "    )\n",
    "    print(f\"Model and optimizer state saved to {path_to_pth}\")\n",
    "\n",
    "def load_model(model, optimizer, saved_model_pth, device):\n",
    "    saved_state = torch.load(saved_model_pth, map_location=device)\n",
    "    model.load_state_dict(saved_state['model_state_dict'])\n",
    "    optimizer.load_state_dict(saved_state['optimizer_state_dict'])\n",
    "    epoch = saved_state['epoch']\n",
    "    loss = saved_state['loss']\n",
    "    print(f\"Loaded model from {saved_model_pth} at epoch {epoch}, loss {loss}\")\n",
    "    return model.to(device), optimizer, epoch, loss\n",
    "\n",
    "def load_model_checkpoint(path_to_pth, metrics_csv, starting_epoch):\n",
    "    \"\"\" Load model data csv, and model pth. \"\"\"\n",
    "    folder_path = os.path.dirname(path_to_pth)\n",
    "    files_in_folder = os.listdir(folder_path)\n",
    "    metrics_file_name = [file for file in files_in_folder if file.endswith(\"_metrics.csv\")][0]\n",
    "    saved_metrics_file = os.path.join(folder_path, metrics_file_name)\n",
    "\n",
    "    with open(saved_metrics_file, \"r\") as fa, open(metrics_csv, \"w\") as fb:\n",
    "        header = fa.readline()\n",
    "        fb.write(header)\n",
    "\n",
    "        for line in fa:\n",
    "            epoch = int(line.split(',')[0])\n",
    "            if epoch == starting_epoch:\n",
    "                break\n",
    "            fb.write(line)\n",
    "\n",
    "def load_model_from_trained(model, trained_model_pth, device):\n",
    "    \"\"\" \n",
    "    Function to load saved weights from the old DMS-trained \n",
    "    ESM-BLSTM transfer learning model. \n",
    "    \"\"\"\n",
    "    saved_state = torch.load(trained_model_pth, map_location=device)\n",
    "    state_dict = {key.replace('_model', ''): value for key, value in saved_state['model_state_dict'].items()}\n",
    "    model.load_state_dict(state_dict)\n",
    "    print(f\"Loaded trained model from {trained_model_pth}\")\n",
    "    return model.to(device)\n",
    "\n",
    "def plot_log_file(metrics_csv, metrics_img):\n",
    "    df = pd.read_csv(metrics_csv)\n",
    "\n",
    "    sns.set_theme(style=\"darkgrid\")\n",
    "\n",
    "    fontsize = 24\n",
    "    plt.subplots(figsize=(16, 9))\n",
    "    plt.plot(df['Epoch'], df['Train RMSE'], label='Train RMSE', color='tab:blue', linewidth=3)\n",
    "    plt.plot(df['Epoch'], df['Test RMSE'], label='Test RMSE', color='tab:orange', linewidth=3)\n",
    "    plt.xlabel('Epochs', fontsize=fontsize)\n",
    "    plt.xticks(fontsize=fontsize)\n",
    "    plt.ylabel('Loss', fontsize=fontsize)\n",
    "    plt.yticks(fontsize=fontsize)\n",
    "    plt.legend(loc='upper right', fontsize=fontsize)\n",
    "    plt.tight_layout()\n",
    "    plt.savefig(metrics_img, format='pdf')\n",
    "\n",
    "# NOT USED ANYMORE, calculation done in epoch_iteration\n",
    "def calc_rmse_loss(metrics_csv: str, metrics_img:str):\n",
    "    \"\"\" Calculate the mse and rmse per item (batch independent)\"\"\"\n",
    "\n",
    "    n_train = int(re.search(r'train_(\\d+)', metrics_csv).group(1))\n",
    "    n_test = int(re.search(r'test_(\\d+)', metrics_csv).group(1))\n",
    "    metrics_df = pd.read_csv(metrics_csv, sep=',', header=0)\n",
    "\n",
    "    # MSE\n",
    "    # Our train loss saved to csv was the accumulated total squared error, just need to divide to take the mean\n",
    "    metrics_df['Train Loss MSE'] = metrics_df['Train Loss']/n_train\n",
    "    metrics_df['Test Loss MSE'] = metrics_df['Test Loss']/n_test\n",
    "\n",
    "    # RMSE\n",
    "    metrics_df['Train Loss RMSE'] = np.sqrt(metrics_df['Train Loss MSE'].values)\n",
    "    metrics_df['Test Loss RMSE'] = np.sqrt(metrics_df['Test Loss MSE'].values)\n",
    "\n",
    "    metrics_df.to_csv(metrics_csv, index=False)\n",
    "    plot_log_file(metrics_csv, metrics_img)\n",
    "\n",
    "# MODEL RUNNING\n",
    "def run_model(model, tokenizer, train_data_loader, test_data_loader, n_epochs: int, lr:float, max_batch: Union[int, None], device: str, run_dir: str, save_as: str, saved_model_pth:str=None, from_checkpoint:bool=False):\n",
    "    \"\"\" Run a model through train and test epochs. \"\"\"\n",
    "\n",
    "    model = model.to(device)\n",
    "    loss_fn = nn.MSELoss(reduction='sum').to(device)\n",
    "    optimizer = torch.optim.SGD(model.parameters(), lr)\n",
    "\n",
    "    starting_epoch = 1\n",
    "    best_loss = float('inf')\n",
    "\n",
    "    # Load saved model if provided\n",
    "    if saved_model_pth is not None:\n",
    "        model, optimizer, starting_epoch, best_loss = load_model(model, optimizer, saved_model_pth, device)\n",
    "        starting_epoch += 1\n",
    "\n",
    "    start_time = time.time()\n",
    "    \n",
    "    metrics_csv = os.path.join(run_dir, f\"{save_as}_metrics.csv\")\n",
    "    metrics_img = os.path.join(run_dir, f\"{save_as}_metrics.pdf\")\n",
    "    \n",
    "    # If saved model, skip to predictions \n",
    "    # Except when from checkpoint (still need saved model)\n",
    "    if saved_model_pth is None or (from_checkpoint and saved_model_pth is not None):\n",
    "\n",
    "        if starting_epoch > n_epochs:\n",
    "            raise ValueError(f\"Starting epoch ({starting_epoch}) is greater than the total number of epochs to run ({n_epochs}). Adjust the number of epochs, 'n_epochs'.\")\n",
    "        \n",
    "        with open(metrics_csv, \"a\") as fa:\n",
    "            if from_checkpoint: load_model_checkpoint(saved_model_pth, metrics_csv, starting_epoch)\n",
    "            else: fa.write(f\"Epoch,Train MSE,Train RMSE,Test MSE,Test RMSE\\n\")\n",
    "\n",
    "            for epoch in range(starting_epoch, n_epochs + 1):\n",
    "                if not max_batch:\n",
    "                    max_batch = len(train_data_loader)\n",
    "\n",
    "                train_mse, train_rmse = epoch_iteration(model, tokenizer, loss_fn, optimizer, train_data_loader, epoch, max_batch, device, mode='train')\n",
    "                test_mse, test_rmse = epoch_iteration(model, tokenizer, loss_fn, optimizer, test_data_loader, epoch, max_batch, device, mode='test')\n",
    "\n",
    "                print(f'Epoch {epoch} | Train MSE Loss: {train_mse:.4f}, Train RMSE Loss: {train_rmse:.4f}')\n",
    "                print(f'{\" \"*(7+len(str(epoch)))}| Test MSE Loss: {test_mse:.4f}, Test RMSE Loss: {test_rmse:.4f}\\n')          \n",
    "                fa.write(f\"{epoch},{train_mse},{train_rmse},{test_mse},{test_rmse}\\n\")\n",
    "                fa.flush()\n",
    "\n",
    "                if test_rmse < best_loss:\n",
    "                    best_loss = test_rmse\n",
    "                    model_path = os.path.join(run_dir, f'best_saved_model.pth')\n",
    "                    print(f\"NEW BEST model: loss {best_loss:.4f}\")\n",
    "                    save_model(model, optimizer, model_path, epoch, best_loss)\n",
    "                \n",
    "                model_path = os.path.join(run_dir, f'checkpoint_saved_model.pth')\n",
    "                save_model(model, optimizer, model_path, epoch, test_rmse)\n",
    "                print(\"\")\n",
    "        \n",
    "        plot_log_file(metrics_csv, metrics_img)\n",
    "\n",
    "    # End timer and print duration\n",
    "    end_time = time.time()\n",
    "    duration = end_time - start_time\n",
    "    print(f'Training and testing complete in {duration:.2f} seconds.')\n",
    "\n",
    "def epoch_iteration(model, tokenizer, loss_fn, optimizer, data_loader, epoch, max_batch, device, mode):\n",
    "    \"\"\" Used in run_model. \"\"\"\n",
    "    \n",
    "    model.train() if mode=='train' else model.eval()\n",
    "\n",
    "    data_iter = tqdm.tqdm(enumerate(data_loader),\n",
    "                          desc=f'Epoch_{mode}: {epoch}',\n",
    "                          total=len(data_loader),\n",
    "                          bar_format='{l_bar}{r_bar}')\n",
    "\n",
    "    total_loss = 0\n",
    "    total_items = 0\n",
    "\n",
    "    for batch, batch_data in data_iter:\n",
    "        if max_batch > 0 and batch >= max_batch:\n",
    "            break\n",
    "\n",
    "        _, seqs, targets = batch_data\n",
    "        targets = targets.to(device).float()\n",
    "        tokenized_seqs = tokenizer(seqs,return_tensors=\"pt\").to(device)\n",
    "   \n",
    "        if mode == 'train':\n",
    "            optimizer.zero_grad()\n",
    "            pred = model(tokenized_seqs).flatten()\n",
    "            batch_loss = loss_fn(pred, targets)\n",
    "            batch_loss.backward()\n",
    "            optimizer.step()\n",
    "\n",
    "        else:\n",
    "            with torch.no_grad():\n",
    "                pred = model(tokenized_seqs).flatten()\n",
    "                batch_loss = loss_fn(pred, targets)\n",
    "\n",
    "        total_loss += batch_loss.item()\n",
    "        total_items += targets.size(0)\n",
    "    \n",
    "    # total loss is the sum of squared errors over items encountered\n",
    "    # so divide by the number of items encountered\n",
    "    # we get mse and rmse per item\n",
    "    mse = total_loss/total_items\n",
    "    rmse = np.sqrt(mse)\n",
    "\n",
    "    return mse, rmse    \n",
    " \n",
    "def run_test_only(model, tokenizer, data_loader, device: str):\n",
    "    \"\"\" Run a model through 1 test epoch. \"\"\"\n",
    "\n",
    "    model = model.to(device)\n",
    "    loss_fn = nn.MSELoss(reduction='sum').to(device)\n",
    "\n",
    "    data_iter = tqdm.tqdm(enumerate(data_loader),\n",
    "                          desc=f'Evaluation',\n",
    "                          total=len(data_loader),\n",
    "                          bar_format='{l_bar}{r_bar}')\n",
    "\n",
    "    total_loss = 0    \n",
    "    total_items = 0\n",
    "\n",
    "    for _, batch_data in data_iter:\n",
    "\n",
    "        _, seqs, targets = batch_data\n",
    "        targets = targets.to(device).float()\n",
    "        tokenized_seqs = tokenizer(seqs,return_tensors=\"pt\").to(device)\n",
    "   \n",
    "   \n",
    "        model.eval()\n",
    "        with torch.no_grad():\n",
    "            pred = model(tokenized_seqs).flatten()\n",
    "            batch_loss = loss_fn(pred, targets)\n",
    "\n",
    "        total_loss += batch_loss.item()\n",
    "        total_items += targets.size(0)\n",
    "\n",
    "    # total loss is the sum of squared errors over items encountered\n",
    "    # so divide by the number of items encountered\n",
    "    # we get mse and rmse per item\n",
    "    mse = total_loss/total_items\n",
    "    rmse = np.sqrt(mse)\n",
    "\n",
    "    return mse, rmse    "
   ]
  },
  {
   "cell_type": "markdown",
   "metadata": {},
   "source": [
    "Let's take a look at the new DMS binding dataset. We'll run it twice: first with the non-pretrained ESM-BLSTM (starting from pretrained ESM), and second using the pretrained ESM-BLSTM (starting from pretrained ESM). We'll do this comparison to see how well the finetuning performs.\n",
    "\n",
    "After, we'll do the same for the new DMS expression dataset. There will be a table at the end to compare."
   ]
  },
  {
   "cell_type": "code",
   "execution_count": 2,
   "metadata": {},
   "outputs": [
    {
     "name": "stderr",
     "output_type": "stream",
     "text": [
      "Some weights of EsmModel were not initialized from the model checkpoint at facebook/esm2_t6_8M_UR50D and are newly initialized: ['esm.pooler.dense.weight', 'esm.pooler.dense.bias']\n",
      "You should probably TRAIN this model on a down-stream task to be able to use it for predictions and inference.\n",
      "Evaluation: 100%|| 3079/3079 [01:27<00:00, 35.27it/s]\n"
     ]
    },
    {
     "name": "stdout",
     "output_type": "stream",
     "text": [
      "Binding Evaluation | MSE: 62.9521 | RMSE: 7.9342\n",
      "Loaded trained model from ../results/run_results/esm-blstm/esm-blstm-esm_dms_binding-2023-12-12_17-02/esm-blstm-esm_dms_binding-2023-12-12_17-02_train_84420_test_21105.model_save\n"
     ]
    },
    {
     "name": "stderr",
     "output_type": "stream",
     "text": [
      "Evaluation: 100%|| 3079/3079 [01:26<00:00, 35.43it/s]"
     ]
    },
    {
     "name": "stdout",
     "output_type": "stream",
     "text": [
      "Binding Evaluation | MSE: 4.3058 | RMSE: 2.0750\n"
     ]
    },
    {
     "name": "stderr",
     "output_type": "stream",
     "text": [
      "\n"
     ]
    }
   ],
   "source": [
    "evaluation_results = {}\n",
    "\n",
    "# Data directories\n",
    "data_dir = './data/split_processed_dms'\n",
    "\n",
    "# Run setup\n",
    "batch_size = 32\n",
    "num_workers = 64\n",
    "device = torch.device(\"cuda:3\" if torch.cuda.is_available() else \"cpu\")\n",
    "\n",
    "# Create Dataset and DataLoader\n",
    "torch.manual_seed(0)\n",
    "\n",
    "dms_binding_csv = os.path.join(data_dir, 'mutation_combined_binding.csv')  # binding\n",
    "trained_binding_model_pth = \"../results/run_results/esm-blstm/esm-blstm-esm_dms_binding-2023-12-12_17-02/esm-blstm-esm_dms_binding-2023-12-12_17-02_train_84420_test_21105.model_save\"\n",
    "\n",
    "binding_dataset = DMSDataset(dms_binding_csv)\n",
    "binding_data_loader = DataLoader(binding_dataset, batch_size=batch_size, shuffle=True, drop_last=False, num_workers=num_workers, pin_memory=True)\n",
    "\n",
    "# ESM input\n",
    "esm = EsmModel.from_pretrained(\"facebook/esm2_t6_8M_UR50D\").to(device)\n",
    "tokenizer = AutoTokenizer.from_pretrained(\"facebook/esm2_t33_650M_UR50D\")\n",
    "\n",
    "# BLSTM input\n",
    "lstm_input_size = 320\n",
    "lstm_hidden_size = 320\n",
    "lstm_num_layers = 1        \n",
    "lstm_bidrectional = True   \n",
    "fcn_hidden_size = 320\n",
    "blstm = BLSTM(lstm_input_size, lstm_hidden_size, lstm_num_layers, lstm_bidrectional, fcn_hidden_size)\n",
    "\n",
    "b_model = ESM_BLSTM(esm, blstm)\n",
    "\n",
    "# Run prior to loading\n",
    "mse, rmse = run_test_only(b_model, tokenizer, binding_data_loader, device)\n",
    "print(f'Binding Evaluation | MSE: {mse:.4f} | RMSE: {rmse:.4f}')\n",
    "entry = {\n",
    "    'Model': 'ESM-Pretrained Binding',\n",
    "    'MSE': mse,\n",
    "    'RMSE': rmse\n",
    "}\n",
    "evaluation_results['ESM-Pretrained Binding'] = entry\n",
    "\n",
    "# Run after loading\n",
    "load_model_from_trained(b_model, trained_binding_model_pth, device)\n",
    "mse, rmse = run_test_only(b_model, tokenizer, binding_data_loader, device)\n",
    "print(f'Binding Evaluation | MSE: {mse:.4f} | RMSE: {rmse:.4f}')\n",
    "\n",
    "entry = {\n",
    "    'Model': 'DMS-Pretrained Binding',\n",
    "    'MSE': mse,\n",
    "    'RMSE': rmse\n",
    "}\n",
    "evaluation_results['DMS-Pretrained Binding'] = entry"
   ]
  },
  {
   "cell_type": "code",
   "execution_count": 3,
   "metadata": {},
   "outputs": [
    {
     "name": "stderr",
     "output_type": "stream",
     "text": [
      "Some weights of EsmModel were not initialized from the model checkpoint at facebook/esm2_t6_8M_UR50D and are newly initialized: ['esm.pooler.dense.weight', 'esm.pooler.dense.bias']\n",
      "You should probably TRAIN this model on a down-stream task to be able to use it for predictions and inference.\n",
      "Evaluation: 100%|| 3254/3254 [01:31<00:00, 35.46it/s]\n"
     ]
    },
    {
     "name": "stdout",
     "output_type": "stream",
     "text": [
      "Expression Evaluation | MSE: 70.0161 | RMSE: 8.3676\n",
      "Loaded trained model from ../results/run_results/esm-blstm/esm-blstm-esm_dms_expression-2023-12-12_16-58/esm-blstm-esm_dms_expression-2023-12-12_16-58_train_93005_test_23252.model_save\n"
     ]
    },
    {
     "name": "stderr",
     "output_type": "stream",
     "text": [
      "Evaluation: 100%|| 3254/3254 [01:31<00:00, 35.43it/s]"
     ]
    },
    {
     "name": "stdout",
     "output_type": "stream",
     "text": [
      "Expression Evaluation | MSE: 0.9016 | RMSE: 0.9495\n"
     ]
    },
    {
     "name": "stderr",
     "output_type": "stream",
     "text": [
      "\n"
     ]
    }
   ],
   "source": [
    "# Data directories\n",
    "data_dir = './data/split_processed_dms'\n",
    "\n",
    "# Run setup\n",
    "batch_size = 32\n",
    "num_workers = 64\n",
    "device = torch.device(\"cuda:3\" if torch.cuda.is_available() else \"cpu\")\n",
    "\n",
    "# Create Dataset and DataLoader\n",
    "torch.manual_seed(0)\n",
    "\n",
    "dms_expression_csv = os.path.join(data_dir, 'mutation_combined_expression.csv') # expression\n",
    "trained_expression_model_pth = \"../results/run_results/esm-blstm/esm-blstm-esm_dms_expression-2023-12-12_16-58/esm-blstm-esm_dms_expression-2023-12-12_16-58_train_93005_test_23252.model_save\"\n",
    "\n",
    "expression_dataset = DMSDataset(dms_expression_csv)\n",
    "expression_data_loader = DataLoader(expression_dataset, batch_size=batch_size, shuffle=True, drop_last=False, num_workers=num_workers, pin_memory=True)\n",
    "\n",
    "# ESM input\n",
    "esm = EsmModel.from_pretrained(\"facebook/esm2_t6_8M_UR50D\").to(device)\n",
    "tokenizer = AutoTokenizer.from_pretrained(\"facebook/esm2_t33_650M_UR50D\")\n",
    "\n",
    "# BLSTM input\n",
    "lstm_input_size = 320\n",
    "lstm_hidden_size = 320\n",
    "lstm_num_layers = 1        \n",
    "lstm_bidrectional = True   \n",
    "fcn_hidden_size = 320\n",
    "blstm = BLSTM(lstm_input_size, lstm_hidden_size, lstm_num_layers, lstm_bidrectional, fcn_hidden_size)\n",
    "\n",
    "e_model = ESM_BLSTM(esm, blstm)\n",
    "\n",
    "# Run prior to loading\n",
    "mse, rmse = run_test_only(e_model, tokenizer, expression_data_loader, device)\n",
    "print(f'Expression Evaluation | MSE: {mse:.4f} | RMSE: {rmse:.4f}')\n",
    "entry = {\n",
    "    'Model': 'ESM-Pretrained Expression',\n",
    "    'MSE': mse,\n",
    "    'RMSE': rmse\n",
    "}\n",
    "evaluation_results['ESM-Pretrained Expression'] = entry\n",
    "\n",
    "# Run after loading\n",
    "load_model_from_trained(e_model, trained_expression_model_pth, device)\n",
    "mse, rmse = run_test_only(e_model, tokenizer, expression_data_loader, device)\n",
    "print(f'Expression Evaluation | MSE: {mse:.4f} | RMSE: {rmse:.4f}')\n",
    "\n",
    "entry = {\n",
    "    'Model': 'DMS-Pretrained Expression',\n",
    "    'MSE': mse,\n",
    "    'RMSE': rmse\n",
    "}\n",
    "evaluation_results['DMS-Pretrained Expression'] = entry"
   ]
  },
  {
   "cell_type": "code",
   "execution_count": 4,
   "metadata": {},
   "outputs": [
    {
     "data": {
      "text/html": [
       "<div>\n",
       "<style scoped>\n",
       "    .dataframe tbody tr th:only-of-type {\n",
       "        vertical-align: middle;\n",
       "    }\n",
       "\n",
       "    .dataframe tbody tr th {\n",
       "        vertical-align: top;\n",
       "    }\n",
       "\n",
       "    .dataframe thead th {\n",
       "        text-align: right;\n",
       "    }\n",
       "</style>\n",
       "<table border=\"1\" class=\"dataframe\">\n",
       "  <thead>\n",
       "    <tr style=\"text-align: right;\">\n",
       "      <th></th>\n",
       "      <th>Model</th>\n",
       "      <th>MSE</th>\n",
       "      <th>RMSE</th>\n",
       "    </tr>\n",
       "  </thead>\n",
       "  <tbody>\n",
       "    <tr>\n",
       "      <th>0</th>\n",
       "      <td>ESM-Pretrained Binding</td>\n",
       "      <td>62.952063</td>\n",
       "      <td>7.934234</td>\n",
       "    </tr>\n",
       "    <tr>\n",
       "      <th>1</th>\n",
       "      <td>DMS-Pretrained Binding</td>\n",
       "      <td>4.305789</td>\n",
       "      <td>2.075039</td>\n",
       "    </tr>\n",
       "    <tr>\n",
       "      <th>2</th>\n",
       "      <td>ESM-Pretrained Expression</td>\n",
       "      <td>70.016104</td>\n",
       "      <td>8.367563</td>\n",
       "    </tr>\n",
       "    <tr>\n",
       "      <th>3</th>\n",
       "      <td>DMS-Pretrained Expression</td>\n",
       "      <td>0.901599</td>\n",
       "      <td>0.949526</td>\n",
       "    </tr>\n",
       "  </tbody>\n",
       "</table>\n",
       "</div>"
      ],
      "text/plain": [
       "                       Model        MSE      RMSE\n",
       "0     ESM-Pretrained Binding  62.952063  7.934234\n",
       "1     DMS-Pretrained Binding   4.305789  2.075039\n",
       "2  ESM-Pretrained Expression  70.016104  8.367563\n",
       "3  DMS-Pretrained Expression   0.901599  0.949526"
      ]
     },
     "execution_count": 4,
     "metadata": {},
     "output_type": "execute_result"
    }
   ],
   "source": [
    "# Convert the dictionary values to a pandas DataFrame\n",
    "evaluation_results_df = pd.DataFrame.from_dict(evaluation_results, orient='index')\n",
    "evaluation_results_df.reset_index(drop=True, inplace=True)\n",
    "evaluation_results_df"
   ]
  },
  {
   "cell_type": "markdown",
   "metadata": {},
   "source": [
    "### Running the model on both training/testing modes using the split data\n",
    "We'll do this as an example to continue training the model on the DMS data to see if performance improves, but this will actually be fully ran in `Spike_NLP_kaetlyn/new_dms/esm_blstm_model_runner.py`"
   ]
  },
  {
   "cell_type": "code",
   "execution_count": 5,
   "metadata": {},
   "outputs": [
    {
     "name": "stderr",
     "output_type": "stream",
     "text": [
      "Some weights of EsmModel were not initialized from the model checkpoint at facebook/esm2_t6_8M_UR50D and are newly initialized: ['esm.pooler.dense.weight', 'esm.pooler.dense.bias']\n",
      "You should probably TRAIN this model on a down-stream task to be able to use it for predictions and inference.\n"
     ]
    },
    {
     "name": "stdout",
     "output_type": "stream",
     "text": [
      "Loaded trained model from ../results/run_results/esm-blstm/esm-blstm-esm_dms_binding-2023-12-12_17-02/esm-blstm-esm_dms_binding-2023-12-12_17-02_train_84420_test_21105.model_save\n",
      "+---------------------------------------------------+------------+\n",
      "|                      Modules                      | Parameters |\n",
      "+---------------------------------------------------+------------+\n",
      "|       esm.embeddings.word_embeddings.weight       |   10560    |\n",
      "|     esm.embeddings.position_embeddings.weight     |   328320   |\n",
      "|  esm.encoder.layer.0.attention.self.query.weight  |   102400   |\n",
      "|   esm.encoder.layer.0.attention.self.query.bias   |    320     |\n",
      "|   esm.encoder.layer.0.attention.self.key.weight   |   102400   |\n",
      "|    esm.encoder.layer.0.attention.self.key.bias    |    320     |\n",
      "|  esm.encoder.layer.0.attention.self.value.weight  |   102400   |\n",
      "|   esm.encoder.layer.0.attention.self.value.bias   |    320     |\n",
      "| esm.encoder.layer.0.attention.output.dense.weight |   102400   |\n",
      "|  esm.encoder.layer.0.attention.output.dense.bias  |    320     |\n",
      "|   esm.encoder.layer.0.attention.LayerNorm.weight  |    320     |\n",
      "|    esm.encoder.layer.0.attention.LayerNorm.bias   |    320     |\n",
      "|   esm.encoder.layer.0.intermediate.dense.weight   |   409600   |\n",
      "|    esm.encoder.layer.0.intermediate.dense.bias    |    1280    |\n",
      "|      esm.encoder.layer.0.output.dense.weight      |   409600   |\n",
      "|       esm.encoder.layer.0.output.dense.bias       |    320     |\n",
      "|        esm.encoder.layer.0.LayerNorm.weight       |    320     |\n",
      "|         esm.encoder.layer.0.LayerNorm.bias        |    320     |\n",
      "|  esm.encoder.layer.1.attention.self.query.weight  |   102400   |\n",
      "|   esm.encoder.layer.1.attention.self.query.bias   |    320     |\n",
      "|   esm.encoder.layer.1.attention.self.key.weight   |   102400   |\n",
      "|    esm.encoder.layer.1.attention.self.key.bias    |    320     |\n",
      "|  esm.encoder.layer.1.attention.self.value.weight  |   102400   |\n",
      "|   esm.encoder.layer.1.attention.self.value.bias   |    320     |\n",
      "| esm.encoder.layer.1.attention.output.dense.weight |   102400   |\n",
      "|  esm.encoder.layer.1.attention.output.dense.bias  |    320     |\n",
      "|   esm.encoder.layer.1.attention.LayerNorm.weight  |    320     |\n",
      "|    esm.encoder.layer.1.attention.LayerNorm.bias   |    320     |\n",
      "|   esm.encoder.layer.1.intermediate.dense.weight   |   409600   |\n",
      "|    esm.encoder.layer.1.intermediate.dense.bias    |    1280    |\n",
      "|      esm.encoder.layer.1.output.dense.weight      |   409600   |\n",
      "|       esm.encoder.layer.1.output.dense.bias       |    320     |\n",
      "|        esm.encoder.layer.1.LayerNorm.weight       |    320     |\n",
      "|         esm.encoder.layer.1.LayerNorm.bias        |    320     |\n",
      "|  esm.encoder.layer.2.attention.self.query.weight  |   102400   |\n",
      "|   esm.encoder.layer.2.attention.self.query.bias   |    320     |\n",
      "|   esm.encoder.layer.2.attention.self.key.weight   |   102400   |\n",
      "|    esm.encoder.layer.2.attention.self.key.bias    |    320     |\n",
      "|  esm.encoder.layer.2.attention.self.value.weight  |   102400   |\n",
      "|   esm.encoder.layer.2.attention.self.value.bias   |    320     |\n",
      "| esm.encoder.layer.2.attention.output.dense.weight |   102400   |\n",
      "|  esm.encoder.layer.2.attention.output.dense.bias  |    320     |\n",
      "|   esm.encoder.layer.2.attention.LayerNorm.weight  |    320     |\n",
      "|    esm.encoder.layer.2.attention.LayerNorm.bias   |    320     |\n",
      "|   esm.encoder.layer.2.intermediate.dense.weight   |   409600   |\n",
      "|    esm.encoder.layer.2.intermediate.dense.bias    |    1280    |\n",
      "|      esm.encoder.layer.2.output.dense.weight      |   409600   |\n",
      "|       esm.encoder.layer.2.output.dense.bias       |    320     |\n",
      "|        esm.encoder.layer.2.LayerNorm.weight       |    320     |\n",
      "|         esm.encoder.layer.2.LayerNorm.bias        |    320     |\n",
      "|  esm.encoder.layer.3.attention.self.query.weight  |   102400   |\n",
      "|   esm.encoder.layer.3.attention.self.query.bias   |    320     |\n",
      "|   esm.encoder.layer.3.attention.self.key.weight   |   102400   |\n",
      "|    esm.encoder.layer.3.attention.self.key.bias    |    320     |\n",
      "|  esm.encoder.layer.3.attention.self.value.weight  |   102400   |\n",
      "|   esm.encoder.layer.3.attention.self.value.bias   |    320     |\n",
      "| esm.encoder.layer.3.attention.output.dense.weight |   102400   |\n",
      "|  esm.encoder.layer.3.attention.output.dense.bias  |    320     |\n",
      "|   esm.encoder.layer.3.attention.LayerNorm.weight  |    320     |\n",
      "|    esm.encoder.layer.3.attention.LayerNorm.bias   |    320     |\n",
      "|   esm.encoder.layer.3.intermediate.dense.weight   |   409600   |\n",
      "|    esm.encoder.layer.3.intermediate.dense.bias    |    1280    |\n",
      "|      esm.encoder.layer.3.output.dense.weight      |   409600   |\n",
      "|       esm.encoder.layer.3.output.dense.bias       |    320     |\n",
      "|        esm.encoder.layer.3.LayerNorm.weight       |    320     |\n",
      "|         esm.encoder.layer.3.LayerNorm.bias        |    320     |\n",
      "|  esm.encoder.layer.4.attention.self.query.weight  |   102400   |\n",
      "|   esm.encoder.layer.4.attention.self.query.bias   |    320     |\n",
      "|   esm.encoder.layer.4.attention.self.key.weight   |   102400   |\n",
      "|    esm.encoder.layer.4.attention.self.key.bias    |    320     |\n",
      "|  esm.encoder.layer.4.attention.self.value.weight  |   102400   |\n",
      "|   esm.encoder.layer.4.attention.self.value.bias   |    320     |\n",
      "| esm.encoder.layer.4.attention.output.dense.weight |   102400   |\n",
      "|  esm.encoder.layer.4.attention.output.dense.bias  |    320     |\n",
      "|   esm.encoder.layer.4.attention.LayerNorm.weight  |    320     |\n",
      "|    esm.encoder.layer.4.attention.LayerNorm.bias   |    320     |\n",
      "|   esm.encoder.layer.4.intermediate.dense.weight   |   409600   |\n",
      "|    esm.encoder.layer.4.intermediate.dense.bias    |    1280    |\n",
      "|      esm.encoder.layer.4.output.dense.weight      |   409600   |\n",
      "|       esm.encoder.layer.4.output.dense.bias       |    320     |\n",
      "|        esm.encoder.layer.4.LayerNorm.weight       |    320     |\n",
      "|         esm.encoder.layer.4.LayerNorm.bias        |    320     |\n",
      "|  esm.encoder.layer.5.attention.self.query.weight  |   102400   |\n",
      "|   esm.encoder.layer.5.attention.self.query.bias   |    320     |\n",
      "|   esm.encoder.layer.5.attention.self.key.weight   |   102400   |\n",
      "|    esm.encoder.layer.5.attention.self.key.bias    |    320     |\n",
      "|  esm.encoder.layer.5.attention.self.value.weight  |   102400   |\n",
      "|   esm.encoder.layer.5.attention.self.value.bias   |    320     |\n",
      "| esm.encoder.layer.5.attention.output.dense.weight |   102400   |\n",
      "|  esm.encoder.layer.5.attention.output.dense.bias  |    320     |\n",
      "|   esm.encoder.layer.5.attention.LayerNorm.weight  |    320     |\n",
      "|    esm.encoder.layer.5.attention.LayerNorm.bias   |    320     |\n",
      "|   esm.encoder.layer.5.intermediate.dense.weight   |   409600   |\n",
      "|    esm.encoder.layer.5.intermediate.dense.bias    |    1280    |\n",
      "|      esm.encoder.layer.5.output.dense.weight      |   409600   |\n",
      "|       esm.encoder.layer.5.output.dense.bias       |    320     |\n",
      "|        esm.encoder.layer.5.LayerNorm.weight       |    320     |\n",
      "|         esm.encoder.layer.5.LayerNorm.bias        |    320     |\n",
      "|      esm.encoder.emb_layer_norm_after.weight      |    320     |\n",
      "|       esm.encoder.emb_layer_norm_after.bias       |    320     |\n",
      "|              esm.pooler.dense.weight              |   102400   |\n",
      "|               esm.pooler.dense.bias               |    320     |\n",
      "|         esm.contact_head.regression.weight        |    120     |\n",
      "|          esm.contact_head.regression.bias         |     1      |\n",
      "|              blstm.lstm.weight_ih_l0              |   409600   |\n",
      "|              blstm.lstm.weight_hh_l0              |   409600   |\n",
      "|               blstm.lstm.bias_ih_l0               |    1280    |\n",
      "|               blstm.lstm.bias_hh_l0               |    1280    |\n",
      "|          blstm.lstm.weight_ih_l0_reverse          |   409600   |\n",
      "|          blstm.lstm.weight_hh_l0_reverse          |   409600   |\n",
      "|           blstm.lstm.bias_ih_l0_reverse           |    1280    |\n",
      "|           blstm.lstm.bias_hh_l0_reverse           |    1280    |\n",
      "|                 blstm.fcn.0.weight                |   204800   |\n",
      "|                  blstm.fcn.0.bias                 |    320     |\n",
      "|                  blstm.out.weight                 |    320     |\n",
      "|                   blstm.out.bias                  |     1      |\n",
      "+---------------------------------------------------+------------+\n",
      "Total Trainable Params: 9689082\n",
      "\n"
     ]
    },
    {
     "name": "stderr",
     "output_type": "stream",
     "text": [
      "Epoch_train: 1: 100%|| 2463/2463 [02:41<00:00, 15.25it/s]\n",
      "Epoch_test: 1: 100%|| 616/616 [00:17<00:00, 36.14it/s]\n"
     ]
    },
    {
     "name": "stdout",
     "output_type": "stream",
     "text": [
      "Epoch 1 | Train MSE Loss: 0.5482, Train RMSE Loss: 0.7404\n",
      "        | Test MSE Loss: 0.4549, Test RMSE Loss: 0.6745\n",
      "\n",
      "NEW BEST model: loss 0.6745\n",
      "Model and optimizer state saved to ./run_results/esm-blstm/esm_blstm-dms_binding-2024-08-20_14-55/best_saved_model.pth\n",
      "Model and optimizer state saved to ./run_results/esm-blstm/esm_blstm-dms_binding-2024-08-20_14-55/checkpoint_saved_model.pth\n",
      "\n"
     ]
    },
    {
     "name": "stderr",
     "output_type": "stream",
     "text": [
      "Epoch_train: 2: 100%|| 2463/2463 [02:42<00:00, 15.11it/s]\n",
      "Epoch_test: 2: 100%|| 616/616 [00:17<00:00, 35.79it/s]\n"
     ]
    },
    {
     "name": "stdout",
     "output_type": "stream",
     "text": [
      "Epoch 2 | Train MSE Loss: 0.4195, Train RMSE Loss: 0.6477\n",
      "        | Test MSE Loss: 0.4131, Test RMSE Loss: 0.6427\n",
      "\n",
      "NEW BEST model: loss 0.6427\n",
      "Model and optimizer state saved to ./run_results/esm-blstm/esm_blstm-dms_binding-2024-08-20_14-55/best_saved_model.pth\n",
      "Model and optimizer state saved to ./run_results/esm-blstm/esm_blstm-dms_binding-2024-08-20_14-55/checkpoint_saved_model.pth\n",
      "\n"
     ]
    },
    {
     "name": "stderr",
     "output_type": "stream",
     "text": [
      "Epoch_train: 3: 100%|| 2463/2463 [02:41<00:00, 15.24it/s]\n",
      "Epoch_test: 3: 100%|| 616/616 [00:17<00:00, 35.57it/s]\n"
     ]
    },
    {
     "name": "stdout",
     "output_type": "stream",
     "text": [
      "Epoch 3 | Train MSE Loss: 0.3834, Train RMSE Loss: 0.6192\n",
      "        | Test MSE Loss: 0.4112, Test RMSE Loss: 0.6412\n",
      "\n",
      "NEW BEST model: loss 0.6412\n",
      "Model and optimizer state saved to ./run_results/esm-blstm/esm_blstm-dms_binding-2024-08-20_14-55/best_saved_model.pth\n",
      "Model and optimizer state saved to ./run_results/esm-blstm/esm_blstm-dms_binding-2024-08-20_14-55/checkpoint_saved_model.pth\n",
      "\n"
     ]
    },
    {
     "name": "stderr",
     "output_type": "stream",
     "text": [
      "Epoch_train: 4: 100%|| 2463/2463 [02:43<00:00, 15.10it/s]\n",
      "Epoch_test: 4: 100%|| 616/616 [00:17<00:00, 35.71it/s]\n"
     ]
    },
    {
     "name": "stdout",
     "output_type": "stream",
     "text": [
      "Epoch 4 | Train MSE Loss: 0.3597, Train RMSE Loss: 0.5998\n",
      "        | Test MSE Loss: 0.3870, Test RMSE Loss: 0.6221\n",
      "\n",
      "NEW BEST model: loss 0.6221\n",
      "Model and optimizer state saved to ./run_results/esm-blstm/esm_blstm-dms_binding-2024-08-20_14-55/best_saved_model.pth\n",
      "Model and optimizer state saved to ./run_results/esm-blstm/esm_blstm-dms_binding-2024-08-20_14-55/checkpoint_saved_model.pth\n",
      "\n"
     ]
    },
    {
     "name": "stderr",
     "output_type": "stream",
     "text": [
      "Epoch_train: 5: 100%|| 2463/2463 [02:43<00:00, 15.09it/s]\n",
      "Epoch_test: 5: 100%|| 616/616 [00:17<00:00, 36.16it/s]\n"
     ]
    },
    {
     "name": "stdout",
     "output_type": "stream",
     "text": [
      "Epoch 5 | Train MSE Loss: 0.3420, Train RMSE Loss: 0.5848\n",
      "        | Test MSE Loss: 0.3892, Test RMSE Loss: 0.6238\n",
      "\n",
      "Model and optimizer state saved to ./run_results/esm-blstm/esm_blstm-dms_binding-2024-08-20_14-55/checkpoint_saved_model.pth\n",
      "\n",
      "Training and testing complete in 913.65 seconds.\n"
     ]
    },
    {
     "data": {
      "image/png": "[encoded data removed]",
      "text/plain": [
       "<Figure size 1600x900 with 1 Axes>"
      ]
     },
     "metadata": {},
     "output_type": "display_data"
    }
   ],
   "source": [
    "# Data/results directories\n",
    "result_tag = 'esm_blstm-dms_binding' # specify expression or binding\n",
    "data_dir = './data/split_processed_dms'\n",
    "results_dir = './run_results/esm-blstm'\n",
    "\n",
    "# Create run directory for results\n",
    "now = datetime.datetime.now()\n",
    "date_hour_minute = now.strftime(\"%Y-%m-%d_%H-%M\")\n",
    "run_dir = os.path.join(results_dir, f\"{result_tag}-{date_hour_minute}\")\n",
    "os.makedirs(run_dir, exist_ok = True)\n",
    "\n",
    "# Run setup\n",
    "n_epochs = 5\n",
    "batch_size = 32\n",
    "max_batch = -1\n",
    "num_workers = 64\n",
    "lr = 1e-5\n",
    "device = torch.device(\"cuda:3\" if torch.cuda.is_available() else \"cpu\")\n",
    "\n",
    "# Create Dataset and DataLoader\n",
    "torch.manual_seed(0)\n",
    "\n",
    "dms_train_csv = os.path.join(data_dir, 'mutation_combined_binding_train.csv') # binding\n",
    "dms_test_csv = os.path.join(data_dir, 'mutation_combined_binding_test.csv') \n",
    "trained_model_pth = \"../results/run_results/esm-blstm/esm-blstm-esm_dms_binding-2023-12-12_17-02/esm-blstm-esm_dms_binding-2023-12-12_17-02_train_84420_test_21105.model_save\"\n",
    "\n",
    "train_dataset = DMSDataset(dms_train_csv)\n",
    "train_data_loader = DataLoader(train_dataset, batch_size=batch_size, shuffle=True, drop_last=False, num_workers=num_workers, pin_memory=True)\n",
    "\n",
    "test_dataset = DMSDataset(dms_test_csv)\n",
    "test_data_loader = DataLoader(test_dataset, batch_size=batch_size, shuffle=True, drop_last=False, num_workers=num_workers, pin_memory=True)\n",
    "\n",
    "# ESM input\n",
    "esm = EsmModel.from_pretrained(\"facebook/esm2_t6_8M_UR50D\").to(device)\n",
    "tokenizer = AutoTokenizer.from_pretrained(\"facebook/esm2_t33_650M_UR50D\")\n",
    "\n",
    "# BLSTM input\n",
    "lstm_input_size = 320\n",
    "lstm_hidden_size = 320\n",
    "lstm_num_layers = 1        \n",
    "lstm_bidrectional = True   \n",
    "fcn_hidden_size = 320\n",
    "blstm = BLSTM(lstm_input_size, lstm_hidden_size, lstm_num_layers, lstm_bidrectional, fcn_hidden_size)\n",
    "\n",
    "model = ESM_BLSTM(esm, blstm)\n",
    "load_model_from_trained(model, trained_model_pth, device)\n",
    "\n",
    "# Run\n",
    "count_parameters(model)\n",
    "saved_model_pth = None\n",
    "from_checkpoint = False\n",
    "save_as = f\"{result_tag}-train_{len(train_dataset)}_test_{len(test_dataset)}\"\n",
    "run_model(model, tokenizer, train_data_loader, test_data_loader, n_epochs, lr, max_batch, device, run_dir, save_as, saved_model_pth, from_checkpoint)"
   ]
  },
  {
   "cell_type": "markdown",
   "metadata": {},
   "source": [
    "### Running through dataset, again:\n",
    "\n",
    "This time we will only use the test dataset, and compare the new pretrained model (for 5000 epochs, and best saved) with the esm-only and the older dms trained model. This should give us a better comparison as to how much better the model performs with the newer (and most importantly, additional) data."
   ]
  },
  {
   "cell_type": "code",
   "execution_count": 6,
   "metadata": {},
   "outputs": [
    {
     "name": "stderr",
     "output_type": "stream",
     "text": [
      "Some weights of EsmModel were not initialized from the model checkpoint at facebook/esm2_t6_8M_UR50D and are newly initialized: ['esm.pooler.dense.weight', 'esm.pooler.dense.bias']\n",
      "You should probably TRAIN this model on a down-stream task to be able to use it for predictions and inference.\n"
     ]
    }
   ],
   "source": [
    "evaluation_results = {}\n",
    "\n",
    "# Data directories\n",
    "data_dir = './data/split_processed_dms'\n",
    "\n",
    "# Run setup\n",
    "batch_size = 32\n",
    "num_workers = 64\n",
    "device = torch.device(\"cuda:3\" if torch.cuda.is_available() else \"cpu\")\n",
    "\n",
    "# Create Binding Dataset and DataLoader\n",
    "torch.manual_seed(0)\n",
    "\n",
    "older_trained_binding_model_pth = \"../results/run_results/esm-blstm/esm-blstm-esm_dms_binding-2023-12-12_17-02/esm-blstm-esm_dms_binding-2023-12-12_17-02_train_84420_test_21105.model_save\"\n",
    "newer_trained_binding_best_model_pth = \"./run_results/esm-blstm/esm_blstm-dms_binding-2024-08-01_13-11/best_saved_model.pth\"\n",
    "newer_trained_binding_model_pth = \"./run_results/esm-blstm/esm_blstm-dms_binding-2024-08-01_13-11/checkpoint_saved_model.pth\"\n",
    "\n",
    "dms_binding_csv = os.path.join(data_dir, 'mutation_combined_binding_test.csv') # binding\n",
    "binding_dataset = DMSDataset(dms_binding_csv)\n",
    "binding_data_loader = DataLoader(binding_dataset, batch_size=batch_size, shuffle=True, drop_last=False, num_workers=num_workers, pin_memory=True)\n",
    "\n",
    "# Create Expression Dataset and DataLoader\n",
    "older_trained_expression_model_pth = \"../results/run_results/esm-blstm/esm-blstm-esm_dms_expression-2023-12-12_16-58/esm-blstm-esm_dms_expression-2023-12-12_16-58_train_93005_test_23252.model_save\"\n",
    "newer_trained_expression_best_model_pth = \"./run_results/esm-blstm/esm_blstm-dms_expression-2024-08-01_13-10/best_saved_model.pth\"\n",
    "newer_trained_expression_model_pth = \"./run_results/esm-blstm/esm_blstm-dms_expression-2024-08-01_13-10/checkpoint_saved_model.pth\"\n",
    "\n",
    "dms_expression_csv = os.path.join(data_dir, 'mutation_combined_expression_test.csv') # expression\n",
    "expression_dataset = DMSDataset(dms_expression_csv)\n",
    "expression_data_loader = DataLoader(expression_dataset, batch_size=batch_size, shuffle=True, drop_last=False, num_workers=num_workers, pin_memory=True)\n",
    "\n",
    "# ESM input\n",
    "esm = EsmModel.from_pretrained(\"facebook/esm2_t6_8M_UR50D\").to(device)\n",
    "tokenizer = AutoTokenizer.from_pretrained(\"facebook/esm2_t33_650M_UR50D\")\n",
    "\n",
    "# BLSTM input\n",
    "lstm_input_size = 320\n",
    "lstm_hidden_size = 320\n",
    "lstm_num_layers = 1        \n",
    "lstm_bidrectional = True   \n",
    "fcn_hidden_size = 320\n",
    "blstm = BLSTM(lstm_input_size, lstm_hidden_size, lstm_num_layers, lstm_bidrectional, fcn_hidden_size)\n",
    "\n",
    "model = ESM_BLSTM(esm, blstm)"
   ]
  },
  {
   "cell_type": "code",
   "execution_count": 7,
   "metadata": {},
   "outputs": [
    {
     "name": "stderr",
     "output_type": "stream",
     "text": [
      "Evaluation: 100%|| 616/616 [00:17<00:00, 35.49it/s]"
     ]
    },
    {
     "name": "stdout",
     "output_type": "stream",
     "text": [
      "Binding Evaluation | MSE Loss: 62.7792 | RMSE Loss: 7.9233\n"
     ]
    },
    {
     "name": "stderr",
     "output_type": "stream",
     "text": [
      "\n",
      "Evaluation: 100%|| 651/651 [00:18<00:00, 35.77it/s]"
     ]
    },
    {
     "name": "stdout",
     "output_type": "stream",
     "text": [
      "Expression Evaluation | MSE: 69.9575 | RMSE: 8.3641\n"
     ]
    },
    {
     "name": "stderr",
     "output_type": "stream",
     "text": [
      "\n"
     ]
    }
   ],
   "source": [
    "# Run prior to loading, binding\n",
    "mse, rmse = run_test_only(model, tokenizer, binding_data_loader, device)\n",
    "print(f'Binding Evaluation | MSE Loss: {mse:.4f} | RMSE Loss: {rmse:.4f}')\n",
    "entry = {\n",
    "    'Model': 'ESM-Pretrained Binding',\n",
    "    'Dataset' : \"Binding\",\n",
    "    'MSE': mse,\n",
    "    'RMSE': rmse\n",
    "}\n",
    "evaluation_results['ESM-Pretrained Binding'] = entry\n",
    "\n",
    "# Run prior to loading, expression\n",
    "mse, rmse = run_test_only(model, tokenizer, expression_data_loader, device)\n",
    "print(f'Expression Evaluation | MSE: {mse:.4f} | RMSE: {rmse:.4f}')\n",
    "entry = {\n",
    "    'Model': 'ESM-Pretrained Expression',\n",
    "    'Dataset' : \"Expression\",\n",
    "    'MSE': mse,\n",
    "    'RMSE': rmse\n",
    "}\n",
    "evaluation_results['ESM-Pretrained Expression'] = entry"
   ]
  },
  {
   "cell_type": "code",
   "execution_count": 8,
   "metadata": {},
   "outputs": [
    {
     "name": "stdout",
     "output_type": "stream",
     "text": [
      "Loaded trained model from ../results/run_results/esm-blstm/esm-blstm-esm_dms_binding-2023-12-12_17-02/esm-blstm-esm_dms_binding-2023-12-12_17-02_train_84420_test_21105.model_save\n"
     ]
    },
    {
     "name": "stderr",
     "output_type": "stream",
     "text": [
      "Evaluation: 100%|| 616/616 [00:17<00:00, 35.48it/s]"
     ]
    },
    {
     "name": "stdout",
     "output_type": "stream",
     "text": [
      "Binding Evaluation | MSE Loss: 4.3134 | RMSE Loss: 2.0769\n",
      "Loaded trained model from ../results/run_results/esm-blstm/esm-blstm-esm_dms_expression-2023-12-12_16-58/esm-blstm-esm_dms_expression-2023-12-12_16-58_train_93005_test_23252.model_save\n"
     ]
    },
    {
     "name": "stderr",
     "output_type": "stream",
     "text": [
      "\n",
      "Evaluation: 100%|| 651/651 [00:18<00:00, 35.75it/s]"
     ]
    },
    {
     "name": "stdout",
     "output_type": "stream",
     "text": [
      "Expression Evaluation | MSE: 0.9043 | RMSE: 0.9509\n"
     ]
    },
    {
     "name": "stderr",
     "output_type": "stream",
     "text": [
      "\n"
     ]
    }
   ],
   "source": [
    "# Run after loading, OLDER\n",
    "load_model_from_trained(model, older_trained_binding_model_pth, device)\n",
    "mse, rmse = run_test_only(model, tokenizer, binding_data_loader, device)\n",
    "print(f'Binding Evaluation | MSE Loss: {mse:.4f} | RMSE Loss: {rmse:.4f}')\n",
    "\n",
    "entry = {\n",
    "    'Model': 'Older DMS-Pretrained Binding',\n",
    "    'Dataset' : \"Binding\",\n",
    "    'MSE': mse,\n",
    "    'RMSE': rmse\n",
    "}\n",
    "evaluation_results['Older DMS-Pretrained Binding'] = entry\n",
    "\n",
    "load_model_from_trained(model, older_trained_expression_model_pth, device)\n",
    "mse, rmse = run_test_only(model, tokenizer, expression_data_loader, device)\n",
    "print(f'Expression Evaluation | MSE: {mse:.4f} | RMSE: {rmse:.4f}')\n",
    "\n",
    "entry = {\n",
    "    'Model': 'Older DMS-Pretrained Expression',\n",
    "    'Dataset' : \"Expression\",\n",
    "    'MSE': mse,\n",
    "    'RMSE': rmse\n",
    "}\n",
    "evaluation_results['Older DMS-Pretrained Expression'] = entry"
   ]
  },
  {
   "cell_type": "code",
   "execution_count": 9,
   "metadata": {},
   "outputs": [
    {
     "name": "stdout",
     "output_type": "stream",
     "text": [
      "Loaded trained model from ./run_results/esm-blstm/esm_blstm-dms_binding-2024-08-01_13-11/checkpoint_saved_model.pth\n"
     ]
    },
    {
     "name": "stderr",
     "output_type": "stream",
     "text": [
      "Evaluation: 100%|| 616/616 [00:17<00:00, 35.71it/s]"
     ]
    },
    {
     "name": "stdout",
     "output_type": "stream",
     "text": [
      "Binding Evaluation | MSE Loss: 0.0800 | RMSE Loss: 0.2828\n",
      "Loaded trained model from ./run_results/esm-blstm/esm_blstm-dms_expression-2024-08-01_13-10/checkpoint_saved_model.pth\n"
     ]
    },
    {
     "name": "stderr",
     "output_type": "stream",
     "text": [
      "\n",
      "Evaluation: 100%|| 651/651 [00:18<00:00, 35.78it/s]"
     ]
    },
    {
     "name": "stdout",
     "output_type": "stream",
     "text": [
      "Expression Evaluation | MSE: 0.0988 | RMSE: 0.3143\n"
     ]
    },
    {
     "name": "stderr",
     "output_type": "stream",
     "text": [
      "\n"
     ]
    }
   ],
   "source": [
    "# Run after loading, NEWER LAST\n",
    "load_model_from_trained(model, newer_trained_binding_model_pth, device)\n",
    "mse, rmse = run_test_only(model, tokenizer, binding_data_loader, device)\n",
    "print(f'Binding Evaluation | MSE Loss: {mse:.4f} | RMSE Loss: {rmse:.4f}')\n",
    "\n",
    "entry = {\n",
    "    'Model': 'Newer DMS-Pretrained Binding',\n",
    "    'Dataset' : \"Binding\",\n",
    "    'MSE': mse,\n",
    "    'RMSE': rmse\n",
    "}\n",
    "evaluation_results['Newer DMS-Pretrained Binding'] = entry\n",
    "\n",
    "load_model_from_trained(model, newer_trained_expression_model_pth, device)\n",
    "mse, rmse = run_test_only(model, tokenizer, expression_data_loader, device)\n",
    "print(f'Expression Evaluation | MSE: {mse:.4f} | RMSE: {rmse:.4f}')\n",
    "\n",
    "entry = {\n",
    "    'Model': 'Newer DMS-Pretrained Expression',\n",
    "    'Dataset' : \"Expression\",\n",
    "    'MSE': mse,\n",
    "    'RMSE': rmse\n",
    "}\n",
    "evaluation_results['Newer DMS-Pretrained Expression'] = entry"
   ]
  },
  {
   "cell_type": "code",
   "execution_count": 10,
   "metadata": {},
   "outputs": [
    {
     "name": "stdout",
     "output_type": "stream",
     "text": [
      "Loaded trained model from ./run_results/esm-blstm/esm_blstm-dms_binding-2024-08-01_13-11/best_saved_model.pth\n"
     ]
    },
    {
     "name": "stderr",
     "output_type": "stream",
     "text": [
      "Evaluation: 100%|| 616/616 [00:17<00:00, 35.48it/s]"
     ]
    },
    {
     "name": "stdout",
     "output_type": "stream",
     "text": [
      "Binding Evaluation | MSE Loss: 0.2504 | RMSE Loss: 0.5004\n",
      "Loaded trained model from ./run_results/esm-blstm/esm_blstm-dms_expression-2024-08-01_13-10/best_saved_model.pth\n"
     ]
    },
    {
     "name": "stderr",
     "output_type": "stream",
     "text": [
      "\n",
      "Evaluation: 100%|| 651/651 [00:18<00:00, 35.90it/s]"
     ]
    },
    {
     "name": "stdout",
     "output_type": "stream",
     "text": [
      "Expression Evaluation | MSE: 0.1785 | RMSE: 0.4226\n"
     ]
    },
    {
     "name": "stderr",
     "output_type": "stream",
     "text": [
      "\n"
     ]
    }
   ],
   "source": [
    "# Run after loading, NEWER BEST\n",
    "load_model_from_trained(model, newer_trained_binding_best_model_pth, device)\n",
    "mse, rmse = run_test_only(model, tokenizer, binding_data_loader, device)\n",
    "print(f'Binding Evaluation | MSE Loss: {mse:.4f} | RMSE Loss: {rmse:.4f}')\n",
    "\n",
    "entry = {\n",
    "    'Model': 'Newer Best DMS-Pretrained Binding',\n",
    "    'Dataset' : \"Binding\",\n",
    "    'MSE': mse,\n",
    "    'RMSE': rmse\n",
    "}\n",
    "evaluation_results['Newer Best DMS-Pretrained Binding'] = entry\n",
    "\n",
    "load_model_from_trained(model, newer_trained_expression_best_model_pth, device)\n",
    "mse, rmse = run_test_only(model, tokenizer, expression_data_loader, device)\n",
    "print(f'Expression Evaluation | MSE: {mse:.4f} | RMSE: {rmse:.4f}')\n",
    "\n",
    "entry = {\n",
    "    'Model': 'Newer Best DMS-Pretrained Expression',\n",
    "    'Dataset' : \"Expression\",\n",
    "    'MSE': mse,\n",
    "    'RMSE': rmse\n",
    "}\n",
    "evaluation_results['Newer Best DMS-Pretrained Expression'] = entry"
   ]
  },
  {
   "cell_type": "code",
   "execution_count": 11,
   "metadata": {},
   "outputs": [
    {
     "data": {
      "text/html": [
       "<div>\n",
       "<style scoped>\n",
       "    .dataframe tbody tr th:only-of-type {\n",
       "        vertical-align: middle;\n",
       "    }\n",
       "\n",
       "    .dataframe tbody tr th {\n",
       "        vertical-align: top;\n",
       "    }\n",
       "\n",
       "    .dataframe thead th {\n",
       "        text-align: right;\n",
       "    }\n",
       "</style>\n",
       "<table border=\"1\" class=\"dataframe\">\n",
       "  <thead>\n",
       "    <tr style=\"text-align: right;\">\n",
       "      <th></th>\n",
       "      <th>Model</th>\n",
       "      <th>Dataset</th>\n",
       "      <th>MSE</th>\n",
       "      <th>RMSE</th>\n",
       "    </tr>\n",
       "  </thead>\n",
       "  <tbody>\n",
       "    <tr>\n",
       "      <th>0</th>\n",
       "      <td>ESM-Pretrained Binding</td>\n",
       "      <td>Binding</td>\n",
       "      <td>62.779248</td>\n",
       "      <td>7.923336</td>\n",
       "    </tr>\n",
       "    <tr>\n",
       "      <th>2</th>\n",
       "      <td>Older DMS-Pretrained Binding</td>\n",
       "      <td>Binding</td>\n",
       "      <td>4.313371</td>\n",
       "      <td>2.076866</td>\n",
       "    </tr>\n",
       "    <tr>\n",
       "      <th>4</th>\n",
       "      <td>Newer DMS-Pretrained Binding</td>\n",
       "      <td>Binding</td>\n",
       "      <td>0.080002</td>\n",
       "      <td>0.282846</td>\n",
       "    </tr>\n",
       "    <tr>\n",
       "      <th>6</th>\n",
       "      <td>Newer Best DMS-Pretrained Binding</td>\n",
       "      <td>Binding</td>\n",
       "      <td>0.250438</td>\n",
       "      <td>0.500437</td>\n",
       "    </tr>\n",
       "    <tr>\n",
       "      <th>1</th>\n",
       "      <td>ESM-Pretrained Expression</td>\n",
       "      <td>Expression</td>\n",
       "      <td>69.957532</td>\n",
       "      <td>8.364062</td>\n",
       "    </tr>\n",
       "    <tr>\n",
       "      <th>3</th>\n",
       "      <td>Older DMS-Pretrained Expression</td>\n",
       "      <td>Expression</td>\n",
       "      <td>0.904258</td>\n",
       "      <td>0.950925</td>\n",
       "    </tr>\n",
       "    <tr>\n",
       "      <th>5</th>\n",
       "      <td>Newer DMS-Pretrained Expression</td>\n",
       "      <td>Expression</td>\n",
       "      <td>0.098812</td>\n",
       "      <td>0.314344</td>\n",
       "    </tr>\n",
       "    <tr>\n",
       "      <th>7</th>\n",
       "      <td>Newer Best DMS-Pretrained Expression</td>\n",
       "      <td>Expression</td>\n",
       "      <td>0.178549</td>\n",
       "      <td>0.422550</td>\n",
       "    </tr>\n",
       "  </tbody>\n",
       "</table>\n",
       "</div>"
      ],
      "text/plain": [
       "                                  Model     Dataset        MSE      RMSE\n",
       "0                ESM-Pretrained Binding     Binding  62.779248  7.923336\n",
       "2          Older DMS-Pretrained Binding     Binding   4.313371  2.076866\n",
       "4          Newer DMS-Pretrained Binding     Binding   0.080002  0.282846\n",
       "6     Newer Best DMS-Pretrained Binding     Binding   0.250438  0.500437\n",
       "1             ESM-Pretrained Expression  Expression  69.957532  8.364062\n",
       "3       Older DMS-Pretrained Expression  Expression   0.904258  0.950925\n",
       "5       Newer DMS-Pretrained Expression  Expression   0.098812  0.314344\n",
       "7  Newer Best DMS-Pretrained Expression  Expression   0.178549  0.422550"
      ]
     },
     "execution_count": 11,
     "metadata": {},
     "output_type": "execute_result"
    }
   ],
   "source": [
    "# Convert the dictionary values to a pandas DataFrame\n",
    "evaluation_results_df = pd.DataFrame.from_dict(evaluation_results, orient='index')\n",
    "evaluation_results_df.reset_index(drop=True, inplace=True)\n",
    "evaluation_results_df.sort_values(by=\"Dataset\")"
   ]
  },
  {
   "cell_type": "markdown",
   "metadata": {},
   "source": [
    "Let's also add in a comparison as to what the best/last RMSE values were for the model post pretraining on the new model:"
   ]
  },
  {
   "cell_type": "code",
   "execution_count": 12,
   "metadata": {},
   "outputs": [
    {
     "name": "stdout",
     "output_type": "stream",
     "text": [
      "Loaded model from ./run_results/esm-blstm/esm_blstm-dms_binding-2024-08-01_13-11/best_saved_model.pth at epoch 15, loss 0.6139503895894629\n",
      "Loaded model from ./run_results/esm-blstm/esm_blstm-dms_binding-2024-08-01_13-11/checkpoint_saved_model.pth at epoch 5000, loss 0.6444656934805582\n",
      "Loaded model from ./run_results/esm-blstm/esm_blstm-dms_expression-2024-08-01_13-10/best_saved_model.pth at epoch 13, loss 0.5566934834062631\n",
      "Loaded model from ./run_results/esm-blstm/esm_blstm-dms_expression-2024-08-01_13-10/checkpoint_saved_model.pth at epoch 5000, loss 0.7359751443045619\n"
     ]
    }
   ],
   "source": [
    "def load_model_weight_stats(saved_model_pth, device):\n",
    "    saved_state = torch.load(saved_model_pth, map_location=device)\n",
    "    epoch = saved_state['epoch']\n",
    "    loss = saved_state['loss']\n",
    "    print(f\"Loaded model from {saved_model_pth} at epoch {epoch}, loss {loss}\")\n",
    "\n",
    "\n",
    "device = torch.device(\"cuda:3\" if torch.cuda.is_available() else \"cpu\")\n",
    "\n",
    "newer_trained_binding_best_model_pth = \"./run_results/esm-blstm/esm_blstm-dms_binding-2024-08-01_13-11/best_saved_model.pth\"\n",
    "load_model_weight_stats(newer_trained_binding_best_model_pth, device)\n",
    "\n",
    "newer_trained_binding_model_pth = \"./run_results/esm-blstm/esm_blstm-dms_binding-2024-08-01_13-11/checkpoint_saved_model.pth\"\n",
    "load_model_weight_stats(newer_trained_binding_model_pth, device)\n",
    "\n",
    "newer_trained_expression_best_model_pth = \"./run_results/esm-blstm/esm_blstm-dms_expression-2024-08-01_13-10/best_saved_model.pth\"\n",
    "load_model_weight_stats(newer_trained_expression_best_model_pth, device)\n",
    "\n",
    "newer_trained_expression_model_pth = \"./run_results/esm-blstm/esm_blstm-dms_expression-2024-08-01_13-10/checkpoint_saved_model.pth\"\n",
    "load_model_weight_stats(newer_trained_expression_model_pth, device)"
   ]
  }
 ],
 "metadata": {
  "kernelspec": {
   "display_name": "spike_env",
   "language": "python",
   "name": "python3"
  },
  "language_info": {
   "codemirror_mode": {
    "name": "ipython",
    "version": 3
   },
   "file_extension": ".py",
   "mimetype": "text/x-python",
   "name": "python",
   "nbconvert_exporter": "python",
   "pygments_lexer": "ipython3",
   "version": "3.11.5"
  }
 },
 "nbformat": 4,
 "nbformat_minor": 2
}
