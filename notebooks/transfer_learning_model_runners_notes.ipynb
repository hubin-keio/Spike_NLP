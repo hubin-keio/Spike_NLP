{
 "cells": [
  {
   "cell_type": "markdown",
   "metadata": {},
   "source": [
    "# Model Runners\n",
    "We have several different models with runners that we utilized for our manuscript that I will cover in this notebook:\n",
    "- [Fully Connected Network (FCN)](#fully-connected-network)\n",
    "- [GraphSAGE (GCN)](#graphsage) \n",
    "- [BLSTM](#blstm)\n",
    "- [ESM-BLSTM](#esm-blstm)\n",
    "- [BERT-BLSTM](#bert-blstm)\n",
    "    - [Initialized with Best Saved Spike NLP BERT Model](#initialized-with-best-saved-spike-nlp-bert-model)\n",
    "    - [Initialized with ESM](#initialized-with-esm)\n",
    "\n",
    "For running our models, we utilized 1 NVIDIA a100 80 GB GPUs at a time. It is recommended to utilize GPU over CPU due to improved performance.\n",
    "\n",
    "# Transfer Learning Process\n",
    "1) Run Spike NLP BERT model to generate `model_pth` for generating pickles. (see `model_runner_notes.ipynb`)\n",
    "2) Generating Pickles/Embeddings (see `embedding_notes.ipynb`)\n",
    "3) Executing Models (here)\n",
    "    - With Pickles\n",
    "    - Without Pickles"
   ]
  },
  {
   "cell_type": "code",
   "execution_count": 1,
   "metadata": {},
   "outputs": [
    {
     "name": "stderr",
     "output_type": "stream",
     "text": [
      "/data/miniconda3/envs/spike_env/lib/python3.11/site-packages/tqdm/auto.py:21: TqdmWarning: IProgress not found. Please update jupyter and ipywidgets. See https://ipywidgets.readthedocs.io/en/stable/user_install.html\n",
      "  from .autonotebook import tqdm as notebook_tqdm\n"
     ]
    }
   ],
   "source": [
    "import os\n",
    "import sys\n",
    "import tqdm\n",
    "import torch\n",
    "import pickle\n",
    "import datetime\n",
    "import pandas as pd\n",
    "import numpy as np\n",
    "import seaborn as sns\n",
    "import matplotlib.pyplot as plt\n",
    "from typing import Union\n",
    "from prettytable import PrettyTable\n",
    "from torch import nn\n",
    "from torch.utils.data import Dataset, DataLoader\n",
    "from torch_geometric.nn import SAGEConv, global_mean_pool\n",
    "from torch_geometric.data import Data\n",
    "from torch_geometric.loader import DataLoader\n",
    "from transformers import AutoTokenizer, EsmModel \n",
    "from pnlp.embedding.tokenizer import ProteinTokenizer, token_to_index\n",
    "from pnlp.model.language import ProteinMaskedLanguageModel, BERT"
   ]
  },
  {
   "cell_type": "markdown",
   "metadata": {},
   "source": [
    "Below is from a script `runner_util.py` that includes several \"utility\" functions that are called from the model runners.\n",
    "- `save_model`\n",
    "- `count_parameters`\n",
    "- `calc_train_test_history`\n",
    "- `plot_rmse_history`\n",
    "- `plot_run`"
   ]
  },
  {
   "cell_type": "code",
   "execution_count": 2,
   "metadata": {},
   "outputs": [],
   "source": [
    "def save_model(model, optimizer: torch.optim.SGD, epoch: int, save_as: str):\n",
    "    \"\"\"\n",
    "    Save model parameters.\n",
    "\n",
    "    model: a model object\n",
    "    optimizer: model optimizer\n",
    "    epoch: number of epochs in the end of the model running\n",
    "    save_as: file name for saveing the model.\n",
    "    \"\"\"\n",
    "    torch.save({'epoch': epoch,\n",
    "                'model_state_dict': model.state_dict(),\n",
    "                'optimizer_state_dict': optimizer.state_dict()},\n",
    "                save_as)\n",
    "\n",
    "def count_parameters(model):\n",
    "    \"\"\"\n",
    "    Count model parameters and print a summary\n",
    "\n",
    "    A nice hack from:\n",
    "    https://stackoverflow.com/a/62508086/1992369\n",
    "    \"\"\"\n",
    "    table = PrettyTable([\"Modules\", \"Parameters\"])\n",
    "    total_params = 0\n",
    "    for name, parameter in model.named_parameters():\n",
    "        if not parameter.requires_grad: continue\n",
    "        params = parameter.numel()\n",
    "        table.add_row([name, params])\n",
    "        total_params+=params\n",
    "    print(table)\n",
    "    print(f\"Total Trainable Params: {total_params}\\n\")\n",
    "    return total_params\n",
    "\n",
    "def calc_train_test_history(metrics_csv: str, n_train: int, n_test: int, save_as: str):\n",
    "    \"\"\" Calculate the average mse per item and rmse \"\"\"\n",
    "\n",
    "    history_df = pd.read_csv(metrics_csv, sep=',', header=0)\n",
    "\n",
    "    history_df['train_loss_per'] = history_df['train_loss']/n_train  # average mse per item\n",
    "    history_df['test_loss_per'] = history_df['test_loss']/n_test\n",
    "\n",
    "    history_df['train_rmse'] = np.sqrt(history_df['train_loss_per'].values)  # rmse\n",
    "    history_df['test_rmse'] = np.sqrt(history_df['test_loss_per'].values)\n",
    "\n",
    "    history_df.to_csv(metrics_csv.replace('.csv', '_per.csv'), index=False)\n",
    "    plot_rmse_history(history_df, save_as)\n",
    "\n",
    "def plot_rmse_history(history_df, save_as: str):\n",
    "    \"\"\" Plot RMSE training and testing history per epoch. \"\"\"\n",
    "\n",
    "    sns.set_theme()\n",
    "    sns.set_context('talk')\n",
    "    sns.set(style=\"darkgrid\")\n",
    "\n",
    "    # Converting mm to inches for figsize\n",
    "    width_in = 88/25.4 # mm to inches\n",
    "    ratio = 16/9\n",
    "    height_in = width_in/ratio \n",
    "    fig, ax = plt.subplots(figsize=(width_in, height_in))\n",
    "    plt.rcParams['font.family'] = 'sans-serif'\n",
    "\n",
    "    # Plot\n",
    "    sns.lineplot(data=history_df, x=history_df.index, y='test_rmse', color='tab:blue', linewidth=0.5, ax=ax) # add label='Test RMSE' for legend\n",
    "    sns.lineplot(data=history_df, x=history_df.index, y='train_rmse', color='tab:orange', linewidth=0.5,ax=ax) # add label='Train RMSE' for legend\n",
    "    \n",
    "    # Set the font size\n",
    "    font_size = 8\n",
    "    ax.set_xlabel('Epoch', fontsize=font_size)\n",
    "    ax.set_ylabel(f'RMSE', fontsize=font_size)\n",
    "    ax.tick_params(axis='both', which='major', labelsize=font_size)\n",
    "    # ax.legend(fontsize=font_size)\n",
    "\n",
    "    # Skipping every other x-axis tick mark\n",
    "    #ax.set_ylim(-0.1, 1.8)\n",
    "\n",
    "    ax_xticks = ax.get_xticks()\n",
    "    new_xlabels = ['' if i % 2 else label for i, label in enumerate(ax.get_xticklabels())]\n",
    "    ax.set_xticks(ax_xticks)\n",
    "    ax.set_xticklabels(new_xlabels)\n",
    "    #ax.set_xlim(-100, 5000)\n",
    "\n",
    "    plt.tight_layout()\n",
    "    plt.savefig(save_as + '_rmse.pdf', format='pdf')\n",
    "\n",
    "def plot_run(csv_name: str, save: bool = True):\n",
    "    '''\n",
    "    Generate a single figure with subplots for training loss and training accuracy\n",
    "    from the model run csv file.\n",
    "\n",
    "    For runner.py and gpu_ddp_runner.py\n",
    "    '''\n",
    "    df = pd.read_csv(csv_name)\n",
    "    df.columns = df.columns.str.strip()\n",
    "\n",
    "    sns.set_theme()\n",
    "    sns.set_context('talk')\n",
    "    sns.set(style=\"darkgrid\")\n",
    "\n",
    "    # Converting mm to inches for figsize\n",
    "    width_in = 88/25.4 # mm to inches\n",
    "    ratio = 16/9\n",
    "    height_in = width_in/ratio \n",
    "    fig, (ax1, ax2) = plt.subplots(nrows=2, ncols=1, figsize=(width_in, 2*height_in))\n",
    "    plt.rcParams['font.family'] = 'sans-serif'\n",
    "\n",
    "    # Set the font size\n",
    "    font_size = 8\n",
    "\n",
    "    # Plot Training Loss\n",
    "    train_loss_line = ax1.plot(df['epoch'], df['train_loss'], color='red', linewidth=0.5, label='Train Loss')\n",
    "    test_loss_line = ax1.plot(df['epoch'], df['test_loss'], color='orange', linewidth=0.5, label='Test Loss')\n",
    "    ax1.set_ylabel('Loss', fontsize=font_size)\n",
    "    ax1.legend(loc='upper right', fontsize=font_size)\n",
    "    ax1.tick_params(axis='both', which='major', labelsize=font_size)\n",
    "    ax1.yaxis.get_offset_text().set_fontsize(font_size) \n",
    "    ax1.set_ylim(-0.5e6, 8e6) \n",
    "\n",
    "    # Plot Training Accuracy\n",
    "    train_accuracy_line = ax2.plot(df['epoch'], df['train_accuracy']*100, color='blue', linewidth=0.5, label='Train Accuracy')\n",
    "    test_accuracy_line = ax2.plot(df['epoch'], df['test_accuracy']*100, color='green', linewidth=0.5, label='Test Accuracy')\n",
    "    ax2.set_xlabel('Epoch', fontsize=font_size)\n",
    "    ax2.set_ylabel('Accuracy', fontsize=font_size)\n",
    "    ax2.set_ylim(0, 100) \n",
    "    ax2.legend(loc='lower right', fontsize=font_size)\n",
    "    ax2.tick_params(axis='both', which='major', labelsize=font_size)\n",
    "\n",
    "    plt.tight_layout()\n",
    "\n",
    "    if save:\n",
    "        combined_fname = csv_name.replace('.csv', '_loss_acc.pdf')\n",
    "        plt.savefig(combined_fname, format='pdf')"
   ]
  },
  {
   "cell_type": "markdown",
   "metadata": {},
   "source": [
    "---\n",
    "## Fully Connected Network\n",
    "This section will cover the model runner found in `fcn_model_runner.py`. First, let's take a look at the fully connected network (FCN) model found in `fcn.py`, which we run using our model runner."
   ]
  },
  {
   "cell_type": "code",
   "execution_count": 3,
   "metadata": {},
   "outputs": [],
   "source": [
    "class FCN(nn.Module):\n",
    "    \"\"\" Fully Connected Network \"\"\"\n",
    "\n",
    "    def __init__(self,\n",
    "                 fcn_input_size,     # The number of input features\n",
    "                 fcn_hidden_size,    # The number of features in hidden layer of FCN.\n",
    "                 device):            # Device ('cpu' or 'cuda')\n",
    "        super().__init__()\n",
    "        self.device = device\n",
    "\n",
    "        # FCN layers\n",
    "        self.fcn = nn.Sequential(nn.Linear(fcn_input_size, fcn_hidden_size),\n",
    "                                 nn.ReLU(),\n",
    "                                 nn.Linear(fcn_hidden_size, 1))  # Adjust this line based on the required output size\n",
    "\n",
    "    def forward(self, x):\n",
    "        fcn_out = self.fcn(x)\n",
    "        fcn_final_out = fcn_out[:, -1, :]\n",
    "        prediction = fcn_final_out.to(self.device)\n",
    "\n",
    "        return prediction"
   ]
  },
  {
   "cell_type": "markdown",
   "metadata": {},
   "source": [
    "Okay, now onto the model runner. Let's break it down:\n",
    "- `EmbeddedDMSDataset`: Loads in the binding or expression DMS data set from the embedded pickle.\n",
    "- `run_model`: Controller for running each epoch and writes out data. \n",
    "- `epoch_iteration`: Performs each epoch iteration as called by `run_model`.\n",
    "\n",
    "Many of these model runners will look the same, but with slight differences. "
   ]
  },
  {
   "cell_type": "code",
   "execution_count": 4,
   "metadata": {},
   "outputs": [],
   "source": [
    "class EmbeddedDMSDataset(Dataset):\n",
    "    \"\"\" Binding or Expression DMS Dataset \"\"\"\n",
    "    \n",
    "    def __init__(self, pickle_file:str):\n",
    "        \"\"\"\n",
    "        Load from pickle file:\n",
    "        - sequence label (seq_id), \n",
    "        - binding or expression numerical target (log10Ka or ML_meanF), and \n",
    "        - embeddings\n",
    "        \"\"\"\n",
    "        with open(pickle_file, 'rb') as f:\n",
    "            dms_list = pickle.load(f)\n",
    "        \n",
    "            self.labels = [entry['seq_id'] for entry in dms_list]\n",
    "            self.numerical = [entry[\"log10Ka\" if \"binding\" in pickle_file else \"ML_meanF\"] for entry in dms_list]\n",
    "            self.embeddings = [entry['embedding'] for entry in dms_list]\n",
    "\n",
    "    def __len__(self) -> int:\n",
    "        return len(self.labels)\n",
    "\n",
    "    def __getitem__(self, idx):\n",
    "        # label, feature, target\n",
    "        return self.labels[idx], self.embeddings[idx], self.numerical[idx]\n",
    "\n",
    "def run_model(model, train_set, test_set, n_epochs: int, batch_size: int, lr:float, max_batch: Union[int, None], device: str, save_as: str):\n",
    "    \"\"\" Run a model through train and test epochs. \"\"\"\n",
    "    \n",
    "    if not max_batch:\n",
    "        max_batch = len(train_set)\n",
    "\n",
    "    model = model.to(device)\n",
    "    loss_fn = nn.MSELoss(reduction='sum').to(device)\n",
    "    optimizer = torch.optim.SGD(model.parameters(), lr)\n",
    "\n",
    "    train_loader = DataLoader(train_set, batch_size, shuffle=True)\n",
    "    test_loader = DataLoader(test_set, batch_size, shuffle=True)\n",
    "    \n",
    "    metrics_csv = save_as + \"_metrics.csv\"\n",
    "\n",
    "    with open(metrics_csv, \"w\") as fh:\n",
    "        fh.write(f\"epoch,\"\n",
    "                 f\"train_loss,test_loss\\n\")\n",
    "\n",
    "        for epoch in range(1, n_epochs + 1):\n",
    "            train_loss = epoch_iteration(model, loss_fn, optimizer, train_loader, epoch, max_batch, device, mode='train')\n",
    "            test_loss = epoch_iteration(model, loss_fn, optimizer, test_loader, epoch, max_batch, device, mode='test')\n",
    "\n",
    "            print(f'Epoch {epoch} | Train Loss: {train_loss:.4f}, Test Loss: {test_loss:.4f}\\n')\n",
    "           \n",
    "            fh.write(f\"{epoch},\"\n",
    "                     f\"{train_loss},{test_loss}\\n\")\n",
    "            fh.flush()\n",
    "                \n",
    "            save_model(model, optimizer, epoch, save_as + '.model_save')\n",
    "\n",
    "    return metrics_csv\n",
    "\n",
    "def epoch_iteration(model, loss_fn, optimizer, data_loader, num_epochs: int, max_batch: int, device: str, mode: str):\n",
    "    \"\"\" Used in run_model. \"\"\"\n",
    "    \n",
    "    model.train() if mode=='train' else model.eval()\n",
    "\n",
    "    data_iter = tqdm.tqdm(enumerate(data_loader),\n",
    "                          desc=f'Epoch_{mode}: {num_epochs}',\n",
    "                          total=len(data_loader),\n",
    "                          bar_format='{l_bar}{r_bar}')\n",
    "\n",
    "    total_loss = 0\n",
    "\n",
    "    for batch, batch_data in data_iter:\n",
    "        if max_batch > 0 and batch >= max_batch:\n",
    "            break \n",
    "        \n",
    "        label, feature, target = batch_data\n",
    "        feature, target = feature.to(device), target.to(device) \n",
    "        target = target.float()\n",
    "\n",
    "        if mode == 'train':\n",
    "            optimizer.zero_grad()\n",
    "            pred = model(feature).flatten()\n",
    "            batch_loss = loss_fn(pred, target)\n",
    "            batch_loss.backward()\n",
    "            optimizer.step()\n",
    "\n",
    "        else:\n",
    "            with torch.no_grad():\n",
    "                pred = model(feature).flatten()\n",
    "                batch_loss = loss_fn(pred, target)\n",
    "                \n",
    "        total_loss += batch_loss.item()\n",
    "\n",
    "    return total_loss"
   ]
  },
  {
   "cell_type": "markdown",
   "metadata": {},
   "source": [
    "Let's run the FCN model runner now. For this model and all future models, we'll use the binding data set. For this one in particular, we'll use the one that has been pickled using the esm model. Again, most of these will look very similar. Let's define a few of the parameters that you can adjust.\n",
    "- `embedded_train_pickle`: Path to embedded train pickle. Adjust `result_tag` with chosen dataset.\n",
    "- `embedded_test_pickle`: Path to embedded test pickle. Make sure data set and `result_tag` matches with `embedded_train_pickle`.\n",
    "- `n_epochs`: Number of epochs.\n",
    "- `batch_size`: Batch size of DataLoader.\n",
    "- `max_batch`: Number of batches needed to fulfill one epoch.\n",
    "- `lr`: Learning rate.\n",
    "- `device`: Set to use GPU, rather than CPU. Could probably be changed to utilize CPU, but may be considerably slower.\n",
    "\n",
    "We'll run it with a small number of epochs, and a small max_batch. Don't expect that great of results with such a small amount of data, though."
   ]
  },
  {
   "cell_type": "code",
   "execution_count": 5,
   "metadata": {},
   "outputs": [
    {
     "name": "stdout",
     "output_type": "stream",
     "text": [
      "+--------------+------------+\n",
      "|   Modules    | Parameters |\n",
      "+--------------+------------+\n",
      "| fcn.0.weight |   102400   |\n",
      "|  fcn.0.bias  |    320     |\n",
      "| fcn.2.weight |    320     |\n",
      "|  fcn.2.bias  |     1      |\n",
      "+--------------+------------+\n",
      "Total Trainable Params: 103041\n",
      "\n"
     ]
    },
    {
     "name": "stderr",
     "output_type": "stream",
     "text": [
      "Epoch_train: 1:   8%|| 200/2639 [00:00<00:03, 745.17it/s]\n",
      "Epoch_test: 1:  30%|| 200/660 [00:00<00:00, 2810.31it/s]\n"
     ]
    },
    {
     "name": "stdout",
     "output_type": "stream",
     "text": [
      "Epoch 1 | Train Loss: 71700.4951, Test Loss: 23209.0602\n",
      "\n"
     ]
    },
    {
     "name": "stderr",
     "output_type": "stream",
     "text": [
      "Epoch_train: 2:   8%|| 200/2639 [00:00<00:02, 964.01it/s]\n",
      "Epoch_test: 2:  30%|| 200/660 [00:00<00:00, 2924.65it/s]\n"
     ]
    },
    {
     "name": "stdout",
     "output_type": "stream",
     "text": [
      "Epoch 2 | Train Loss: 23317.9382, Test Loss: 23287.0441\n",
      "\n"
     ]
    },
    {
     "name": "stderr",
     "output_type": "stream",
     "text": [
      "Epoch_train: 3:   8%|| 200/2639 [00:00<00:02, 974.77it/s]\n",
      "Epoch_test: 3:  30%|| 200/660 [00:00<00:00, 2920.73it/s]\n"
     ]
    },
    {
     "name": "stdout",
     "output_type": "stream",
     "text": [
      "Epoch 3 | Train Loss: 23261.3610, Test Loss: 23369.2739\n",
      "\n"
     ]
    },
    {
     "name": "stderr",
     "output_type": "stream",
     "text": [
      "Epoch_train: 4:   8%|| 200/2639 [00:00<00:02, 986.34it/s]\n",
      "Epoch_test: 4:  30%|| 200/660 [00:00<00:00, 2945.22it/s]\n"
     ]
    },
    {
     "name": "stdout",
     "output_type": "stream",
     "text": [
      "Epoch 4 | Train Loss: 23460.2872, Test Loss: 23362.6310\n",
      "\n"
     ]
    },
    {
     "name": "stderr",
     "output_type": "stream",
     "text": [
      "Epoch_train: 5:   8%|| 200/2639 [00:00<00:02, 951.67it/s]\n",
      "Epoch_test: 5:  30%|| 200/660 [00:00<00:00, 2920.96it/s]\n"
     ]
    },
    {
     "name": "stdout",
     "output_type": "stream",
     "text": [
      "Epoch 5 | Train Loss: 23289.6424, Test Loss: 23379.1215\n",
      "\n"
     ]
    },
    {
     "name": "stderr",
     "output_type": "stream",
     "text": [
      "Epoch_train: 6:   8%|| 200/2639 [00:00<00:02, 976.04it/s]\n",
      "Epoch_test: 6:  30%|| 200/660 [00:00<00:00, 2963.97it/s]\n"
     ]
    },
    {
     "name": "stdout",
     "output_type": "stream",
     "text": [
      "Epoch 6 | Train Loss: 23381.7331, Test Loss: 23616.8574\n",
      "\n"
     ]
    },
    {
     "name": "stderr",
     "output_type": "stream",
     "text": [
      "Epoch_train: 7:   8%|| 200/2639 [00:00<00:02, 1199.01it/s]\n",
      "Epoch_test: 7:  30%|| 200/660 [00:00<00:00, 2942.07it/s]\n"
     ]
    },
    {
     "name": "stdout",
     "output_type": "stream",
     "text": [
      "Epoch 7 | Train Loss: 23223.8068, Test Loss: 23238.0779\n",
      "\n"
     ]
    },
    {
     "name": "stderr",
     "output_type": "stream",
     "text": [
      "Epoch_train: 8:   8%|| 200/2639 [00:00<00:01, 1220.07it/s]\n",
      "Epoch_test: 8:  30%|| 200/660 [00:00<00:00, 2945.20it/s]\n"
     ]
    },
    {
     "name": "stdout",
     "output_type": "stream",
     "text": [
      "Epoch 8 | Train Loss: 23162.0829, Test Loss: 23351.3438\n",
      "\n"
     ]
    },
    {
     "name": "stderr",
     "output_type": "stream",
     "text": [
      "Epoch_train: 9:   8%|| 200/2639 [00:00<00:02, 958.86it/s]\n",
      "Epoch_test: 9:  30%|| 200/660 [00:00<00:00, 2938.79it/s]\n"
     ]
    },
    {
     "name": "stdout",
     "output_type": "stream",
     "text": [
      "Epoch 9 | Train Loss: 23235.7421, Test Loss: 23320.8025\n",
      "\n"
     ]
    },
    {
     "name": "stderr",
     "output_type": "stream",
     "text": [
      "Epoch_train: 10:   8%|| 200/2639 [00:00<00:02, 975.82it/s]\n",
      "Epoch_test: 10:  30%|| 200/660 [00:00<00:00, 2935.33it/s]\n"
     ]
    },
    {
     "name": "stdout",
     "output_type": "stream",
     "text": [
      "Epoch 10 | Train Loss: 23096.5330, Test Loss: 23369.3088\n",
      "\n"
     ]
    },
    {
     "data": {
      "image/png": "[encoded data removed]",
      "text/plain": [
       "<Figure size 346.457x194.882 with 1 Axes>"
      ]
     },
     "metadata": {},
     "output_type": "display_data"
    }
   ],
   "source": [
    "# Data/results directories\n",
    "result_tag = 'fcn-esm_dms_binding' # specify rbd_learned or esm, and expression or binding\n",
    "data_dir = '../data/pickles'\n",
    "results_dir = '../results/run_results/fcn'\n",
    "\n",
    "# Create run directory for results\n",
    "now = datetime.datetime.now()\n",
    "date_hour_minute = now.strftime(\"%Y-%m-%d_%H-%M\")\n",
    "run_dir = os.path.join(results_dir, f\"{result_tag}-{date_hour_minute}\")\n",
    "os.makedirs(run_dir, exist_ok = True)\n",
    "\n",
    "# Load in data\n",
    "# embedded_train_pkl = os.path.join(data_dir, 'dms_mutation_expression_meanFs_train_esm_embedded.pkl') # fcn-esm_dms_expression\n",
    "# embedded_test_pkl = os.path.join(data_dir, 'dms_mutation_expression_meanFs_test_esm_embedded.pkl')\n",
    "embedded_train_pkl = os.path.join(data_dir, 'dms_mutation_binding_Kds_train_esm_embedded.pkl') # fcn-esm_dms_binding\n",
    "embedded_test_pkl = os.path.join(data_dir, 'dms_mutation_binding_Kds_test_esm_embedded.pkl')\n",
    "# embedded_train_pkl = os.path.join(data_dir, 'dms_mutation_expression_meanFs_train_rbd_learned_embedded_320.pkl') # fcn-rbd_learned_320_dms_expression\n",
    "# embedded_test_pkl = os.path.join(data_dir, 'dms_mutation_expression_meanFs_test_rbd_learned_embedded_320.pkl')\n",
    "# embedded_train_pkl = os.path.join(data_dir, 'dms_mutation_binding_Kds_train_rbd_learned_embedded_320.pkl') # fcn-rbd_learned_320_dms_binding\n",
    "# embedded_test_pkl = os.path.join(data_dir, 'dms_mutation_binding_Kds_test_rbd_learned_embedded_320.pkl')\n",
    "\n",
    "train_dataset = EmbeddedDMSDataset(embedded_train_pkl)\n",
    "test_dataset = EmbeddedDMSDataset(embedded_test_pkl)\n",
    "\n",
    "# Run setup\n",
    "n_epochs = 10\n",
    "batch_size = 32\n",
    "max_batch = 200\n",
    "lr = 1e-5\n",
    "device = torch.device(\"cuda:0\")\n",
    "\n",
    "# FCN input\n",
    "fcn_input_size = train_dataset.embeddings[0].size(1)   \n",
    "fcn_hidden_size = fcn_input_size\n",
    "model = FCN(fcn_input_size, fcn_hidden_size, device)\n",
    "\n",
    "# Run\n",
    "count_parameters(model)\n",
    "model_result = os.path.join(run_dir, f\"{result_tag}-{date_hour_minute}_train_{len(train_dataset)}_test_{len(test_dataset)}\")\n",
    "metrics_csv = run_model(model, train_dataset, test_dataset, n_epochs, batch_size, lr, max_batch, device, model_result)\n",
    "calc_train_test_history(metrics_csv, len(train_dataset), len(test_dataset), model_result)\n"
   ]
  },
  {
   "cell_type": "markdown",
   "metadata": {},
   "source": [
    "--- \n",
    "## GraphSAGE\n",
    "Okay, let's move onto the GraphSAGE (GCN) model from `graphsage.py`. The model runner for this one is located in `graphsage_model_runner.py`. "
   ]
  },
  {
   "cell_type": "code",
   "execution_count": 6,
   "metadata": {},
   "outputs": [],
   "source": [
    "\"\"\" GraphSAGE model. \"\"\"\n",
    "\n",
    "class GraphSAGE(nn.Module):\n",
    "    \"\"\" GraphSAGE. \"\"\"\n",
    "\n",
    "    def __init__(self, in_channels, out_channels):\n",
    "        super(GraphSAGE, self).__init__()\n",
    "        self.conv1 = SAGEConv(in_channels, 16)\n",
    "        self.conv2 = SAGEConv(16, out_channels)\n",
    "\n",
    "    def forward(self, x, edge_index, batch):\n",
    "        x = self.conv1(x, edge_index).relu()\n",
    "        x = self.conv2(x, edge_index)\n",
    "        x = global_mean_pool(x, batch)\n",
    "        return x"
   ]
  },
  {
   "cell_type": "markdown",
   "metadata": {},
   "source": [
    "This `EmbeddedDMSDataset` is different than the previous one. This is because we need to convert the embeddings to a PyTorch geometric graph, meaning we need edges. We adjust this in the `__getitem__` function in the class. `run_model` is basically the same, but `epoch_iteration` is altered for predictions to work with the graph data and the GraphSAGE model."
   ]
  },
  {
   "cell_type": "code",
   "execution_count": 7,
   "metadata": {},
   "outputs": [],
   "source": [
    "class EmbeddedDMSDataset(Dataset):\n",
    "    \"\"\" Binding or Expression DMS Dataset \"\"\"\n",
    "    \n",
    "    def __init__(self, pickle_file:str):\n",
    "        \"\"\"\n",
    "        Load from pickle file:\n",
    "        - sequence label (seq_id), \n",
    "        - binding or expression numerical target (log10Ka or ML_meanF), and \n",
    "        - embeddings\n",
    "        \"\"\"\n",
    "        with open(pickle_file, 'rb') as f:\n",
    "            dms_list = pickle.load(f)\n",
    "        \n",
    "            self.labels = [entry['seq_id'] for entry in dms_list]\n",
    "            self.numerical = [entry[\"log10Ka\" if \"binding\" in pickle_file else \"ML_meanF\"] for entry in dms_list]\n",
    "            self.embeddings = [entry['embedding'] for entry in dms_list]\n",
    " \n",
    "    def __len__(self) -> int:\n",
    "        return len(self.labels)\n",
    "\n",
    "    def __getitem__(self, idx):\n",
    "        # Convert to pytorch geometric graph\n",
    "        embedding = self.embeddings[idx]\n",
    "        edges = [(i, i+1) for i in range(embedding.size(0) - 1)]\n",
    "        edge_index = torch.tensor(edges, dtype=torch.int64).t().contiguous()\n",
    "        y = torch.tensor([self.numerical[idx]], dtype=torch.float32).view(-1, 1)\n",
    "        \n",
    "        return Data(x=embedding, edge_index=edge_index, y=y)\n",
    "\n",
    "def run_model(model, train_set, test_set, n_epochs: int, batch_size: int, lr:float, max_batch: Union[int, None], device: str, save_as: str):\n",
    "    \"\"\" Run a model through train and test epochs. \"\"\"\n",
    "    \n",
    "    if not max_batch:\n",
    "        max_batch = len(train_set)\n",
    "\n",
    "    model = model.to(device)\n",
    "    loss_fn = nn.MSELoss(reduction='sum').to(device)\n",
    "    optimizer = torch.optim.SGD(model.parameters(), lr)\n",
    "\n",
    "    train_loader = DataLoader(train_set, batch_size, shuffle=True)\n",
    "    test_loader = DataLoader(test_set, batch_size, shuffle=True)\n",
    "    \n",
    "    metrics_csv = save_as + \"_metrics.csv\"\n",
    "\n",
    "    with open(metrics_csv, \"w\") as fh:\n",
    "        fh.write(f\"epoch,\"\n",
    "                 f\"train_loss,test_loss\\n\")\n",
    "\n",
    "        for epoch in range(1, n_epochs + 1):\n",
    "            train_loss = epoch_iteration(model, loss_fn, optimizer, train_loader, epoch, max_batch, device, mode='train')\n",
    "            test_loss = epoch_iteration(model, loss_fn, optimizer, test_loader, epoch, max_batch, device, mode='test')\n",
    "\n",
    "            print(f'Epoch {epoch} | Train Loss: {train_loss:.4f}, Test Loss: {test_loss:.4f}\\n')\n",
    "           \n",
    "            fh.write(f\"{epoch},\"\n",
    "                     f\"{train_loss},{test_loss}\\n\")\n",
    "            fh.flush()\n",
    "                \n",
    "            save_model(model, optimizer, epoch, save_as + '.model_save')\n",
    "\n",
    "    return metrics_csv\n",
    "\n",
    "def epoch_iteration(model, loss_fn, optimizer, data_loader, num_epochs: int, max_batch: int, device: str, mode: str):\n",
    "    \"\"\" Used in run_model. \"\"\"\n",
    "\n",
    "    model.train() if mode=='train' else model.eval()\n",
    "\n",
    "    data_iter = tqdm.tqdm(enumerate(data_loader),\n",
    "                          desc=f'Epoch_{mode}: {num_epochs}',\n",
    "                          total=len(data_loader),\n",
    "                          bar_format='{l_bar}{r_bar}')\n",
    "\n",
    "    total_loss = 0\n",
    "\n",
    "    for batch, batch_data in data_iter:\n",
    "        if max_batch > 0 and batch >= max_batch:\n",
    "            break\n",
    "\n",
    "        batch_data = batch_data.to(device)\n",
    "\n",
    "        if mode == 'train':\n",
    "            optimizer.zero_grad()\n",
    "            pred = model(batch_data.x, batch_data.edge_index, batch_data.batch)\n",
    "            batch_loss = loss_fn(pred, batch_data.y)\n",
    "            batch_loss.backward()\n",
    "            optimizer.step()\n",
    "\n",
    "        else:\n",
    "            with torch.no_grad():\n",
    "                pred = model(batch_data.x, batch_data.edge_index, batch_data.batch)\n",
    "                batch_loss = loss_fn(pred, batch_data.y)\n",
    "\n",
    "        total_loss += batch_loss.item()\n",
    "\n",
    "    return total_loss"
   ]
  },
  {
   "cell_type": "markdown",
   "metadata": {},
   "source": [
    "Let's run this now. Pretty much everything is set as the same as before in the FCN model, but the input for the model is different."
   ]
  },
  {
   "cell_type": "code",
   "execution_count": 8,
   "metadata": {},
   "outputs": [
    {
     "name": "stdout",
     "output_type": "stream",
     "text": [
      "+--------------------+------------+\n",
      "|      Modules       | Parameters |\n",
      "+--------------------+------------+\n",
      "| conv1.lin_l.weight |    5120    |\n",
      "|  conv1.lin_l.bias  |     16     |\n",
      "| conv1.lin_r.weight |    5120    |\n",
      "| conv2.lin_l.weight |     16     |\n",
      "|  conv2.lin_l.bias  |     1      |\n",
      "| conv2.lin_r.weight |     16     |\n",
      "+--------------------+------------+\n",
      "Total Trainable Params: 10289\n",
      "\n"
     ]
    },
    {
     "name": "stderr",
     "output_type": "stream",
     "text": [
      "Epoch_train: 1:   8%|| 200/2639 [00:01<00:12, 188.32it/s]\n",
      "Epoch_test: 1:  30%|| 200/660 [00:00<00:01, 232.70it/s]\n"
     ]
    },
    {
     "name": "stdout",
     "output_type": "stream",
     "text": [
      "Epoch 1 | Train Loss: 55353.6871, Test Loss: 23348.1994\n",
      "\n"
     ]
    },
    {
     "name": "stderr",
     "output_type": "stream",
     "text": [
      "Epoch_train: 2:   8%|| 200/2639 [00:01<00:12, 196.86it/s]\n",
      "Epoch_test: 2:  30%|| 200/660 [00:00<00:01, 233.30it/s]\n"
     ]
    },
    {
     "name": "stdout",
     "output_type": "stream",
     "text": [
      "Epoch 2 | Train Loss: 23142.0584, Test Loss: 23572.9299\n",
      "\n"
     ]
    },
    {
     "name": "stderr",
     "output_type": "stream",
     "text": [
      "Epoch_train: 3:   8%|| 200/2639 [00:01<00:12, 197.13it/s]\n",
      "Epoch_test: 3:  30%|| 200/660 [00:00<00:01, 233.07it/s]\n"
     ]
    },
    {
     "name": "stdout",
     "output_type": "stream",
     "text": [
      "Epoch 3 | Train Loss: 23286.5566, Test Loss: 23774.1481\n",
      "\n"
     ]
    },
    {
     "name": "stderr",
     "output_type": "stream",
     "text": [
      "Epoch_train: 4:   8%|| 200/2639 [00:01<00:12, 197.16it/s]\n",
      "Epoch_test: 4:  30%|| 200/660 [00:00<00:01, 234.53it/s]\n"
     ]
    },
    {
     "name": "stdout",
     "output_type": "stream",
     "text": [
      "Epoch 4 | Train Loss: 23239.0230, Test Loss: 23261.7439\n",
      "\n"
     ]
    },
    {
     "name": "stderr",
     "output_type": "stream",
     "text": [
      "Epoch_train: 5:   8%|| 200/2639 [00:01<00:12, 196.90it/s]\n",
      "Epoch_test: 5:  30%|| 200/660 [00:00<00:01, 233.69it/s]\n"
     ]
    },
    {
     "name": "stdout",
     "output_type": "stream",
     "text": [
      "Epoch 5 | Train Loss: 23071.9446, Test Loss: 23329.8421\n",
      "\n"
     ]
    },
    {
     "name": "stderr",
     "output_type": "stream",
     "text": [
      "Epoch_train: 6:   8%|| 200/2639 [00:01<00:12, 196.64it/s]\n",
      "Epoch_test: 6:  30%|| 200/660 [00:00<00:01, 233.16it/s]\n"
     ]
    },
    {
     "name": "stdout",
     "output_type": "stream",
     "text": [
      "Epoch 6 | Train Loss: 23330.0323, Test Loss: 23491.9236\n",
      "\n"
     ]
    },
    {
     "name": "stderr",
     "output_type": "stream",
     "text": [
      "Epoch_train: 7:   8%|| 200/2639 [00:01<00:12, 196.69it/s]\n",
      "Epoch_test: 7:  30%|| 200/660 [00:00<00:01, 232.96it/s]\n"
     ]
    },
    {
     "name": "stdout",
     "output_type": "stream",
     "text": [
      "Epoch 7 | Train Loss: 22931.6007, Test Loss: 23213.6893\n",
      "\n"
     ]
    },
    {
     "name": "stderr",
     "output_type": "stream",
     "text": [
      "Epoch_train: 8:   8%|| 200/2639 [00:01<00:12, 196.92it/s]\n",
      "Epoch_test: 8:  30%|| 200/660 [00:00<00:01, 233.42it/s]\n"
     ]
    },
    {
     "name": "stdout",
     "output_type": "stream",
     "text": [
      "Epoch 8 | Train Loss: 23103.3793, Test Loss: 23628.2105\n",
      "\n"
     ]
    },
    {
     "name": "stderr",
     "output_type": "stream",
     "text": [
      "Epoch_train: 9:   8%|| 200/2639 [00:01<00:12, 196.60it/s]\n",
      "Epoch_test: 9:  30%|| 200/660 [00:00<00:01, 232.92it/s]\n"
     ]
    },
    {
     "name": "stdout",
     "output_type": "stream",
     "text": [
      "Epoch 9 | Train Loss: 23203.3901, Test Loss: 23327.7919\n",
      "\n"
     ]
    },
    {
     "name": "stderr",
     "output_type": "stream",
     "text": [
      "Epoch_train: 10:   8%|| 200/2639 [00:01<00:12, 197.82it/s]\n",
      "Epoch_test: 10:  30%|| 200/660 [00:00<00:01, 233.34it/s]\n"
     ]
    },
    {
     "name": "stdout",
     "output_type": "stream",
     "text": [
      "Epoch 10 | Train Loss: 23148.2926, Test Loss: 23188.5589\n",
      "\n"
     ]
    },
    {
     "data": {
      "image/png": "[encoded data removed]",
      "text/plain": [
       "<Figure size 346.457x194.882 with 1 Axes>"
      ]
     },
     "metadata": {},
     "output_type": "display_data"
    }
   ],
   "source": [
    "# Data/results directories\n",
    "result_tag = 'graphsage-esm_dms_binding' # specify rbd_learned or esm, and expression or binding\n",
    "data_dir = '../data/pickles'\n",
    "results_dir = '../results/run_results/graphsage'\n",
    "\n",
    "# Create run directory for results\n",
    "now = datetime.datetime.now()\n",
    "date_hour_minute = now.strftime(\"%Y-%m-%d_%H-%M\")\n",
    "run_dir = os.path.join(results_dir, f\"{result_tag}-{date_hour_minute}\")\n",
    "os.makedirs(run_dir, exist_ok = True)\n",
    "\n",
    "# Load in data\n",
    "# embedded_train_pkl = os.path.join(data_dir, 'dms_mutation_expression_meanFs_train_esm_embedded.pkl') # graphsage-esm_dms_expression\n",
    "# embedded_test_pkl = os.path.join(data_dir, 'dms_mutation_expression_meanFs_test_esm_embedded.pkl')\n",
    "embedded_train_pkl = os.path.join(data_dir, 'dms_mutation_binding_Kds_train_esm_embedded.pkl') # graphsage-esm_dms_binding\n",
    "embedded_test_pkl = os.path.join(data_dir, 'dms_mutation_binding_Kds_test_esm_embedded.pkl')\n",
    "# embedded_train_pkl = os.path.join(data_dir, 'dms_mutation_expression_meanFs_train_rbd_learned_embedded_320.pkl') # graphsage-rbd_learned_320_dms_expression\n",
    "# embedded_test_pkl = os.path.join(data_dir, 'dms_mutation_expression_meanFs_test_rbd_learned_embedded_320.pkl')\n",
    "# embedded_train_pkl = os.path.join(data_dir, 'dms_mutation_binding_Kds_train_rbd_learned_embedded_320.pkl') # graphsage-rbd_learned_320_dms_binding\n",
    "# embedded_test_pkl = os.path.join(data_dir, 'dms_mutation_binding_Kds_test_rbd_learned_embedded_320.pkl')\n",
    "train_dataset = EmbeddedDMSDataset(embedded_train_pkl)\n",
    "test_dataset = EmbeddedDMSDataset(embedded_test_pkl)\n",
    "\n",
    "# Run setup\n",
    "n_epochs = 10\n",
    "batch_size = 32\n",
    "max_batch = 200\n",
    "lr = 1e-5\n",
    "device = torch.device(\"cuda:0\")\n",
    "\n",
    "# GraphSAGE input\n",
    "input_channels = train_dataset.embeddings[0].size(1) # number of input channels (dimensions of the embeddings)\n",
    "out_channels = 1  # For regression output\n",
    "model = GraphSAGE(input_channels, out_channels).to(device)\n",
    "\n",
    "# Run\n",
    "count_parameters(model)\n",
    "model_result = os.path.join(run_dir, f\"{result_tag}-{date_hour_minute}_train_{len(train_dataset)}_test_{len(test_dataset)}\")\n",
    "metrics_csv = run_model(model, train_dataset, test_dataset, n_epochs, batch_size, lr, max_batch, device, model_result)\n",
    "calc_train_test_history(metrics_csv, len(train_dataset), len(test_dataset), model_result)"
   ]
  },
  {
   "cell_type": "markdown",
   "metadata": {},
   "source": [
    "---\n",
    "## BLSTM\n",
    "Time for the BLSTM model from `blstm.py`. The model runner for this one is located in `blstm_model_runner.py`. Notably, this BLSTM model also has an FCN layer as well."
   ]
  },
  {
   "cell_type": "code",
   "execution_count": 9,
   "metadata": {},
   "outputs": [],
   "source": [
    "class BLSTM(nn.Module):\n",
    "    \"\"\" Bidirectional LSTM with FCN layer. \"\"\"\n",
    "\n",
    "    def __init__(self,\n",
    "                 lstm_input_size,    # The number of expected features.\n",
    "                 lstm_hidden_size,   # The number of features in hidden state h.\n",
    "                 lstm_num_layers,    # Number of recurrent layers in LSTM.\n",
    "                 lstm_bidirectional, # Bidrectional LSTM.\n",
    "                 fcn_hidden_size):   # The number of features in hidden layer of CN.\n",
    "        super().__init__()\n",
    "\n",
    "        # LSTM layer\n",
    "        self.lstm = nn.LSTM(input_size=lstm_input_size,\n",
    "                            hidden_size=lstm_hidden_size,\n",
    "                            num_layers=lstm_num_layers,\n",
    "                            bidirectional=lstm_bidirectional,\n",
    "                            batch_first=True)           \n",
    "\n",
    "        # FCN\n",
    "        if lstm_bidirectional:\n",
    "            self.fcn = nn.Sequential(nn.Linear(2 * lstm_hidden_size, fcn_hidden_size),\n",
    "                                     nn.ReLU())\n",
    "        else:\n",
    "            self.fcn = nn.Sequential(nn.Linear(lstm_hidden_size, fcn_hidden_size),\n",
    "                                     nn.ReLU())\n",
    "\n",
    "        # FCN output layer\n",
    "        self.out = nn.Linear(fcn_hidden_size, 1)\n",
    "\n",
    "    def forward(self, x):\n",
    "        num_directions = 2 if self.lstm.bidirectional else 1\n",
    "        h_0 = torch.zeros(num_directions * self.lstm.num_layers, x.size(0), self.lstm.hidden_size, device=x.device)\n",
    "        c_0 = torch.zeros(num_directions * self.lstm.num_layers, x.size(0), self.lstm.hidden_size, device=x.device)\n",
    "\n",
    "        lstm_out, (h_n, c_n) = self.lstm(x, (h_0, c_0))\n",
    "        h_n.detach()\n",
    "        c_n.detach()\n",
    "        lstm_final_out = lstm_out[:, -1, :]\n",
    "        fcn_out = self.fcn(lstm_final_out)\n",
    "        prediction = self.out(fcn_out)\n",
    "\n",
    "        return prediction\n"
   ]
  },
  {
   "cell_type": "markdown",
   "metadata": {},
   "source": [
    "Nothing is different here than from FCN model runner."
   ]
  },
  {
   "cell_type": "code",
   "execution_count": 10,
   "metadata": {},
   "outputs": [],
   "source": [
    "class EmbeddedDMSDataset(Dataset):\n",
    "    \"\"\" Binding or Expression DMS Dataset \"\"\"\n",
    "    \n",
    "    def __init__(self, pickle_file:str):\n",
    "        \"\"\"\n",
    "        Load from pickle file:\n",
    "        - sequence label (seq_id), \n",
    "        - binding or expression numerical target (log10Ka or ML_meanF), and \n",
    "        - embeddings\n",
    "        \"\"\"\n",
    "        with open(pickle_file, 'rb') as f:\n",
    "            dms_list = pickle.load(f)\n",
    "        \n",
    "            self.labels = [entry['seq_id'] for entry in dms_list]\n",
    "            self.numerical = [entry[\"log10Ka\" if \"binding\" in pickle_file else \"ML_meanF\"] for entry in dms_list]\n",
    "            self.embeddings = [entry['embedding'] for entry in dms_list]\n",
    "\n",
    "    def __len__(self) -> int:\n",
    "        return len(self.labels)\n",
    "\n",
    "    def __getitem__(self, idx):\n",
    "        # label, feature, target\n",
    "        return self.labels[idx], self.embeddings[idx], self.numerical[idx]\n",
    "\n",
    "def run_model(model, train_set, test_set, n_epochs: int, batch_size: int, lr:float, max_batch: Union[int, None], device: str, save_as: str):\n",
    "    \"\"\" Run a model through train and test epochs. \"\"\"\n",
    "    \n",
    "    if not max_batch:\n",
    "        max_batch = len(train_set)\n",
    "\n",
    "    model = model.to(device)\n",
    "    loss_fn = nn.MSELoss(reduction='sum').to(device)\n",
    "    optimizer = torch.optim.SGD(model.parameters(), lr)\n",
    "\n",
    "    train_loader = DataLoader(train_set, batch_size, shuffle=True)\n",
    "    test_loader = DataLoader(test_set, batch_size, shuffle=True)\n",
    "    \n",
    "    metrics_csv = save_as + \"_metrics.csv\"\n",
    "\n",
    "    with open(metrics_csv, \"w\") as fh:\n",
    "        fh.write(f\"epoch,\"\n",
    "                 f\"train_loss,test_loss\\n\")\n",
    "\n",
    "        for epoch in range(1, n_epochs + 1):\n",
    "            train_loss = epoch_iteration(model, loss_fn, optimizer, train_loader, epoch, max_batch, device, mode='train')\n",
    "            test_loss = epoch_iteration(model, loss_fn, optimizer, test_loader, epoch, max_batch, device, mode='test')\n",
    "\n",
    "            print(f'Epoch {epoch} | Train Loss: {train_loss:.4f}, Test Loss: {test_loss:.4f}\\n')\n",
    "           \n",
    "            fh.write(f\"{epoch},\"\n",
    "                     f\"{train_loss},{test_loss}\\n\")\n",
    "            fh.flush()\n",
    "                \n",
    "            save_model(model, optimizer, epoch, save_as + '.model_save')\n",
    "\n",
    "    return metrics_csv\n",
    "\n",
    "def epoch_iteration(model, loss_fn, optimizer, data_loader, num_epochs: int, max_batch: int, device: str, mode: str):\n",
    "    \"\"\" Used in run_model. \"\"\"\n",
    "    \n",
    "    model.train() if mode=='train' else model.eval()\n",
    "\n",
    "    data_iter = tqdm.tqdm(enumerate(data_loader),\n",
    "                          desc=f'Epoch_{mode}: {num_epochs}',\n",
    "                          total=len(data_loader),\n",
    "                          bar_format='{l_bar}{r_bar}')\n",
    "\n",
    "    total_loss = 0\n",
    "\n",
    "    for batch, batch_data in data_iter:\n",
    "        if max_batch > 0 and batch >= max_batch:\n",
    "            break \n",
    "        \n",
    "        label, feature, target = batch_data\n",
    "        feature, target = feature.to(device), target.to(device) \n",
    "        target = target.float()\n",
    "\n",
    "        if mode == 'train':\n",
    "            optimizer.zero_grad()\n",
    "            pred = model(feature).flatten()\n",
    "            batch_loss = loss_fn(pred, target)\n",
    "            batch_loss.backward()\n",
    "            optimizer.step()\n",
    "\n",
    "        else:\n",
    "            with torch.no_grad():\n",
    "                pred = model(feature).flatten()\n",
    "                batch_loss = loss_fn(pred, target)\n",
    "                \n",
    "        total_loss += batch_loss.item()\n",
    "\n",
    "    return total_loss"
   ]
  },
  {
   "cell_type": "markdown",
   "metadata": {},
   "source": [
    "Time to run! More of the same settings here, other than how we set up the model. Note that the `lstm_input_size`, `lstm_hidden_size`, and `fcn_hidden_size` are all 320. These sizes should match the dimension of the embedding pickle. "
   ]
  },
  {
   "cell_type": "code",
   "execution_count": 11,
   "metadata": {},
   "outputs": [
    {
     "name": "stdout",
     "output_type": "stream",
     "text": [
      "+---------------------------+------------+\n",
      "|          Modules          | Parameters |\n",
      "+---------------------------+------------+\n",
      "|     lstm.weight_ih_l0     |   409600   |\n",
      "|     lstm.weight_hh_l0     |   409600   |\n",
      "|      lstm.bias_ih_l0      |    1280    |\n",
      "|      lstm.bias_hh_l0      |    1280    |\n",
      "| lstm.weight_ih_l0_reverse |   409600   |\n",
      "| lstm.weight_hh_l0_reverse |   409600   |\n",
      "|  lstm.bias_ih_l0_reverse  |    1280    |\n",
      "|  lstm.bias_hh_l0_reverse  |    1280    |\n",
      "|        fcn.0.weight       |   204800   |\n",
      "|         fcn.0.bias        |    320     |\n",
      "|         out.weight        |    320     |\n",
      "|          out.bias         |     1      |\n",
      "+---------------------------+------------+\n",
      "Total Trainable Params: 1848961\n",
      "\n"
     ]
    },
    {
     "name": "stderr",
     "output_type": "stream",
     "text": [
      "Epoch_train: 1:   8%|| 200/2639 [00:01<00:23, 104.61it/s]\n",
      "Epoch_test: 1:  30%|| 200/660 [00:00<00:01, 269.43it/s]\n"
     ]
    },
    {
     "name": "stdout",
     "output_type": "stream",
     "text": [
      "Epoch 1 | Train Loss: 193366.7646, Test Loss: 23361.6027\n",
      "\n"
     ]
    },
    {
     "name": "stderr",
     "output_type": "stream",
     "text": [
      "Epoch_train: 2:   8%|| 200/2639 [00:01<00:22, 108.23it/s]\n",
      "Epoch_test: 2:  30%|| 200/660 [00:00<00:01, 270.48it/s]\n"
     ]
    },
    {
     "name": "stdout",
     "output_type": "stream",
     "text": [
      "Epoch 2 | Train Loss: 23115.3184, Test Loss: 23506.8676\n",
      "\n"
     ]
    },
    {
     "name": "stderr",
     "output_type": "stream",
     "text": [
      "Epoch_train: 3:   8%|| 200/2639 [00:01<00:22, 107.48it/s]\n",
      "Epoch_test: 3:  30%|| 200/660 [00:00<00:01, 270.56it/s]\n"
     ]
    },
    {
     "name": "stdout",
     "output_type": "stream",
     "text": [
      "Epoch 3 | Train Loss: 23451.6085, Test Loss: 23333.1691\n",
      "\n"
     ]
    },
    {
     "name": "stderr",
     "output_type": "stream",
     "text": [
      "Epoch_train: 4:   8%|| 200/2639 [00:01<00:22, 107.67it/s]\n",
      "Epoch_test: 4:  30%|| 200/660 [00:00<00:01, 271.29it/s]\n"
     ]
    },
    {
     "name": "stdout",
     "output_type": "stream",
     "text": [
      "Epoch 4 | Train Loss: 23174.9963, Test Loss: 23235.8091\n",
      "\n"
     ]
    },
    {
     "name": "stderr",
     "output_type": "stream",
     "text": [
      "Epoch_train: 5:   8%|| 200/2639 [00:01<00:22, 107.65it/s]\n",
      "Epoch_test: 5:  30%|| 200/660 [00:00<00:01, 270.62it/s]\n"
     ]
    },
    {
     "name": "stdout",
     "output_type": "stream",
     "text": [
      "Epoch 5 | Train Loss: 23446.0729, Test Loss: 23508.0347\n",
      "\n"
     ]
    },
    {
     "name": "stderr",
     "output_type": "stream",
     "text": [
      "Epoch_train: 6:   8%|| 200/2639 [00:01<00:22, 107.16it/s]\n",
      "Epoch_test: 6:  30%|| 200/660 [00:00<00:01, 270.25it/s]\n"
     ]
    },
    {
     "name": "stdout",
     "output_type": "stream",
     "text": [
      "Epoch 6 | Train Loss: 23317.2330, Test Loss: 23308.7050\n",
      "\n"
     ]
    },
    {
     "name": "stderr",
     "output_type": "stream",
     "text": [
      "Epoch_train: 7:   8%|| 200/2639 [00:01<00:22, 107.90it/s]\n",
      "Epoch_test: 7:  30%|| 200/660 [00:00<00:01, 270.29it/s]\n"
     ]
    },
    {
     "name": "stdout",
     "output_type": "stream",
     "text": [
      "Epoch 7 | Train Loss: 22965.3556, Test Loss: 23561.0559\n",
      "\n"
     ]
    },
    {
     "name": "stderr",
     "output_type": "stream",
     "text": [
      "Epoch_train: 8:   8%|| 200/2639 [00:01<00:22, 107.53it/s]\n",
      "Epoch_test: 8:  30%|| 200/660 [00:00<00:01, 269.60it/s]\n"
     ]
    },
    {
     "name": "stdout",
     "output_type": "stream",
     "text": [
      "Epoch 8 | Train Loss: 23337.9955, Test Loss: 23566.0002\n",
      "\n"
     ]
    },
    {
     "name": "stderr",
     "output_type": "stream",
     "text": [
      "Epoch_train: 9:   8%|| 200/2639 [00:01<00:22, 107.78it/s]\n",
      "Epoch_test: 9:  30%|| 200/660 [00:00<00:01, 269.77it/s]\n"
     ]
    },
    {
     "name": "stdout",
     "output_type": "stream",
     "text": [
      "Epoch 9 | Train Loss: 23349.3475, Test Loss: 23552.4775\n",
      "\n"
     ]
    },
    {
     "name": "stderr",
     "output_type": "stream",
     "text": [
      "Epoch_train: 10:   8%|| 200/2639 [00:01<00:22, 107.55it/s]\n",
      "Epoch_test: 10:  30%|| 200/660 [00:00<00:01, 269.50it/s]\n"
     ]
    },
    {
     "name": "stdout",
     "output_type": "stream",
     "text": [
      "Epoch 10 | Train Loss: 23278.4862, Test Loss: 23235.9194\n",
      "\n"
     ]
    },
    {
     "data": {
      "image/png": "[encoded data removed]",
      "text/plain": [
       "<Figure size 346.457x194.882 with 1 Axes>"
      ]
     },
     "metadata": {},
     "output_type": "display_data"
    }
   ],
   "source": [
    "# Data/results directories\n",
    "result_tag = 'blstm-esm_dms_binding' # specify expression or binding, esm or rbd_learned\n",
    "data_dir = '../data/pickles'\n",
    "results_dir = '../results/run_results/blstm'\n",
    "\n",
    "# Create run directory for results\n",
    "now = datetime.datetime.now()\n",
    "date_hour_minute = now.strftime(\"%Y-%m-%d_%H-%M\")\n",
    "run_dir = os.path.join(results_dir, f\"{result_tag}-{date_hour_minute}\")\n",
    "os.makedirs(run_dir, exist_ok = True)\n",
    "\n",
    "# Load in data (from pickle)\n",
    "# embedded_train_pkl = os.path.join(data_dir, 'dms_mutation_expression_meanFs_train_esm_embedded.pkl') # blstm-esm_dms_expression\n",
    "# embedded_test_pkl = os.path.join(data_dir, 'dms_mutation_expression_meanFs_test_esm_embedded.pkl')\n",
    "embedded_train_pkl = os.path.join(data_dir, 'dms_mutation_binding_Kds_train_esm_embedded.pkl') # blstm-esm_dms_binding\n",
    "embedded_test_pkl = os.path.join(data_dir, 'dms_mutation_binding_Kds_test_esm_embedded.pkl')\n",
    "# embedded_train_pkl = os.path.join(data_dir, 'dms_mutation_expression_meanFs_train_rbd_learned_embedded_320.pkl') # blstm-rbd_learned_320_dms_expression\n",
    "# embedded_test_pkl = os.path.join(data_dir, 'dms_mutation_expression_meanFs_test_rbd_learned_embedded_320.pkl')\n",
    "# embedded_train_pkl = os.path.join(data_dir, 'dms_mutation_binding_Kds_train_rbd_learned_embedded_320.pkl') # blstm-rbd_learned_320_dms_binding\n",
    "# embedded_test_pkl = os.path.join(data_dir, 'dms_mutation_binding_Kds_test_rbd_learned_embedded_320.pkl')\n",
    "train_dataset = EmbeddedDMSDataset(embedded_train_pkl)\n",
    "test_dataset = EmbeddedDMSDataset(embedded_test_pkl)\n",
    "\n",
    "# Run setup\n",
    "n_epochs = 10\n",
    "batch_size = 32\n",
    "max_batch = 200\n",
    "lr = 1e-5\n",
    "device = torch.device(\"cuda:0\")\n",
    "\n",
    "# BLSTM input\n",
    "lstm_input_size = 320\n",
    "lstm_hidden_size = 320\n",
    "lstm_num_layers = 1        \n",
    "lstm_bidrectional = True   \n",
    "fcn_hidden_size = 320\n",
    "model = BLSTM(lstm_input_size, lstm_hidden_size, lstm_num_layers, lstm_bidrectional, fcn_hidden_size)\n",
    "\n",
    "# Run\n",
    "count_parameters(model)\n",
    "model_result = os.path.join(run_dir, f\"{result_tag}-{date_hour_minute}_train_{len(train_dataset)}_test_{len(test_dataset)}\")\n",
    "metrics_csv = run_model(model, train_dataset, test_dataset, n_epochs, batch_size, lr, max_batch, device, model_result)\n",
    "calc_train_test_history(metrics_csv, len(train_dataset), len(test_dataset), model_result)"
   ]
  },
  {
   "cell_type": "markdown",
   "metadata": {},
   "source": [
    "---\n",
    "## ESM-BLSTM\n",
    "We also get a bit interesting here as well. Instead of pre-embedding our sequences and not updating the embedding weights throughout the model run, here we update the ESM model embedding weights and feed them into a BLSTM model. Again, not using a pickle."
   ]
  },
  {
   "cell_type": "code",
   "execution_count": 12,
   "metadata": {},
   "outputs": [],
   "source": [
    "class ESM_BLSTM(nn.Module):\n",
    "    def __init__(self, esm, blstm):\n",
    "        super().__init__()\n",
    "        self.esm = esm\n",
    "        self.blstm = blstm\n",
    "\n",
    "    def forward(self, tokenized_seqs):\n",
    "        with torch.set_grad_enabled(self.training):  # Enable gradients, managed by model.eval() or model.train() in epoch_iteration\n",
    "            esm_output = self.esm(**tokenized_seqs).last_hidden_state\n",
    "            reshaped_output = esm_output.squeeze(0)  \n",
    "            output = self.blstm(reshaped_output)\n",
    "        return output"
   ]
  },
  {
   "cell_type": "markdown",
   "metadata": {},
   "source": [
    "Not much changes with this part."
   ]
  },
  {
   "cell_type": "code",
   "execution_count": 13,
   "metadata": {},
   "outputs": [],
   "source": [
    "class DMSDataset(Dataset):\n",
    "    \"\"\" Binding or Expression DMS Dataset, not from pickle! \"\"\"\n",
    "    \n",
    "    def __init__(self, csv_file:str):\n",
    "        \"\"\"\n",
    "        Load from csv file into pandas:\n",
    "        - sequence label ('labels'), \n",
    "        - binding or expression numerical target ('log10Ka' or 'ML_meanF'), and \n",
    "        - 'sequence'\n",
    "        \"\"\"\n",
    "        try:\n",
    "            self.full_df = pd.read_csv(csv_file, sep=',', header=0)\n",
    "            self.target = 'log10Ka' if 'binding' in csv_file else 'ML_meanF'\n",
    "        except (FileNotFoundError, pd.errors.ParserError, Exception) as e:\n",
    "            print(f\"Error reading in .csv file: {csv_file}\\n{e}\", file=sys.stderr)\n",
    "            sys.exit(1)\n",
    "\n",
    "    def __len__(self) -> int:\n",
    "        return len(self.full_df)\n",
    "\n",
    "    def __getitem__(self, idx):\n",
    "        # label, seq, target\n",
    "        return self.full_df['labels'][idx], self.full_df['sequence'][idx], self.full_df[self.target][idx]\n",
    "\n",
    "def run_model(model, tokenizer, train_set, test_set, n_epochs: int, batch_size: int, lr:float, max_batch: Union[int, None], device: str, save_as: str):\n",
    "    \"\"\" Run a model through train and test epochs. \"\"\"\n",
    "    \n",
    "    if not max_batch:\n",
    "        max_batch = len(train_set)\n",
    "\n",
    "    model = model.to(device)\n",
    "    loss_fn = nn.MSELoss(reduction='sum').to(device)\n",
    "    optimizer = torch.optim.SGD(model.parameters(), lr)\n",
    "\n",
    "    train_loader = DataLoader(train_set, batch_size, shuffle=True)\n",
    "    test_loader = DataLoader(test_set, batch_size, shuffle=True)\n",
    "\n",
    "    metrics_csv = save_as + \"_metrics.csv\"\n",
    "    \n",
    "    with open(metrics_csv, \"w\") as fh:\n",
    "        fh.write(f\"epoch,\"\n",
    "                 f\"train_loss,test_loss\\n\")\n",
    "\n",
    "        for epoch in range(1, n_epochs + 1):\n",
    "            train_loss = epoch_iteration(model, tokenizer, loss_fn, optimizer, train_loader, epoch, max_batch, device, mode='train')\n",
    "            test_loss = epoch_iteration(model, tokenizer, loss_fn, optimizer, test_loader, epoch, max_batch, device, mode='test')\n",
    "\n",
    "            print(f'Epoch {epoch} | Train BLSTM Loss: {train_loss:.4f}, Test BLSTM Loss: {test_loss:.4f}\\n')\n",
    "           \n",
    "            fh.write(f\"{epoch},\"\n",
    "                     f\"{train_loss},{test_loss}\\n\")\n",
    "            fh.flush()\n",
    "                \n",
    "            save_model(model, optimizer, epoch, save_as + '.model_save')\n",
    "\n",
    "    return metrics_csv\n",
    "\n",
    "def epoch_iteration(model, tokenizer, loss_fn, optimizer, data_loader, num_epochs: int, max_batch: int, device: str, mode: str):\n",
    "    \"\"\" Used in run_model. \"\"\"\n",
    "    \n",
    "    model.train() if mode=='train' else model.eval()\n",
    "\n",
    "    data_iter = tqdm.tqdm(enumerate(data_loader),\n",
    "                          desc=f'Epoch_{mode}: {num_epochs}',\n",
    "                          total=len(data_loader),\n",
    "                          bar_format='{l_bar}{r_bar}')\n",
    "\n",
    "    total_loss = 0\n",
    "\n",
    "    for batch, batch_data in data_iter:\n",
    "        if max_batch > 0 and batch >= max_batch:\n",
    "            break\n",
    "\n",
    "        labels, seqs, targets = batch_data\n",
    "        targets = targets.to(device).float()\n",
    "        tokenized_seqs = tokenizer(seqs,return_tensors=\"pt\").to(device)\n",
    "   \n",
    "        if mode == 'train':\n",
    "            optimizer.zero_grad()\n",
    "            pred = model(tokenized_seqs).flatten()\n",
    "            batch_loss = loss_fn(pred, targets)\n",
    "            batch_loss.backward()\n",
    "            optimizer.step()\n",
    "\n",
    "        else:\n",
    "            with torch.no_grad():\n",
    "                pred = model(tokenized_seqs).flatten()\n",
    "                batch_loss = loss_fn(pred, targets)\n",
    "\n",
    "        total_loss += batch_loss.item()\n",
    "\n",
    "    return total_loss"
   ]
  },
  {
   "cell_type": "markdown",
   "metadata": {},
   "source": [
    "Let's run this model now! Same settings as before, just the input of the model is different."
   ]
  },
  {
   "cell_type": "code",
   "execution_count": 14,
   "metadata": {},
   "outputs": [
    {
     "name": "stderr",
     "output_type": "stream",
     "text": [
      "Some weights of EsmModel were not initialized from the model checkpoint at facebook/esm2_t6_8M_UR50D and are newly initialized: ['esm.pooler.dense.bias', 'esm.pooler.dense.weight']\n",
      "You should probably TRAIN this model on a down-stream task to be able to use it for predictions and inference.\n"
     ]
    },
    {
     "name": "stdout",
     "output_type": "stream",
     "text": [
      "+---------------------------------------------------+------------+\n",
      "|                      Modules                      | Parameters |\n",
      "+---------------------------------------------------+------------+\n",
      "|       esm.embeddings.word_embeddings.weight       |   10560    |\n",
      "|     esm.embeddings.position_embeddings.weight     |   328320   |\n",
      "|  esm.encoder.layer.0.attention.self.query.weight  |   102400   |\n",
      "|   esm.encoder.layer.0.attention.self.query.bias   |    320     |\n",
      "|   esm.encoder.layer.0.attention.self.key.weight   |   102400   |\n",
      "|    esm.encoder.layer.0.attention.self.key.bias    |    320     |\n",
      "|  esm.encoder.layer.0.attention.self.value.weight  |   102400   |\n",
      "|   esm.encoder.layer.0.attention.self.value.bias   |    320     |\n",
      "| esm.encoder.layer.0.attention.output.dense.weight |   102400   |\n",
      "|  esm.encoder.layer.0.attention.output.dense.bias  |    320     |\n",
      "|   esm.encoder.layer.0.attention.LayerNorm.weight  |    320     |\n",
      "|    esm.encoder.layer.0.attention.LayerNorm.bias   |    320     |\n",
      "|   esm.encoder.layer.0.intermediate.dense.weight   |   409600   |\n",
      "|    esm.encoder.layer.0.intermediate.dense.bias    |    1280    |\n",
      "|      esm.encoder.layer.0.output.dense.weight      |   409600   |\n",
      "|       esm.encoder.layer.0.output.dense.bias       |    320     |\n",
      "|        esm.encoder.layer.0.LayerNorm.weight       |    320     |\n",
      "|         esm.encoder.layer.0.LayerNorm.bias        |    320     |\n",
      "|  esm.encoder.layer.1.attention.self.query.weight  |   102400   |\n",
      "|   esm.encoder.layer.1.attention.self.query.bias   |    320     |\n",
      "|   esm.encoder.layer.1.attention.self.key.weight   |   102400   |\n",
      "|    esm.encoder.layer.1.attention.self.key.bias    |    320     |\n",
      "|  esm.encoder.layer.1.attention.self.value.weight  |   102400   |\n",
      "|   esm.encoder.layer.1.attention.self.value.bias   |    320     |\n",
      "| esm.encoder.layer.1.attention.output.dense.weight |   102400   |\n",
      "|  esm.encoder.layer.1.attention.output.dense.bias  |    320     |\n",
      "|   esm.encoder.layer.1.attention.LayerNorm.weight  |    320     |\n",
      "|    esm.encoder.layer.1.attention.LayerNorm.bias   |    320     |\n",
      "|   esm.encoder.layer.1.intermediate.dense.weight   |   409600   |\n",
      "|    esm.encoder.layer.1.intermediate.dense.bias    |    1280    |\n",
      "|      esm.encoder.layer.1.output.dense.weight      |   409600   |\n",
      "|       esm.encoder.layer.1.output.dense.bias       |    320     |\n",
      "|        esm.encoder.layer.1.LayerNorm.weight       |    320     |\n",
      "|         esm.encoder.layer.1.LayerNorm.bias        |    320     |\n",
      "|  esm.encoder.layer.2.attention.self.query.weight  |   102400   |\n",
      "|   esm.encoder.layer.2.attention.self.query.bias   |    320     |\n",
      "|   esm.encoder.layer.2.attention.self.key.weight   |   102400   |\n",
      "|    esm.encoder.layer.2.attention.self.key.bias    |    320     |\n",
      "|  esm.encoder.layer.2.attention.self.value.weight  |   102400   |\n",
      "|   esm.encoder.layer.2.attention.self.value.bias   |    320     |\n",
      "| esm.encoder.layer.2.attention.output.dense.weight |   102400   |\n",
      "|  esm.encoder.layer.2.attention.output.dense.bias  |    320     |\n",
      "|   esm.encoder.layer.2.attention.LayerNorm.weight  |    320     |\n",
      "|    esm.encoder.layer.2.attention.LayerNorm.bias   |    320     |\n",
      "|   esm.encoder.layer.2.intermediate.dense.weight   |   409600   |\n",
      "|    esm.encoder.layer.2.intermediate.dense.bias    |    1280    |\n",
      "|      esm.encoder.layer.2.output.dense.weight      |   409600   |\n",
      "|       esm.encoder.layer.2.output.dense.bias       |    320     |\n",
      "|        esm.encoder.layer.2.LayerNorm.weight       |    320     |\n",
      "|         esm.encoder.layer.2.LayerNorm.bias        |    320     |\n",
      "|  esm.encoder.layer.3.attention.self.query.weight  |   102400   |\n",
      "|   esm.encoder.layer.3.attention.self.query.bias   |    320     |\n",
      "|   esm.encoder.layer.3.attention.self.key.weight   |   102400   |\n",
      "|    esm.encoder.layer.3.attention.self.key.bias    |    320     |\n",
      "|  esm.encoder.layer.3.attention.self.value.weight  |   102400   |\n",
      "|   esm.encoder.layer.3.attention.self.value.bias   |    320     |\n",
      "| esm.encoder.layer.3.attention.output.dense.weight |   102400   |\n",
      "|  esm.encoder.layer.3.attention.output.dense.bias  |    320     |\n",
      "|   esm.encoder.layer.3.attention.LayerNorm.weight  |    320     |\n",
      "|    esm.encoder.layer.3.attention.LayerNorm.bias   |    320     |\n",
      "|   esm.encoder.layer.3.intermediate.dense.weight   |   409600   |\n",
      "|    esm.encoder.layer.3.intermediate.dense.bias    |    1280    |\n",
      "|      esm.encoder.layer.3.output.dense.weight      |   409600   |\n",
      "|       esm.encoder.layer.3.output.dense.bias       |    320     |\n",
      "|        esm.encoder.layer.3.LayerNorm.weight       |    320     |\n",
      "|         esm.encoder.layer.3.LayerNorm.bias        |    320     |\n",
      "|  esm.encoder.layer.4.attention.self.query.weight  |   102400   |\n",
      "|   esm.encoder.layer.4.attention.self.query.bias   |    320     |\n",
      "|   esm.encoder.layer.4.attention.self.key.weight   |   102400   |\n",
      "|    esm.encoder.layer.4.attention.self.key.bias    |    320     |\n",
      "|  esm.encoder.layer.4.attention.self.value.weight  |   102400   |\n",
      "|   esm.encoder.layer.4.attention.self.value.bias   |    320     |\n",
      "| esm.encoder.layer.4.attention.output.dense.weight |   102400   |\n",
      "|  esm.encoder.layer.4.attention.output.dense.bias  |    320     |\n",
      "|   esm.encoder.layer.4.attention.LayerNorm.weight  |    320     |\n",
      "|    esm.encoder.layer.4.attention.LayerNorm.bias   |    320     |\n",
      "|   esm.encoder.layer.4.intermediate.dense.weight   |   409600   |\n",
      "|    esm.encoder.layer.4.intermediate.dense.bias    |    1280    |\n",
      "|      esm.encoder.layer.4.output.dense.weight      |   409600   |\n",
      "|       esm.encoder.layer.4.output.dense.bias       |    320     |\n",
      "|        esm.encoder.layer.4.LayerNorm.weight       |    320     |\n",
      "|         esm.encoder.layer.4.LayerNorm.bias        |    320     |\n",
      "|  esm.encoder.layer.5.attention.self.query.weight  |   102400   |\n",
      "|   esm.encoder.layer.5.attention.self.query.bias   |    320     |\n",
      "|   esm.encoder.layer.5.attention.self.key.weight   |   102400   |\n",
      "|    esm.encoder.layer.5.attention.self.key.bias    |    320     |\n",
      "|  esm.encoder.layer.5.attention.self.value.weight  |   102400   |\n",
      "|   esm.encoder.layer.5.attention.self.value.bias   |    320     |\n",
      "| esm.encoder.layer.5.attention.output.dense.weight |   102400   |\n",
      "|  esm.encoder.layer.5.attention.output.dense.bias  |    320     |\n",
      "|   esm.encoder.layer.5.attention.LayerNorm.weight  |    320     |\n",
      "|    esm.encoder.layer.5.attention.LayerNorm.bias   |    320     |\n",
      "|   esm.encoder.layer.5.intermediate.dense.weight   |   409600   |\n",
      "|    esm.encoder.layer.5.intermediate.dense.bias    |    1280    |\n",
      "|      esm.encoder.layer.5.output.dense.weight      |   409600   |\n",
      "|       esm.encoder.layer.5.output.dense.bias       |    320     |\n",
      "|        esm.encoder.layer.5.LayerNorm.weight       |    320     |\n",
      "|         esm.encoder.layer.5.LayerNorm.bias        |    320     |\n",
      "|      esm.encoder.emb_layer_norm_after.weight      |    320     |\n",
      "|       esm.encoder.emb_layer_norm_after.bias       |    320     |\n",
      "|              esm.pooler.dense.weight              |   102400   |\n",
      "|               esm.pooler.dense.bias               |    320     |\n",
      "|         esm.contact_head.regression.weight        |    120     |\n",
      "|          esm.contact_head.regression.bias         |     1      |\n",
      "|              blstm.lstm.weight_ih_l0              |   409600   |\n",
      "|              blstm.lstm.weight_hh_l0              |   409600   |\n",
      "|               blstm.lstm.bias_ih_l0               |    1280    |\n",
      "|               blstm.lstm.bias_hh_l0               |    1280    |\n",
      "|          blstm.lstm.weight_ih_l0_reverse          |   409600   |\n",
      "|          blstm.lstm.weight_hh_l0_reverse          |   409600   |\n",
      "|           blstm.lstm.bias_ih_l0_reverse           |    1280    |\n",
      "|           blstm.lstm.bias_hh_l0_reverse           |    1280    |\n",
      "|                 blstm.fcn.0.weight                |   204800   |\n",
      "|                  blstm.fcn.0.bias                 |    320     |\n",
      "|                  blstm.out.weight                 |    320     |\n",
      "|                   blstm.out.bias                  |     1      |\n",
      "+---------------------------------------------------+------------+\n",
      "Total Trainable Params: 9689082\n",
      "\n"
     ]
    },
    {
     "name": "stderr",
     "output_type": "stream",
     "text": [
      "Epoch_train: 1:   8%|| 200/2639 [00:13<02:40, 15.15it/s]\n",
      "Epoch_test: 1:  30%|| 200/660 [00:05<00:12, 35.53it/s]\n"
     ]
    },
    {
     "name": "stdout",
     "output_type": "stream",
     "text": [
      "Epoch 1 | Train BLSTM Loss: 166411.8602, Test BLSTM Loss: 23503.8496\n",
      "\n"
     ]
    },
    {
     "name": "stderr",
     "output_type": "stream",
     "text": [
      "Epoch_train: 2:   8%|| 200/2639 [00:13<02:40, 15.19it/s]\n",
      "Epoch_test: 2:  30%|| 200/660 [00:05<00:12, 35.68it/s]\n"
     ]
    },
    {
     "name": "stdout",
     "output_type": "stream",
     "text": [
      "Epoch 2 | Train BLSTM Loss: 23416.8100, Test BLSTM Loss: 23556.2040\n",
      "\n"
     ]
    },
    {
     "name": "stderr",
     "output_type": "stream",
     "text": [
      "Epoch_train: 3:   8%|| 200/2639 [00:13<02:40, 15.22it/s]\n",
      "Epoch_test: 3:  30%|| 200/660 [00:05<00:12, 35.51it/s]\n"
     ]
    },
    {
     "name": "stdout",
     "output_type": "stream",
     "text": [
      "Epoch 3 | Train BLSTM Loss: 23618.5297, Test BLSTM Loss: 23621.6742\n",
      "\n"
     ]
    },
    {
     "name": "stderr",
     "output_type": "stream",
     "text": [
      "Epoch_train: 4:   8%|| 200/2639 [00:13<02:39, 15.26it/s]\n",
      "Epoch_test: 4:  30%|| 200/660 [00:05<00:12, 35.74it/s]\n"
     ]
    },
    {
     "name": "stdout",
     "output_type": "stream",
     "text": [
      "Epoch 4 | Train BLSTM Loss: 23303.2598, Test BLSTM Loss: 23375.5446\n",
      "\n"
     ]
    },
    {
     "name": "stderr",
     "output_type": "stream",
     "text": [
      "Epoch_train: 5:   8%|| 200/2639 [00:13<02:39, 15.29it/s]\n",
      "Epoch_test: 5:  30%|| 200/660 [00:05<00:12, 35.84it/s]\n"
     ]
    },
    {
     "name": "stdout",
     "output_type": "stream",
     "text": [
      "Epoch 5 | Train BLSTM Loss: 23250.4523, Test BLSTM Loss: 23282.2098\n",
      "\n"
     ]
    },
    {
     "name": "stderr",
     "output_type": "stream",
     "text": [
      "Epoch_train: 6:   8%|| 200/2639 [00:13<02:39, 15.28it/s]\n",
      "Epoch_test: 6:  30%|| 200/660 [00:05<00:12, 35.61it/s]\n"
     ]
    },
    {
     "name": "stdout",
     "output_type": "stream",
     "text": [
      "Epoch 6 | Train BLSTM Loss: 23188.1590, Test BLSTM Loss: 23444.7286\n",
      "\n"
     ]
    },
    {
     "name": "stderr",
     "output_type": "stream",
     "text": [
      "Epoch_train: 7:   8%|| 200/2639 [00:13<02:39, 15.28it/s]\n",
      "Epoch_test: 7:  30%|| 200/660 [00:05<00:12, 35.71it/s]\n"
     ]
    },
    {
     "name": "stdout",
     "output_type": "stream",
     "text": [
      "Epoch 7 | Train BLSTM Loss: 23099.1543, Test BLSTM Loss: 22960.0495\n",
      "\n"
     ]
    },
    {
     "name": "stderr",
     "output_type": "stream",
     "text": [
      "Epoch_train: 8:   8%|| 200/2639 [00:13<02:39, 15.26it/s]\n",
      "Epoch_test: 8:  30%|| 200/660 [00:05<00:12, 35.81it/s]\n"
     ]
    },
    {
     "name": "stdout",
     "output_type": "stream",
     "text": [
      "Epoch 8 | Train BLSTM Loss: 22433.2038, Test BLSTM Loss: 21682.4475\n",
      "\n"
     ]
    },
    {
     "name": "stderr",
     "output_type": "stream",
     "text": [
      "Epoch_train: 9:   8%|| 200/2639 [00:13<02:39, 15.29it/s]\n",
      "Epoch_test: 9:  30%|| 200/660 [00:05<00:12, 35.59it/s]\n"
     ]
    },
    {
     "name": "stdout",
     "output_type": "stream",
     "text": [
      "Epoch 9 | Train BLSTM Loss: 22069.7470, Test BLSTM Loss: 21054.2300\n",
      "\n"
     ]
    },
    {
     "name": "stderr",
     "output_type": "stream",
     "text": [
      "Epoch_train: 10:   8%|| 200/2639 [00:13<02:39, 15.28it/s]\n",
      "Epoch_test: 10:  30%|| 200/660 [00:05<00:12, 35.66it/s]\n"
     ]
    },
    {
     "name": "stdout",
     "output_type": "stream",
     "text": [
      "Epoch 10 | Train BLSTM Loss: 21204.8561, Test BLSTM Loss: 21775.3624\n",
      "\n"
     ]
    },
    {
     "data": {
      "image/png": "[encoded data removed]",
      "text/plain": [
       "<Figure size 346.457x194.882 with 1 Axes>"
      ]
     },
     "metadata": {},
     "output_type": "display_data"
    }
   ],
   "source": [
    "# Data/results directories\n",
    "result_tag = 'esm-blstm-esm_dms_binding' # specify expression or binding\n",
    "data_dir = '../data'\n",
    "results_dir = '../results/run_results/esm-blstm'\n",
    "\n",
    "# Create run directory for results\n",
    "now = datetime.datetime.now()\n",
    "date_hour_minute = now.strftime(\"%Y-%m-%d_%H-%M\")\n",
    "run_dir = os.path.join(results_dir, f\"{result_tag}-{date_hour_minute}\")\n",
    "os.makedirs(run_dir, exist_ok = True)\n",
    "\n",
    "# Load in data (from csv)\n",
    "# dms_train_csv = os.path.join(data_dir, 'dms_mutation_expression_meanFs_train.csv') # esm-blstm-esm_dms_expression\n",
    "# dms_test_csv = os.path.join(data_dir, 'dms_mutation_expression_meanFs_test.csv') \n",
    "dms_train_csv = os.path.join(data_dir, 'dms_mutation_binding_Kds_train.csv') # esm-blstm-esm_dms_binding\n",
    "dms_test_csv = os.path.join(data_dir, 'dms_mutation_binding_Kds_test.csv') \n",
    "train_dataset = DMSDataset(dms_train_csv)\n",
    "test_dataset = DMSDataset(dms_test_csv)\n",
    "\n",
    "# Run setup\n",
    "n_epochs = 10\n",
    "batch_size = 32\n",
    "max_batch = 200\n",
    "lr = 1e-5\n",
    "device = torch.device(\"cuda:0\")\n",
    "\n",
    "# ESM input\n",
    "esm = EsmModel.from_pretrained(\"facebook/esm2_t6_8M_UR50D\").to(device)\n",
    "tokenizer = AutoTokenizer.from_pretrained(\"facebook/esm2_t33_650M_UR50D\")\n",
    "\n",
    "# BLSTM input\n",
    "lstm_input_size = 320\n",
    "lstm_hidden_size = 320\n",
    "lstm_num_layers = 1        \n",
    "lstm_bidrectional = True   \n",
    "fcn_hidden_size = 320\n",
    "blstm = BLSTM(lstm_input_size, lstm_hidden_size, lstm_num_layers, lstm_bidrectional, fcn_hidden_size)\n",
    "\n",
    "model = ESM_BLSTM(esm, blstm)\n",
    "\n",
    "# Run\n",
    "count_parameters(model)\n",
    "model_result = os.path.join(run_dir, f\"{result_tag}-{date_hour_minute}_train_{len(train_dataset)}_test_{len(test_dataset)}\")\n",
    "metrics_csv = run_model(model, tokenizer, train_dataset, test_dataset, n_epochs, batch_size, lr, max_batch, device, model_result)\n",
    "calc_train_test_history(metrics_csv, len(train_dataset), len(test_dataset), model_result)"
   ]
  },
  {
   "cell_type": "markdown",
   "metadata": {},
   "source": [
    "---\n",
    "## BERT-BLSTM\n",
    "Here, we get a little interesting. We combine the BERT model with the Protein Masked Languange model, and then pass it through to a BLTSM model. From this, we have two errors that are outputted that we later add together in the model runner. \n",
    "\n",
    "We need to adjust some of our scripts from the `runner_util.py` from earlier to account for these additional errors.\n",
    "\n",
    "We have two versions of this model runner. One initialized with the ESM model embeddings, and the other with the best saved Spike NLP BERT model. The majority of the model runner is the same, except for the setup."
   ]
  },
  {
   "cell_type": "code",
   "execution_count": 15,
   "metadata": {},
   "outputs": [],
   "source": [
    "class BERT_BLSTM(nn.Module):\n",
    "    \"\"\"\" BLSTM with FCN layer, MLM, and BERT. \"\"\"\n",
    "    \n",
    "    def __init__(self, bert: BERT, blstm:BLSTM, vocab_size: int):\n",
    "        super().__init__()\n",
    "\n",
    "        self.bert = bert\n",
    "        self.mlm = ProteinMaskedLanguageModel(self.bert.hidden, vocab_size)\n",
    "        self.blstm = blstm\n",
    "\n",
    "    def forward(self, x: torch.Tensor) -> torch.Tensor:\n",
    "        x = self.bert(x)\n",
    "        error_1 = self.mlm(x) # error from masked language\n",
    "        error_2 = self.blstm(x) # error from regession\n",
    "\n",
    "        return error_1, error_2"
   ]
  },
  {
   "cell_type": "code",
   "execution_count": 16,
   "metadata": {},
   "outputs": [],
   "source": [
    "def plot_combined_history(history_df: str, save_as):\n",
    "    \"\"\"\n",
    "    Generate a single figure with subplots for combined training loss\n",
    "    from the model run csv file.\n",
    "    \"\"\"\n",
    "    sns.set_theme()\n",
    "    sns.set_context('talk')\n",
    "    sns.set(style=\"darkgrid\")\n",
    "    plt.ion()\n",
    "    fig, ax = plt.subplots(nrows=1, ncols=1, figsize=(16, 9))\n",
    "\n",
    "    # Plot Training Loss\n",
    "    train_loss_line = ax.plot(history_df['epoch'], history_df['train_combined_loss'], color='tab:orange', label='Train Loss')\n",
    "    test_loss_line = ax.plot(history_df['epoch'], history_df['test_combined_loss'],color='tab:blue', label='Test Loss')\n",
    "    ax.set_ylabel('Loss')\n",
    "    ax.set_xlabel('Epoch')\n",
    "    ax.legend(loc='upper right')\n",
    "\n",
    "    # Skipping every other y-axis tick mark\n",
    "    yticks = ax.get_yticks()\n",
    "    ax.set_yticks(yticks[::2])  # Keep every other tick\n",
    "\n",
    "    plt.style.use('ggplot')\n",
    "    plt.tight_layout()\n",
    "    plt.savefig(save_as+'_combined_loss.pdf', format='pdf')\n",
    "\n",
    "def plot_mlm_history(history_df: str, save_as):\n",
    "    \"\"\"\n",
    "    Generate a single figure with subplots for training loss and training accuracy\n",
    "    from the model run csv file.\n",
    "    \"\"\"\n",
    "    sns.set_theme()\n",
    "    sns.set_context('talk')\n",
    "    sns.set(style=\"darkgrid\")\n",
    "    plt.ion()\n",
    "    fig, (ax1, ax2) = plt.subplots(nrows=2, ncols=1, figsize=(16, 18))\n",
    "\n",
    "    # Plot Training Loss\n",
    "    train_loss_line = ax1.plot(history_df['epoch'], history_df['train_mlm_loss'], color='tab:red', label='Train Loss')\n",
    "    test_loss_line = ax1.plot(history_df['epoch'], history_df['test_mlm_loss'],color='tab:orange', label='Test Loss')\n",
    "    ax1.set_ylabel('Loss')\n",
    "    ax1.legend(loc='upper right')\n",
    "\n",
    "    # Plot Training Accuracy\n",
    "    train_accuracy_line = ax2.plot(history_df['epoch'], history_df['train_mlm_accuracy'], color='tab:blue', label='Train Accuracy')\n",
    "    test_accuracy_line = ax2.plot(history_df['epoch'], history_df['test_mlm_accuracy'], color='tab:green', label='Test Accuracy')\n",
    "    ax2.set_xlabel('Epoch')\n",
    "    ax2.set_ylabel('Accuracy')\n",
    "    ax2.set_ylim(0, 1) \n",
    "    ax2.legend(loc='upper right')\n",
    "\n",
    "    # Skipping every other y-axis tick mark\n",
    "    a1_yticks = ax1.get_yticks()\n",
    "    ax1.set_yticks(a1_yticks[::2])  # Keep every other tick\n",
    "\n",
    "    plt.style.use('ggplot')\n",
    "    plt.tight_layout()\n",
    "    plt.savefig(save_as+'_loss_acc.pdf', format='pdf')\n",
    "\n",
    "def plot_rmse_history(history_df, save_as: str):\n",
    "    \"\"\" Plot RMSE training and testing history per epoch. \"\"\"\n",
    "\n",
    "    sns.set_theme()\n",
    "    sns.set_context('talk')\n",
    "    sns.set(style=\"darkgrid\")\n",
    " \n",
    "    fig, ax = plt.subplots(figsize=(16, 9))\n",
    "    plt.rcParams['font.family'] = 'sans-serif'\n",
    "\n",
    "    # Plot\n",
    "    sns.lineplot(data=history_df, x=history_df.index, y='test_blstm_rmse', color='tab:blue', linewidth=0.5, ax=ax) # add label='Test RMSE' for legend\n",
    "    sns.lineplot(data=history_df, x=history_df.index, y='train_blstm_rmse', color='tab:orange', linewidth=0.5,ax=ax) # add label='Train RMSE' for legend\n",
    "    \n",
    "    # Set the font size\n",
    "    font_size = 8\n",
    "    ax.set_xlabel('Epoch', fontsize=font_size)\n",
    "    ax.set_ylabel(f'RMSE', fontsize=font_size)\n",
    "    ax.tick_params(axis='both', which='major', labelsize=font_size)\n",
    "    # ax.legend(fontsize=font_size)\n",
    "\n",
    "    # Skipping every other y-, x-axis tick mark\n",
    "    ax_yticks = ax.get_yticks()\n",
    "    ax.set_ylim(-0.1, 1.8)\n",
    "\n",
    "    ax_xticks = ax.get_xticks()\n",
    "    new_xlabels = ['' if i % 2 else label for i, label in enumerate(ax.get_xticklabels())]\n",
    "    ax.set_xticks(ax_xticks)\n",
    "    ax.set_xticklabels(new_xlabels)\n",
    "    #ax.set_xlim(-100, 5000)\n",
    "\n",
    "    plt.tight_layout()\n",
    "    plt.savefig(save_as + '_rmse.pdf', format='pdf')\n",
    "\n",
    "def plot_all_loss_history(history_df, save_as:str):\n",
    "    \"\"\" Plot error1 (MLM), error2 (BLSTM), and total_error training and testing history per epoch. \"\"\"\n",
    "    sns.set_theme()\n",
    "    sns.set_context('talk')\n",
    "    sns.set(style=\"darkgrid\")\n",
    "    fig, ax = plt.subplots(figsize=(16, 9))\n",
    "    plt.rcParams['font.family'] = 'sans-serif'\n",
    "    fontsize = 20\n",
    "\n",
    "    # Color mapping\n",
    "    palette = sns.color_palette(\"Paired\", 10)\n",
    "    \n",
    "    # Plot\n",
    "    sns.lineplot(data=history_df, x=history_df.index, y='test_mlm_loss', label='Test Error 1', color=palette[0], linewidth=2, ax=ax) \n",
    "    sns.lineplot(data=history_df, x=history_df.index, y='train_mlm_loss', label='Train Error 1', color=palette[1], linewidth=2, ax=ax)\n",
    "    sns.lineplot(data=history_df, x=history_df.index, y='test_blstm_rmse', label='Test Error 2', color=palette[4], linewidth=2, ax=ax)\n",
    "    sns.lineplot(data=history_df, x=history_df.index, y='train_blstm_rmse', label='Train Error 2', color=palette[5], linewidth=2, ax=ax)\n",
    "    sns.lineplot(data=history_df, x=history_df.index, y='test_combined_loss', label='Test Combined Error', color=palette[8], linewidth=2, ax=ax)\n",
    "    sns.lineplot(data=history_df, x=history_df.index, y='train_combined_loss', label='Train Combined Error', color=palette[9], linewidth=2, ax=ax)\n",
    "\n",
    "    #ax.set_xlim(-100, 5000)\n",
    "    ax_yticks = ax.get_yticks()\n",
    "    ax.set_yticks(ax_yticks[::2])  # Keep every other tick\n",
    "    ax.tick_params(axis='both', which='major', labelsize=fontsize)\n",
    "    ax.yaxis.get_offset_text().set_fontsize(fontsize) \n",
    "\n",
    "    ax.legend(fontsize=fontsize)\n",
    "    ax.set_xlabel('Epoch', fontsize=fontsize)\n",
    "    ax.set_ylabel('Loss', fontsize=fontsize)\n",
    "\n",
    "    plt.style.use('ggplot')\n",
    "    plt.tight_layout()\n",
    "    plt.savefig(save_as + '_all_loss.pdf', format='pdf')\n",
    "\n",
    "def calc_train_test_history(metrics_csv: str, n_train: int, n_test: int, save_as: str):\n",
    "    \"\"\" Calculate the average mse per item and rmse \"\"\"\n",
    "\n",
    "    history_df = pd.read_csv(metrics_csv, sep=',', header=0)\n",
    "\n",
    "    history_df['train_blstm_loss_per'] = history_df['train_blstm_loss']/n_train  # average mse per item\n",
    "    history_df['test_blstm_loss_per'] = history_df['test_blstm_loss']/n_test\n",
    "\n",
    "    history_df['train_blstm_rmse'] = np.sqrt(history_df['train_blstm_loss_per'].values)  # rmse\n",
    "    history_df['test_blstm_rmse'] = np.sqrt(history_df['test_blstm_loss_per'].values)\n",
    "\n",
    "    history_df.to_csv(save_as+'_metrics_per.csv', index=False)\n",
    "    plot_mlm_history(history_df, save_as)\n",
    "    plot_rmse_history(history_df, save_as)\n",
    "    plot_combined_history(history_df, save_as)"
   ]
  },
  {
   "cell_type": "code",
   "execution_count": 17,
   "metadata": {},
   "outputs": [],
   "source": [
    "class DMSDataset(Dataset):\n",
    "    \"\"\" Binding or Expression DMS Dataset, not from pickle! \"\"\"\n",
    "    \n",
    "    def __init__(self, csv_file:str):\n",
    "        \"\"\"\n",
    "        Load from csv file into pandas:\n",
    "        - sequence label ('labels'), \n",
    "        - binding or expression numerical target ('log10Ka' or 'ML_meanF'), and \n",
    "        - 'sequence'\n",
    "        \"\"\"\n",
    "        try:\n",
    "            self.full_df = pd.read_csv(csv_file, sep=',', header=0)\n",
    "            self.target = 'log10Ka' if 'binding' in csv_file else 'ML_meanF'\n",
    "        except (FileNotFoundError, pd.errors.ParserError, Exception) as e:\n",
    "            print(f\"Error reading in .csv file: {csv_file}\\n{e}\", file=sys.stderr)\n",
    "            sys.exit(1)\n",
    "\n",
    "    def __len__(self) -> int:\n",
    "        return len(self.full_df)\n",
    "\n",
    "    def __getitem__(self, idx):\n",
    "        # label, seq, target\n",
    "        return self.full_df['labels'][idx], self.full_df['sequence'][idx], self.full_df[self.target][idx]\n",
    "\n",
    "def run_model(model, tokenizer, train_set, test_set, n_epochs: int, batch_size: int, max_batch: Union[int, None], alpha:float, lr:float, device: str, save_as: str):\n",
    "    \"\"\" Run a model through train and test epochs. \"\"\"\n",
    "    \n",
    "    if not max_batch:\n",
    "        max_batch = len(train_set)\n",
    "\n",
    "    model = model.to(device)\n",
    "    regression_loss_fn = nn.MSELoss(reduction='sum').to(device) # blstm\n",
    "    masked_language_loss_fn = nn.CrossEntropyLoss(reduction='sum').to(device) # mlm\n",
    "    optimizer = torch.optim.SGD(model.parameters(), lr)\n",
    "\n",
    "    train_loader = DataLoader(train_set, batch_size, shuffle=True)\n",
    "    test_loader = DataLoader(test_set, batch_size, shuffle=True)\n",
    "\n",
    "    metrics_csv = save_as + \"_metrics.csv\"\n",
    "\n",
    "    with open(metrics_csv, \"w\") as fh:\n",
    "        fh.write(f\"epoch,\"\n",
    "                 f\"train_mlm_accuracy,test_mlm_accuracy,\"\n",
    "                 f\"train_mlm_loss,test_mlm_loss,\"\n",
    "                 f\"train_blstm_loss,test_blstm_loss,\"\n",
    "                 f\"train_combined_loss,test_combined_loss\\n\")\n",
    "\n",
    "        for epoch in range(1, n_epochs + 1):\n",
    "            train_mlm_accuracy, train_mlm_loss, train_blstm_loss, train_combined_loss = epoch_iteration(model, tokenizer, regression_loss_fn, masked_language_loss_fn, optimizer, train_loader, epoch, max_batch, alpha, device, mode='train')\n",
    "            test_mlm_accuracy, test_mlm_loss, test_blstm_loss, test_combined_loss = epoch_iteration(model, tokenizer, regression_loss_fn, masked_language_loss_fn, optimizer, test_loader, epoch, max_batch, alpha, device, mode='test')\n",
    "\n",
    "            print(f'Epoch {epoch} | Train MLM Acc: {train_mlm_accuracy:.4f}, Test MLM Acc: {test_mlm_accuracy:.4f}\\n'\n",
    "                  f'{\" \"*(len(str(epoch))+7)}| Train MLM Loss: {train_mlm_loss:.4f}, Test MLM Loss: {test_mlm_loss:.4f}\\n'\n",
    "                  f'{\" \"*(len(str(epoch))+7)}| Train BLSTM Loss: {train_blstm_loss:.4f}, Test BLSTM Loss: {test_blstm_loss:.4f}\\n'\n",
    "                  f'{\" \"*(len(str(epoch))+7)}| Train Combined Loss: {train_combined_loss:.4f}, Test Combined Loss: {test_combined_loss:.4f}\\n')\n",
    "            \n",
    "            fh.write(f\"{epoch},\"\n",
    "                     f\"{train_mlm_accuracy},{test_mlm_accuracy},\"\n",
    "                     f\"{train_mlm_loss},{test_mlm_loss},\"\n",
    "                     f\"{train_blstm_loss},{test_blstm_loss},\"\n",
    "                     f\"{train_combined_loss},{test_combined_loss}\\n\")\n",
    "            fh.flush()\n",
    "            \n",
    "            save_model(model, optimizer, epoch, save_as + '.model_save')    \n",
    "\n",
    "    return metrics_csv\n",
    "\n",
    "def epoch_iteration(model, tokenizer, regression_loss_fn, masked_language_loss_fn, optimizer, data_loader, num_epochs: int, max_batch: int, alpha:float, device: str, mode: str):\n",
    "    \"\"\" Used in run_model. \"\"\"\n",
    "    \n",
    "    model.train() if mode=='train' else model.eval()\n",
    "\n",
    "    data_iter = tqdm.tqdm(enumerate(data_loader),\n",
    "                          desc=f'Epoch_{mode}: {num_epochs}',\n",
    "                          total=len(data_loader),\n",
    "                          bar_format='{l_bar}{r_bar}')\n",
    "\n",
    "    total_mlm_loss = 0\n",
    "    total_blstm_loss = 0\n",
    "    total_combined_loss = 0\n",
    "    total_masked = 0\n",
    "    correct_predictions = 0\n",
    "\n",
    "    for batch, batch_data in data_iter:\n",
    "        if max_batch > 0 and batch >= max_batch:\n",
    "            break\n",
    "\n",
    "        labels, seqs, targets = batch_data\n",
    "        masked_tokenized_seqs = tokenizer(seqs).to(device)\n",
    "        unmasked_tokenized_seqs = tokenizer._batch_pad(seqs).to(device)\n",
    "        target = targets.to(device).float()\n",
    "\n",
    "        if mode == 'train':\n",
    "            optimizer.zero_grad()\n",
    "            mlm_pred, blstm_pred = model(masked_tokenized_seqs)\n",
    "            batch_mlm_loss = masked_language_loss_fn(mlm_pred.transpose(1, 2), unmasked_tokenized_seqs)\n",
    "            batch_blstm_loss = regression_loss_fn(blstm_pred.flatten(), target)\n",
    "            combined_loss = batch_mlm_loss + (batch_blstm_loss * alpha)\n",
    "            combined_loss.backward()\n",
    "            optimizer.step()\n",
    "        else:\n",
    "            with torch.no_grad():\n",
    "                mlm_pred, blstm_pred = model(masked_tokenized_seqs)\n",
    "                batch_mlm_loss = masked_language_loss_fn(mlm_pred.transpose(1, 2), unmasked_tokenized_seqs)\n",
    "                batch_blstm_loss = regression_loss_fn(blstm_pred.flatten(), target)\n",
    "                combined_loss = batch_mlm_loss + (batch_blstm_loss * alpha)\n",
    "\n",
    "        # Loss\n",
    "        total_mlm_loss += batch_mlm_loss.item()\n",
    "        total_blstm_loss += batch_blstm_loss.item()\n",
    "        total_combined_loss += combined_loss.item()\n",
    "\n",
    "        # Accuracy\n",
    "        predicted_tokens = torch.max(mlm_pred, dim=-1)[1]\n",
    "        masked_locations = torch.nonzero(torch.eq(masked_tokenized_seqs, token_to_index['<MASK>']), as_tuple=True)\n",
    "        correct_predictions += torch.eq(predicted_tokens[masked_locations], unmasked_tokenized_seqs[masked_locations]).sum().item()\n",
    "        total_masked += masked_locations[0].numel()\n",
    "\n",
    "    mlm_accuracy = correct_predictions / total_masked\n",
    "    return mlm_accuracy, total_mlm_loss, total_blstm_loss, total_combined_loss"
   ]
  },
  {
   "cell_type": "markdown",
   "metadata": {},
   "source": [
    "### Initialized with Best Saved Spike NLP BERT Model\n",
    "Note that we utilize `DMSDataset` instead of `EmbeddedDMSDataset`. This is because this model updates the embeddings as the model runs, instead of being pre-embedded. For this initialized run, we load in the `model_pth` of our best saved model (320). We then access the `state_dict`, and separate out the BERT and MLM portions to load in later. Let's try it out!"
   ]
  },
  {
   "cell_type": "code",
   "execution_count": 18,
   "metadata": {},
   "outputs": [
    {
     "name": "stdout",
     "output_type": "stream",
     "text": [
      "+-----------------------------------------------------------+------------+\n",
      "|                          Modules                          | Parameters |\n",
      "+-----------------------------------------------------------+------------+\n",
      "|           bert.embedding.token_embedding.weight           |    8960    |\n",
      "|    bert.transformer_blocks.0.attention.linears.0.weight   |   102400   |\n",
      "|     bert.transformer_blocks.0.attention.linears.0.bias    |    320     |\n",
      "|    bert.transformer_blocks.0.attention.linears.1.weight   |   102400   |\n",
      "|     bert.transformer_blocks.0.attention.linears.1.bias    |    320     |\n",
      "|    bert.transformer_blocks.0.attention.linears.2.weight   |   102400   |\n",
      "|     bert.transformer_blocks.0.attention.linears.2.bias    |    320     |\n",
      "|    bert.transformer_blocks.0.attention.linears.3.weight   |   102400   |\n",
      "|     bert.transformer_blocks.0.attention.linears.3.bias    |    320     |\n",
      "|  bert.transformer_blocks.0.attention.output_linear.weight |   102400   |\n",
      "|   bert.transformer_blocks.0.attention.output_linear.bias  |    320     |\n",
      "|     bert.transformer_blocks.0.feed_forward.w_1.weight     |   409600   |\n",
      "|      bert.transformer_blocks.0.feed_forward.w_1.bias      |    1280    |\n",
      "|     bert.transformer_blocks.0.feed_forward.w_2.weight     |   409600   |\n",
      "|      bert.transformer_blocks.0.feed_forward.w_2.bias      |    320     |\n",
      "|     bert.transformer_blocks.0.input_sublayer.norm.a_2     |    320     |\n",
      "|     bert.transformer_blocks.0.input_sublayer.norm.b_2     |    320     |\n",
      "|     bert.transformer_blocks.0.output_sublayer.norm.a_2    |    320     |\n",
      "|     bert.transformer_blocks.0.output_sublayer.norm.b_2    |    320     |\n",
      "|    bert.transformer_blocks.1.attention.linears.0.weight   |   102400   |\n",
      "|     bert.transformer_blocks.1.attention.linears.0.bias    |    320     |\n",
      "|    bert.transformer_blocks.1.attention.linears.1.weight   |   102400   |\n",
      "|     bert.transformer_blocks.1.attention.linears.1.bias    |    320     |\n",
      "|    bert.transformer_blocks.1.attention.linears.2.weight   |   102400   |\n",
      "|     bert.transformer_blocks.1.attention.linears.2.bias    |    320     |\n",
      "|    bert.transformer_blocks.1.attention.linears.3.weight   |   102400   |\n",
      "|     bert.transformer_blocks.1.attention.linears.3.bias    |    320     |\n",
      "|  bert.transformer_blocks.1.attention.output_linear.weight |   102400   |\n",
      "|   bert.transformer_blocks.1.attention.output_linear.bias  |    320     |\n",
      "|     bert.transformer_blocks.1.feed_forward.w_1.weight     |   409600   |\n",
      "|      bert.transformer_blocks.1.feed_forward.w_1.bias      |    1280    |\n",
      "|     bert.transformer_blocks.1.feed_forward.w_2.weight     |   409600   |\n",
      "|      bert.transformer_blocks.1.feed_forward.w_2.bias      |    320     |\n",
      "|     bert.transformer_blocks.1.input_sublayer.norm.a_2     |    320     |\n",
      "|     bert.transformer_blocks.1.input_sublayer.norm.b_2     |    320     |\n",
      "|     bert.transformer_blocks.1.output_sublayer.norm.a_2    |    320     |\n",
      "|     bert.transformer_blocks.1.output_sublayer.norm.b_2    |    320     |\n",
      "|    bert.transformer_blocks.2.attention.linears.0.weight   |   102400   |\n",
      "|     bert.transformer_blocks.2.attention.linears.0.bias    |    320     |\n",
      "|    bert.transformer_blocks.2.attention.linears.1.weight   |   102400   |\n",
      "|     bert.transformer_blocks.2.attention.linears.1.bias    |    320     |\n",
      "|    bert.transformer_blocks.2.attention.linears.2.weight   |   102400   |\n",
      "|     bert.transformer_blocks.2.attention.linears.2.bias    |    320     |\n",
      "|    bert.transformer_blocks.2.attention.linears.3.weight   |   102400   |\n",
      "|     bert.transformer_blocks.2.attention.linears.3.bias    |    320     |\n",
      "|  bert.transformer_blocks.2.attention.output_linear.weight |   102400   |\n",
      "|   bert.transformer_blocks.2.attention.output_linear.bias  |    320     |\n",
      "|     bert.transformer_blocks.2.feed_forward.w_1.weight     |   409600   |\n",
      "|      bert.transformer_blocks.2.feed_forward.w_1.bias      |    1280    |\n",
      "|     bert.transformer_blocks.2.feed_forward.w_2.weight     |   409600   |\n",
      "|      bert.transformer_blocks.2.feed_forward.w_2.bias      |    320     |\n",
      "|     bert.transformer_blocks.2.input_sublayer.norm.a_2     |    320     |\n",
      "|     bert.transformer_blocks.2.input_sublayer.norm.b_2     |    320     |\n",
      "|     bert.transformer_blocks.2.output_sublayer.norm.a_2    |    320     |\n",
      "|     bert.transformer_blocks.2.output_sublayer.norm.b_2    |    320     |\n",
      "|    bert.transformer_blocks.3.attention.linears.0.weight   |   102400   |\n",
      "|     bert.transformer_blocks.3.attention.linears.0.bias    |    320     |\n",
      "|    bert.transformer_blocks.3.attention.linears.1.weight   |   102400   |\n",
      "|     bert.transformer_blocks.3.attention.linears.1.bias    |    320     |\n",
      "|    bert.transformer_blocks.3.attention.linears.2.weight   |   102400   |\n",
      "|     bert.transformer_blocks.3.attention.linears.2.bias    |    320     |\n",
      "|    bert.transformer_blocks.3.attention.linears.3.weight   |   102400   |\n",
      "|     bert.transformer_blocks.3.attention.linears.3.bias    |    320     |\n",
      "|  bert.transformer_blocks.3.attention.output_linear.weight |   102400   |\n",
      "|   bert.transformer_blocks.3.attention.output_linear.bias  |    320     |\n",
      "|     bert.transformer_blocks.3.feed_forward.w_1.weight     |   409600   |\n",
      "|      bert.transformer_blocks.3.feed_forward.w_1.bias      |    1280    |\n",
      "|     bert.transformer_blocks.3.feed_forward.w_2.weight     |   409600   |\n",
      "|      bert.transformer_blocks.3.feed_forward.w_2.bias      |    320     |\n",
      "|     bert.transformer_blocks.3.input_sublayer.norm.a_2     |    320     |\n",
      "|     bert.transformer_blocks.3.input_sublayer.norm.b_2     |    320     |\n",
      "|     bert.transformer_blocks.3.output_sublayer.norm.a_2    |    320     |\n",
      "|     bert.transformer_blocks.3.output_sublayer.norm.b_2    |    320     |\n",
      "|    bert.transformer_blocks.4.attention.linears.0.weight   |   102400   |\n",
      "|     bert.transformer_blocks.4.attention.linears.0.bias    |    320     |\n",
      "|    bert.transformer_blocks.4.attention.linears.1.weight   |   102400   |\n",
      "|     bert.transformer_blocks.4.attention.linears.1.bias    |    320     |\n",
      "|    bert.transformer_blocks.4.attention.linears.2.weight   |   102400   |\n",
      "|     bert.transformer_blocks.4.attention.linears.2.bias    |    320     |\n",
      "|    bert.transformer_blocks.4.attention.linears.3.weight   |   102400   |\n",
      "|     bert.transformer_blocks.4.attention.linears.3.bias    |    320     |\n",
      "|  bert.transformer_blocks.4.attention.output_linear.weight |   102400   |\n",
      "|   bert.transformer_blocks.4.attention.output_linear.bias  |    320     |\n",
      "|     bert.transformer_blocks.4.feed_forward.w_1.weight     |   409600   |\n",
      "|      bert.transformer_blocks.4.feed_forward.w_1.bias      |    1280    |\n",
      "|     bert.transformer_blocks.4.feed_forward.w_2.weight     |   409600   |\n",
      "|      bert.transformer_blocks.4.feed_forward.w_2.bias      |    320     |\n",
      "|     bert.transformer_blocks.4.input_sublayer.norm.a_2     |    320     |\n",
      "|     bert.transformer_blocks.4.input_sublayer.norm.b_2     |    320     |\n",
      "|     bert.transformer_blocks.4.output_sublayer.norm.a_2    |    320     |\n",
      "|     bert.transformer_blocks.4.output_sublayer.norm.b_2    |    320     |\n",
      "|    bert.transformer_blocks.5.attention.linears.0.weight   |   102400   |\n",
      "|     bert.transformer_blocks.5.attention.linears.0.bias    |    320     |\n",
      "|    bert.transformer_blocks.5.attention.linears.1.weight   |   102400   |\n",
      "|     bert.transformer_blocks.5.attention.linears.1.bias    |    320     |\n",
      "|    bert.transformer_blocks.5.attention.linears.2.weight   |   102400   |\n",
      "|     bert.transformer_blocks.5.attention.linears.2.bias    |    320     |\n",
      "|    bert.transformer_blocks.5.attention.linears.3.weight   |   102400   |\n",
      "|     bert.transformer_blocks.5.attention.linears.3.bias    |    320     |\n",
      "|  bert.transformer_blocks.5.attention.output_linear.weight |   102400   |\n",
      "|   bert.transformer_blocks.5.attention.output_linear.bias  |    320     |\n",
      "|     bert.transformer_blocks.5.feed_forward.w_1.weight     |   409600   |\n",
      "|      bert.transformer_blocks.5.feed_forward.w_1.bias      |    1280    |\n",
      "|     bert.transformer_blocks.5.feed_forward.w_2.weight     |   409600   |\n",
      "|      bert.transformer_blocks.5.feed_forward.w_2.bias      |    320     |\n",
      "|     bert.transformer_blocks.5.input_sublayer.norm.a_2     |    320     |\n",
      "|     bert.transformer_blocks.5.input_sublayer.norm.b_2     |    320     |\n",
      "|     bert.transformer_blocks.5.output_sublayer.norm.a_2    |    320     |\n",
      "|     bert.transformer_blocks.5.output_sublayer.norm.b_2    |    320     |\n",
      "|    bert.transformer_blocks.6.attention.linears.0.weight   |   102400   |\n",
      "|     bert.transformer_blocks.6.attention.linears.0.bias    |    320     |\n",
      "|    bert.transformer_blocks.6.attention.linears.1.weight   |   102400   |\n",
      "|     bert.transformer_blocks.6.attention.linears.1.bias    |    320     |\n",
      "|    bert.transformer_blocks.6.attention.linears.2.weight   |   102400   |\n",
      "|     bert.transformer_blocks.6.attention.linears.2.bias    |    320     |\n",
      "|    bert.transformer_blocks.6.attention.linears.3.weight   |   102400   |\n",
      "|     bert.transformer_blocks.6.attention.linears.3.bias    |    320     |\n",
      "|  bert.transformer_blocks.6.attention.output_linear.weight |   102400   |\n",
      "|   bert.transformer_blocks.6.attention.output_linear.bias  |    320     |\n",
      "|     bert.transformer_blocks.6.feed_forward.w_1.weight     |   409600   |\n",
      "|      bert.transformer_blocks.6.feed_forward.w_1.bias      |    1280    |\n",
      "|     bert.transformer_blocks.6.feed_forward.w_2.weight     |   409600   |\n",
      "|      bert.transformer_blocks.6.feed_forward.w_2.bias      |    320     |\n",
      "|     bert.transformer_blocks.6.input_sublayer.norm.a_2     |    320     |\n",
      "|     bert.transformer_blocks.6.input_sublayer.norm.b_2     |    320     |\n",
      "|     bert.transformer_blocks.6.output_sublayer.norm.a_2    |    320     |\n",
      "|     bert.transformer_blocks.6.output_sublayer.norm.b_2    |    320     |\n",
      "|    bert.transformer_blocks.7.attention.linears.0.weight   |   102400   |\n",
      "|     bert.transformer_blocks.7.attention.linears.0.bias    |    320     |\n",
      "|    bert.transformer_blocks.7.attention.linears.1.weight   |   102400   |\n",
      "|     bert.transformer_blocks.7.attention.linears.1.bias    |    320     |\n",
      "|    bert.transformer_blocks.7.attention.linears.2.weight   |   102400   |\n",
      "|     bert.transformer_blocks.7.attention.linears.2.bias    |    320     |\n",
      "|    bert.transformer_blocks.7.attention.linears.3.weight   |   102400   |\n",
      "|     bert.transformer_blocks.7.attention.linears.3.bias    |    320     |\n",
      "|  bert.transformer_blocks.7.attention.output_linear.weight |   102400   |\n",
      "|   bert.transformer_blocks.7.attention.output_linear.bias  |    320     |\n",
      "|     bert.transformer_blocks.7.feed_forward.w_1.weight     |   409600   |\n",
      "|      bert.transformer_blocks.7.feed_forward.w_1.bias      |    1280    |\n",
      "|     bert.transformer_blocks.7.feed_forward.w_2.weight     |   409600   |\n",
      "|      bert.transformer_blocks.7.feed_forward.w_2.bias      |    320     |\n",
      "|     bert.transformer_blocks.7.input_sublayer.norm.a_2     |    320     |\n",
      "|     bert.transformer_blocks.7.input_sublayer.norm.b_2     |    320     |\n",
      "|     bert.transformer_blocks.7.output_sublayer.norm.a_2    |    320     |\n",
      "|     bert.transformer_blocks.7.output_sublayer.norm.b_2    |    320     |\n",
      "|    bert.transformer_blocks.8.attention.linears.0.weight   |   102400   |\n",
      "|     bert.transformer_blocks.8.attention.linears.0.bias    |    320     |\n",
      "|    bert.transformer_blocks.8.attention.linears.1.weight   |   102400   |\n",
      "|     bert.transformer_blocks.8.attention.linears.1.bias    |    320     |\n",
      "|    bert.transformer_blocks.8.attention.linears.2.weight   |   102400   |\n",
      "|     bert.transformer_blocks.8.attention.linears.2.bias    |    320     |\n",
      "|    bert.transformer_blocks.8.attention.linears.3.weight   |   102400   |\n",
      "|     bert.transformer_blocks.8.attention.linears.3.bias    |    320     |\n",
      "|  bert.transformer_blocks.8.attention.output_linear.weight |   102400   |\n",
      "|   bert.transformer_blocks.8.attention.output_linear.bias  |    320     |\n",
      "|     bert.transformer_blocks.8.feed_forward.w_1.weight     |   409600   |\n",
      "|      bert.transformer_blocks.8.feed_forward.w_1.bias      |    1280    |\n",
      "|     bert.transformer_blocks.8.feed_forward.w_2.weight     |   409600   |\n",
      "|      bert.transformer_blocks.8.feed_forward.w_2.bias      |    320     |\n",
      "|     bert.transformer_blocks.8.input_sublayer.norm.a_2     |    320     |\n",
      "|     bert.transformer_blocks.8.input_sublayer.norm.b_2     |    320     |\n",
      "|     bert.transformer_blocks.8.output_sublayer.norm.a_2    |    320     |\n",
      "|     bert.transformer_blocks.8.output_sublayer.norm.b_2    |    320     |\n",
      "|    bert.transformer_blocks.9.attention.linears.0.weight   |   102400   |\n",
      "|     bert.transformer_blocks.9.attention.linears.0.bias    |    320     |\n",
      "|    bert.transformer_blocks.9.attention.linears.1.weight   |   102400   |\n",
      "|     bert.transformer_blocks.9.attention.linears.1.bias    |    320     |\n",
      "|    bert.transformer_blocks.9.attention.linears.2.weight   |   102400   |\n",
      "|     bert.transformer_blocks.9.attention.linears.2.bias    |    320     |\n",
      "|    bert.transformer_blocks.9.attention.linears.3.weight   |   102400   |\n",
      "|     bert.transformer_blocks.9.attention.linears.3.bias    |    320     |\n",
      "|  bert.transformer_blocks.9.attention.output_linear.weight |   102400   |\n",
      "|   bert.transformer_blocks.9.attention.output_linear.bias  |    320     |\n",
      "|     bert.transformer_blocks.9.feed_forward.w_1.weight     |   409600   |\n",
      "|      bert.transformer_blocks.9.feed_forward.w_1.bias      |    1280    |\n",
      "|     bert.transformer_blocks.9.feed_forward.w_2.weight     |   409600   |\n",
      "|      bert.transformer_blocks.9.feed_forward.w_2.bias      |    320     |\n",
      "|     bert.transformer_blocks.9.input_sublayer.norm.a_2     |    320     |\n",
      "|     bert.transformer_blocks.9.input_sublayer.norm.b_2     |    320     |\n",
      "|     bert.transformer_blocks.9.output_sublayer.norm.a_2    |    320     |\n",
      "|     bert.transformer_blocks.9.output_sublayer.norm.b_2    |    320     |\n",
      "|   bert.transformer_blocks.10.attention.linears.0.weight   |   102400   |\n",
      "|    bert.transformer_blocks.10.attention.linears.0.bias    |    320     |\n",
      "|   bert.transformer_blocks.10.attention.linears.1.weight   |   102400   |\n",
      "|    bert.transformer_blocks.10.attention.linears.1.bias    |    320     |\n",
      "|   bert.transformer_blocks.10.attention.linears.2.weight   |   102400   |\n",
      "|    bert.transformer_blocks.10.attention.linears.2.bias    |    320     |\n",
      "|   bert.transformer_blocks.10.attention.linears.3.weight   |   102400   |\n",
      "|    bert.transformer_blocks.10.attention.linears.3.bias    |    320     |\n",
      "| bert.transformer_blocks.10.attention.output_linear.weight |   102400   |\n",
      "|  bert.transformer_blocks.10.attention.output_linear.bias  |    320     |\n",
      "|     bert.transformer_blocks.10.feed_forward.w_1.weight    |   409600   |\n",
      "|      bert.transformer_blocks.10.feed_forward.w_1.bias     |    1280    |\n",
      "|     bert.transformer_blocks.10.feed_forward.w_2.weight    |   409600   |\n",
      "|      bert.transformer_blocks.10.feed_forward.w_2.bias     |    320     |\n",
      "|     bert.transformer_blocks.10.input_sublayer.norm.a_2    |    320     |\n",
      "|     bert.transformer_blocks.10.input_sublayer.norm.b_2    |    320     |\n",
      "|    bert.transformer_blocks.10.output_sublayer.norm.a_2    |    320     |\n",
      "|    bert.transformer_blocks.10.output_sublayer.norm.b_2    |    320     |\n",
      "|   bert.transformer_blocks.11.attention.linears.0.weight   |   102400   |\n",
      "|    bert.transformer_blocks.11.attention.linears.0.bias    |    320     |\n",
      "|   bert.transformer_blocks.11.attention.linears.1.weight   |   102400   |\n",
      "|    bert.transformer_blocks.11.attention.linears.1.bias    |    320     |\n",
      "|   bert.transformer_blocks.11.attention.linears.2.weight   |   102400   |\n",
      "|    bert.transformer_blocks.11.attention.linears.2.bias    |    320     |\n",
      "|   bert.transformer_blocks.11.attention.linears.3.weight   |   102400   |\n",
      "|    bert.transformer_blocks.11.attention.linears.3.bias    |    320     |\n",
      "| bert.transformer_blocks.11.attention.output_linear.weight |   102400   |\n",
      "|  bert.transformer_blocks.11.attention.output_linear.bias  |    320     |\n",
      "|     bert.transformer_blocks.11.feed_forward.w_1.weight    |   409600   |\n",
      "|      bert.transformer_blocks.11.feed_forward.w_1.bias     |    1280    |\n",
      "|     bert.transformer_blocks.11.feed_forward.w_2.weight    |   409600   |\n",
      "|      bert.transformer_blocks.11.feed_forward.w_2.bias     |    320     |\n",
      "|     bert.transformer_blocks.11.input_sublayer.norm.a_2    |    320     |\n",
      "|     bert.transformer_blocks.11.input_sublayer.norm.b_2    |    320     |\n",
      "|    bert.transformer_blocks.11.output_sublayer.norm.a_2    |    320     |\n",
      "|    bert.transformer_blocks.11.output_sublayer.norm.b_2    |    320     |\n",
      "|                     mlm.linear.weight                     |    8960    |\n",
      "|                      mlm.linear.bias                      |     28     |\n",
      "|                  blstm.lstm.weight_ih_l0                  |   409600   |\n",
      "|                  blstm.lstm.weight_hh_l0                  |   409600   |\n",
      "|                   blstm.lstm.bias_ih_l0                   |    1280    |\n",
      "|                   blstm.lstm.bias_hh_l0                   |    1280    |\n",
      "|              blstm.lstm.weight_ih_l0_reverse              |   409600   |\n",
      "|              blstm.lstm.weight_hh_l0_reverse              |   409600   |\n",
      "|               blstm.lstm.bias_ih_l0_reverse               |    1280    |\n",
      "|               blstm.lstm.bias_hh_l0_reverse               |    1280    |\n",
      "|                     blstm.fcn.0.weight                    |   204800   |\n",
      "|                      blstm.fcn.0.bias                     |    320     |\n",
      "|                      blstm.out.weight                     |    320     |\n",
      "|                       blstm.out.bias                      |     1      |\n",
      "+-----------------------------------------------------------+------------+\n",
      "Total Trainable Params: 17895069\n",
      "\n"
     ]
    },
    {
     "name": "stderr",
     "output_type": "stream",
     "text": [
      "Epoch_train: 1:   8%|| 200/2639 [00:09<01:50, 22.14it/s]\n",
      "Epoch_test: 1:  30%|| 200/660 [00:06<00:15, 29.96it/s]\n"
     ]
    },
    {
     "name": "stdout",
     "output_type": "stream",
     "text": [
      "Epoch 1 | Train MLM Acc: 0.1583, Test MLM Acc: 0.4724\n",
      "        | Train MLM Loss: 953451.3660, Test MLM Loss: 321335.4608\n",
      "        | Train BLSTM Loss: 143780.5794, Test BLSTM Loss: 24785.3280\n",
      "        | Train Combined Loss: 1097231.9478, Test Combined Loss: 346120.7896\n",
      "\n"
     ]
    },
    {
     "name": "stderr",
     "output_type": "stream",
     "text": [
      "Epoch_train: 2:   8%|| 200/2639 [00:09<01:50, 22.16it/s]\n",
      "Epoch_test: 2:  30%|| 200/660 [00:06<00:15, 29.93it/s]\n"
     ]
    },
    {
     "name": "stdout",
     "output_type": "stream",
     "text": [
      "Epoch 2 | Train MLM Acc: 0.4156, Test MLM Acc: 0.7997\n",
      "        | Train MLM Loss: 398517.0729, Test MLM Loss: 193106.0308\n",
      "        | Train BLSTM Loss: 23838.7679, Test BLSTM Loss: 25074.8188\n",
      "        | Train Combined Loss: 422355.8416, Test Combined Loss: 218180.8492\n",
      "\n"
     ]
    },
    {
     "name": "stderr",
     "output_type": "stream",
     "text": [
      "Epoch_train: 3:   8%|| 200/2639 [00:09<01:50, 22.12it/s]\n",
      "Epoch_test: 3:  30%|| 200/660 [00:06<00:15, 29.81it/s]\n"
     ]
    },
    {
     "name": "stdout",
     "output_type": "stream",
     "text": [
      "Epoch 3 | Train MLM Acc: 0.5707, Test MLM Acc: 0.9121\n",
      "        | Train MLM Loss: 297566.1627, Test MLM Loss: 140860.6191\n",
      "        | Train BLSTM Loss: 23714.0596, Test BLSTM Loss: 23684.7461\n",
      "        | Train Combined Loss: 321280.2225, Test Combined Loss: 164545.3647\n",
      "\n"
     ]
    },
    {
     "name": "stderr",
     "output_type": "stream",
     "text": [
      "Epoch_train: 4:   8%|| 200/2639 [00:09<01:51, 21.85it/s]\n",
      "Epoch_test: 4:  30%|| 200/660 [00:06<00:15, 29.75it/s]\n"
     ]
    },
    {
     "name": "stdout",
     "output_type": "stream",
     "text": [
      "Epoch 4 | Train MLM Acc: 0.6534, Test MLM Acc: 0.9439\n",
      "        | Train MLM Loss: 248262.4012, Test MLM Loss: 113213.2491\n",
      "        | Train BLSTM Loss: 23866.0492, Test BLSTM Loss: 24479.1740\n",
      "        | Train Combined Loss: 272128.4508, Test Combined Loss: 137692.4232\n",
      "\n"
     ]
    },
    {
     "name": "stderr",
     "output_type": "stream",
     "text": [
      "Epoch_train: 5:   8%|| 200/2639 [00:09<01:51, 21.83it/s]\n",
      "Epoch_test: 5:  30%|| 200/660 [00:06<00:15, 29.56it/s]\n"
     ]
    },
    {
     "name": "stdout",
     "output_type": "stream",
     "text": [
      "Epoch 5 | Train MLM Acc: 0.7063, Test MLM Acc: 0.9547\n",
      "        | Train MLM Loss: 217280.3745, Test MLM Loss: 97226.2792\n",
      "        | Train BLSTM Loss: 23613.8358, Test BLSTM Loss: 25060.6739\n",
      "        | Train Combined Loss: 240894.2102, Test Combined Loss: 122286.9529\n",
      "\n"
     ]
    },
    {
     "name": "stderr",
     "output_type": "stream",
     "text": [
      "Epoch_train: 6:   8%|| 200/2639 [00:09<01:50, 22.14it/s]\n",
      "Epoch_test: 6:  30%|| 200/660 [00:06<00:15, 29.47it/s]\n"
     ]
    },
    {
     "name": "stdout",
     "output_type": "stream",
     "text": [
      "Epoch 6 | Train MLM Acc: 0.7446, Test MLM Acc: 0.9802\n",
      "        | Train MLM Loss: 196042.3592, Test MLM Loss: 86673.4081\n",
      "        | Train BLSTM Loss: 23562.5311, Test BLSTM Loss: 23960.3146\n",
      "        | Train Combined Loss: 219604.8898, Test Combined Loss: 110633.7227\n",
      "\n"
     ]
    },
    {
     "name": "stderr",
     "output_type": "stream",
     "text": [
      "Epoch_train: 7:   8%|| 200/2639 [00:09<01:51, 21.90it/s]\n",
      "Epoch_test: 7:  30%|| 200/660 [00:06<00:15, 29.37it/s]\n"
     ]
    },
    {
     "name": "stdout",
     "output_type": "stream",
     "text": [
      "Epoch 7 | Train MLM Acc: 0.7716, Test MLM Acc: 0.9755\n",
      "        | Train MLM Loss: 181534.1868, Test MLM Loss: 79254.8401\n",
      "        | Train BLSTM Loss: 23638.1195, Test BLSTM Loss: 23770.0409\n",
      "        | Train Combined Loss: 205172.3062, Test Combined Loss: 103024.8812\n",
      "\n"
     ]
    },
    {
     "name": "stderr",
     "output_type": "stream",
     "text": [
      "Epoch_train: 8:   8%|| 200/2639 [00:09<01:51, 21.93it/s]\n",
      "Epoch_test: 8:  30%|| 200/660 [00:06<00:15, 30.35it/s]\n"
     ]
    },
    {
     "name": "stdout",
     "output_type": "stream",
     "text": [
      "Epoch 8 | Train MLM Acc: 0.7924, Test MLM Acc: 0.9843\n",
      "        | Train MLM Loss: 170878.8323, Test MLM Loss: 74619.0070\n",
      "        | Train BLSTM Loss: 23260.1478, Test BLSTM Loss: 23980.8724\n",
      "        | Train Combined Loss: 194138.9810, Test Combined Loss: 98599.8794\n",
      "\n"
     ]
    },
    {
     "name": "stderr",
     "output_type": "stream",
     "text": [
      "Epoch_train: 9:   8%|| 200/2639 [00:09<01:49, 22.21it/s]\n",
      "Epoch_test: 9:  30%|| 200/660 [00:06<00:15, 29.61it/s]\n"
     ]
    },
    {
     "name": "stdout",
     "output_type": "stream",
     "text": [
      "Epoch 9 | Train MLM Acc: 0.8045, Test MLM Acc: 0.9841\n",
      "        | Train MLM Loss: 161996.6497, Test MLM Loss: 70216.5813\n",
      "        | Train BLSTM Loss: 23669.4923, Test BLSTM Loss: 24153.0391\n",
      "        | Train Combined Loss: 185666.1428, Test Combined Loss: 94369.6204\n",
      "\n"
     ]
    },
    {
     "name": "stderr",
     "output_type": "stream",
     "text": [
      "Epoch_train: 10:   8%|| 200/2639 [00:09<01:50, 22.05it/s]\n",
      "Epoch_test: 10:  30%|| 200/660 [00:06<00:15, 29.85it/s]\n"
     ]
    },
    {
     "name": "stdout",
     "output_type": "stream",
     "text": [
      "Epoch 10 | Train MLM Acc: 0.8183, Test MLM Acc: 0.9842\n",
      "         | Train MLM Loss: 154267.5236, Test MLM Loss: 67838.2606\n",
      "         | Train BLSTM Loss: 23415.6866, Test BLSTM Loss: 23831.0887\n",
      "         | Train Combined Loss: 177683.2100, Test Combined Loss: 91669.3493\n",
      "\n"
     ]
    },
    {
     "data": {
      "image/png": "[encoded data removed]",
      "text/plain": [
       "<Figure size 1600x1800 with 2 Axes>"
      ]
     },
     "metadata": {},
     "output_type": "display_data"
    },
    {
     "data": {
      "image/png": "[encoded data removed]",
      "text/plain": [
       "<Figure size 1600x900 with 1 Axes>"
      ]
     },
     "metadata": {},
     "output_type": "display_data"
    },
    {
     "data": {
      "image/png": "[encoded data removed]",
      "text/plain": [
       "<Figure size 1600x900 with 1 Axes>"
      ]
     },
     "metadata": {},
     "output_type": "display_data"
    }
   ],
   "source": [
    "# Data/results directories\n",
    "result_tag = 'bert_blstm-dms_binding' # specify expression or binding\n",
    "data_dir = '../data'\n",
    "results_dir = '../results/run_results/bert_blstm'\n",
    "\n",
    "# Create run directory for results\n",
    "now = datetime.datetime.now()\n",
    "date_hour_minute = now.strftime(\"%Y-%m-%d_%H-%M\")\n",
    "run_dir = os.path.join(results_dir, f\"{result_tag}-{date_hour_minute}\")\n",
    "os.makedirs(run_dir, exist_ok = True)\n",
    "\n",
    "# Load in data\n",
    "# dms_train_csv = os.path.join(data_dir, 'dms_mutation_expression_meanFs_train.csv') # bert_blstm-dms_expression\n",
    "# dms_test_csv = os.path.join(data_dir, 'dms_mutation_expression_meanFs_test.csv') \n",
    "dms_train_csv = os.path.join(data_dir, 'dms_mutation_binding_Kds_train.csv') # bert_blstm-dms_binding\n",
    "dms_test_csv = os.path.join(data_dir, 'dms_mutation_binding_Kds_test.csv') \n",
    "train_dataset = DMSDataset(dms_train_csv)\n",
    "test_dataset = DMSDataset(dms_test_csv)\n",
    "\n",
    "# Load pretrained spike model weights for BERT\n",
    "model_pth = os.path.join(results_dir, '../ddp_runner/ddp-2023-10-06_20-16/ddp-2023-10-06_20-16_best_model_weights.pth') # 320 dim\n",
    "saved_state = torch.load(model_pth, map_location='cuda')\n",
    "state_dict = saved_state['model_state_dict']\n",
    "\n",
    "# For loading from ddp models, they have 'module.bert.' or 'module.mlm.' in keys of state_dict\n",
    "# Also need separated out for each corresponding model part\n",
    "bert_state_dict = {key[len('module.bert.'):]: value for key, value in state_dict.items() if key.startswith('module.bert.')}\n",
    "mlm_state_dict = {key[len('module.mlm.'):]: value for key, value in state_dict.items() if key.startswith('module.mlm.')}\n",
    "\n",
    "# BERT input\n",
    "max_len = 280\n",
    "mask_prob = 0.15\n",
    "embedding_dim = 320 \n",
    "dropout = 0.1\n",
    "n_transformer_layers = 12\n",
    "n_attn_heads = 10\n",
    "tokenizer = ProteinTokenizer(max_len, mask_prob)\n",
    "bert = BERT(embedding_dim, dropout, max_len, mask_prob, n_transformer_layers, n_attn_heads)\n",
    "bert.load_state_dict(bert_state_dict)\n",
    "\n",
    "# BLSTM input\n",
    "lstm_input_size = 320\n",
    "lstm_hidden_size = 320\n",
    "lstm_num_layers = 1        \n",
    "lstm_bidrectional = True   \n",
    "fcn_hidden_size = 320\n",
    "blstm = BLSTM(lstm_input_size, lstm_hidden_size, lstm_num_layers, lstm_bidrectional, fcn_hidden_size)\n",
    "\n",
    "# BERT_BLSTM input\n",
    "vocab_size = len(token_to_index)\n",
    "model = BERT_BLSTM(bert, blstm, vocab_size)\n",
    "model.mlm.load_state_dict(mlm_state_dict)\n",
    "\n",
    "# Run setup\n",
    "n_epochs = 10\n",
    "batch_size = 32\n",
    "max_batch = 200\n",
    "alpha = 1\n",
    "lr = 1e-5\n",
    "device = torch.device(\"cuda:0\")\n",
    "\n",
    "# Run\n",
    "count_parameters(model)\n",
    "model_result = os.path.join(run_dir, f\"{result_tag}-{date_hour_minute}_train_{len(train_dataset)}_test_{len(test_dataset)}\")\n",
    "metrics_csv  = run_model(model, tokenizer, train_dataset, test_dataset, n_epochs, batch_size, max_batch, alpha, lr, device, model_result)\n",
    "calc_train_test_history(metrics_csv, len(train_dataset), len(test_dataset), model_result)"
   ]
  },
  {
   "cell_type": "markdown",
   "metadata": {},
   "source": [
    "### Initialized with ESM\n",
    "For this initialization, we needed to match up the ESM model tokenizer tokens with our model's tokenizer. And also match up the `state_dict` embeddings properly with the tokens. You can see below in the function `create_esm_embedding` for a more detailed explanation of this process."
   ]
  },
  {
   "cell_type": "code",
   "execution_count": 19,
   "metadata": {},
   "outputs": [],
   "source": [
    "def create_esm_embedding(embedding_dim:int, save_location:str) -> tuple:\n",
    "    \"\"\"\n",
    "    Map our tokenizer tokens used for NLP embedding and BERT to\n",
    "    Huggingface AutoTokenizer tokens and their corresponding embedding\n",
    "    weights in the ESM model. Then create an embedding file (.pth) to \n",
    "    be utilized as pretrained embedding weights for loading into the BERT model.\n",
    "    Returns name of the embedding file and the vocab size.\n",
    "\n",
    "    Inputs:\n",
    "    - embedding_dim: MUST be the same as embedding dimension to be used for the BERT model.\n",
    "    - save_location: Location to save embedding file.\n",
    "\n",
    "    Be sure to import from Huggingface:\n",
    "        from transformers import AutoTokenizer, EsmModel \n",
    "    \"\"\"\n",
    "    embedding_file = os.path.join(save_location, f\"esm_embeddings_{embedding_dim}_dim.pth\")\n",
    "\n",
    "    # ESM input\n",
    "    esm = EsmModel.from_pretrained(\"facebook/esm2_t6_8M_UR50D\")\n",
    "    esm_embeddings = esm.embeddings.word_embeddings.weight\n",
    "    esm_tokenizer = AutoTokenizer.from_pretrained(\"facebook/esm2_t33_650M_UR50D\")\n",
    "\n",
    "    # Identifying tokens that exist in both datasets\n",
    "    esm_tokens = esm_tokenizer.get_vocab()\n",
    "    main_tokens = token_to_index\n",
    "\n",
    "    # Manual mapping for special tokens that exist in both sets, main tokens as keys\n",
    "    # '<TRUNCATED>' alternate does not exist in ESM\n",
    "    special_token_mapping = {'<START>':'<cls>', \n",
    "                             '<PAD>':'<pad>', \n",
    "                             '<END>':'<eos>', \n",
    "                             '<OTHER>':'<unk>',\n",
    "                             '<MASK>':'<mask>'}\n",
    "\n",
    "    # Create the dictionary to map ESM embeddings to our tokens\n",
    "    esm_embedding_map = {}\n",
    "    for token in main_tokens:\n",
    "        if token in esm_tokens:\n",
    "            esm_embedding_map[main_tokens[token]] = esm_embeddings[esm_tokens[token]]\n",
    "        elif token in special_token_mapping and special_token_mapping[token] in esm_tokens:\n",
    "            esm_embedding_map[main_tokens[token]] = esm_embeddings[esm_tokens[special_token_mapping[token]]]\n",
    "\n",
    "    # Create a ESM embedding tensor that can be loaded into BERT \n",
    "    vocab_size = len(esm_embedding_map.keys())\n",
    "    esm_embeddings = torch.zeros(vocab_size, embedding_dim)  # Initialize a tensor of zeros\n",
    "    for token, embedding in esm_embedding_map.items():\n",
    "        esm_embeddings[token] = embedding\n",
    "    torch.save(esm_embeddings, embedding_file)\n",
    "\n",
    "    return embedding_file, vocab_size"
   ]
  },
  {
   "cell_type": "markdown",
   "metadata": {},
   "source": [
    "Let's run it! Same settings as before, but instead we initialize the BERT embeddings by loading in the mapped ESM embeddings."
   ]
  },
  {
   "cell_type": "code",
   "execution_count": 20,
   "metadata": {},
   "outputs": [
    {
     "name": "stderr",
     "output_type": "stream",
     "text": [
      "Some weights of EsmModel were not initialized from the model checkpoint at facebook/esm2_t6_8M_UR50D and are newly initialized: ['esm.pooler.dense.bias', 'esm.pooler.dense.weight']\n",
      "You should probably TRAIN this model on a down-stream task to be able to use it for predictions and inference.\n"
     ]
    },
    {
     "name": "stdout",
     "output_type": "stream",
     "text": [
      "+-----------------------------------------------------------+------------+\n",
      "|                          Modules                          | Parameters |\n",
      "+-----------------------------------------------------------+------------+\n",
      "|           bert.embedding.token_embedding.weight           |    8640    |\n",
      "|    bert.transformer_blocks.0.attention.linears.0.weight   |   102400   |\n",
      "|     bert.transformer_blocks.0.attention.linears.0.bias    |    320     |\n",
      "|    bert.transformer_blocks.0.attention.linears.1.weight   |   102400   |\n",
      "|     bert.transformer_blocks.0.attention.linears.1.bias    |    320     |\n",
      "|    bert.transformer_blocks.0.attention.linears.2.weight   |   102400   |\n",
      "|     bert.transformer_blocks.0.attention.linears.2.bias    |    320     |\n",
      "|    bert.transformer_blocks.0.attention.linears.3.weight   |   102400   |\n",
      "|     bert.transformer_blocks.0.attention.linears.3.bias    |    320     |\n",
      "|  bert.transformer_blocks.0.attention.output_linear.weight |   102400   |\n",
      "|   bert.transformer_blocks.0.attention.output_linear.bias  |    320     |\n",
      "|     bert.transformer_blocks.0.feed_forward.w_1.weight     |   409600   |\n",
      "|      bert.transformer_blocks.0.feed_forward.w_1.bias      |    1280    |\n",
      "|     bert.transformer_blocks.0.feed_forward.w_2.weight     |   409600   |\n",
      "|      bert.transformer_blocks.0.feed_forward.w_2.bias      |    320     |\n",
      "|     bert.transformer_blocks.0.input_sublayer.norm.a_2     |    320     |\n",
      "|     bert.transformer_blocks.0.input_sublayer.norm.b_2     |    320     |\n",
      "|     bert.transformer_blocks.0.output_sublayer.norm.a_2    |    320     |\n",
      "|     bert.transformer_blocks.0.output_sublayer.norm.b_2    |    320     |\n",
      "|    bert.transformer_blocks.1.attention.linears.0.weight   |   102400   |\n",
      "|     bert.transformer_blocks.1.attention.linears.0.bias    |    320     |\n",
      "|    bert.transformer_blocks.1.attention.linears.1.weight   |   102400   |\n",
      "|     bert.transformer_blocks.1.attention.linears.1.bias    |    320     |\n",
      "|    bert.transformer_blocks.1.attention.linears.2.weight   |   102400   |\n",
      "|     bert.transformer_blocks.1.attention.linears.2.bias    |    320     |\n",
      "|    bert.transformer_blocks.1.attention.linears.3.weight   |   102400   |\n",
      "|     bert.transformer_blocks.1.attention.linears.3.bias    |    320     |\n",
      "|  bert.transformer_blocks.1.attention.output_linear.weight |   102400   |\n",
      "|   bert.transformer_blocks.1.attention.output_linear.bias  |    320     |\n",
      "|     bert.transformer_blocks.1.feed_forward.w_1.weight     |   409600   |\n",
      "|      bert.transformer_blocks.1.feed_forward.w_1.bias      |    1280    |\n",
      "|     bert.transformer_blocks.1.feed_forward.w_2.weight     |   409600   |\n",
      "|      bert.transformer_blocks.1.feed_forward.w_2.bias      |    320     |\n",
      "|     bert.transformer_blocks.1.input_sublayer.norm.a_2     |    320     |\n",
      "|     bert.transformer_blocks.1.input_sublayer.norm.b_2     |    320     |\n",
      "|     bert.transformer_blocks.1.output_sublayer.norm.a_2    |    320     |\n",
      "|     bert.transformer_blocks.1.output_sublayer.norm.b_2    |    320     |\n",
      "|    bert.transformer_blocks.2.attention.linears.0.weight   |   102400   |\n",
      "|     bert.transformer_blocks.2.attention.linears.0.bias    |    320     |\n",
      "|    bert.transformer_blocks.2.attention.linears.1.weight   |   102400   |\n",
      "|     bert.transformer_blocks.2.attention.linears.1.bias    |    320     |\n",
      "|    bert.transformer_blocks.2.attention.linears.2.weight   |   102400   |\n",
      "|     bert.transformer_blocks.2.attention.linears.2.bias    |    320     |\n",
      "|    bert.transformer_blocks.2.attention.linears.3.weight   |   102400   |\n",
      "|     bert.transformer_blocks.2.attention.linears.3.bias    |    320     |\n",
      "|  bert.transformer_blocks.2.attention.output_linear.weight |   102400   |\n",
      "|   bert.transformer_blocks.2.attention.output_linear.bias  |    320     |\n",
      "|     bert.transformer_blocks.2.feed_forward.w_1.weight     |   409600   |\n",
      "|      bert.transformer_blocks.2.feed_forward.w_1.bias      |    1280    |\n",
      "|     bert.transformer_blocks.2.feed_forward.w_2.weight     |   409600   |\n",
      "|      bert.transformer_blocks.2.feed_forward.w_2.bias      |    320     |\n",
      "|     bert.transformer_blocks.2.input_sublayer.norm.a_2     |    320     |\n",
      "|     bert.transformer_blocks.2.input_sublayer.norm.b_2     |    320     |\n",
      "|     bert.transformer_blocks.2.output_sublayer.norm.a_2    |    320     |\n",
      "|     bert.transformer_blocks.2.output_sublayer.norm.b_2    |    320     |\n",
      "|    bert.transformer_blocks.3.attention.linears.0.weight   |   102400   |\n",
      "|     bert.transformer_blocks.3.attention.linears.0.bias    |    320     |\n",
      "|    bert.transformer_blocks.3.attention.linears.1.weight   |   102400   |\n",
      "|     bert.transformer_blocks.3.attention.linears.1.bias    |    320     |\n",
      "|    bert.transformer_blocks.3.attention.linears.2.weight   |   102400   |\n",
      "|     bert.transformer_blocks.3.attention.linears.2.bias    |    320     |\n",
      "|    bert.transformer_blocks.3.attention.linears.3.weight   |   102400   |\n",
      "|     bert.transformer_blocks.3.attention.linears.3.bias    |    320     |\n",
      "|  bert.transformer_blocks.3.attention.output_linear.weight |   102400   |\n",
      "|   bert.transformer_blocks.3.attention.output_linear.bias  |    320     |\n",
      "|     bert.transformer_blocks.3.feed_forward.w_1.weight     |   409600   |\n",
      "|      bert.transformer_blocks.3.feed_forward.w_1.bias      |    1280    |\n",
      "|     bert.transformer_blocks.3.feed_forward.w_2.weight     |   409600   |\n",
      "|      bert.transformer_blocks.3.feed_forward.w_2.bias      |    320     |\n",
      "|     bert.transformer_blocks.3.input_sublayer.norm.a_2     |    320     |\n",
      "|     bert.transformer_blocks.3.input_sublayer.norm.b_2     |    320     |\n",
      "|     bert.transformer_blocks.3.output_sublayer.norm.a_2    |    320     |\n",
      "|     bert.transformer_blocks.3.output_sublayer.norm.b_2    |    320     |\n",
      "|    bert.transformer_blocks.4.attention.linears.0.weight   |   102400   |\n",
      "|     bert.transformer_blocks.4.attention.linears.0.bias    |    320     |\n",
      "|    bert.transformer_blocks.4.attention.linears.1.weight   |   102400   |\n",
      "|     bert.transformer_blocks.4.attention.linears.1.bias    |    320     |\n",
      "|    bert.transformer_blocks.4.attention.linears.2.weight   |   102400   |\n",
      "|     bert.transformer_blocks.4.attention.linears.2.bias    |    320     |\n",
      "|    bert.transformer_blocks.4.attention.linears.3.weight   |   102400   |\n",
      "|     bert.transformer_blocks.4.attention.linears.3.bias    |    320     |\n",
      "|  bert.transformer_blocks.4.attention.output_linear.weight |   102400   |\n",
      "|   bert.transformer_blocks.4.attention.output_linear.bias  |    320     |\n",
      "|     bert.transformer_blocks.4.feed_forward.w_1.weight     |   409600   |\n",
      "|      bert.transformer_blocks.4.feed_forward.w_1.bias      |    1280    |\n",
      "|     bert.transformer_blocks.4.feed_forward.w_2.weight     |   409600   |\n",
      "|      bert.transformer_blocks.4.feed_forward.w_2.bias      |    320     |\n",
      "|     bert.transformer_blocks.4.input_sublayer.norm.a_2     |    320     |\n",
      "|     bert.transformer_blocks.4.input_sublayer.norm.b_2     |    320     |\n",
      "|     bert.transformer_blocks.4.output_sublayer.norm.a_2    |    320     |\n",
      "|     bert.transformer_blocks.4.output_sublayer.norm.b_2    |    320     |\n",
      "|    bert.transformer_blocks.5.attention.linears.0.weight   |   102400   |\n",
      "|     bert.transformer_blocks.5.attention.linears.0.bias    |    320     |\n",
      "|    bert.transformer_blocks.5.attention.linears.1.weight   |   102400   |\n",
      "|     bert.transformer_blocks.5.attention.linears.1.bias    |    320     |\n",
      "|    bert.transformer_blocks.5.attention.linears.2.weight   |   102400   |\n",
      "|     bert.transformer_blocks.5.attention.linears.2.bias    |    320     |\n",
      "|    bert.transformer_blocks.5.attention.linears.3.weight   |   102400   |\n",
      "|     bert.transformer_blocks.5.attention.linears.3.bias    |    320     |\n",
      "|  bert.transformer_blocks.5.attention.output_linear.weight |   102400   |\n",
      "|   bert.transformer_blocks.5.attention.output_linear.bias  |    320     |\n",
      "|     bert.transformer_blocks.5.feed_forward.w_1.weight     |   409600   |\n",
      "|      bert.transformer_blocks.5.feed_forward.w_1.bias      |    1280    |\n",
      "|     bert.transformer_blocks.5.feed_forward.w_2.weight     |   409600   |\n",
      "|      bert.transformer_blocks.5.feed_forward.w_2.bias      |    320     |\n",
      "|     bert.transformer_blocks.5.input_sublayer.norm.a_2     |    320     |\n",
      "|     bert.transformer_blocks.5.input_sublayer.norm.b_2     |    320     |\n",
      "|     bert.transformer_blocks.5.output_sublayer.norm.a_2    |    320     |\n",
      "|     bert.transformer_blocks.5.output_sublayer.norm.b_2    |    320     |\n",
      "|    bert.transformer_blocks.6.attention.linears.0.weight   |   102400   |\n",
      "|     bert.transformer_blocks.6.attention.linears.0.bias    |    320     |\n",
      "|    bert.transformer_blocks.6.attention.linears.1.weight   |   102400   |\n",
      "|     bert.transformer_blocks.6.attention.linears.1.bias    |    320     |\n",
      "|    bert.transformer_blocks.6.attention.linears.2.weight   |   102400   |\n",
      "|     bert.transformer_blocks.6.attention.linears.2.bias    |    320     |\n",
      "|    bert.transformer_blocks.6.attention.linears.3.weight   |   102400   |\n",
      "|     bert.transformer_blocks.6.attention.linears.3.bias    |    320     |\n",
      "|  bert.transformer_blocks.6.attention.output_linear.weight |   102400   |\n",
      "|   bert.transformer_blocks.6.attention.output_linear.bias  |    320     |\n",
      "|     bert.transformer_blocks.6.feed_forward.w_1.weight     |   409600   |\n",
      "|      bert.transformer_blocks.6.feed_forward.w_1.bias      |    1280    |\n",
      "|     bert.transformer_blocks.6.feed_forward.w_2.weight     |   409600   |\n",
      "|      bert.transformer_blocks.6.feed_forward.w_2.bias      |    320     |\n",
      "|     bert.transformer_blocks.6.input_sublayer.norm.a_2     |    320     |\n",
      "|     bert.transformer_blocks.6.input_sublayer.norm.b_2     |    320     |\n",
      "|     bert.transformer_blocks.6.output_sublayer.norm.a_2    |    320     |\n",
      "|     bert.transformer_blocks.6.output_sublayer.norm.b_2    |    320     |\n",
      "|    bert.transformer_blocks.7.attention.linears.0.weight   |   102400   |\n",
      "|     bert.transformer_blocks.7.attention.linears.0.bias    |    320     |\n",
      "|    bert.transformer_blocks.7.attention.linears.1.weight   |   102400   |\n",
      "|     bert.transformer_blocks.7.attention.linears.1.bias    |    320     |\n",
      "|    bert.transformer_blocks.7.attention.linears.2.weight   |   102400   |\n",
      "|     bert.transformer_blocks.7.attention.linears.2.bias    |    320     |\n",
      "|    bert.transformer_blocks.7.attention.linears.3.weight   |   102400   |\n",
      "|     bert.transformer_blocks.7.attention.linears.3.bias    |    320     |\n",
      "|  bert.transformer_blocks.7.attention.output_linear.weight |   102400   |\n",
      "|   bert.transformer_blocks.7.attention.output_linear.bias  |    320     |\n",
      "|     bert.transformer_blocks.7.feed_forward.w_1.weight     |   409600   |\n",
      "|      bert.transformer_blocks.7.feed_forward.w_1.bias      |    1280    |\n",
      "|     bert.transformer_blocks.7.feed_forward.w_2.weight     |   409600   |\n",
      "|      bert.transformer_blocks.7.feed_forward.w_2.bias      |    320     |\n",
      "|     bert.transformer_blocks.7.input_sublayer.norm.a_2     |    320     |\n",
      "|     bert.transformer_blocks.7.input_sublayer.norm.b_2     |    320     |\n",
      "|     bert.transformer_blocks.7.output_sublayer.norm.a_2    |    320     |\n",
      "|     bert.transformer_blocks.7.output_sublayer.norm.b_2    |    320     |\n",
      "|    bert.transformer_blocks.8.attention.linears.0.weight   |   102400   |\n",
      "|     bert.transformer_blocks.8.attention.linears.0.bias    |    320     |\n",
      "|    bert.transformer_blocks.8.attention.linears.1.weight   |   102400   |\n",
      "|     bert.transformer_blocks.8.attention.linears.1.bias    |    320     |\n",
      "|    bert.transformer_blocks.8.attention.linears.2.weight   |   102400   |\n",
      "|     bert.transformer_blocks.8.attention.linears.2.bias    |    320     |\n",
      "|    bert.transformer_blocks.8.attention.linears.3.weight   |   102400   |\n",
      "|     bert.transformer_blocks.8.attention.linears.3.bias    |    320     |\n",
      "|  bert.transformer_blocks.8.attention.output_linear.weight |   102400   |\n",
      "|   bert.transformer_blocks.8.attention.output_linear.bias  |    320     |\n",
      "|     bert.transformer_blocks.8.feed_forward.w_1.weight     |   409600   |\n",
      "|      bert.transformer_blocks.8.feed_forward.w_1.bias      |    1280    |\n",
      "|     bert.transformer_blocks.8.feed_forward.w_2.weight     |   409600   |\n",
      "|      bert.transformer_blocks.8.feed_forward.w_2.bias      |    320     |\n",
      "|     bert.transformer_blocks.8.input_sublayer.norm.a_2     |    320     |\n",
      "|     bert.transformer_blocks.8.input_sublayer.norm.b_2     |    320     |\n",
      "|     bert.transformer_blocks.8.output_sublayer.norm.a_2    |    320     |\n",
      "|     bert.transformer_blocks.8.output_sublayer.norm.b_2    |    320     |\n",
      "|    bert.transformer_blocks.9.attention.linears.0.weight   |   102400   |\n",
      "|     bert.transformer_blocks.9.attention.linears.0.bias    |    320     |\n",
      "|    bert.transformer_blocks.9.attention.linears.1.weight   |   102400   |\n",
      "|     bert.transformer_blocks.9.attention.linears.1.bias    |    320     |\n",
      "|    bert.transformer_blocks.9.attention.linears.2.weight   |   102400   |\n",
      "|     bert.transformer_blocks.9.attention.linears.2.bias    |    320     |\n",
      "|    bert.transformer_blocks.9.attention.linears.3.weight   |   102400   |\n",
      "|     bert.transformer_blocks.9.attention.linears.3.bias    |    320     |\n",
      "|  bert.transformer_blocks.9.attention.output_linear.weight |   102400   |\n",
      "|   bert.transformer_blocks.9.attention.output_linear.bias  |    320     |\n",
      "|     bert.transformer_blocks.9.feed_forward.w_1.weight     |   409600   |\n",
      "|      bert.transformer_blocks.9.feed_forward.w_1.bias      |    1280    |\n",
      "|     bert.transformer_blocks.9.feed_forward.w_2.weight     |   409600   |\n",
      "|      bert.transformer_blocks.9.feed_forward.w_2.bias      |    320     |\n",
      "|     bert.transformer_blocks.9.input_sublayer.norm.a_2     |    320     |\n",
      "|     bert.transformer_blocks.9.input_sublayer.norm.b_2     |    320     |\n",
      "|     bert.transformer_blocks.9.output_sublayer.norm.a_2    |    320     |\n",
      "|     bert.transformer_blocks.9.output_sublayer.norm.b_2    |    320     |\n",
      "|   bert.transformer_blocks.10.attention.linears.0.weight   |   102400   |\n",
      "|    bert.transformer_blocks.10.attention.linears.0.bias    |    320     |\n",
      "|   bert.transformer_blocks.10.attention.linears.1.weight   |   102400   |\n",
      "|    bert.transformer_blocks.10.attention.linears.1.bias    |    320     |\n",
      "|   bert.transformer_blocks.10.attention.linears.2.weight   |   102400   |\n",
      "|    bert.transformer_blocks.10.attention.linears.2.bias    |    320     |\n",
      "|   bert.transformer_blocks.10.attention.linears.3.weight   |   102400   |\n",
      "|    bert.transformer_blocks.10.attention.linears.3.bias    |    320     |\n",
      "| bert.transformer_blocks.10.attention.output_linear.weight |   102400   |\n",
      "|  bert.transformer_blocks.10.attention.output_linear.bias  |    320     |\n",
      "|     bert.transformer_blocks.10.feed_forward.w_1.weight    |   409600   |\n",
      "|      bert.transformer_blocks.10.feed_forward.w_1.bias     |    1280    |\n",
      "|     bert.transformer_blocks.10.feed_forward.w_2.weight    |   409600   |\n",
      "|      bert.transformer_blocks.10.feed_forward.w_2.bias     |    320     |\n",
      "|     bert.transformer_blocks.10.input_sublayer.norm.a_2    |    320     |\n",
      "|     bert.transformer_blocks.10.input_sublayer.norm.b_2    |    320     |\n",
      "|    bert.transformer_blocks.10.output_sublayer.norm.a_2    |    320     |\n",
      "|    bert.transformer_blocks.10.output_sublayer.norm.b_2    |    320     |\n",
      "|   bert.transformer_blocks.11.attention.linears.0.weight   |   102400   |\n",
      "|    bert.transformer_blocks.11.attention.linears.0.bias    |    320     |\n",
      "|   bert.transformer_blocks.11.attention.linears.1.weight   |   102400   |\n",
      "|    bert.transformer_blocks.11.attention.linears.1.bias    |    320     |\n",
      "|   bert.transformer_blocks.11.attention.linears.2.weight   |   102400   |\n",
      "|    bert.transformer_blocks.11.attention.linears.2.bias    |    320     |\n",
      "|   bert.transformer_blocks.11.attention.linears.3.weight   |   102400   |\n",
      "|    bert.transformer_blocks.11.attention.linears.3.bias    |    320     |\n",
      "| bert.transformer_blocks.11.attention.output_linear.weight |   102400   |\n",
      "|  bert.transformer_blocks.11.attention.output_linear.bias  |    320     |\n",
      "|     bert.transformer_blocks.11.feed_forward.w_1.weight    |   409600   |\n",
      "|      bert.transformer_blocks.11.feed_forward.w_1.bias     |    1280    |\n",
      "|     bert.transformer_blocks.11.feed_forward.w_2.weight    |   409600   |\n",
      "|      bert.transformer_blocks.11.feed_forward.w_2.bias     |    320     |\n",
      "|     bert.transformer_blocks.11.input_sublayer.norm.a_2    |    320     |\n",
      "|     bert.transformer_blocks.11.input_sublayer.norm.b_2    |    320     |\n",
      "|    bert.transformer_blocks.11.output_sublayer.norm.a_2    |    320     |\n",
      "|    bert.transformer_blocks.11.output_sublayer.norm.b_2    |    320     |\n",
      "|                     mlm.linear.weight                     |    8640    |\n",
      "|                      mlm.linear.bias                      |     27     |\n",
      "|                  blstm.lstm.weight_ih_l0                  |   409600   |\n",
      "|                  blstm.lstm.weight_hh_l0                  |   409600   |\n",
      "|                   blstm.lstm.bias_ih_l0                   |    1280    |\n",
      "|                   blstm.lstm.bias_hh_l0                   |    1280    |\n",
      "|              blstm.lstm.weight_ih_l0_reverse              |   409600   |\n",
      "|              blstm.lstm.weight_hh_l0_reverse              |   409600   |\n",
      "|               blstm.lstm.bias_ih_l0_reverse               |    1280    |\n",
      "|               blstm.lstm.bias_hh_l0_reverse               |    1280    |\n",
      "|                     blstm.fcn.0.weight                    |   204800   |\n",
      "|                      blstm.fcn.0.bias                     |    320     |\n",
      "|                      blstm.out.weight                     |    320     |\n",
      "|                       blstm.out.bias                      |     1      |\n",
      "+-----------------------------------------------------------+------------+\n",
      "Total Trainable Params: 17894428\n",
      "\n"
     ]
    },
    {
     "name": "stderr",
     "output_type": "stream",
     "text": [
      "Epoch_train: 1:   8%|| 200/2639 [00:09<01:52, 21.72it/s]\n",
      "Epoch_test: 1:  30%|| 200/660 [00:06<00:15, 29.20it/s]\n"
     ]
    },
    {
     "name": "stdout",
     "output_type": "stream",
     "text": [
      "Epoch 1 | Train MLM Acc: 0.3175, Test MLM Acc: 0.5234\n",
      "        | Train MLM Loss: 1435753.9055, Test MLM Loss: 336085.2153\n",
      "        | Train BLSTM Loss: 110166.1375, Test BLSTM Loss: 26161.7830\n",
      "        | Train Combined Loss: 1545920.0469, Test Combined Loss: 362246.9979\n",
      "\n"
     ]
    },
    {
     "name": "stderr",
     "output_type": "stream",
     "text": [
      "Epoch_train: 2:   8%|| 200/2639 [00:09<01:52, 21.65it/s]\n",
      "Epoch_test: 2:  30%|| 200/660 [00:06<00:15, 29.30it/s]\n"
     ]
    },
    {
     "name": "stdout",
     "output_type": "stream",
     "text": [
      "Epoch 2 | Train MLM Acc: 0.3958, Test MLM Acc: 0.5862\n",
      "        | Train MLM Loss: 425494.2953, Test MLM Loss: 239580.2777\n",
      "        | Train BLSTM Loss: 23863.6700, Test BLSTM Loss: 25818.4354\n",
      "        | Train Combined Loss: 449357.9644, Test Combined Loss: 265398.7134\n",
      "\n"
     ]
    },
    {
     "name": "stderr",
     "output_type": "stream",
     "text": [
      "Epoch_train: 3:   8%|| 200/2639 [00:09<01:52, 21.77it/s]\n",
      "Epoch_test: 3:  30%|| 200/660 [00:06<00:15, 28.94it/s]\n"
     ]
    },
    {
     "name": "stdout",
     "output_type": "stream",
     "text": [
      "Epoch 3 | Train MLM Acc: 0.4261, Test MLM Acc: 0.6043\n",
      "        | Train MLM Loss: 350682.6875, Test MLM Loss: 217014.3194\n",
      "        | Train BLSTM Loss: 23946.6022, Test BLSTM Loss: 25923.4636\n",
      "        | Train Combined Loss: 374629.2897, Test Combined Loss: 242937.7826\n",
      "\n"
     ]
    },
    {
     "name": "stderr",
     "output_type": "stream",
     "text": [
      "Epoch_train: 4:   8%|| 200/2639 [00:09<01:52, 21.74it/s]\n",
      "Epoch_test: 4:  30%|| 200/660 [00:06<00:15, 29.20it/s]\n"
     ]
    },
    {
     "name": "stdout",
     "output_type": "stream",
     "text": [
      "Epoch 4 | Train MLM Acc: 0.4456, Test MLM Acc: 0.7257\n",
      "        | Train MLM Loss: 320710.6072, Test MLM Loss: 191497.5116\n",
      "        | Train BLSTM Loss: 23344.1807, Test BLSTM Loss: 25909.0661\n",
      "        | Train Combined Loss: 344054.7877, Test Combined Loss: 217406.5779\n",
      "\n"
     ]
    },
    {
     "name": "stderr",
     "output_type": "stream",
     "text": [
      "Epoch_train: 5:   8%|| 200/2639 [00:09<01:52, 21.75it/s]\n",
      "Epoch_test: 5:  30%|| 200/660 [00:06<00:15, 29.37it/s]\n"
     ]
    },
    {
     "name": "stdout",
     "output_type": "stream",
     "text": [
      "Epoch 5 | Train MLM Acc: 0.4680, Test MLM Acc: 0.7507\n",
      "        | Train MLM Loss: 297117.2329, Test MLM Loss: 180512.0012\n",
      "        | Train BLSTM Loss: 23559.2934, Test BLSTM Loss: 26977.1777\n",
      "        | Train Combined Loss: 320676.5264, Test Combined Loss: 207489.1784\n",
      "\n"
     ]
    },
    {
     "name": "stderr",
     "output_type": "stream",
     "text": [
      "Epoch_train: 6:   8%|| 200/2639 [00:09<01:50, 21.99it/s]\n",
      "Epoch_test: 6:  30%|| 200/660 [00:06<00:15, 29.27it/s]\n"
     ]
    },
    {
     "name": "stdout",
     "output_type": "stream",
     "text": [
      "Epoch 6 | Train MLM Acc: 0.4910, Test MLM Acc: 0.8016\n",
      "        | Train MLM Loss: 279505.6218, Test MLM Loss: 166260.5228\n",
      "        | Train BLSTM Loss: 23976.6156, Test BLSTM Loss: 24810.5504\n",
      "        | Train Combined Loss: 303482.2368, Test Combined Loss: 191071.0734\n",
      "\n"
     ]
    },
    {
     "name": "stderr",
     "output_type": "stream",
     "text": [
      "Epoch_train: 7:   8%|| 200/2639 [00:09<01:51, 21.97it/s]\n",
      "Epoch_test: 7:  30%|| 200/660 [00:06<00:15, 29.33it/s]\n"
     ]
    },
    {
     "name": "stdout",
     "output_type": "stream",
     "text": [
      "Epoch 7 | Train MLM Acc: 0.5063, Test MLM Acc: 0.7620\n",
      "        | Train MLM Loss: 265486.5967, Test MLM Loss: 164056.9193\n",
      "        | Train BLSTM Loss: 23822.7009, Test BLSTM Loss: 26299.2905\n",
      "        | Train Combined Loss: 289309.2970, Test Combined Loss: 190356.2097\n",
      "\n"
     ]
    },
    {
     "name": "stderr",
     "output_type": "stream",
     "text": [
      "Epoch_train: 8:   8%|| 200/2639 [00:09<01:51, 21.96it/s]\n",
      "Epoch_test: 8:  30%|| 200/660 [00:06<00:15, 29.65it/s]\n"
     ]
    },
    {
     "name": "stdout",
     "output_type": "stream",
     "text": [
      "Epoch 8 | Train MLM Acc: 0.5302, Test MLM Acc: 0.8515\n",
      "        | Train MLM Loss: 252040.9298, Test MLM Loss: 148246.7216\n",
      "        | Train BLSTM Loss: 23677.7212, Test BLSTM Loss: 26047.0733\n",
      "        | Train Combined Loss: 275718.6512, Test Combined Loss: 174293.7951\n",
      "\n"
     ]
    },
    {
     "name": "stderr",
     "output_type": "stream",
     "text": [
      "Epoch_train: 9:   8%|| 200/2639 [00:09<01:53, 21.47it/s]\n",
      "Epoch_test: 9:  30%|| 200/660 [00:06<00:15, 29.24it/s]\n"
     ]
    },
    {
     "name": "stdout",
     "output_type": "stream",
     "text": [
      "Epoch 9 | Train MLM Acc: 0.5445, Test MLM Acc: 0.8666\n",
      "        | Train MLM Loss: 241991.2423, Test MLM Loss: 140665.8517\n",
      "        | Train BLSTM Loss: 23855.6690, Test BLSTM Loss: 26149.9465\n",
      "        | Train Combined Loss: 265846.9120, Test Combined Loss: 166815.7980\n",
      "\n"
     ]
    },
    {
     "name": "stderr",
     "output_type": "stream",
     "text": [
      "Epoch_train: 10:   8%|| 200/2639 [00:09<01:54, 21.30it/s]\n",
      "Epoch_test: 10:  30%|| 200/660 [00:06<00:15, 29.30it/s]\n"
     ]
    },
    {
     "name": "stdout",
     "output_type": "stream",
     "text": [
      "Epoch 10 | Train MLM Acc: 0.5626, Test MLM Acc: 0.8521\n",
      "         | Train MLM Loss: 231538.4686, Test MLM Loss: 137409.0112\n",
      "         | Train BLSTM Loss: 23734.1637, Test BLSTM Loss: 24916.7233\n",
      "         | Train Combined Loss: 255272.6317, Test Combined Loss: 162325.7346\n",
      "\n"
     ]
    },
    {
     "data": {
      "image/png": "[encoded data removed]",
      "text/plain": [
       "<Figure size 1600x1800 with 2 Axes>"
      ]
     },
     "metadata": {},
     "output_type": "display_data"
    },
    {
     "data": {
      "image/png": "[encoded data removed]",
      "text/plain": [
       "<Figure size 1600x900 with 1 Axes>"
      ]
     },
     "metadata": {},
     "output_type": "display_data"
    },
    {
     "data": {
      "image/png": "[encoded data removed]",
      "text/plain": [
       "<Figure size 1600x900 with 1 Axes>"
      ]
     },
     "metadata": {},
     "output_type": "display_data"
    }
   ],
   "source": [
    "# Data/results directories\n",
    "result_tag = 'bert_blstm_esm-dms_binding'\n",
    "data_dir = '../data'\n",
    "results_dir = '../results/run_results/bert_blstm_esm'\n",
    "\n",
    "# Create run directory for results\n",
    "now = datetime.datetime.now()\n",
    "date_hour_minute = now.strftime(\"%Y-%m-%d_%H-%M\")\n",
    "run_dir = os.path.join(results_dir, f\"{result_tag}-{date_hour_minute}\")\n",
    "os.makedirs(run_dir, exist_ok = True)\n",
    "\n",
    "# Load in data\n",
    "# dms_train_csv = os.path.join(data_dir, 'dms_mutation_expression_meanFs_train.csv') # 'bert_blstm_esm-dms_expression'\n",
    "# dms_test_csv = os.path.join(data_dir, 'dms_mutation_expression_meanFs_test.csv') \n",
    "dms_train_csv = os.path.join(data_dir, 'dms_mutation_binding_Kds_train.csv') # 'bert_blstm_esm-dms_binding'\n",
    "dms_test_csv = os.path.join(data_dir, 'dms_mutation_binding_Kds_test.csv') \n",
    "train_dataset = DMSDataset(dms_train_csv)\n",
    "test_dataset = DMSDataset(dms_test_csv)\n",
    "\n",
    "# BERT input\n",
    "max_len = 280\n",
    "mask_prob = 0.15\n",
    "embedding_dim = 320 \n",
    "dropout = 0.1\n",
    "n_transformer_layers = 12\n",
    "n_attn_heads = 10\n",
    "tokenizer = ProteinTokenizer(max_len, mask_prob)\n",
    "\n",
    "# Create and load esm embedding file to BERT model\n",
    "embedding_file, vocab_size = create_esm_embedding(embedding_dim, run_dir)\n",
    "\n",
    "bert = BERT(embedding_dim, dropout, max_len, mask_prob, n_transformer_layers, n_attn_heads)\n",
    "bert.embedding.load_pretrained_embeddings(embedding_file, no_grad=False)\n",
    "\n",
    "# BLSTM input\n",
    "lstm_input_size = 320\n",
    "lstm_hidden_size = 320\n",
    "lstm_num_layers = 1        \n",
    "lstm_bidrectional = True   \n",
    "fcn_hidden_size = 320\n",
    "blstm = BLSTM(lstm_input_size, lstm_hidden_size, lstm_num_layers, lstm_bidrectional, fcn_hidden_size)\n",
    "\n",
    "# BERT_BLSTM input\n",
    "model = BERT_BLSTM(bert, blstm, vocab_size)\n",
    "\n",
    "# Run setup\n",
    "n_epochs = 10\n",
    "batch_size = 32\n",
    "max_batch = 200\n",
    "alpha = 1\n",
    "lr = 1e-5\n",
    "device = torch.device(\"cuda:0\")\n",
    "\n",
    "# Run\n",
    "count_parameters(model)\n",
    "model_result = os.path.join(run_dir, f\"{result_tag}-{date_hour_minute}_train_{len(train_dataset)}_test_{len(test_dataset)}\")\n",
    "metrics_csv = run_model(model, tokenizer, train_dataset, test_dataset, n_epochs, batch_size, max_batch, alpha, lr, device, model_result)\n",
    "calc_train_test_history(metrics_csv, len(train_dataset), len(test_dataset), model_result)"
   ]
  },
  {
   "cell_type": "markdown",
   "metadata": {},
   "source": [
    "And that is all the model runners and how to use them! Just call the model runner from the command line. For example, run this last model, ESM-BLSTM with the command `python esm_blstm_model_runner.py`."
   ]
  },
  {
   "cell_type": "markdown",
   "metadata": {},
   "source": []
  }
 ],
 "metadata": {
  "kernelspec": {
   "display_name": "spike_env",
   "language": "python",
   "name": "python3"
  },
  "language_info": {
   "codemirror_mode": {
    "name": "ipython",
    "version": 3
   },
   "file_extension": ".py",
   "mimetype": "text/x-python",
   "name": "python",
   "nbconvert_exporter": "python",
   "pygments_lexer": "ipython3",
   "version": "3.11.5"
  }
 },
 "nbformat": 4,
 "nbformat_minor": 2
}
