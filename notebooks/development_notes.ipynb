{
 "cells": [
  {
   "attachments": {},
   "cell_type": "markdown",
   "metadata": {},
   "source": [
    "# Spike NLP\n",
    "\n",
    "We wish to utilize NLP methods to analyze the virus protein sequences. After initial experiment with the LSTM architecture, we decided to use Transformer architecture. In this notebook, we implement a BERT model. During the process, we learned from existing implementations of BERT, especially [BERT-pytorch](https://github.com/codertimo/BERT-pytorch) and [The Annotated Transformer](https://nlp.seas.harvard.edu/annotated-transformer/) and [ProteinBERT](https://academic.oup.com/bioinformatics/article/38/8/2102/6502274), though we have to make changes to accomodate our own research interests. For example, we are interested in next word prediction in the pre-training of the model to generate contexualized embeddings using self-supervised learning at individual amino acid level through learning the language patterns but we are not interested in protein functional annotation, so we do not use annotation in our model as a pre-training task. In other words, we are interested in leveraing the Mask LM pre-training task to derive the embeddings for a fine-tuning model to  predict the phenotype of the virus protein sequences. Example phenotypes are bind binding kinetics of the virus protein to target receptor proteins and antibodies."
   ]
  },
  {
   "cell_type": "markdown",
   "metadata": {},
   "source": [
    "\n",
    "\n",
    "## Embedding\n",
    "In the BERT implemetnation (bert_pytorch/model/bert.py), the masking is done after the second token (x>0) since in the original BERT paper, the first element of the input is always \\[CLS\\]. In our model, we will use the variant name as the \\[CLS\\] and the values are:\n",
    "[wt, alpha, delta, omicron, na], where \"na\" stands for not assigned."
   ]
  },
  {
   "cell_type": "code",
   "execution_count": 1,
   "metadata": {},
   "outputs": [],
   "source": [
    "import io\n",
    "import os\n",
    "import copy\n",
    "import math\n",
    "from Bio import SeqIO\n",
    "import numpy as np\n",
    "import torch\n",
    "import torch.nn as nn\n",
    "from torch.utils.data import Dataset,DataLoader\n",
    "from torch.optim import Adam\n",
    "import pandas as pd\n",
    "import altair as alt\n",
    "import tqdm\n",
    "# from bert_pytorch.model import BERT"
   ]
  },
  {
   "attachments": {},
   "cell_type": "markdown",
   "metadata": {},
   "source": [
    "## Tokenization and Vocabulary\n",
    "In [ProteinBERT](https://academic.oup.com/bioinformatics/article/38/8/2102/6502274), Brandes et al used 26 unique tokens to represent the 20 standard amino acids, selenocysteine (U), and undefined amino acid (X), another amino acid (OTHER) and three speical tokens \\<START\\>, \\<END\\>, \\<PAD\\>."
   ]
  },
  {
   "cell_type": "code",
   "execution_count": 2,
   "metadata": {},
   "outputs": [],
   "source": [
    "# Based on the source code of protein_bert\n",
    "# TODO: add a <TRUNCATED> token.\n",
    "ALL_AAS = 'ACDEFGHIKLMNPQRSTUVWXY'\n",
    "ADDITIONAL_TOKENS = ['<OTHER>', '<START>', '<END>', '<PAD>']\n",
    "\n",
    "# Each sequence is added <START> and <END>. \"<PAD>\" are added to sequence shorten than max_len.\n",
    "ADDED_TOKENS_PER_SEQ = 2\n",
    "\n",
    "n_aas = len(ALL_AAS)\n",
    "aa_to_token_index = {aa: i for i, aa in enumerate(ALL_AAS)}\n",
    "additional_token_to_index = {token: i + n_aas for i, token in enumerate(ADDITIONAL_TOKENS)}\n",
    "token_to_index = {**aa_to_token_index, **additional_token_to_index}\n",
    "index_to_token = {index: token for token, index in token_to_index.items()}\n",
    "n_tokens = len(token_to_index)\n",
    "\n",
    "def tokenize_seq(seq: str, max_len:int=1500) -> torch.IntTensor:\n",
    "    \"\"\"\n",
    "    Tokenize a sequence.\n",
    "\n",
    "    It is the caller's responsibility to infer the maximum length of the input. In case of\n",
    "    tokenizing a batch of sequences, the maximum length shall be assigned to the lenght of\n",
    "    the longest sequence in the same batch. \n",
    "\n",
    "\n",
    "    seq: input insquence\n",
    "    max_len: maximum number of tokens, including the special tokens such as <START>, <END>.\n",
    "    \n",
    "    \"\"\"\n",
    "    seq = seq.upper()   # All in upper case.\n",
    "    other_token_index = additional_token_to_index['<OTHER>']\n",
    "    token_seq = [additional_token_to_index['<START>']] + [aa_to_token_index.get(aa, other_token_index) for aa in seq]\n",
    "    if len(token_seq) < max_len - 1: # -1 is for the <END> token\n",
    "        n_pads = max_len -1 - len(token_seq)\n",
    "        token_seq.extend(token_to_index['<PAD>'] for _ in range(n_pads))\n",
    "    token_seq += [additional_token_to_index['<END>']]\n",
    "    return torch.IntTensor(token_seq)"
   ]
  },
  {
   "attachments": {},
   "cell_type": "markdown",
   "metadata": {},
   "source": [
    "## Amino Acid Token Embeddings\n",
    "We will derive token embedding from the [torch.nn.Embedding class](https://pytorch.org/docs/stable/generated/torch.nn.Embedding.html). The size of the vacabulary equals the number of tokens. This approach allows the learning of the embeddings from the model intself. If we train the model with virus sepcific squences, the embeddings shall reflect the hidden properties of the amino acids in context of the trainign sequences. Note that the \\<START\\> and \\<END\\> tokens are always added at the beginning of the sequence. \\<PAD\\> tokens may be added before the \\<END\\> token if the sequence is shorter than the input sequence.\n",
    "\n",
    "Note that using the \"from_pretrained\" class method of torch.nn.Embedding, we can load pre-trained weights of the embedding."
   ]
  },
  {
   "cell_type": "code",
   "execution_count": 3,
   "metadata": {},
   "outputs": [],
   "source": [
    "class TokenEmbedding(nn.Embedding):\n",
    "    \"\"\"Token embedding\"\"\"\n",
    "    def __init__(self, vocab_size: torch.Tensor,\n",
    "                 embedding_dim: int=512,\n",
    "                 padding_idx=None):\n",
    "        super().__init__(vocab_size, embedding_dim, padding_idx)\n",
    "\n",
    "padding_idx = token_to_index['<PAD>']\n",
    "\n",
    "#TODO: add support to load pre-trained embeddings.\n"
   ]
  },
  {
   "attachments": {},
   "cell_type": "markdown",
   "metadata": {},
   "source": [
    "Dataloader class to read in fasta file and return encoded sequence at index"
   ]
  },
  {
   "cell_type": "code",
   "execution_count": 13,
   "metadata": {},
   "outputs": [],
   "source": [
    "class FastaDataset(Dataset):\n",
    "    \"\"\"Create Dataset compatible indexing of fasta file\n",
    "    \"\"\"\n",
    "    def __init__(self, fasta_file: str, encoding_fn) -> None:\n",
    "        self.sequences = list(SeqIO.parse(fasta_file, 'fasta'))\n",
    "        self.encoding_fn = encoding_fn\n",
    "        \n",
    "    def __getitem__(self, idx):\n",
    "        sequence = str(self.sequences[idx].seq)\n",
    "        encoding = self.encoding_fn(sequence)\n",
    "        return encoding\n",
    "    \n",
    "    def __len__(self):\n",
    "        return len(self.sequences)\n",
    "\n",
    "\n",
    "class FastaDataLoader:\n",
    "    \"\"\"Wrapper for fasta dataloader\n",
    "    \"\"\"\n",
    "    def __init__(self, fasta_file: str, batch_size: int, encoding_fn, shuffle=True):\n",
    "        self.dataset = FastaDataset(fasta_file, encoding_fn)\n",
    "        self.dataloader = DataLoader(self.dataset, batch_size=batch_size, shuffle=shuffle)\n",
    "\n",
    "    def __len__(self):\n",
    "        return len(self.dataset)\n",
    "\n",
    "    def __iter__(self):\n",
    "        return iter(self.dataloader)\n",
    "    "
   ]
  },
  {
   "cell_type": "code",
   "execution_count": 22,
   "metadata": {},
   "outputs": [
    {
     "name": "stdout",
     "output_type": "stream",
     "text": [
      "tensor([[23,  0,  1,  ..., 25, 25, 24],\n",
      "        [23,  5,  1,  ..., 25, 25, 24]], dtype=torch.int32)\n",
      "0\n"
     ]
    }
   ],
   "source": [
    "import tempfile\n",
    "\n",
    "def test_dataloader():\n",
    "    # Create a temporary fasta file for testing\n",
    "    fasta_content = \">seq1\\nACGTACGT\\n>seq2\\nGCTAGCTA\"\n",
    "    with tempfile.NamedTemporaryFile(mode=\"w+\", delete=False) as tmp_file:\n",
    "        tmp_file.write(fasta_content)\n",
    "        tmp_file.flush()\n",
    "        tmp_file.seek(0)\n",
    "\n",
    "        # Initialize the data loader\n",
    "        fasta_loader = FastaDataLoader(tmp_file.name, batch_size=2, encoding_fn = tokenize_seq)\n",
    "\n",
    "       \n",
    "        for i, batch in enumerate(fasta_loader):\n",
    "            print(batch)\n",
    "            print(i)\n",
    "\n",
    "        # Clean up the temporary file\n",
    "        os.remove(tmp_file.name)\n",
    "        \n",
    "test_dataloader()"
   ]
  },
  {
   "attachments": {},
   "cell_type": "markdown",
   "metadata": {},
   "source": [
    "## Postional Encoding\n",
    "We will use the  sine and cosine functions of different frequencie to embed positional information as in the original BERT method."
   ]
  },
  {
   "cell_type": "code",
   "execution_count": 23,
   "metadata": {},
   "outputs": [],
   "source": [
    "class PositionalEncoding(nn.Module):\n",
    "    \"\"\"\n",
    "    Impement the PE function.\n",
    "    \n",
    "    The PE forward function is different from the BERT-pytorch. Here we used the original method in BERT so\n",
    "    PE embeddings are added to the input embeddings and no graident tracking is used.\n",
    "    \"\"\"\n",
    "\n",
    "    def __init__(self,\n",
    "                 d_model: int,       # model input dimension\n",
    "                 dropout: float=0.1, # dropout rate\n",
    "                 max_len=1500):      # maximum sequence length #TODO: need a truncation and the <truckated> token.\n",
    "        super().__init__()\n",
    "        self.dropout = nn.Dropout(p=dropout)\n",
    "\n",
    "        # Compute the positional encodings once in log space.\n",
    "        pe = torch.zeros(max_len, d_model)\n",
    "        position = torch.arange(0, max_len).unsqueeze(1)\n",
    "        div_term = torch.exp(torch.arange(0, d_model, 2) * -(math.log(10000.0)/d_model))\n",
    "        pe[:, 0::2] = torch.sin(position * div_term)\n",
    "        pe[:, 1::2] = torch.cos(position * div_term)\n",
    "        self.register_buffer(\"pe\", pe)\n",
    "\n",
    "    def forward(self, x):\n",
    "        # adding positional embeddings on top of original embedding\n",
    "        x = x + self.pe[:, : x.size(1)].requires_grad_(False)\n",
    "        return self.dropout(x)"
   ]
  },
  {
   "cell_type": "code",
   "execution_count": 30,
   "metadata": {},
   "outputs": [],
   "source": [
    "class SeqEncoding(nn.Module):\n",
    "    \"\"\"\n",
    "    Encode amino acid sequence. Input sequence is represented by summing the corresponding sequence token,\n",
    "    segment (e.g. question and answer or any segments separated by <SEP>), and position embeddings. In our \n",
    "    model, we only need the token and position embedding so segment embeddign is not implemented here.    \n",
    "    \"\"\"\n",
    "    def __init__(self,\n",
    "                 vocab_size: int,       # vocabulary size\n",
    "                 embedding_dim: int,    # embedding dimensions\n",
    "                 dropout: float=0.1,    # dropout rate\n",
    "                 max_len: int=1500,     # maximum length of input sequence\n",
    "                 padding_idx: int=25):  # padding token index\n",
    "        super().__init__()\n",
    "        self.token_embedding = TokenEmbedding(vocab_size, embedding_dim, padding_idx)\n",
    "        self.add_position = PositionalEncoding(embedding_dim, dropout, max_len)\n",
    "        self.embeddng_dim = embedding_dim\n",
    "        self.dropout = nn.Dropout(dropout)\n",
    "        self.max_len = max_len\n",
    "        \n",
    "    def forward(self, seq:str):\n",
    "        x = tokenize_seq(seq, self.max_len)\n",
    "        x = self.token_embedding(x)\n",
    "        x = self.add_position(x)\n",
    "        return self.dropout(x)"
   ]
  },
  {
   "attachments": {},
   "cell_type": "markdown",
   "metadata": {},
   "source": [
    "## Test Sequence and Position Embedding\n",
    "\n",
    "Let's test the embedding of the first 28 amino acids of the test sequence. Notice that position 2 and 4 are the same amino acid (F) yet they have different emedding in every dimension due to they appear at different positions. For simplicity, we only use 6 dimensions to embed the sequence. In the actual model, we will use many more dimensions."
   ]
  },
  {
   "cell_type": "code",
   "execution_count": 27,
   "metadata": {},
   "outputs": [
    {
     "data": {
      "text/plain": [
       "1413"
      ]
     },
     "execution_count": 27,
     "metadata": {},
     "output_type": "execute_result"
    }
   ],
   "source": [
    "test_wt_seq = \"\"\">sp|P0DTC2|SPIKE_SARS2 Spike glycoprotein OS=Severe acute respiratory syndrome coronavirus 2 OX=2697049 GN=S PE=1 SV=1\n",
    "MFVFLVLLPLVSSQCVNLTTRTQLPPAYTNSFTRGVYYPDKVFRSSVLHSTQDLFLPFFS\n",
    "NVTWFHAIHVSGTNGTKRFDNPVLPFNDGVYFASTEKSNIIRGWIFGTTLDSKTQSLLIV\n",
    "NNATNVVIKVCEFQFCNDPFLGVYYHKNNKSWMESEFRVYSSANNCTFEYVSQPFLMDLE\n",
    "GKQGNFKNLREFVFKNIDGYFKIYSKHTPINLVRDLPQGFSALEPLVDLPIGINITRFQT\n",
    "LLALHRSYLTPGDSSSGWTAGAAAYYVGYLQPRTFLLKYNENGTITDAVDCALDPLSETK\n",
    "CTLKSFTVEKGIYQTSNFRVQPTESIVRFPNITNLCPFGEVFNATRFASVYAWNRKRISN\n",
    "CVADYSVLYNSASFSTFKCYGVSPTKLNDLCFTNVYADSFVIRGDEVRQIAPGQTGKIAD\n",
    "YNYKLPDDFTGCVIAWNSNNLDSKVGGNYNYLYRLFRKSNLKPFERDISTEIYQAGSTPC\n",
    "NGVEGFNCYFPLQSYGFQPTNGVGYQPYRVVVLSFELLHAPATVCGPKKSTNLVKNKCVN\n",
    "FNFNGLTGTGVLTESNKKFLPFQQFGRDIADTTDAVRDPQTLEILDITPCSFGGVSVITP\n",
    "GTNTSNQVAVLYQDVNCTEVPVAIHADQLTPTWRVYSTGSNVFQTRAGCLIGAEHVNNSY\n",
    "ECDIPIGAGICASYQTQTNSPRRARSVASQSIIAYTMSLGAENSVAYSNNSIAIPTNFTI\n",
    "SVTTEILPVSMTKTSVDCTMYICGDSTECSNLLLQYGSFCTQLNRALTGIAVEQDKNTQE\n",
    "VFAQVKQIYKTPPIKDFGGFNFSQILPDPSKPSKRSFIEDLLFNKVTLADAGFIKQYGDC\n",
    "LGDIAARDLICAQKFNGLTVLPPLLTDEMIAQYTSALLAGTITSGWTFGAGAALQIPFAM\n",
    "QMAYRFNGIGVTQNVLYENQKLIANQFNSAIGKIQDSLSSTASALGKLQDVVNQNAQALN\n",
    "TLVKQLSSNFGAISSVLNDILSRLDKVEAEVQIDRLITGRLQSLQTYVTQQLIRAAEIRA\n",
    "SANLAATKMSECVLGQSKRVDFCGKGYHLMSFPQSAPHGVVFLHVTYVPAQEKNFTTAPA\n",
    "ICHDGKAHFPREGVFVSNGTHWFVTQRNFYEPQIITTDNTFVSGNCDVVIGIVNNTVYDP\n",
    "LQPELDSFKEELDKYFKNHTSPDVDLGDISGINASVVNIQKEIDRLNEVAKNLNESLIDL\n",
    "QELGKYEQYIKWPWYIWLGFIAGLIAIVMVTIMLCCMTSCCSCLKGCCSCGSCCKFDEDD\n",
    "SEPVLKGVKLHYT\"\"\"\n",
    "len(test_wt_seq)"
   ]
  },
  {
   "cell_type": "code",
   "execution_count": 28,
   "metadata": {},
   "outputs": [],
   "source": [
    "test_seqs = []\n",
    "fa_parser = SeqIO.parse(io.StringIO(test_wt_seq), 'fasta')\n",
    "for record in fa_parser:\n",
    "    seq = record.seq\n",
    "    test_seqs.append(str(seq))"
   ]
  },
  {
   "cell_type": "code",
   "execution_count": 31,
   "metadata": {},
   "outputs": [
    {
     "name": "stdout",
     "output_type": "stream",
     "text": [
      "Embedding shape: torch.Size([30, 6])\n",
      "Parameters shape in sequence embedding: torch.Size([26, 6])\n",
      "    embedding  dimension  position aa_token\n",
      "0    1.619003          0         0  <start>\n",
      "1    0.934968          0         1        M\n",
      "2    1.010331          0         2        F\n",
      "3    0.589405          0         3        V\n",
      "4   -1.906637          0         4        F\n",
      "..        ...        ...       ...      ...\n",
      "25   1.109500          5        25        P\n",
      "26   2.707046          5        26        P\n",
      "27   1.148543          5        27        A\n",
      "28   4.050391          5        28        Y\n",
      "29   4.489547          5        29    <end>\n",
      "\n",
      "[180 rows x 4 columns]\n"
     ]
    },
    {
     "data": {
      "text/html": [
       "\n",
       "<div id=\"altair-viz-67fb858a60e44d35aea663e3808b3740\"></div>\n",
       "<script type=\"text/javascript\">\n",
       "  var VEGA_DEBUG = (typeof VEGA_DEBUG == \"undefined\") ? {} : VEGA_DEBUG;\n",
       "  (function(spec, embedOpt){\n",
       "    let outputDiv = document.currentScript.previousElementSibling;\n",
       "    if (outputDiv.id !== \"altair-viz-67fb858a60e44d35aea663e3808b3740\") {\n",
       "      outputDiv = document.getElementById(\"altair-viz-67fb858a60e44d35aea663e3808b3740\");\n",
       "    }\n",
       "    const paths = {\n",
       "      \"vega\": \"https://cdn.jsdelivr.net/npm//vega@5?noext\",\n",
       "      \"vega-lib\": \"https://cdn.jsdelivr.net/npm//vega-lib?noext\",\n",
       "      \"vega-lite\": \"https://cdn.jsdelivr.net/npm//vega-lite@4.17.0?noext\",\n",
       "      \"vega-embed\": \"https://cdn.jsdelivr.net/npm//vega-embed@6?noext\",\n",
       "    };\n",
       "\n",
       "    function maybeLoadScript(lib, version) {\n",
       "      var key = `${lib.replace(\"-\", \"\")}_version`;\n",
       "      return (VEGA_DEBUG[key] == version) ?\n",
       "        Promise.resolve(paths[lib]) :\n",
       "        new Promise(function(resolve, reject) {\n",
       "          var s = document.createElement('script');\n",
       "          document.getElementsByTagName(\"head\")[0].appendChild(s);\n",
       "          s.async = true;\n",
       "          s.onload = () => {\n",
       "            VEGA_DEBUG[key] = version;\n",
       "            return resolve(paths[lib]);\n",
       "          };\n",
       "          s.onerror = () => reject(`Error loading script: ${paths[lib]}`);\n",
       "          s.src = paths[lib];\n",
       "        });\n",
       "    }\n",
       "\n",
       "    function showError(err) {\n",
       "      outputDiv.innerHTML = `<div class=\"error\" style=\"color:red;\">${err}</div>`;\n",
       "      throw err;\n",
       "    }\n",
       "\n",
       "    function displayChart(vegaEmbed) {\n",
       "      vegaEmbed(outputDiv, spec, embedOpt)\n",
       "        .catch(err => showError(`Javascript Error: ${err.message}<br>This usually means there's a typo in your chart specification. See the javascript console for the full traceback.`));\n",
       "    }\n",
       "\n",
       "    if(typeof define === \"function\" && define.amd) {\n",
       "      requirejs.config({paths});\n",
       "      require([\"vega-embed\"], displayChart, err => showError(`Error loading script: ${err.message}`));\n",
       "    } else {\n",
       "      maybeLoadScript(\"vega\", \"5\")\n",
       "        .then(() => maybeLoadScript(\"vega-lite\", \"4.17.0\"))\n",
       "        .then(() => maybeLoadScript(\"vega-embed\", \"6\"))\n",
       "        .catch(showError)\n",
       "        .then(() => displayChart(vegaEmbed));\n",
       "    }\n",
       "  })({\"config\": {\"view\": {\"continuousWidth\": 400, \"continuousHeight\": 300}}, \"data\": {\"name\": \"data-dc02a0c36f3c157f77c5ac8837968ab5\"}, \"mark\": \"line\", \"encoding\": {\"color\": {\"field\": \"dimension\", \"type\": \"nominal\"}, \"x\": {\"field\": \"position\", \"type\": \"quantitative\"}, \"y\": {\"field\": \"embedding\", \"type\": \"quantitative\"}}, \"selection\": {\"selector001\": {\"type\": \"interval\", \"bind\": \"scales\", \"encodings\": [\"x\", \"y\"]}}, \"width\": 800, \"$schema\": \"https://vega.github.io/schema/vega-lite/v4.17.0.json\", \"datasets\": {\"data-dc02a0c36f3c157f77c5ac8837968ab5\": [{\"embedding\": 1.619003176689148, \"dimension\": 0, \"position\": 0, \"aa_token\": \"<start>\"}, {\"embedding\": 0.9349677562713623, \"dimension\": 0, \"position\": 1, \"aa_token\": \"M\"}, {\"embedding\": 1.0103305578231812, \"dimension\": 0, \"position\": 2, \"aa_token\": \"F\"}, {\"embedding\": 0.5894049406051636, \"dimension\": 0, \"position\": 3, \"aa_token\": \"V\"}, {\"embedding\": -1.9066365957260132, \"dimension\": 0, \"position\": 4, \"aa_token\": \"F\"}, {\"embedding\": -1.15298330783844, \"dimension\": 0, \"position\": 5, \"aa_token\": \"L\"}, {\"embedding\": -0.3104616701602936, \"dimension\": 0, \"position\": 6, \"aa_token\": \"V\"}, {\"embedding\": 2.859086513519287, \"dimension\": 0, \"position\": 7, \"aa_token\": \"L\"}, {\"embedding\": 3.684316635131836, \"dimension\": 0, \"position\": 8, \"aa_token\": \"L\"}, {\"embedding\": 0.7452015280723572, \"dimension\": 0, \"position\": 9, \"aa_token\": \"P\"}, {\"embedding\": -0.12283951789140701, \"dimension\": 0, \"position\": 10, \"aa_token\": \"L\"}, {\"embedding\": -2.243804454803467, \"dimension\": 0, \"position\": 11, \"aa_token\": \"V\"}, {\"embedding\": 0.002867115894332528, \"dimension\": 0, \"position\": 12, \"aa_token\": \"S\"}, {\"embedding\": 2.378312110900879, \"dimension\": 0, \"position\": 13, \"aa_token\": \"S\"}, {\"embedding\": 0.0, \"dimension\": 0, \"position\": 14, \"aa_token\": \"Q\"}, {\"embedding\": -0.1675146222114563, \"dimension\": 0, \"position\": 15, \"aa_token\": \"C\"}, {\"embedding\": -0.0, \"dimension\": 0, \"position\": 16, \"aa_token\": \"V\"}, {\"embedding\": -4.321062088012695, \"dimension\": 0, \"position\": 17, \"aa_token\": \"N\"}, {\"embedding\": -0.0, \"dimension\": 0, \"position\": 18, \"aa_token\": \"L\"}, {\"embedding\": 0.7825742959976196, \"dimension\": 0, \"position\": 19, \"aa_token\": \"T\"}, {\"embedding\": 2.6771605014801025, \"dimension\": 0, \"position\": 20, \"aa_token\": \"T\"}, {\"embedding\": 1.6263649463653564, \"dimension\": 0, \"position\": 21, \"aa_token\": \"R\"}, {\"embedding\": 0.3884746730327606, \"dimension\": 0, \"position\": 22, \"aa_token\": \"T\"}, {\"embedding\": -5.384799480438232, \"dimension\": 0, \"position\": 23, \"aa_token\": \"Q\"}, {\"embedding\": -1.0205332040786743, \"dimension\": 0, \"position\": 24, \"aa_token\": \"L\"}, {\"embedding\": -0.0, \"dimension\": 0, \"position\": 25, \"aa_token\": \"P\"}, {\"embedding\": 1.6152926683425903, \"dimension\": 0, \"position\": 26, \"aa_token\": \"P\"}, {\"embedding\": 0.0, \"dimension\": 0, \"position\": 27, \"aa_token\": \"A\"}, {\"embedding\": -0.1429092288017273, \"dimension\": 0, \"position\": 28, \"aa_token\": \"Y\"}, {\"embedding\": -1.4736530780792236, \"dimension\": 0, \"position\": 29, \"aa_token\": \"<end>\"}, {\"embedding\": -0.1511663943529129, \"dimension\": 1, \"position\": 0, \"aa_token\": \"<start>\"}, {\"embedding\": 2.808617115020752, \"dimension\": 1, \"position\": 1, \"aa_token\": \"M\"}, {\"embedding\": -3.2997756004333496, \"dimension\": 1, \"position\": 2, \"aa_token\": \"F\"}, {\"embedding\": -2.3826143741607666, \"dimension\": 1, \"position\": 3, \"aa_token\": \"V\"}, {\"embedding\": -3.8894455432891846, \"dimension\": 1, \"position\": 4, \"aa_token\": \"F\"}, {\"embedding\": 1.3183012008666992, \"dimension\": 1, \"position\": 5, \"aa_token\": \"L\"}, {\"embedding\": 2.4593539237976074, \"dimension\": 1, \"position\": 6, \"aa_token\": \"V\"}, {\"embedding\": 0.8376691937446594, \"dimension\": 1, \"position\": 7, \"aa_token\": \"L\"}, {\"embedding\": 0.25275421142578125, \"dimension\": 1, \"position\": 8, \"aa_token\": \"L\"}, {\"embedding\": -2.373563289642334, \"dimension\": 1, \"position\": 9, \"aa_token\": \"P\"}, {\"embedding\": -1.4692821502685547, \"dimension\": 1, \"position\": 10, \"aa_token\": \"L\"}, {\"embedding\": 0.004917442332953215, \"dimension\": 1, \"position\": 11, \"aa_token\": \"V\"}, {\"embedding\": 3.1850028038024902, \"dimension\": 1, \"position\": 12, \"aa_token\": \"S\"}, {\"embedding\": 0.0, \"dimension\": 1, \"position\": 13, \"aa_token\": \"S\"}, {\"embedding\": -1.2389683723449707, \"dimension\": 1, \"position\": 14, \"aa_token\": \"Q\"}, {\"embedding\": -3.175994873046875, \"dimension\": 1, \"position\": 15, \"aa_token\": \"C\"}, {\"embedding\": -2.3023362159729004, \"dimension\": 1, \"position\": 16, \"aa_token\": \"V\"}, {\"embedding\": 1.6380525827407837, \"dimension\": 1, \"position\": 17, \"aa_token\": \"N\"}, {\"embedding\": 2.25347900390625, \"dimension\": 1, \"position\": 18, \"aa_token\": \"L\"}, {\"embedding\": 1.5878455638885498, \"dimension\": 1, \"position\": 19, \"aa_token\": \"T\"}, {\"embedding\": 0.14624489843845367, \"dimension\": 1, \"position\": 20, \"aa_token\": \"T\"}, {\"embedding\": 0.778981626033783, \"dimension\": 1, \"position\": 21, \"aa_token\": \"R\"}, {\"embedding\": -3.349719524383545, \"dimension\": 1, \"position\": 22, \"aa_token\": \"T\"}, {\"embedding\": -2.9014132022857666, \"dimension\": 1, \"position\": 23, \"aa_token\": \"Q\"}, {\"embedding\": 1.6671838760375977, \"dimension\": 1, \"position\": 24, \"aa_token\": \"L\"}, {\"embedding\": 1.1013364791870117, \"dimension\": 1, \"position\": 25, \"aa_token\": \"P\"}, {\"embedding\": 0.0, \"dimension\": 1, \"position\": 26, \"aa_token\": \"P\"}, {\"embedding\": 0.7662203907966614, \"dimension\": 1, \"position\": 27, \"aa_token\": \"A\"}, {\"embedding\": -1.0695621967315674, \"dimension\": 1, \"position\": 28, \"aa_token\": \"Y\"}, {\"embedding\": -0.6579463481903076, \"dimension\": 1, \"position\": 29, \"aa_token\": \"<end>\"}, {\"embedding\": -0.809219479560852, \"dimension\": 2, \"position\": 0, \"aa_token\": \"<start>\"}, {\"embedding\": -0.6952341794967651, \"dimension\": 2, \"position\": 1, \"aa_token\": \"M\"}, {\"embedding\": -0.05318101495504379, \"dimension\": 2, \"position\": 2, \"aa_token\": \"F\"}, {\"embedding\": 0.1542201191186905, \"dimension\": 2, \"position\": 3, \"aa_token\": \"V\"}, {\"embedding\": 0.17499376833438873, \"dimension\": 2, \"position\": 4, \"aa_token\": \"F\"}, {\"embedding\": 1.6357789039611816, \"dimension\": 2, \"position\": 5, \"aa_token\": \"L\"}, {\"embedding\": 2.353905439376831, \"dimension\": 2, \"position\": 6, \"aa_token\": \"V\"}, {\"embedding\": 1.8573064804077148, \"dimension\": 2, \"position\": 7, \"aa_token\": \"L\"}, {\"embedding\": 1.9656277894973755, \"dimension\": 2, \"position\": 8, \"aa_token\": \"L\"}, {\"embedding\": 0.45077624917030334, \"dimension\": 2, \"position\": 9, \"aa_token\": \"P\"}, {\"embedding\": 0.0, \"dimension\": 2, \"position\": 10, \"aa_token\": \"L\"}, {\"embedding\": 2.8846638202667236, \"dimension\": 2, \"position\": 11, \"aa_token\": \"V\"}, {\"embedding\": 0.06500214338302612, \"dimension\": 2, \"position\": 12, \"aa_token\": \"S\"}, {\"embedding\": 0.1613781601190567, \"dimension\": 2, \"position\": 13, \"aa_token\": \"S\"}, {\"embedding\": 1.506148338317871, \"dimension\": 2, \"position\": 14, \"aa_token\": \"Q\"}, {\"embedding\": 0.0, \"dimension\": 2, \"position\": 15, \"aa_token\": \"C\"}, {\"embedding\": 3.3503646850585938, \"dimension\": 2, \"position\": 16, \"aa_token\": \"V\"}, {\"embedding\": 2.52445387840271, \"dimension\": 2, \"position\": 17, \"aa_token\": \"N\"}, {\"embedding\": 2.9060587882995605, \"dimension\": 2, \"position\": 18, \"aa_token\": \"L\"}, {\"embedding\": 0.9331058859825134, \"dimension\": 2, \"position\": 19, \"aa_token\": \"T\"}, {\"embedding\": 1.0042740106582642, \"dimension\": 2, \"position\": 20, \"aa_token\": \"T\"}, {\"embedding\": 0.0, \"dimension\": 2, \"position\": 21, \"aa_token\": \"R\"}, {\"embedding\": 0.0, \"dimension\": 2, \"position\": 22, \"aa_token\": \"T\"}, {\"embedding\": 2.178961992263794, \"dimension\": 2, \"position\": 23, \"aa_token\": \"Q\"}, {\"embedding\": 3.292984962463379, \"dimension\": 2, \"position\": 24, \"aa_token\": \"L\"}, {\"embedding\": 3.3510167598724365, \"dimension\": 2, \"position\": 25, \"aa_token\": \"P\"}, {\"embedding\": 3.3945276737213135, \"dimension\": 2, \"position\": 26, \"aa_token\": \"P\"}, {\"embedding\": 1.0555531978607178, \"dimension\": 2, \"position\": 27, \"aa_token\": \"A\"}, {\"embedding\": 1.279187798500061, \"dimension\": 2, \"position\": 28, \"aa_token\": \"Y\"}, {\"embedding\": 1.206716775894165, \"dimension\": 2, \"position\": 29, \"aa_token\": \"<end>\"}, {\"embedding\": 1.1111111640930176, \"dimension\": 3, \"position\": 0, \"aa_token\": \"<start>\"}, {\"embedding\": 0.09575851261615753, \"dimension\": 3, \"position\": 1, \"aa_token\": \"M\"}, {\"embedding\": 2.925724744796753, \"dimension\": 3, \"position\": 2, \"aa_token\": \"F\"}, {\"embedding\": 1.1003563404083252, \"dimension\": 3, \"position\": 3, \"aa_token\": \"V\"}, {\"embedding\": 1.0920155048370361, \"dimension\": 3, \"position\": 4, \"aa_token\": \"F\"}, {\"embedding\": 4.985103607177734, \"dimension\": 3, \"position\": 5, \"aa_token\": \"L\"}, {\"embedding\": 3.100454330444336, \"dimension\": 3, \"position\": 6, \"aa_token\": \"V\"}, {\"embedding\": 0.0, \"dimension\": 3, \"position\": 7, \"aa_token\": \"L\"}, {\"embedding\": 4.882453441619873, \"dimension\": 3, \"position\": 8, \"aa_token\": \"L\"}, {\"embedding\": 2.6300151348114014, \"dimension\": 3, \"position\": 9, \"aa_token\": \"P\"}, {\"embedding\": 0.9935538172721863, \"dimension\": 3, \"position\": 10, \"aa_token\": \"L\"}, {\"embedding\": 0.9694042205810547, \"dimension\": 3, \"position\": 11, \"aa_token\": \"V\"}, {\"embedding\": 0.9431664347648621, \"dimension\": 3, \"position\": 12, \"aa_token\": \"S\"}, {\"embedding\": 0.0, \"dimension\": 3, \"position\": 13, \"aa_token\": \"S\"}, {\"embedding\": 0.8846569657325745, \"dimension\": 3, \"position\": 14, \"aa_token\": \"Q\"}, {\"embedding\": 3.2089641094207764, \"dimension\": 3, \"position\": 15, \"aa_token\": \"C\"}, {\"embedding\": 2.5423238277435303, \"dimension\": 3, \"position\": 16, \"aa_token\": \"V\"}, {\"embedding\": 0.7827839851379395, \"dimension\": 3, \"position\": 17, \"aa_token\": \"N\"}, {\"embedding\": 0.7453526258468628, \"dimension\": 3, \"position\": 18, \"aa_token\": \"L\"}, {\"embedding\": 0.7063157558441162, \"dimension\": 3, \"position\": 19, \"aa_token\": \"T\"}, {\"embedding\": 1.6033594608306885, \"dimension\": 3, \"position\": 20, \"aa_token\": \"T\"}, {\"embedding\": 0.6237649321556091, \"dimension\": 3, \"position\": 21, \"aa_token\": \"R\"}, {\"embedding\": 1.4126871824264526, \"dimension\": 3, \"position\": 22, \"aa_token\": \"T\"}, {\"embedding\": 0.0, \"dimension\": 3, \"position\": 23, \"aa_token\": \"Q\"}, {\"embedding\": 3.6639814376831055, \"dimension\": 3, \"position\": 24, \"aa_token\": \"L\"}, {\"embedding\": 1.3512667417526245, \"dimension\": 3, \"position\": 25, \"aa_token\": \"P\"}, {\"embedding\": 1.2445635795593262, \"dimension\": 3, \"position\": 26, \"aa_token\": \"P\"}, {\"embedding\": 0.09773518145084381, \"dimension\": 3, \"position\": 27, \"aa_token\": \"A\"}, {\"embedding\": -0.7063321471214294, \"dimension\": 3, \"position\": 28, \"aa_token\": \"Y\"}, {\"embedding\": 0.24760942161083221, \"dimension\": 3, \"position\": 29, \"aa_token\": \"<end>\"}, {\"embedding\": -2.2627933025360107, \"dimension\": 4, \"position\": 0, \"aa_token\": \"<start>\"}, {\"embedding\": 0.16154594719409943, \"dimension\": 4, \"position\": 1, \"aa_token\": \"M\"}, {\"embedding\": 0.0047876182943582535, \"dimension\": 4, \"position\": 2, \"aa_token\": \"F\"}, {\"embedding\": 0.07768639922142029, \"dimension\": 4, \"position\": 3, \"aa_token\": \"V\"}, {\"embedding\": -0.0, \"dimension\": 4, \"position\": 4, \"aa_token\": \"F\"}, {\"embedding\": 0.011968851089477539, \"dimension\": 4, \"position\": 5, \"aa_token\": \"L\"}, {\"embedding\": 0.0937330573797226, \"dimension\": 4, \"position\": 6, \"aa_token\": \"V\"}, {\"embedding\": -1.0671721696853638, \"dimension\": 4, \"position\": 7, \"aa_token\": \"L\"}, {\"embedding\": -1.0618237257003784, \"dimension\": 4, \"position\": 8, \"aa_token\": \"L\"}, {\"embedding\": -0.8299578428268433, \"dimension\": 4, \"position\": 9, \"aa_token\": \"P\"}, {\"embedding\": -1.051127314567566, \"dimension\": 4, \"position\": 10, \"aa_token\": \"L\"}, {\"embedding\": 0.12047417461872101, \"dimension\": 4, \"position\": 11, \"aa_token\": \"V\"}, {\"embedding\": 0.0, \"dimension\": 4, \"position\": 12, \"aa_token\": \"S\"}, {\"embedding\": 0.031115546822547913, \"dimension\": 4, \"position\": 13, \"aa_token\": \"S\"}, {\"embedding\": -0.0, \"dimension\": 4, \"position\": 14, \"aa_token\": \"Q\"}, {\"embedding\": 1.8020333051681519, \"dimension\": 4, \"position\": 15, \"aa_token\": \"C\"}, {\"embedding\": 0.14720845222473145, \"dimension\": 4, \"position\": 16, \"aa_token\": \"V\"}, {\"embedding\": 0.0, \"dimension\": 4, \"position\": 17, \"aa_token\": \"N\"}, {\"embedding\": -1.0083543062210083, \"dimension\": 4, \"position\": 18, \"aa_token\": \"L\"}, {\"embedding\": 0.7904974818229675, \"dimension\": 4, \"position\": 19, \"aa_token\": \"T\"}, {\"embedding\": 0.7958419919013977, \"dimension\": 4, \"position\": 20, \"aa_token\": \"T\"}, {\"embedding\": 0.14297443628311157, \"dimension\": 4, \"position\": 21, \"aa_token\": \"R\"}, {\"embedding\": 0.8065292835235596, \"dimension\": 4, \"position\": 22, \"aa_token\": \"T\"}, {\"embedding\": -0.26991912722587585, \"dimension\": 4, \"position\": 23, \"aa_token\": \"Q\"}, {\"embedding\": 0.05742599815130234, \"dimension\": 4, \"position\": 24, \"aa_token\": \"L\"}, {\"embedding\": -0.7444330453872681, \"dimension\": 4, \"position\": 25, \"aa_token\": \"P\"}, {\"embedding\": 0.0, \"dimension\": 4, \"position\": 26, \"aa_token\": \"P\"}, {\"embedding\": 1.1242560148239136, \"dimension\": 4, \"position\": 27, \"aa_token\": \"A\"}, {\"embedding\": 1.0894488096237183, \"dimension\": 4, \"position\": 28, \"aa_token\": \"Y\"}, {\"embedding\": 0.06937552243471146, \"dimension\": 4, \"position\": 29, \"aa_token\": \"<end>\"}, {\"embedding\": 3.5774765014648438, \"dimension\": 5, \"position\": 0, \"aa_token\": \"<start>\"}, {\"embedding\": 2.5425591468811035, \"dimension\": 5, \"position\": 1, \"aa_token\": \"M\"}, {\"embedding\": 1.2545554637908936, \"dimension\": 5, \"position\": 2, \"aa_token\": \"F\"}, {\"embedding\": -0.06593797355890274, \"dimension\": 5, \"position\": 3, \"aa_token\": \"V\"}, {\"embedding\": 1.254486322402954, \"dimension\": 5, \"position\": 4, \"aa_token\": \"F\"}, {\"embedding\": 1.1110466718673706, \"dimension\": 5, \"position\": 5, \"aa_token\": \"L\"}, {\"embedding\": -0.06609360873699188, \"dimension\": 5, \"position\": 6, \"aa_token\": \"V\"}, {\"embedding\": 2.2585761547088623, \"dimension\": 5, \"position\": 7, \"aa_token\": \"L\"}, {\"embedding\": 2.2584898471832275, \"dimension\": 5, \"position\": 8, \"aa_token\": \"L\"}, {\"embedding\": 0.0, \"dimension\": 5, \"position\": 9, \"aa_token\": \"P\"}, {\"embedding\": 1.1108533143997192, \"dimension\": 5, \"position\": 10, \"aa_token\": \"L\"}, {\"embedding\": -0.06658335775136948, \"dimension\": 5, \"position\": 11, \"aa_token\": \"V\"}, {\"embedding\": 1.6499781608581543, \"dimension\": 5, \"position\": 12, \"aa_token\": \"S\"}, {\"embedding\": 1.11067533493042, \"dimension\": 5, \"position\": 13, \"aa_token\": \"S\"}, {\"embedding\": 1.1106058359146118, \"dimension\": 5, \"position\": 14, \"aa_token\": \"Q\"}, {\"embedding\": 1.110530972480774, \"dimension\": 5, \"position\": 15, \"aa_token\": \"C\"}, {\"embedding\": -0.06736113131046295, \"dimension\": 5, \"position\": 16, \"aa_token\": \"V\"}, {\"embedding\": 1.8676930665969849, \"dimension\": 5, \"position\": 17, \"aa_token\": \"N\"}, {\"embedding\": 2.2569916248321533, \"dimension\": 5, \"position\": 18, \"aa_token\": \"L\"}, {\"embedding\": 0.0, \"dimension\": 5, \"position\": 19, \"aa_token\": \"T\"}, {\"embedding\": 2.042518138885498, \"dimension\": 5, \"position\": 20, \"aa_token\": \"T\"}, {\"embedding\": 0.0, \"dimension\": 5, \"position\": 21, \"aa_token\": \"R\"}, {\"embedding\": 1.10986328125, \"dimension\": 5, \"position\": 22, \"aa_token\": \"T\"}, {\"embedding\": 1.865740418434143, \"dimension\": 5, \"position\": 23, \"aa_token\": \"Q\"}, {\"embedding\": 0.0, \"dimension\": 5, \"position\": 24, \"aa_token\": \"L\"}, {\"embedding\": 1.1094998121261597, \"dimension\": 5, \"position\": 25, \"aa_token\": \"P\"}, {\"embedding\": 2.7070460319519043, \"dimension\": 5, \"position\": 26, \"aa_token\": \"P\"}, {\"embedding\": 1.1485427618026733, \"dimension\": 5, \"position\": 27, \"aa_token\": \"A\"}, {\"embedding\": 4.05039119720459, \"dimension\": 5, \"position\": 28, \"aa_token\": \"Y\"}, {\"embedding\": 4.489547252655029, \"dimension\": 5, \"position\": 29, \"aa_token\": \"<end>\"}]}}, {\"mode\": \"vega-lite\"});\n",
       "</script>"
      ],
      "text/plain": [
       "alt.Chart(...)"
      ]
     },
     "execution_count": 31,
     "metadata": {},
     "output_type": "execute_result"
    }
   ],
   "source": [
    "def test_encoding():\n",
    "    embedding_dim = 6\n",
    "    dropout = 0.1\n",
    "    padding_idx = 25\n",
    "\n",
    "    max_len = 30    # test only the first 30 aas.\n",
    "    seq = test_seqs[0][:max_len-2]    \n",
    "\n",
    "    test_seq_encode = SeqEncoding(n_tokens, embedding_dim, dropout, max_len, padding_idx)\n",
    "    test_pe_encode = PositionalEncoding(embedding_dim, dropout, max_len)\n",
    "    y = test_pe_encode.forward(test_seq_encode(seq))\n",
    "    print(f'Embedding shape: {y.shape}')\n",
    "    print(f'Parameters shape in sequence embedding: {test_seq_encode.token_embedding.weight.shape}')\n",
    "\n",
    "    y = y.detach().numpy()\n",
    "\n",
    "\n",
    "    data = pd.concat([pd.DataFrame({\n",
    "        \"embedding\": y[:, dim],\n",
    "        \"dimension\":dim,\n",
    "        \"position\": list(range(max_len)),\n",
    "        })for dim in range(6)])\n",
    "    \n",
    "    aa = ['<start>']\n",
    "    aa.extend(_ for _ in seq)\n",
    "    aa.append('<end>')\n",
    "    data['aa_token'] = aa * embedding_dim\n",
    "\n",
    "    print(data)\n",
    "\n",
    "    return (\n",
    "        alt.Chart(data)\n",
    "        .mark_line()\n",
    "        .properties(width=800)\n",
    "        .encode(x=\"position\", y=\"embedding\", color=\"dimension:N\")\n",
    "        .interactive())\n",
    "\n",
    "test_encoding()\n"
   ]
  },
  {
   "attachments": {},
   "cell_type": "markdown",
   "metadata": {},
   "source": [
    "## Attention"
   ]
  },
  {
   "cell_type": "code",
   "execution_count": 32,
   "metadata": {},
   "outputs": [],
   "source": [
    "class Attention(nn.Module):\n",
    "    \"\"\"Single head scaled dot product attention\"\"\"\n",
    "    def __init__(self):\n",
    "        super().__init__()\n",
    "\n",
    "    def forward(self, query, key, value, mask=None, dropout=None):\n",
    "        d_k = query.size(-1)\n",
    "        scores = torch.matmul(query, key.transpose(-2, -1)) / math.sqrt(d_k)    #sqrt(d_k) is the scaling factor.\n",
    "\n",
    "        if mask is not None:\n",
    "            scores = scores.masked_fill(mask==0, -1e9)\n",
    "        \n",
    "        p_attn = scores.softmax(dim=-1)\n",
    "        if dropout is not None:\n",
    "            p_attn = dropout(p_attn)\n",
    "    \n",
    "        return torch.matmul(p_attn, value), p_attn "
   ]
  },
  {
   "cell_type": "code",
   "execution_count": 35,
   "metadata": {},
   "outputs": [],
   "source": [
    "class MultiHeadedAttention(nn.Module):\n",
    "    \"\"\"\n",
    "    Multi-head attention\n",
    "\n",
    "    h: numer of heads\n",
    "    d_model: model size\n",
    "    \n",
    "    \"\"\"\n",
    "    def __init__(self, h:int, d_model:int, n_linear: int=4, dropout=0.1):\n",
    "        super().__init__()\n",
    "        assert d_model % h == 0 # d_model/h is used as d_k and d_v\n",
    "\n",
    "        self.d_k = d_model // h\n",
    "        self.h = h\n",
    "        self.linears = nn.ModuleList([nn.Linear(d_model, d_model) for _ in range(n_linear)])  # n layers of linear model with the same input and output size\n",
    "        self.output_linear = nn.Linear(d_model, d_model)    # Output lienar model. This implementation follows BERT-pytorch instead of using the last linear layer, which is found in the annotated transformer.\n",
    "        self.attn = Attention() # The forward function in Attention class is called since no hooks are defined in Attention class. See __call__() and _call_impl() in nn.Module implementation.\n",
    "\n",
    "        self.dropout = nn.Dropout(p=dropout)\n",
    "\n",
    "    def forward(self, query, key, value, mask=None):\n",
    "        if mask is not None:\n",
    "            mask = mask.unsqueeze(1)    # same mask applied to all heads\n",
    "        n_batches = query.size(0)\n",
    "\n",
    "        # 1) Linear projections in batch from d_model => h x d_k\n",
    "        query, key, value = [lin(x).view(n_batches, -1, self.h, self.d_k).transpose(1, 2)\n",
    "                             for lin, x in zip(self.linears, (query, key, value))]\n",
    "        \n",
    "        # 2) Apply attention on all the projected vectors in batch\n",
    "        x, attn = self.attn(query, key, value, mask=mask, dropout = self.dropout)   # Returned attn is not needed since x has already been weighted by attention in Attention.forward().\n",
    "\n",
    "        # 3) \"Concat using a view and apply a final linear\"\n",
    "        x = (x.transpose(1, 2)\n",
    "             .contiguous()\n",
    "             .view(n_batches, -1, self.h * self.d_k))\n",
    "        \n",
    "        # del query\n",
    "        # del key\n",
    "        # del value\n",
    "        return self.output_linear(x)"
   ]
  },
  {
   "attachments": {},
   "cell_type": "markdown",
   "metadata": {},
   "source": [
    "## Layer Normalization\n",
    "\n",
    "Linear regression based layer normalization with parameters a_2 and b_2. An arbituary small value (epsilon or eps) is added to std to avoid the error when std is 0."
   ]
  },
  {
   "cell_type": "code",
   "execution_count": 36,
   "metadata": {},
   "outputs": [],
   "source": [
    "class LayerNorm(nn.Module):\n",
    "    \"\"\"\n",
    "    Construct a layernorm module\n",
    "    \n",
    "\n",
    "    The normalization is a linear transformation of z-score. A small float\n",
    "    number (eps) is added to std incase std is zero.\n",
    "    \n",
    "    \"\"\"\n",
    "\n",
    "    def __init__(self, features: torch.tensor, eps: float=1e-6):\n",
    "        super().__init__()\n",
    "        self.a_2 = nn.Parameter(torch.ones(features))\n",
    "        self.b_2 = nn.Parameter(torch.zeros(features))\n",
    "        self.eps = eps\n",
    "\n",
    "    def forward(self, x):\n",
    "        mean = x.mean(-1, keepdim=True)\n",
    "        std = x.std(-1, keepdim=True)\n",
    "        return self.a_2 * (x-mean) / (std + self.eps) + self.b_2"
   ]
  },
  {
   "attachments": {},
   "cell_type": "markdown",
   "metadata": {},
   "source": [
    "## Residual Connection"
   ]
  },
  {
   "cell_type": "code",
   "execution_count": 37,
   "metadata": {},
   "outputs": [],
   "source": [
    "class SublayerConnection(nn.Module):\n",
    "    \"\"\"A residual connection followed by a layer norm.\n",
    "    Note for code simplicity the norm is first as opposed to last.\n",
    "    \"\"\"\n",
    "\n",
    "    def __init__(self, size, dropout):\n",
    "        super().__init__()\n",
    "        self.norm = LayerNorm(size)\n",
    "        self.dropout = nn.Dropout(dropout)\n",
    "\n",
    "    def forward(self, x, sublayer):\n",
    "        \"Apply residual connection to any sublayer with the same size\"\n",
    "        return x + self.dropout(sublayer(self.norm(x)))"
   ]
  },
  {
   "attachments": {},
   "cell_type": "markdown",
   "metadata": {},
   "source": [
    "## Positionwise Feed Forward"
   ]
  },
  {
   "cell_type": "code",
   "execution_count": 38,
   "metadata": {},
   "outputs": [],
   "source": [
    "class PositionwiseFeedForward(nn.Module):\n",
    "    \"\"\"Implements FFN equation.\"\"\"\n",
    "\n",
    "    def __init__(self, d_model, d_ff, dropout=0.1):\n",
    "        super().__init__()\n",
    "        self.w_1 = nn.Linear(d_model, d_ff)\n",
    "        self.w_2 = nn.Linear(d_ff, d_model)\n",
    "        self.dropout = nn.Dropout(dropout)\n",
    "        self.activation = nn.GELU()\n",
    "\n",
    "    def forward(self, x):\n",
    "        return self.w_2(self.dropout(self.activation(self.w_1(x))))"
   ]
  },
  {
   "attachments": {},
   "cell_type": "markdown",
   "metadata": {},
   "source": [
    "## Transformer"
   ]
  },
  {
   "cell_type": "code",
   "execution_count": 39,
   "metadata": {},
   "outputs": [],
   "source": [
    "class TransformerBlock(nn.Module):\n",
    "    \"\"\"Transformer\"\"\"\n",
    "\n",
    "    def __init__(self, hidden, attn_heads, feed_forward_hidden, dropout):\n",
    "        \"\"\"\n",
    "        hidden: hidden size of transformer\n",
    "        attn_heads: number of attention heads\n",
    "        feed_forward_hidden: feed forward layer hidden size, usually 4 * hidden_size\n",
    "        dropout: dropout ratio\n",
    "        \"\"\"\n",
    "\n",
    "        super().__init__()\n",
    "        self.attention = MultiHeadedAttention(h=attn_heads, d_model=hidden)\n",
    "        self.feed_forward = PositionwiseFeedForward(d_model=hidden, d_ff=feed_forward_hidden, dropout=dropout)\n",
    "        self.input_sublayer = SublayerConnection(size=hidden, dropout=dropout)\n",
    "        self.output_sublayer = SublayerConnection(size=hidden, dropout=dropout)\n",
    "        self.dropout = nn.Dropout(p=dropout)\n",
    "\n",
    "    def forward(self, x, mask):\n",
    "        x = self.input_sublayer(x, lambda _x: self.attention.foward(_x, _x, _x, mask=mask))\n",
    "        x = self.output_sublayer(x, self.feed_forward)\n",
    "        return self.dropout(x)\n",
    "    "
   ]
  },
  {
   "cell_type": "code",
   "execution_count": 40,
   "metadata": {},
   "outputs": [],
   "source": [
    "tmp = TransformerBlock(12, 12, 2, 0.1)"
   ]
  },
  {
   "attachments": {},
   "cell_type": "markdown",
   "metadata": {},
   "source": [
    "# BERT\n",
    "\n",
    "Here we define a model based on BERT. Part of the implementation is based on [BERT-pytorch](https://github.com/codertimo/BERT-pytorch)"
   ]
  },
  {
   "cell_type": "code",
   "execution_count": 41,
   "metadata": {},
   "outputs": [],
   "source": [
    "def clones(module, n):\n",
    "    \"\"\"Produce N identical layers\"\"\"\n",
    "    return nn.ModuleList([copy.deepcopy(module) for _ in range(n)])"
   ]
  },
  {
   "cell_type": "code",
   "execution_count": 43,
   "metadata": {},
   "outputs": [],
   "source": [
    "class BERT(nn.Module):\n",
    "    \"\"\"\n",
    "    BERT model\n",
    "    \"\"\"\n",
    "\n",
    "    def __init__(self, \n",
    "                 vocab_size: int=26,\n",
    "                 padding_idx: int=25,\n",
    "                 hidden: int=768, \n",
    "                 n_transformer_layers: int=12, \n",
    "                 attn_heads: int=12,\n",
    "                 dropout: float=0.1):\n",
    "        \"\"\"\n",
    "        vacab_size: vacabulary or token size\n",
    "        hidden: BERT model size (used as input size and hidden size)\n",
    "        n_layers: number of Transformer layers\n",
    "        attn_heads: attenion heads\n",
    "        dropout: dropout ratio\n",
    "        \"\"\"\n",
    "\n",
    "        super().__init__()\n",
    "        self.hidden  = hidden\n",
    "        self.n_transformer_layers = n_transformer_layers\n",
    "        self.attn_heads = attn_heads\n",
    "\n",
    "        # 4 * hidden_size for FFN\n",
    "        self.feed_forward_hidden = hidden * 4\n",
    "\n",
    "        # embeddings with sequence and postion\n",
    "        self.embedding = SeqEncoding(vocab_size=vocab_size,\n",
    "                                     embedding_dim=hidden,\n",
    "                                     dropout=dropout,\n",
    "                                     max_len=1500,\n",
    "                                     padding_idx=padding_idx)\n",
    "\n",
    "        self.transformer_blocks = clones(TransformerBlock(hidden, \n",
    "                                                          attn_heads, \n",
    "                                                          self.feed_forward_hidden,\n",
    "                                                          dropout), n_transformer_layers)\n",
    "\n",
    "    def forward(self, x: torch.Tensor):\n",
    "\n",
    "        mask = (x > 0).unsqueeze(1).repeat(1, x.size(1), 1).unsqueeze(1)\n",
    "        \n",
    "        x = self.embedding(x)   # sequence and position embedding in one step.\n",
    "\n",
    "        for transformer in self.transformer_blocks:\n",
    "            x = transformer.forward(x, mask)\n",
    "\n",
    "        return x"
   ]
  },
  {
   "cell_type": "code",
   "execution_count": null,
   "metadata": {},
   "outputs": [],
   "source": [
    "#num_parameters_seq_encoding = sum(p.numel() for p in test_seq_encode.parameters() if p.requires_grad)\n",
    "#print(f'Parameters in SeqEncoding: {num_parameters_seq_encoding}')"
   ]
  },
  {
   "attachments": {},
   "cell_type": "markdown",
   "metadata": {},
   "source": [
    "## BERT-based Protein Language Model"
   ]
  },
  {
   "cell_type": "code",
   "execution_count": 171,
   "metadata": {},
   "outputs": [],
   "source": [
    "## Cannot use next word (next amino acid) prediction in a BERT model since both directions are used in self-attention.\n",
    "\"\"\" class NextAminoAcidPrediction(nn.Module):\n",
    "    \"\"\"2-class classifciation model: is_next, is_not_next\"\"\"\n",
    "    def __init__(self, hidden):\n",
    "        super().__init__()\n",
    "        self.lienar = nn.Linear(hidden, 2)\n",
    "        self.softmax = nn.LogSoftmax(dim=-1)\n",
    "\n",
    "    def forward(self, x):\n",
    "        return self.softmax(self.linear(x[:, 0])) \"\"\""
   ]
  },
  {
   "cell_type": "code",
   "execution_count": 45,
   "metadata": {},
   "outputs": [],
   "source": [
    "class ProteinMaskedLanguageModel(nn.Module):\n",
    "    \"\"\"Masked language model for protein sequences\"\"\"\n",
    "\n",
    "    def __init__(self, hidden: int, vocab_size: int):\n",
    "        \"\"\"\n",
    "        hidden: input size of the hidden linear layers\n",
    "        vocab_size: vocabulary size\n",
    "        \"\"\"\n",
    "\n",
    "        super().__init__()\n",
    "        self.linear = nn.Linear(hidden, vocab_size)\n",
    "        self.softmax = nn.LogSoftmax(dim=-1)\n",
    "\n",
    "    def forward(self, x):\n",
    "        return self.softmax(self.linear(x))"
   ]
  },
  {
   "cell_type": "code",
   "execution_count": 46,
   "metadata": {},
   "outputs": [],
   "source": [
    "class ProteinLM(nn.Module):\n",
    "    \"\"\"\"\n",
    "    BERT protein language model\n",
    "    \"\"\"\n",
    "\n",
    "    def __init__(self, bert: BERT, vocab_size):\n",
    "        super().__init__()\n",
    "        self.bert = bert\n",
    "        # self.next_amino_acid = NextAminoAcidPrediction(self.bert.hidden)  # Cannot use next word prediction in a BERT model.\n",
    "        self.mlm = ProteinMaskedLanguageModel(self.bert.hidden, vocab_size)\n",
    "\n",
    "    def forward(self, x):\n",
    "        x = self.bert(x)\n",
    "        return self.mlm(x)"
   ]
  },
  {
   "attachments": {},
   "cell_type": "markdown",
   "metadata": {},
   "source": [
    "## Model Training"
   ]
  },
  {
   "cell_type": "code",
   "execution_count": 47,
   "metadata": {},
   "outputs": [],
   "source": [
    "class ScheduledOptim():\n",
    "    \"\"\"A simple wrapper class for learning rate scheduling.\"\"\"\n",
    "\n",
    "    def __init__(self, optimizer, d_model: int, n_warmup_steps):\n",
    "        self._optimizer=optimizer\n",
    "        self.n_warmup_steps = n_warmup_steps\n",
    "        self.n_current_steps = 0\n",
    "        self.init_lr = np.power(d_model, -0.5)\n",
    "\n",
    "    def step_and_update_lr(self):\n",
    "        \"Step with the inner optimizer\"\n",
    "        self._update_learning_rate()\n",
    "        self._optimizer.step()\n",
    "\n",
    "    def zero_grad(self):\n",
    "        \"Zero out the gradients by the inner optimizer\"\n",
    "        self._optimizer.zero_grad()\n",
    "\n",
    "    def _get_lr_scale(self):\n",
    "        return np.min([\n",
    "            np.power(self.n_current_steps, -0.5),\n",
    "            np.power(self.n_warmup_steps, -1.5) * self.n_current_steps])\n",
    "\n",
    "    def _update_learning_rate(self):\n",
    "        \"\"\"Learning rate scheduling per step\"\"\"\n",
    "        self.n_current_steps += 1\n",
    "        lr = self.init_lr * self._get_lr_scale()\n",
    "\n",
    "        for param_group in self._optimizer.param_groups:\n",
    "            param_group['lr'] = lr"
   ]
  },
  {
   "cell_type": "code",
   "execution_count": 175,
   "metadata": {},
   "outputs": [],
   "source": [
    "class BPTrainer:\n",
    "    \"\"\"\n",
    "    Model trainer\n",
    "\n",
    "    Pretrain BERT Protein model with the masked language model.\n",
    "    \"\"\"\n",
    "\n",
    "    def __init__(self, \n",
    "                 bert: BERTProtein,\n",
    "                 vocab_size: int,\n",
    "                 train_dataloader: DataLoader,\n",
    "                 test_dataloader: DataLoader = None,\n",
    "                 lr: float=1e-4,\n",
    "                 betas=(0.9, 0.999),\n",
    "                 weight_decay: float=0.01,\n",
    "                 warmup_steps: int=10000,\n",
    "                 with_cuda: bool = True,\n",
    "                 cuda_device = None,\n",
    "                 log_freq: int = 10\n",
    "                 ):\n",
    "        \n",
    "        # Use CUDA device if it is available and with_cuda is Truegb\n",
    "        cuda_condition = torch.cuda.is_available() and with_cuda\n",
    "        self.device = torch.device(\"cuda:0\" if cuda_condition else \"cpu\")\n",
    "\n",
    "        # Distributed GPU training if more than one CUDA device is detected.\n",
    "        if with_cuda and torch.cuda.device_count() > 1:\n",
    "            print(f\"Using {torch.cuda.device_count()} GPUs for BERT.\")\n",
    "\n",
    "        # This BERT model will be saved every epoch\n",
    "        self.bert = bert\n",
    "        self.model = ProteinMaskedLanguageModel(bert, vocab_size).to(self.device)\n",
    "\n",
    "        self.train_data = train_dataloader\n",
    "        self.test_data = test_dataloader\n",
    "\n",
    "        # Setting the Adam optimizer with hpyer-param\n",
    "        self.optim = Adam(self.model.parameters(), lr=lr, betas=betas, weight_decay=weight_decay)\n",
    "        self.optim_schedule = ScheduledOptim(self.optim, self.bert.hidden, n_warmup_steps=warmup_steps)\n",
    "\n",
    "        # Using negative log likelyhood loss function for predicting the masked_token\n",
    "        self.criterion = nn.NLLLoss(ignore_index=0) #TODO: check if ignore_index should be set differently.\n",
    "        \n",
    "        self.log_freq = log_freq\n",
    "\n",
    "        print(f'Total parameters: {sum(p.numel() for p in self.model.parameters() if p.requires_grad)}')\n",
    "\n",
    "    def train(self, epoch: int=10):\n",
    "        self.iteration(epoch, self.train_data)\n",
    "\n",
    "    def test(self, epoch: int=10):\n",
    "        self.iteration(epoch, self.test_data, train=False)\n",
    "\n",
    "    def iteration(self, epoch, data_loader, train: bool=True):\n",
    "        \"\"\"\n",
    "        Loop over the data_loader for training or testing.\n",
    "\n",
    "        If on train status, backward operation is activated and also auto save the model every epoch.\n",
    "        \"\"\"\n",
    "        str_code = \"train\" if train else \"test\"\n",
    "\n",
    "        # set the tqdm progress bar\n",
    "        data_iter = tqdm.tqdm(enumerate(data_loader),\n",
    "                              desc=f'EP_{str_code}: {epoch}',\n",
    "                              total = len(data_loader),\n",
    "                              bar_format='{l_bar}{r_bar}')\n",
    "\n",
    "        avg_loss = 0.0\n",
    "        total_correct = 0\n",
    "        total_element = 0\n",
    "\n",
    "        for i, data in data_iter:\n",
    "            data = {key: value.to(self.device) for key, value in data.items()}\n",
    "\n",
    "            #TODO: get the masked sequence out.\n",
    "            next_aa_predicted, mlm_predicted = self.model.forward(data['bert_input'], ...) \n",
    "\n",
    "\n",
    "\n",
    "\n",
    "        \n",
    "\n",
    "        "
   ]
  },
  {
   "cell_type": "code",
   "execution_count": 174,
   "metadata": {},
   "outputs": [
    {
     "name": "stdout",
     "output_type": "stream",
     "text": [
      "Total parameters in MLM: 92183068\n"
     ]
    }
   ],
   "source": [
    "def test_model():\n",
    "    vocab_size = 26\n",
    "    padding_idx = 25\n",
    "    bert_hidden = 768\n",
    "    n_transformer_layers = 12\n",
    "    n_attn_heads = 12\n",
    "    dropout = 0.1 \n",
    "\n",
    "    bert = BERT(26, padding_idx, bert_hidden, n_transformer_layers, n_attn_heads, dropout)\n",
    "    model = ProteinLM(bert, vocab_size)\n",
    "    n_params = sum(p.numel() for p in model.parameters() if p.requires_grad)\n",
    "    print(f'Total parameters in the model: {n_params}')\n",
    "\n",
    "\n",
    "test_model()\n",
    "    "
   ]
  }
 ],
 "metadata": {
  "kernelspec": {
   "display_name": "base",
   "language": "python",
   "name": "python3"
  },
  "language_info": {
   "codemirror_mode": {
    "name": "ipython",
    "version": 3
   },
   "file_extension": ".py",
   "mimetype": "text/x-python",
   "name": "python",
   "nbconvert_exporter": "python",
   "pygments_lexer": "ipython3",
   "version": "3.9.12"
  },
  "orig_nbformat": 4,
  "vscode": {
   "interpreter": {
    "hash": "3f28ad5bbb02419dfa4fc8e8c46da9bd89100d91bb344ce9fd3a3101abf33cb2"
   }
  }
 },
 "nbformat": 4,
 "nbformat_minor": 2
}
