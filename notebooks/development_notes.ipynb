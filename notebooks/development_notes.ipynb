{
 "cells": [
  {
   "attachments": {},
   "cell_type": "markdown",
   "metadata": {},
   "source": [
    "# Spike NLLP\n",
    "\n",
    "Below is a list of resources and reference used when developing this: \n",
    "[BERT-pytorch](https://github.com/codertimo/BERT-pytorch) BERT-pytorch is a PyTorch implementation of the BERT algorithm.\n",
    "\n",
    "\n",
    "\n",
    "## Embedding\n",
    "In the BERT implemetnation (bert_pytorch/model/bert.py), the masking is done after the second token (x>0) since in the original BERT paper, the first element of the input is always \\[CLS\\]. In our model, we will use the variant name as the \\[CLS\\] and the values are:\n",
    "[wt, alpha, delta, omicron, na], where \"na\" stands for not assigned."
   ]
  },
  {
   "cell_type": "code",
   "execution_count": 89,
   "metadata": {},
   "outputs": [],
   "source": [
    "import io\n",
    "import copy\n",
    "import math\n",
    "from Bio import SeqIO\n",
    "import torch\n",
    "import torch.nn as nn\n",
    "import pandas as pd\n",
    "import altair as alt\n",
    "# from bert_pytorch.model import BERT"
   ]
  },
  {
   "attachments": {},
   "cell_type": "markdown",
   "metadata": {},
   "source": [
    "## Tokenization and Vocabulary\n",
    "In [ProteinBERT](https://academic.oup.com/bioinformatics/article/38/8/2102/6502274), Brandes et al used 26 unique tokens to represent the 20 standard amino acids, selenocysteine (U), and undefined amino acid (X), another amino acid (OTHER) and three speical tokens \\<START\\>, \\<END\\>, \\<PAD\\>."
   ]
  },
  {
   "cell_type": "code",
   "execution_count": 90,
   "metadata": {},
   "outputs": [],
   "source": [
    "# Based on the source code of protein_bert\n",
    "# TODO: add a <TRUNCATED> token.\n",
    "ALL_AAS = 'ACDEFGHIKLMNPQRSTUVWXY'\n",
    "ADDITIONAL_TOKENS = ['<OTHER>', '<START>', '<END>', '<PAD>']\n",
    "\n",
    "# Each sequence is added <START> and <END>. \"<PAD>\" are added to sequence shorten than max_len.\n",
    "ADDED_TOKENS_PER_SEQ = 2\n",
    "\n",
    "n_aas = len(ALL_AAS)\n",
    "aa_to_token_index = {aa: i for i, aa in enumerate(ALL_AAS)}\n",
    "additional_token_to_index = {token: i + n_aas for i, token in enumerate(ADDITIONAL_TOKENS)}\n",
    "token_to_index = {**aa_to_token_index, **additional_token_to_index}\n",
    "index_to_token = {index: token for token, index in token_to_index.items()}\n",
    "n_tokens = len(token_to_index)\n",
    "\n",
    "def tokenize_seq(seq, max_len):\n",
    "    other_token_index = additional_token_to_index['<OTHER>']\n",
    "    token_seq = [additional_token_to_index['<START>']] + [aa_to_token_index.get(aa, other_token_index) for aa in seq]\n",
    "    if len(token_seq) < max_len - 1: # -1 is for the <END> token\n",
    "        len_pad = max_len -1 - len(token_seq)\n",
    "        token_seq.extend(token_to_index['<PAD>'] for _ in range(len_pad))\n",
    "    token_seq += [additional_token_to_index['<END>']]\n",
    "    return torch.IntTensor(token_seq)"
   ]
  },
  {
   "attachments": {},
   "cell_type": "markdown",
   "metadata": {},
   "source": [
    "## Amino Acid Token Embeddings\n",
    "We will derive it from the [torch.nn.Embedding class](https://pytorch.org/docs/stable/generated/torch.nn.Embedding.html). The size of the vacabulary equals the number of tokens. This approach allows the learning of the embeddings from the model intself. If we train the model with virus sepcific squences, the embeddings shall reflect the hidden properties of the amino acids in context of the trainign sequences. Note that the \\<START\\> and \\<END\\> tokens are always added at the beginning of the sequence. \\<PAD\\> tokens may be added before the \\<END\\> token if the sequence is shorter than the input sequence.\n",
    "\n",
    "Note that using the \"from_pretrained\" class method of torch.nn.Embedding, we can load pretrained weights of the embedding.\n"
   ]
  },
  {
   "cell_type": "code",
   "execution_count": 91,
   "metadata": {},
   "outputs": [
    {
     "name": "stdout",
     "output_type": "stream",
     "text": [
      "25\n"
     ]
    }
   ],
   "source": [
    "class TokenEmbedding(nn.Embedding):\n",
    "    def __init__(self, num_embeddings: torch.Tensor, embedding_dim: int = 512, max_len: int=1500, padding_idx=None):\n",
    "        super().__init__(num_embeddings, embedding_dim, padding_idx)\n",
    "\n",
    "padding_idx = token_to_index['<PAD>']\n",
    "print(padding_idx)\n"
   ]
  },
  {
   "attachments": {},
   "cell_type": "markdown",
   "metadata": {},
   "source": [
    "## Postional Encoding\n",
    "We will use the  sine and cosine functions of different frequencie to embed positional information as in the original BERT method."
   ]
  },
  {
   "cell_type": "code",
   "execution_count": 92,
   "metadata": {},
   "outputs": [],
   "source": [
    "class PositionalEncoding(nn.Module):\n",
    "    \"\"\"\n",
    "    Impement the PE function.\n",
    "    \n",
    "    The PE forward function is different from the BERT-pytorch. Here we used the original method in BERT so\n",
    "    PE embeddings are added to the input embeddings and no graident tracking is used.\n",
    "    \"\"\"\n",
    "\n",
    "    def __init__(self, d_model, dropout, max_len=1500):\n",
    "        super().__init__()\n",
    "        self.dropout = nn.Dropout(p=dropout)\n",
    "\n",
    "        # Compute the positional encodings once in log space.\n",
    "        pe = torch.zeros(max_len, d_model)\n",
    "        position = torch.arange(0, max_len).unsqueeze(1)\n",
    "        div_term = torch.exp(torch.arange(0, d_model, 2) * -(math.log(10000.0)/d_model))\n",
    "        pe[:, 0::2] = torch.sin(position * div_term)\n",
    "        pe[:, 1::2] = torch.cos(position * div_term)\n",
    "        self.register_buffer(\"pe\", pe)\n",
    "\n",
    "    def forward(self, x):\n",
    "\n",
    "        x = x + self.pe[:, : x.size(1)].requires_grad_(False)\n",
    "        return self.dropout(x)"
   ]
  },
  {
   "cell_type": "code",
   "execution_count": 93,
   "metadata": {},
   "outputs": [],
   "source": [
    "class SeqEncoding(nn.Module):\n",
    "    \"\"\"\n",
    "    Encode amino acid sequence. Input sequence is represented by summing the corresponding sequence token,\n",
    "    segment (e.g. question and answer or any segments separated by <SEP>), and position embeddings. In our \n",
    "    model, we only need the token and position embedding so segment embeddign is not implemented here.    \n",
    "    \"\"\"\n",
    "    def __init__(self, num_embeddings, embedding_dim, dropout=0.1, max_len=1500, padding_idx=25):\n",
    "        super().__init__()\n",
    "        self.token_embedding = TokenEmbedding(num_embeddings, embedding_dim, max_len, padding_idx)\n",
    "        self.position = PositionalEncoding(embedding_dim, dropout, max_len)\n",
    "        self.embeddng_dim = embedding_dim\n",
    "        self.dropout = nn.Dropout(dropout)\n",
    "        self.max_len = max_len\n",
    "        \n",
    "    def forward(self, seq:str):\n",
    "        x = tokenize_seq(seq, self.max_len)\n",
    "        x = self.token_embedding(x)\n",
    "        x = self.position(x)\n",
    "        return self.dropout(x)"
   ]
  },
  {
   "attachments": {},
   "cell_type": "markdown",
   "metadata": {},
   "source": [
    "## Test sequence and position embedding\n",
    "\n",
    "Let's test the embedding of the first 28 amino acids of the test sequence. Notice that position 2 and 4 are the same amino acid (F) yet they have different emedding in every dimension due to they appear at different positions. For simplicity, we only use 6 dimensions to embed the sequence. In the actual model, we will use many more dimensions."
   ]
  },
  {
   "cell_type": "code",
   "execution_count": 94,
   "metadata": {},
   "outputs": [
    {
     "data": {
      "text/plain": [
       "1413"
      ]
     },
     "execution_count": 94,
     "metadata": {},
     "output_type": "execute_result"
    }
   ],
   "source": [
    "test_wt_seq = \"\"\">sp|P0DTC2|SPIKE_SARS2 Spike glycoprotein OS=Severe acute respiratory syndrome coronavirus 2 OX=2697049 GN=S PE=1 SV=1\n",
    "MFVFLVLLPLVSSQCVNLTTRTQLPPAYTNSFTRGVYYPDKVFRSSVLHSTQDLFLPFFS\n",
    "NVTWFHAIHVSGTNGTKRFDNPVLPFNDGVYFASTEKSNIIRGWIFGTTLDSKTQSLLIV\n",
    "NNATNVVIKVCEFQFCNDPFLGVYYHKNNKSWMESEFRVYSSANNCTFEYVSQPFLMDLE\n",
    "GKQGNFKNLREFVFKNIDGYFKIYSKHTPINLVRDLPQGFSALEPLVDLPIGINITRFQT\n",
    "LLALHRSYLTPGDSSSGWTAGAAAYYVGYLQPRTFLLKYNENGTITDAVDCALDPLSETK\n",
    "CTLKSFTVEKGIYQTSNFRVQPTESIVRFPNITNLCPFGEVFNATRFASVYAWNRKRISN\n",
    "CVADYSVLYNSASFSTFKCYGVSPTKLNDLCFTNVYADSFVIRGDEVRQIAPGQTGKIAD\n",
    "YNYKLPDDFTGCVIAWNSNNLDSKVGGNYNYLYRLFRKSNLKPFERDISTEIYQAGSTPC\n",
    "NGVEGFNCYFPLQSYGFQPTNGVGYQPYRVVVLSFELLHAPATVCGPKKSTNLVKNKCVN\n",
    "FNFNGLTGTGVLTESNKKFLPFQQFGRDIADTTDAVRDPQTLEILDITPCSFGGVSVITP\n",
    "GTNTSNQVAVLYQDVNCTEVPVAIHADQLTPTWRVYSTGSNVFQTRAGCLIGAEHVNNSY\n",
    "ECDIPIGAGICASYQTQTNSPRRARSVASQSIIAYTMSLGAENSVAYSNNSIAIPTNFTI\n",
    "SVTTEILPVSMTKTSVDCTMYICGDSTECSNLLLQYGSFCTQLNRALTGIAVEQDKNTQE\n",
    "VFAQVKQIYKTPPIKDFGGFNFSQILPDPSKPSKRSFIEDLLFNKVTLADAGFIKQYGDC\n",
    "LGDIAARDLICAQKFNGLTVLPPLLTDEMIAQYTSALLAGTITSGWTFGAGAALQIPFAM\n",
    "QMAYRFNGIGVTQNVLYENQKLIANQFNSAIGKIQDSLSSTASALGKLQDVVNQNAQALN\n",
    "TLVKQLSSNFGAISSVLNDILSRLDKVEAEVQIDRLITGRLQSLQTYVTQQLIRAAEIRA\n",
    "SANLAATKMSECVLGQSKRVDFCGKGYHLMSFPQSAPHGVVFLHVTYVPAQEKNFTTAPA\n",
    "ICHDGKAHFPREGVFVSNGTHWFVTQRNFYEPQIITTDNTFVSGNCDVVIGIVNNTVYDP\n",
    "LQPELDSFKEELDKYFKNHTSPDVDLGDISGINASVVNIQKEIDRLNEVAKNLNESLIDL\n",
    "QELGKYEQYIKWPWYIWLGFIAGLIAIVMVTIMLCCMTSCCSCLKGCCSCGSCCKFDEDD\n",
    "SEPVLKGVKLHYT\"\"\"\n",
    "len(test_wt_seq)"
   ]
  },
  {
   "cell_type": "code",
   "execution_count": 95,
   "metadata": {},
   "outputs": [],
   "source": [
    "test_seqs = []\n",
    "fa_parser = SeqIO.parse(io.StringIO(test_wt_seq), 'fasta')\n",
    "for record in fa_parser:\n",
    "    seq = record.seq\n",
    "    test_seqs.append(str(seq))"
   ]
  },
  {
   "cell_type": "code",
   "execution_count": 96,
   "metadata": {},
   "outputs": [
    {
     "name": "stdout",
     "output_type": "stream",
     "text": [
      "Embedding shape: torch.Size([30, 6])\n",
      "Parameters shape in sequence embedding: torch.Size([26, 6])\n",
      "    embedding  dimension  position aa_token\n",
      "0   -1.447141          0         0  <start>\n",
      "1    1.307024          0         1        M\n",
      "2    1.093287          0         2        F\n",
      "3    0.156800          0         3        V\n",
      "4   -3.043395          0         4        F\n",
      "..        ...        ...       ...      ...\n",
      "25  -0.866558          5        25        P\n",
      "26  -0.866852          5        26        P\n",
      "27   1.410508          5        27        A\n",
      "28   3.513743          5        28        Y\n",
      "29   4.459803          5        29    <end>\n",
      "\n",
      "[180 rows x 4 columns]\n"
     ]
    },
    {
     "data": {
      "text/html": [
       "\n",
       "<div id=\"altair-viz-13c0473f6d244c40a1131d2ba984a550\"></div>\n",
       "<script type=\"text/javascript\">\n",
       "  var VEGA_DEBUG = (typeof VEGA_DEBUG == \"undefined\") ? {} : VEGA_DEBUG;\n",
       "  (function(spec, embedOpt){\n",
       "    let outputDiv = document.currentScript.previousElementSibling;\n",
       "    if (outputDiv.id !== \"altair-viz-13c0473f6d244c40a1131d2ba984a550\") {\n",
       "      outputDiv = document.getElementById(\"altair-viz-13c0473f6d244c40a1131d2ba984a550\");\n",
       "    }\n",
       "    const paths = {\n",
       "      \"vega\": \"https://cdn.jsdelivr.net/npm//vega@5?noext\",\n",
       "      \"vega-lib\": \"https://cdn.jsdelivr.net/npm//vega-lib?noext\",\n",
       "      \"vega-lite\": \"https://cdn.jsdelivr.net/npm//vega-lite@4.17.0?noext\",\n",
       "      \"vega-embed\": \"https://cdn.jsdelivr.net/npm//vega-embed@6?noext\",\n",
       "    };\n",
       "\n",
       "    function maybeLoadScript(lib, version) {\n",
       "      var key = `${lib.replace(\"-\", \"\")}_version`;\n",
       "      return (VEGA_DEBUG[key] == version) ?\n",
       "        Promise.resolve(paths[lib]) :\n",
       "        new Promise(function(resolve, reject) {\n",
       "          var s = document.createElement('script');\n",
       "          document.getElementsByTagName(\"head\")[0].appendChild(s);\n",
       "          s.async = true;\n",
       "          s.onload = () => {\n",
       "            VEGA_DEBUG[key] = version;\n",
       "            return resolve(paths[lib]);\n",
       "          };\n",
       "          s.onerror = () => reject(`Error loading script: ${paths[lib]}`);\n",
       "          s.src = paths[lib];\n",
       "        });\n",
       "    }\n",
       "\n",
       "    function showError(err) {\n",
       "      outputDiv.innerHTML = `<div class=\"error\" style=\"color:red;\">${err}</div>`;\n",
       "      throw err;\n",
       "    }\n",
       "\n",
       "    function displayChart(vegaEmbed) {\n",
       "      vegaEmbed(outputDiv, spec, embedOpt)\n",
       "        .catch(err => showError(`Javascript Error: ${err.message}<br>This usually means there's a typo in your chart specification. See the javascript console for the full traceback.`));\n",
       "    }\n",
       "\n",
       "    if(typeof define === \"function\" && define.amd) {\n",
       "      requirejs.config({paths});\n",
       "      require([\"vega-embed\"], displayChart, err => showError(`Error loading script: ${err.message}`));\n",
       "    } else {\n",
       "      maybeLoadScript(\"vega\", \"5\")\n",
       "        .then(() => maybeLoadScript(\"vega-lite\", \"4.17.0\"))\n",
       "        .then(() => maybeLoadScript(\"vega-embed\", \"6\"))\n",
       "        .catch(showError)\n",
       "        .then(() => displayChart(vegaEmbed));\n",
       "    }\n",
       "  })({\"config\": {\"view\": {\"continuousWidth\": 400, \"continuousHeight\": 300}}, \"data\": {\"name\": \"data-9d28df716b3c4c7bdeda079606a54cfb\"}, \"mark\": \"line\", \"encoding\": {\"color\": {\"field\": \"dimension\", \"type\": \"nominal\"}, \"x\": {\"field\": \"position\", \"type\": \"quantitative\"}, \"y\": {\"field\": \"embedding\", \"type\": \"quantitative\"}}, \"selection\": {\"selector020\": {\"type\": \"interval\", \"bind\": \"scales\", \"encodings\": [\"x\", \"y\"]}}, \"width\": 800, \"$schema\": \"https://vega.github.io/schema/vega-lite/v4.17.0.json\", \"datasets\": {\"data-9d28df716b3c4c7bdeda079606a54cfb\": [{\"embedding\": -1.4471408128738403, \"dimension\": 0, \"position\": 0, \"aa_token\": \"<start>\"}, {\"embedding\": 1.3070242404937744, \"dimension\": 0, \"position\": 1, \"aa_token\": \"M\"}, {\"embedding\": 1.0932867527008057, \"dimension\": 0, \"position\": 2, \"aa_token\": \"F\"}, {\"embedding\": 0.1568000167608261, \"dimension\": 0, \"position\": 3, \"aa_token\": \"V\"}, {\"embedding\": -3.0433952808380127, \"dimension\": 0, \"position\": 4, \"aa_token\": \"F\"}, {\"embedding\": -2.1767163276672363, \"dimension\": 0, \"position\": 5, \"aa_token\": \"L\"}, {\"embedding\": -0.5355420708656311, \"dimension\": 0, \"position\": 6, \"aa_token\": \"V\"}, {\"embedding\": 0.0, \"dimension\": 0, \"position\": 7, \"aa_token\": \"L\"}, {\"embedding\": 2.660583734512329, \"dimension\": 0, \"position\": 8, \"aa_token\": \"L\"}, {\"embedding\": 0.0, \"dimension\": 0, \"position\": 9, \"aa_token\": \"P\"}, {\"embedding\": -1.146572470664978, \"dimension\": 0, \"position\": 10, \"aa_token\": \"L\"}, {\"embedding\": -2.3246235847473145, \"dimension\": 0, \"position\": 11, \"aa_token\": \"V\"}, {\"embedding\": -0.5961921811103821, \"dimension\": 0, \"position\": 12, \"aa_token\": \"S\"}, {\"embedding\": 1.5812149047851562, \"dimension\": 0, \"position\": 13, \"aa_token\": \"S\"}, {\"embedding\": 1.0262296199798584, \"dimension\": 0, \"position\": 14, \"aa_token\": \"Q\"}, {\"embedding\": 0.7225421071052551, \"dimension\": 0, \"position\": 15, \"aa_token\": \"C\"}, {\"embedding\": -0.5566160678863525, \"dimension\": 0, \"position\": 16, \"aa_token\": \"V\"}, {\"embedding\": -0.0, \"dimension\": 0, \"position\": 17, \"aa_token\": \"N\"}, {\"embedding\": -1.6604390144348145, \"dimension\": 0, \"position\": 18, \"aa_token\": \"L\"}, {\"embedding\": 0.4745054543018341, \"dimension\": 0, \"position\": 19, \"aa_token\": \"T\"}, {\"embedding\": 2.3690919876098633, \"dimension\": 0, \"position\": 20, \"aa_token\": \"T\"}, {\"embedding\": 1.377392053604126, \"dimension\": 0, \"position\": 21, \"aa_token\": \"R\"}, {\"embedding\": -0.009834788739681244, \"dimension\": 0, \"position\": 22, \"aa_token\": \"T\"}, {\"embedding\": -3.5343446731567383, \"dimension\": 0, \"position\": 23, \"aa_token\": \"Q\"}, {\"embedding\": -2.0442662239074707, \"dimension\": 0, \"position\": 24, \"aa_token\": \"L\"}, {\"embedding\": -0.4221656024456024, \"dimension\": 0, \"position\": 25, \"aa_token\": \"P\"}, {\"embedding\": 1.7997652292251587, \"dimension\": 0, \"position\": 26, \"aa_token\": \"P\"}, {\"embedding\": 2.161620616912842, \"dimension\": 0, \"position\": 27, \"aa_token\": \"A\"}, {\"embedding\": 1.4624148607254028, \"dimension\": 0, \"position\": 28, \"aa_token\": \"Y\"}, {\"embedding\": -1.8774831295013428, \"dimension\": 0, \"position\": 29, \"aa_token\": \"<end>\"}, {\"embedding\": 0.8743117451667786, \"dimension\": 1, \"position\": 0, \"aa_token\": \"<start>\"}, {\"embedding\": 2.5678117275238037, \"dimension\": 1, \"position\": 1, \"aa_token\": \"M\"}, {\"embedding\": 0.7090298533439636, \"dimension\": 1, \"position\": 2, \"aa_token\": \"F\"}, {\"embedding\": -3.838685989379883, \"dimension\": 1, \"position\": 3, \"aa_token\": \"V\"}, {\"embedding\": 0.11936016380786896, \"dimension\": 1, \"position\": 4, \"aa_token\": \"F\"}, {\"embedding\": 0.315180242061615, \"dimension\": 1, \"position\": 5, \"aa_token\": \"L\"}, {\"embedding\": 1.0032821893692017, \"dimension\": 1, \"position\": 6, \"aa_token\": \"V\"}, {\"embedding\": 1.3895848989486694, \"dimension\": 1, \"position\": 7, \"aa_token\": \"L\"}, {\"embedding\": -0.8434991240501404, \"dimension\": 1, \"position\": 8, \"aa_token\": \"L\"}, {\"embedding\": -1.032083511352539, \"dimension\": 1, \"position\": 9, \"aa_token\": \"P\"}, {\"embedding\": -2.565535545349121, \"dimension\": 1, \"position\": 10, \"aa_token\": \"L\"}, {\"embedding\": -1.3696916103363037, \"dimension\": 1, \"position\": 11, \"aa_token\": \"V\"}, {\"embedding\": 1.3139376640319824, \"dimension\": 1, \"position\": 12, \"aa_token\": \"S\"}, {\"embedding\": 1.4718292951583862, \"dimension\": 1, \"position\": 13, \"aa_token\": \"S\"}, {\"embedding\": 0.10511697083711624, \"dimension\": 1, \"position\": 14, \"aa_token\": \"Q\"}, {\"embedding\": -1.3509596586227417, \"dimension\": 1, \"position\": 15, \"aa_token\": \"C\"}, {\"embedding\": -1.0640661716461182, \"dimension\": 1, \"position\": 16, \"aa_token\": \"V\"}, {\"embedding\": -1.0538246631622314, \"dimension\": 1, \"position\": 17, \"aa_token\": \"N\"}, {\"embedding\": 1.1572258472442627, \"dimension\": 1, \"position\": 18, \"aa_token\": \"L\"}, {\"embedding\": 2.5449769496917725, \"dimension\": 1, \"position\": 19, \"aa_token\": \"T\"}, {\"embedding\": 0.0, \"dimension\": 1, \"position\": 20, \"aa_token\": \"T\"}, {\"embedding\": -1.4151912927627563, \"dimension\": 1, \"position\": 21, \"aa_token\": \"R\"}, {\"embedding\": -0.0, \"dimension\": 1, \"position\": 22, \"aa_token\": \"T\"}, {\"embedding\": -1.5573278665542603, \"dimension\": 1, \"position\": 23, \"aa_token\": \"Q\"}, {\"embedding\": 0.5709304809570312, \"dimension\": 1, \"position\": 24, \"aa_token\": \"L\"}, {\"embedding\": 3.6911306381225586, \"dimension\": 1, \"position\": 25, \"aa_token\": \"P\"}, {\"embedding\": 0.7187992930412292, \"dimension\": 1, \"position\": 26, \"aa_token\": \"P\"}, {\"embedding\": -2.8972067832946777, \"dimension\": 1, \"position\": 27, \"aa_token\": \"A\"}, {\"embedding\": -1.465240478515625, \"dimension\": 1, \"position\": 28, \"aa_token\": \"Y\"}, {\"embedding\": -2.882131576538086, \"dimension\": 1, \"position\": 29, \"aa_token\": \"<end>\"}, {\"embedding\": 0.0, \"dimension\": 2, \"position\": 0, \"aa_token\": \"<start>\"}, {\"embedding\": 0.28856733441352844, \"dimension\": 2, \"position\": 1, \"aa_token\": \"M\"}, {\"embedding\": 1.665922999382019, \"dimension\": 2, \"position\": 2, \"aa_token\": \"F\"}, {\"embedding\": 0.3728085160255432, \"dimension\": 2, \"position\": 3, \"aa_token\": \"V\"}, {\"embedding\": 1.8940978050231934, \"dimension\": 2, \"position\": 4, \"aa_token\": \"F\"}, {\"embedding\": -0.18047352135181427, \"dimension\": 2, \"position\": 5, \"aa_token\": \"L\"}, {\"embedding\": 0.7107527256011963, \"dimension\": 2, \"position\": 6, \"aa_token\": \"V\"}, {\"embedding\": 0.35469406843185425, \"dimension\": 2, \"position\": 7, \"aa_token\": \"L\"}, {\"embedding\": 0.14937525987625122, \"dimension\": 2, \"position\": 8, \"aa_token\": \"L\"}, {\"embedding\": 2.8290786743164062, \"dimension\": 2, \"position\": 9, \"aa_token\": \"P\"}, {\"embedding\": 0.35996702313423157, \"dimension\": 2, \"position\": 10, \"aa_token\": \"L\"}, {\"embedding\": 1.2415111064910889, \"dimension\": 2, \"position\": 11, \"aa_token\": \"V\"}, {\"embedding\": 2.7358899116516113, \"dimension\": 2, \"position\": 12, \"aa_token\": \"S\"}, {\"embedding\": 0.0, \"dimension\": 2, \"position\": 13, \"aa_token\": \"S\"}, {\"embedding\": 2.3347537517547607, \"dimension\": 2, \"position\": 14, \"aa_token\": \"Q\"}, {\"embedding\": 0.0, \"dimension\": 2, \"position\": 15, \"aa_token\": \"C\"}, {\"embedding\": 1.707211971282959, \"dimension\": 2, \"position\": 16, \"aa_token\": \"V\"}, {\"embedding\": 0.7885539531707764, \"dimension\": 2, \"position\": 17, \"aa_token\": \"N\"}, {\"embedding\": 1.0898061990737915, \"dimension\": 2, \"position\": 18, \"aa_token\": \"L\"}, {\"embedding\": 1.6929881572723389, \"dimension\": 2, \"position\": 19, \"aa_token\": \"T\"}, {\"embedding\": 0.8895702362060547, \"dimension\": 2, \"position\": 20, \"aa_token\": \"T\"}, {\"embedding\": 3.130248546600342, \"dimension\": 2, \"position\": 21, \"aa_token\": \"R\"}, {\"embedding\": 1.893502950668335, \"dimension\": 2, \"position\": 22, \"aa_token\": \"T\"}, {\"embedding\": 3.0075674057006836, \"dimension\": 2, \"position\": 23, \"aa_token\": \"Q\"}, {\"embedding\": 1.4767323732376099, \"dimension\": 2, \"position\": 24, \"aa_token\": \"L\"}, {\"embedding\": 4.0984697341918945, \"dimension\": 2, \"position\": 25, \"aa_token\": \"P\"}, {\"embedding\": 4.14198112487793, \"dimension\": 2, \"position\": 26, \"aa_token\": \"P\"}, {\"embedding\": 2.410916328430176, \"dimension\": 2, \"position\": 27, \"aa_token\": \"A\"}, {\"embedding\": 3.0506629943847656, \"dimension\": 2, \"position\": 28, \"aa_token\": \"Y\"}, {\"embedding\": 0.0, \"dimension\": 2, \"position\": 29, \"aa_token\": \"<end>\"}, {\"embedding\": 2.2276275157928467, \"dimension\": 3, \"position\": 0, \"aa_token\": \"<start>\"}, {\"embedding\": 1.806566834449768, \"dimension\": 3, \"position\": 1, \"aa_token\": \"M\"}, {\"embedding\": 0.0, \"dimension\": 3, \"position\": 2, \"aa_token\": \"F\"}, {\"embedding\": 2.2332916259765625, \"dimension\": 3, \"position\": 3, \"aa_token\": \"V\"}, {\"embedding\": 3.6562671661376953, \"dimension\": 3, \"position\": 4, \"aa_token\": \"F\"}, {\"embedding\": 3.205057144165039, \"dimension\": 3, \"position\": 5, \"aa_token\": \"L\"}, {\"embedding\": 2.1616599559783936, \"dimension\": 3, \"position\": 6, \"aa_token\": \"V\"}, {\"embedding\": 1.0529767274856567, \"dimension\": 3, \"position\": 7, \"aa_token\": \"L\"}, {\"embedding\": 0.0, \"dimension\": 3, \"position\": 8, \"aa_token\": \"L\"}, {\"embedding\": 1.2112503051757812, \"dimension\": 3, \"position\": 9, \"aa_token\": \"P\"}, {\"embedding\": 3.008931875228882, \"dimension\": 3, \"position\": 10, \"aa_token\": \"L\"}, {\"embedding\": 0.0, \"dimension\": 3, \"position\": 11, \"aa_token\": \"V\"}, {\"embedding\": 3.8041927814483643, \"dimension\": 3, \"position\": 12, \"aa_token\": \"S\"}, {\"embedding\": 0.0, \"dimension\": 3, \"position\": 13, \"aa_token\": \"S\"}, {\"embedding\": 1.7869330644607544, \"dimension\": 3, \"position\": 14, \"aa_token\": \"Q\"}, {\"embedding\": 2.4754371643066406, \"dimension\": 3, \"position\": 15, \"aa_token\": \"C\"}, {\"embedding\": 1.6035295724868774, \"dimension\": 3, \"position\": 16, \"aa_token\": \"V\"}, {\"embedding\": 4.597352504730225, \"dimension\": 3, \"position\": 17, \"aa_token\": \"N\"}, {\"embedding\": 2.4543094635009766, \"dimension\": 3, \"position\": 18, \"aa_token\": \"L\"}, {\"embedding\": 2.3561203479766846, \"dimension\": 3, \"position\": 19, \"aa_token\": \"T\"}, {\"embedding\": 2.2654898166656494, \"dimension\": 3, \"position\": 20, \"aa_token\": \"T\"}, {\"embedding\": 0.7043022513389587, \"dimension\": 3, \"position\": 21, \"aa_token\": \"R\"}, {\"embedding\": 0.580428957939148, \"dimension\": 3, \"position\": 22, \"aa_token\": \"T\"}, {\"embedding\": 1.0074834823608398, \"dimension\": 3, \"position\": 23, \"aa_token\": \"Q\"}, {\"embedding\": 1.8839349746704102, \"dimension\": 3, \"position\": 24, \"aa_token\": \"L\"}, {\"embedding\": 0.4433058500289917, \"dimension\": 3, \"position\": 25, \"aa_token\": \"P\"}, {\"embedding\": 0.39555469155311584, \"dimension\": 3, \"position\": 26, \"aa_token\": \"P\"}, {\"embedding\": 3.0200164318084717, \"dimension\": 3, \"position\": 27, \"aa_token\": \"A\"}, {\"embedding\": 0.25794902443885803, \"dimension\": 3, \"position\": 28, \"aa_token\": \"Y\"}, {\"embedding\": 2.0578718185424805, \"dimension\": 3, \"position\": 29, \"aa_token\": \"<end>\"}, {\"embedding\": 0.0, \"dimension\": 4, \"position\": 0, \"aa_token\": \"<start>\"}, {\"embedding\": -0.375764399766922, \"dimension\": 4, \"position\": 1, \"aa_token\": \"M\"}, {\"embedding\": -2.375988483428955, \"dimension\": 4, \"position\": 2, \"aa_token\": \"F\"}, {\"embedding\": -0.0, \"dimension\": 4, \"position\": 3, \"aa_token\": \"V\"}, {\"embedding\": -2.365290403366089, \"dimension\": 4, \"position\": 4, \"aa_token\": \"F\"}, {\"embedding\": 0.011968851089477539, \"dimension\": 4, \"position\": 5, \"aa_token\": \"L\"}, {\"embedding\": -0.7675215005874634, \"dimension\": 4, \"position\": 6, \"aa_token\": \"V\"}, {\"embedding\": -1.4446104764938354, \"dimension\": 4, \"position\": 7, \"aa_token\": \"L\"}, {\"embedding\": 0.01914958469569683, \"dimension\": 4, \"position\": 8, \"aa_token\": \"L\"}, {\"embedding\": 0.6969133019447327, \"dimension\": 4, \"position\": 9, \"aa_token\": \"P\"}, {\"embedding\": -1.4285656213760376, \"dimension\": 4, \"position\": 10, \"aa_token\": \"L\"}, {\"embedding\": -0.7407804131507874, \"dimension\": 4, \"position\": 11, \"aa_token\": \"V\"}, {\"embedding\": 1.0653022527694702, \"dimension\": 4, \"position\": 12, \"aa_token\": \"S\"}, {\"embedding\": 0.031115546822547913, \"dimension\": 4, \"position\": 13, \"aa_token\": \"S\"}, {\"embedding\": 0.03350834921002388, \"dimension\": 4, \"position\": 14, \"aa_token\": \"Q\"}, {\"embedding\": 0.8031157851219177, \"dimension\": 4, \"position\": 15, \"aa_token\": \"C\"}, {\"embedding\": -0.7140460014343262, \"dimension\": 4, \"position\": 16, \"aa_token\": \"V\"}, {\"embedding\": -1.0560286045074463, \"dimension\": 4, \"position\": 17, \"aa_token\": \"N\"}, {\"embedding\": -0.0, \"dimension\": 4, \"position\": 18, \"aa_token\": \"L\"}, {\"embedding\": -1.9646083116531372, \"dimension\": 4, \"position\": 19, \"aa_token\": \"T\"}, {\"embedding\": -0.0, \"dimension\": 4, \"position\": 20, \"aa_token\": \"T\"}, {\"embedding\": -0.9491284489631653, \"dimension\": 4, \"position\": 21, \"aa_token\": \"R\"}, {\"embedding\": -0.0, \"dimension\": 4, \"position\": 22, \"aa_token\": \"T\"}, {\"embedding\": -1.1972341537475586, \"dimension\": 4, \"position\": 23, \"aa_token\": \"Q\"}, {\"embedding\": -1.35373055934906, \"dimension\": 4, \"position\": 24, \"aa_token\": \"L\"}, {\"embedding\": 0.7824380397796631, \"dimension\": 4, \"position\": 25, \"aa_token\": \"P\"}, {\"embedding\": 0.7877791523933411, \"dimension\": 4, \"position\": 26, \"aa_token\": \"P\"}, {\"embedding\": 0.8968814015388489, \"dimension\": 4, \"position\": 27, \"aa_token\": \"A\"}, {\"embedding\": 0.06698621809482574, \"dimension\": 4, \"position\": 28, \"aa_token\": \"Y\"}, {\"embedding\": -0.7788960337638855, \"dimension\": 4, \"position\": 29, \"aa_token\": \"<end>\"}, {\"embedding\": 4.497769355773926, \"dimension\": 5, \"position\": 0, \"aa_token\": \"<start>\"}, {\"embedding\": 5.216013431549072, \"dimension\": 5, \"position\": 1, \"aa_token\": \"M\"}, {\"embedding\": 1.9768697023391724, \"dimension\": 5, \"position\": 2, \"aa_token\": \"F\"}, {\"embedding\": 1.1110880374908447, \"dimension\": 5, \"position\": 3, \"aa_token\": \"V\"}, {\"embedding\": 1.976800560951233, \"dimension\": 5, \"position\": 4, \"aa_token\": \"F\"}, {\"embedding\": 0.36222365498542786, \"dimension\": 5, \"position\": 5, \"aa_token\": \"L\"}, {\"embedding\": 1.3401868343353271, \"dimension\": 5, \"position\": 6, \"aa_token\": \"V\"}, {\"embedding\": 0.3620852530002594, \"dimension\": 5, \"position\": 7, \"aa_token\": \"L\"}, {\"embedding\": 1.1109461784362793, \"dimension\": 5, \"position\": 8, \"aa_token\": \"L\"}, {\"embedding\": -0.0, \"dimension\": 5, \"position\": 9, \"aa_token\": \"P\"}, {\"embedding\": 0.3617914021015167, \"dimension\": 5, \"position\": 10, \"aa_token\": \"L\"}, {\"embedding\": 1.3396971225738525, \"dimension\": 5, \"position\": 11, \"aa_token\": \"V\"}, {\"embedding\": 1.110739827156067, \"dimension\": 5, \"position\": 12, \"aa_token\": \"S\"}, {\"embedding\": 0.0, \"dimension\": 5, \"position\": 13, \"aa_token\": \"S\"}, {\"embedding\": -0.22068998217582703, \"dimension\": 5, \"position\": 14, \"aa_token\": \"Q\"}, {\"embedding\": 2.363149404525757, \"dimension\": 5, \"position\": 15, \"aa_token\": \"C\"}, {\"embedding\": 0.0, \"dimension\": 5, \"position\": 16, \"aa_token\": \"V\"}, {\"embedding\": 3.651261806488037, \"dimension\": 5, \"position\": 17, \"aa_token\": \"N\"}, {\"embedding\": 1.1102757453918457, \"dimension\": 5, \"position\": 18, \"aa_token\": \"L\"}, {\"embedding\": 0.9603133797645569, \"dimension\": 5, \"position\": 19, \"aa_token\": \"T\"}, {\"embedding\": 0.9600887298583984, \"dimension\": 5, \"position\": 20, \"aa_token\": \"T\"}, {\"embedding\": 3.497328996658325, \"dimension\": 5, \"position\": 21, \"aa_token\": \"R\"}, {\"embedding\": 0.959604799747467, \"dimension\": 5, \"position\": 22, \"aa_token\": \"T\"}, {\"embedding\": -0.22260819375514984, \"dimension\": 5, \"position\": 23, \"aa_token\": \"Q\"}, {\"embedding\": 0.3590492606163025, \"dimension\": 5, \"position\": 24, \"aa_token\": \"L\"}, {\"embedding\": -0.8665579557418823, \"dimension\": 5, \"position\": 25, \"aa_token\": \"P\"}, {\"embedding\": -0.8668515682220459, \"dimension\": 5, \"position\": 26, \"aa_token\": \"P\"}, {\"embedding\": 1.4105075597763062, \"dimension\": 5, \"position\": 27, \"aa_token\": \"A\"}, {\"embedding\": 3.513742685317993, \"dimension\": 5, \"position\": 28, \"aa_token\": \"Y\"}, {\"embedding\": 4.459802627563477, \"dimension\": 5, \"position\": 29, \"aa_token\": \"<end>\"}]}}, {\"mode\": \"vega-lite\"});\n",
       "</script>"
      ],
      "text/plain": [
       "alt.Chart(...)"
      ]
     },
     "execution_count": 96,
     "metadata": {},
     "output_type": "execute_result"
    }
   ],
   "source": [
    "def test_encoding():\n",
    "\n",
    "    max_len = 30\n",
    "    seq = test_seqs[0][:max_len-2]\n",
    "    test_seq_encode = SeqEncoding(n_tokens, 6, 0.1, max_len, padding_idx)\n",
    "    test_pe_encode = PositionalEncoding(6, 0.1, max_len)\n",
    "    y = test_pe_encode.forward(test_seq_encode(seq))\n",
    "    print(f'Embedding shape: {y.shape}')\n",
    "    print(f'Parameters shape in sequence embedding: {test_seq_encode.token_embedding.weight.shape}')\n",
    "\n",
    "    y = y.detach().numpy()\n",
    "\n",
    "\n",
    "    data = pd.concat([pd.DataFrame({\n",
    "        \"embedding\": y[:, dim],\n",
    "        \"dimension\":dim,\n",
    "        \"position\": list(range(max_len)),\n",
    "        })for dim in range(6)])\n",
    "    \n",
    "    aa = ['<start>']\n",
    "    aa.extend(_ for _ in seq)\n",
    "    aa.append('<end>')\n",
    "    data['aa_token'] = aa * 6\n",
    "\n",
    "    print(data)\n",
    "\n",
    "    return (\n",
    "        alt.Chart(data)\n",
    "        .mark_line()\n",
    "        .properties(width=800)\n",
    "        .encode(x=\"position\", y=\"embedding\", color=\"dimension:N\")\n",
    "        .interactive())\n",
    "\n",
    "test_encoding()\n"
   ]
  },
  {
   "attachments": {},
   "cell_type": "markdown",
   "metadata": {},
   "source": [
    "## Attention"
   ]
  },
  {
   "cell_type": "code",
   "execution_count": 97,
   "metadata": {},
   "outputs": [],
   "source": [
    "class Attention(nn.Module):\n",
    "    \"\"\"Single head scaled dot product attention\"\"\"\n",
    "    def __init__():\n",
    "        super().__init__()\n",
    "\n",
    "    def forward(self, query, key, value, mask=None, dropout=None):\n",
    "        d_k = query.size(-1)\n",
    "        scores = torch.matmul(query, key.transpose(-2, -1)) / math.sqrt(d_k)    #sqrt(d_k) is the scaling factor.\n",
    "\n",
    "        if mask is not None:\n",
    "            scores = scores.masked_fill(mask==0, -1e9)\n",
    "        \n",
    "        p_attn = scores.softmax(dim=-1)\n",
    "        if dropout is not None:\n",
    "            p_attn = dropout(p_attn)\n",
    "    \n",
    "        return torch.matmul(p_attn, value), p_attn "
   ]
  },
  {
   "cell_type": "code",
   "execution_count": 98,
   "metadata": {},
   "outputs": [],
   "source": [
    "class MultiHeadedAttention(nn.Module):\n",
    "    \"\"\"\n",
    "    Multi-head attention\n",
    "\n",
    "    h: numer of heads\n",
    "    d_model: model size\n",
    "    \n",
    "    \"\"\"\n",
    "    def __init__(self, h:int, d_model:int, dropout=0.1):\n",
    "        super().__init__()\n",
    "        assert d_model % h == 0 # d_model/h is used as d_k and d_v\n",
    "\n",
    "        self.d_k = d_model // h\n",
    "        self.h = h\n",
    "        self.linears = nn.ModuleList([nn.Linear(d_model, d_model), 4])  # 4 layers of linear model with the same input and output size\n",
    "        self.attn = Attention() # The forward function in Attention class is called since no hooks are defined in Attention class. See __call__() and _call_impl() in nn.Module implementation.\n",
    "\n",
    "        self.dropout = nn.Dropout(p=dropout)\n",
    "\n",
    "    def forward(self, query, key, value, mask=None):\n",
    "        if mask is not None:\n",
    "            mask = mask.unsqueeze(1)    # same mask applied to all heads\n",
    "        n_batches = query.size(0)\n",
    "\n",
    "        query, key, value = [lin(x).view(n_batches, -1, self.h, self.d_k).transpose(1, 2)\n",
    "                             for lin, x in zip(self.linears, (query, key, value))]\n",
    "        \n",
    "        x, self.attn = self.att\n",
    "\n"
   ]
  },
  {
   "attachments": {},
   "cell_type": "markdown",
   "metadata": {},
   "source": [
    "## Transformer"
   ]
  },
  {
   "cell_type": "code",
   "execution_count": 99,
   "metadata": {},
   "outputs": [
    {
     "ename": "IndentationError",
     "evalue": "expected an indented block (3359644668.py, line 2)",
     "output_type": "error",
     "traceback": [
      "\u001b[0;36m  File \u001b[0;32m\"/tmp/ipykernel_13491/3359644668.py\"\u001b[0;36m, line \u001b[0;32m2\u001b[0m\n\u001b[0;31m    \u001b[0m\n\u001b[0m    ^\u001b[0m\n\u001b[0;31mIndentationError\u001b[0m\u001b[0;31m:\u001b[0m expected an indented block\n"
     ]
    }
   ],
   "source": [
    "class Transformer:\n",
    "    "
   ]
  },
  {
   "attachments": {},
   "cell_type": "markdown",
   "metadata": {},
   "source": [
    "# Model Definition\n",
    "\n",
    "Here we define a model based on BERT. Part of the implementation is based on [BERT-pytorch](https://github.com/codertimo/BERT-pytorch)"
   ]
  },
  {
   "cell_type": "code",
   "execution_count": null,
   "metadata": {},
   "outputs": [],
   "source": [
    "def clones(module, N):\n",
    "    \"\"\"Produce N identical layers\"\"\"\n",
    "    return nn.ModuleList([copy.deepcopy(module) for _ in range(N)])"
   ]
  },
  {
   "cell_type": "code",
   "execution_count": null,
   "metadata": {},
   "outputs": [],
   "source": [
    "class BERT(nn.Module):\n",
    "    \"\"\"\n",
    "    BERT model\n",
    "    \"\"\"\n",
    "\n",
    "    def __init__(self, vocabl_size: int = 26, hidden: int = 768, n_layer: int = 12, attn_heads: int = 12, dropout: float = 0.1):\n",
    "        \"\"\"\n",
    "        vacab_size: vacabulary or token size\n",
    "        hidden: BERT model size (used as input size and hidden size)\n",
    "        n_layer: number of Transformer layers\n",
    "        attn_heads: attenion heads\n",
    "        dropout: dropout ratio\n",
    "        \"\"\"\n",
    "\n",
    "        super().__init__()\n",
    "        self.hidden  = hidden\n",
    "        self.n_layer = n_layer\n",
    "        self.attn_heads = attn_heads\n",
    "\n",
    "        self.feed_forward_hidden = hidden * 4\n",
    "        self.embedding = TokenEmbedding(vocabl_size, embed_size=hidden, padding_idx=25)\n",
    "\n",
    "        self.transformer_blocks = clones(Transformer(hidden, attn_heads, hidden *4, dropout), n_layer)\n",
    "\n",
    "    def forward(self)\n"
   ]
  },
  {
   "cell_type": "code",
   "execution_count": null,
   "metadata": {},
   "outputs": [],
   "source": [
    "#num_parameters_seq_encoding = sum(p.numel() for p in test_seq_encode.parameters() if p.requires_grad)\n",
    "#print(f'Parameters in SeqEncoding: {num_parameters_seq_encoding}')"
   ]
  }
 ],
 "metadata": {
  "kernelspec": {
   "display_name": "base",
   "language": "python",
   "name": "python3"
  },
  "language_info": {
   "codemirror_mode": {
    "name": "ipython",
    "version": 3
   },
   "file_extension": ".py",
   "mimetype": "text/x-python",
   "name": "python",
   "nbconvert_exporter": "python",
   "pygments_lexer": "ipython3",
   "version": "3.9.5"
  },
  "orig_nbformat": 4,
  "vscode": {
   "interpreter": {
    "hash": "3f28ad5bbb02419dfa4fc8e8c46da9bd89100d91bb344ce9fd3a3101abf33cb2"
   }
  }
 },
 "nbformat": 4,
 "nbformat_minor": 2
}
