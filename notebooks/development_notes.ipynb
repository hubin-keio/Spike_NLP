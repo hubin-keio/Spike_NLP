{
 "cells": [
  {
   "attachments": {},
   "cell_type": "markdown",
   "metadata": {},
   "source": [
    "# Test BERT-Pytorch\n",
    "\n",
    "BERT-pytorch is a PyTorch implementation of the BERT algorithm.\n",
    "\n",
    "[BERT-pytorch](https://github.com/codertimo/BERT-pytorch)\n",
    "\n",
    "\n",
    "## Embedding\n",
    "In the BERT implemetnation (bert_pytorch/model/bert.py), the masking is done after the second token (x>0) since in the original BERT paper, the first element of the input is always \\[CLS\\]. In our model, we will use the variant name as the \\[CLS\\] and the values are:\n",
    "[wt, alpha, delta, omicron, na], where \"na\" stands for not assigned."
   ]
  },
  {
   "cell_type": "code",
   "execution_count": 32,
   "metadata": {},
   "outputs": [],
   "source": [
    "import io\n",
    "import copy\n",
    "import math\n",
    "from Bio import SeqIO\n",
    "import torch\n",
    "import torch.nn as nn\n",
    "from bert_pytorch.model import BERT"
   ]
  },
  {
   "attachments": {},
   "cell_type": "markdown",
   "metadata": {},
   "source": [
    "## Tokenization and Vocabulary\n",
    "In [ProteinBERT](https://academic.oup.com/bioinformatics/article/38/8/2102/6502274), Brandes et al used 26 unique tokens to represent the 20 standard amino acids, selenocysteine (U), and undefined amino acid (X), another amino acid (OTHER) and three speical tokens \\<START\\>, \\<END\\>, \\<PAD\\>."
   ]
  },
  {
   "cell_type": "code",
   "execution_count": 4,
   "metadata": {},
   "outputs": [],
   "source": [
    "# Based on the source code of protein_bert\n",
    "ALL_AAS = 'ACDEFGHIKLMNPQRSTUVWXY'\n",
    "ADDITIONAL_TOKENS = ['<OTHER>', '<START>', '<END>', '<PAD>']\n",
    "\n",
    "# Each sequence is added <START> a\n",
    "ADDED_TOKENS_PER_SEQ = 2\n",
    "\n",
    "n_aas = len(ALL_AAS)\n",
    "aa_to_token_index = {aa: i for i, aa in enumerate(ALL_AAS)}\n",
    "additional_token_to_index = {token: i + n_aas for i, token in enumerate(ADDITIONAL_TOKENS)}\n",
    "token_to_index = {**aa_to_token_index, **additional_token_to_index}\n",
    "index_to_token = {index: token for token, index in token_to_index.items()}\n",
    "n_tokens = len(token_to_index)\n",
    "\n",
    "def tokenize_seq(seq):\n",
    "    other_token_index = additional_token_to_index['<OTHER>']\n",
    "    return [additional_token_to_index['<START>']] + [aa_to_token_index.get(aa, other_token_index) for aa in seq] + [additional_token_to_index['<END>']]"
   ]
  },
  {
   "attachments": {},
   "cell_type": "markdown",
   "metadata": {},
   "source": [
    "## Amino Acid Token Embeddings\n",
    "We will derive it from the [torch.nn.Embedding class](https://pytorch.org/docs/stable/generated/torch.nn.Embedding.html). The size of the vacabulary equals the number of tokens. This approach allows the learning of the embeddings from the model intself. If we train the model with virus sepcific squences, the embeddings shall reflect the hidden properties of the amino acids in context of the trainign sequences. Note that the \\<START\\> and \\<END\\> tokens are always added at the beginning of the sequence. \\<PAD\\> tokens may be added before the \\<END\\> token if the sequence is shorter than the input sequence.\n",
    "\n",
    "Note that using the \"from_pretrained\" class method of torch.nn.Embedding, we can load pretrained weights of the embedding.\n"
   ]
  },
  {
   "cell_type": "code",
   "execution_count": 54,
   "metadata": {},
   "outputs": [
    {
     "name": "stdout",
     "output_type": "stream",
     "text": [
      "25\n"
     ]
    }
   ],
   "source": [
    "class TokenEmbedding(nn.Embedding):\n",
    "    def __init__(self, num_embeddings: torch.Tensor, embedding_dim: int = 512, padding_idx=None):\n",
    "        super().__init__(num_embeddings, embedding_dim, padding_idx)\n",
    "\n",
    "padding_idx = token_to_index['<PAD>']\n",
    "print(padding_idx)\n"
   ]
  },
  {
   "cell_type": "code",
   "execution_count": 7,
   "metadata": {},
   "outputs": [
    {
     "data": {
      "text/plain": [
       "1413"
      ]
     },
     "execution_count": 7,
     "metadata": {},
     "output_type": "execute_result"
    }
   ],
   "source": [
    "test_wt_seq = \"\"\">sp|P0DTC2|SPIKE_SARS2 Spike glycoprotein OS=Severe acute respiratory syndrome coronavirus 2 OX=2697049 GN=S PE=1 SV=1\n",
    "MFVFLVLLPLVSSQCVNLTTRTQLPPAYTNSFTRGVYYPDKVFRSSVLHSTQDLFLPFFS\n",
    "NVTWFHAIHVSGTNGTKRFDNPVLPFNDGVYFASTEKSNIIRGWIFGTTLDSKTQSLLIV\n",
    "NNATNVVIKVCEFQFCNDPFLGVYYHKNNKSWMESEFRVYSSANNCTFEYVSQPFLMDLE\n",
    "GKQGNFKNLREFVFKNIDGYFKIYSKHTPINLVRDLPQGFSALEPLVDLPIGINITRFQT\n",
    "LLALHRSYLTPGDSSSGWTAGAAAYYVGYLQPRTFLLKYNENGTITDAVDCALDPLSETK\n",
    "CTLKSFTVEKGIYQTSNFRVQPTESIVRFPNITNLCPFGEVFNATRFASVYAWNRKRISN\n",
    "CVADYSVLYNSASFSTFKCYGVSPTKLNDLCFTNVYADSFVIRGDEVRQIAPGQTGKIAD\n",
    "YNYKLPDDFTGCVIAWNSNNLDSKVGGNYNYLYRLFRKSNLKPFERDISTEIYQAGSTPC\n",
    "NGVEGFNCYFPLQSYGFQPTNGVGYQPYRVVVLSFELLHAPATVCGPKKSTNLVKNKCVN\n",
    "FNFNGLTGTGVLTESNKKFLPFQQFGRDIADTTDAVRDPQTLEILDITPCSFGGVSVITP\n",
    "GTNTSNQVAVLYQDVNCTEVPVAIHADQLTPTWRVYSTGSNVFQTRAGCLIGAEHVNNSY\n",
    "ECDIPIGAGICASYQTQTNSPRRARSVASQSIIAYTMSLGAENSVAYSNNSIAIPTNFTI\n",
    "SVTTEILPVSMTKTSVDCTMYICGDSTECSNLLLQYGSFCTQLNRALTGIAVEQDKNTQE\n",
    "VFAQVKQIYKTPPIKDFGGFNFSQILPDPSKPSKRSFIEDLLFNKVTLADAGFIKQYGDC\n",
    "LGDIAARDLICAQKFNGLTVLPPLLTDEMIAQYTSALLAGTITSGWTFGAGAALQIPFAM\n",
    "QMAYRFNGIGVTQNVLYENQKLIANQFNSAIGKIQDSLSSTASALGKLQDVVNQNAQALN\n",
    "TLVKQLSSNFGAISSVLNDILSRLDKVEAEVQIDRLITGRLQSLQTYVTQQLIRAAEIRA\n",
    "SANLAATKMSECVLGQSKRVDFCGKGYHLMSFPQSAPHGVVFLHVTYVPAQEKNFTTAPA\n",
    "ICHDGKAHFPREGVFVSNGTHWFVTQRNFYEPQIITTDNTFVSGNCDVVIGIVNNTVYDP\n",
    "LQPELDSFKEELDKYFKNHTSPDVDLGDISGINASVVNIQKEIDRLNEVAKNLNESLIDL\n",
    "QELGKYEQYIKWPWYIWLGFIAGLIAIVMVTIMLCCMTSCCSCLKGCCSCGSCCKFDEDD\n",
    "SEPVLKGVKLHYT\"\"\"\n",
    "len(test_wt_seq)"
   ]
  },
  {
   "cell_type": "code",
   "execution_count": 8,
   "metadata": {},
   "outputs": [],
   "source": [
    "test_seqs = []\n",
    "fa_parser = SeqIO.parse(io.StringIO(test_wt_seq), 'fasta')\n",
    "for record in fa_parser:\n",
    "    seq = record.seq\n",
    "    test_seqs.append(str(seq))"
   ]
  },
  {
   "cell_type": "code",
   "execution_count": 55,
   "metadata": {},
   "outputs": [
    {
     "name": "stdout",
     "output_type": "stream",
     "text": [
      "tensor([[-1.1492, -0.1697, -0.6104,  ...,  0.6469, -0.9710, -0.0934],\n",
      "        [-0.9537, -1.1770,  1.0682,  ...,  0.7800, -1.6534,  2.3468],\n",
      "        [-1.0529, -0.4486, -0.1189,  ..., -2.6147,  1.1226,  0.2858],\n",
      "        ...,\n",
      "        [ 0.8581, -1.7343, -0.0180,  ..., -0.9839,  0.1881,  1.4502],\n",
      "        [ 0.1738,  0.0885, -1.1182,  ...,  0.3204,  2.5281, -0.4910],\n",
      "        [-1.6901, -0.4786, -0.4231,  ..., -1.8643,  0.5993, -0.9359]],\n",
      "       grad_fn=<EmbeddingBackward0>)\n",
      "Shape of test sequence embedding: torch.Size([1275, 20])\n"
     ]
    }
   ],
   "source": [
    "num_embeddings = n_tokens\n",
    "embedding_dim = 20\n",
    "embedding = TokenEmbedding(num_embeddings, embedding_dim, padding_idx)\n",
    "test_embedding = embedding(torch.IntTensor(tokenize_seq(test_seqs[0])))\n",
    "print(test_embedding)\n",
    "print(f'Shape of test sequence embedding: {test_embedding.shape}')\n"
   ]
  },
  {
   "attachments": {},
   "cell_type": "markdown",
   "metadata": {},
   "source": [
    "Let's take a look of the embedding weights:"
   ]
  },
  {
   "cell_type": "code",
   "execution_count": 28,
   "metadata": {},
   "outputs": [
    {
     "data": {
      "text/plain": [
       "Parameter containing:\n",
       "tensor([[-2.3978,  1.2127, -0.2234, -0.0264, -0.3820, -0.9479,  0.8689, -0.7566,\n",
       "         -0.4174, -1.0082,  0.1021,  0.1771, -1.0763, -0.1874,  0.0987,  0.3682,\n",
       "         -1.1995,  0.4575, -1.2001,  1.5923],\n",
       "        [ 0.5006,  3.0301, -1.7250, -2.1034,  2.5169, -0.1309, -1.0380,  0.1059,\n",
       "          0.7469, -0.3476,  0.5521,  0.7017, -1.5748,  0.3097,  1.1791,  2.1280,\n",
       "         -0.7778, -0.7498,  1.1281,  2.1922],\n",
       "        [ 1.9306,  1.8446, -0.9415, -0.2140,  1.0399, -0.8043,  1.3288, -0.4401,\n",
       "         -0.4866, -0.9693, -0.6359,  1.3263,  0.2730, -0.7357, -0.5857, -1.0038,\n",
       "         -0.0549,  0.3960,  0.5891,  1.5032],\n",
       "        [-0.7671,  1.4075, -0.1768, -1.1197, -1.0238, -2.2906,  0.1624,  0.1044,\n",
       "         -0.4115, -0.3973,  0.4986, -0.3979,  0.2723,  0.4332,  0.8461, -2.0731,\n",
       "         -0.5507, -0.3212,  0.7629, -0.3854],\n",
       "        [ 0.3769,  1.8458, -0.2702, -1.0592,  0.8349, -0.2808,  1.8812, -2.5554,\n",
       "          1.7361,  0.4591,  0.8112,  1.6567, -0.7579,  0.8533,  1.9077,  0.0673,\n",
       "          0.1278, -0.6786,  0.3622,  0.9097],\n",
       "        [ 0.2101,  0.2860, -0.7075,  0.2587,  0.4830,  1.0183,  0.1198,  0.3731,\n",
       "         -0.1135, -0.6528, -0.4227,  0.3565,  0.2680, -0.4348, -0.1312,  0.4422,\n",
       "         -0.1561, -1.3507,  0.7020,  1.4990],\n",
       "        [ 0.6900,  1.8191,  0.1176,  0.5805, -0.5534, -2.3661,  0.4312,  0.6563,\n",
       "         -0.2081, -0.2523,  0.4332, -1.4975,  0.8477, -0.3826, -0.5797, -0.9309,\n",
       "          0.5340,  1.9636, -0.4291, -1.1557],\n",
       "        [-0.8255, -0.1053, -0.0996, -0.7948, -1.1934,  0.7047, -0.0558,  0.5115,\n",
       "         -0.8494,  0.0095, -1.0110, -1.5925,  1.0063, -1.0016, -0.9255,  0.1669,\n",
       "         -1.6175, -0.5872,  1.8952,  0.5805],\n",
       "        [ 0.6699,  0.6968,  0.5792, -0.4497,  1.0913, -0.5816,  0.0762,  1.2040,\n",
       "          0.8897, -0.7452,  0.8239,  0.0328, -0.7201, -0.7933,  0.7355,  2.2086,\n",
       "         -0.8146,  2.2520, -0.7632,  0.6094],\n",
       "        [-0.9408, -0.5494,  0.3596,  0.2383, -0.3518,  0.3214, -0.5994,  0.6921,\n",
       "         -0.7415,  1.3729, -0.8192,  0.3152,  0.4118, -0.1715,  1.1719, -1.5519,\n",
       "          1.9380, -1.4829, -0.1636, -1.3497],\n",
       "        [-0.4275,  0.2194,  0.6349, -0.1060,  1.8907, -0.6602, -0.3383,  1.0983,\n",
       "          1.4938, -2.7096, -0.2643,  0.0238, -0.6068, -0.2285, -1.7454, -0.0875,\n",
       "         -1.4080,  0.2985,  0.2946, -0.2279],\n",
       "        [-2.3388,  0.3756, -0.2422, -1.7273,  1.5357, -0.7203,  0.9549, -1.4896,\n",
       "          0.9828, -0.8121, -0.0651,  0.7140,  0.5755,  0.0387,  0.1710,  0.8591,\n",
       "          0.8561,  2.4668,  0.1795,  0.1539],\n",
       "        [ 0.0992,  1.6485,  1.2077,  0.8122,  0.7670,  0.6683,  0.6711, -0.3899,\n",
       "         -2.0123, -2.1062,  1.8167,  1.5446, -0.6800, -1.0507, -0.2863,  0.1251,\n",
       "         -1.2484,  0.2909, -0.0894,  0.1167],\n",
       "        [-0.2474, -0.9462,  1.2075, -1.7925, -1.1925,  1.3367,  1.1992, -0.3323,\n",
       "          1.0364, -0.4316,  1.3012, -0.7826,  1.5634,  0.7808, -0.4349, -0.6277,\n",
       "         -0.2920, -0.0328, -1.2642,  0.7916],\n",
       "        [ 0.2988, -0.2668, -0.7956,  1.3044,  1.1826, -0.3142, -0.6145,  1.9861,\n",
       "          0.7049,  0.2732,  0.7063, -0.1518, -1.7872, -0.7959, -1.4334, -0.4461,\n",
       "         -0.1050,  0.2713,  0.1337, -0.9713],\n",
       "        [ 0.0967,  1.0106, -1.0483, -1.4925,  0.0528, -2.1352, -0.0958, -0.1690,\n",
       "         -0.1587,  0.9047,  0.9188,  0.5017,  0.7084, -0.9721, -0.6570,  0.4286,\n",
       "          0.7860, -0.5626,  1.0395, -0.4269],\n",
       "        [-1.4078,  0.3177, -0.3454, -0.6319, -0.6816,  0.3536, -0.4180, -1.3088,\n",
       "          0.1090, -1.9919,  0.3763, -0.7545, -0.2694,  1.3455,  0.2706,  0.5835,\n",
       "         -0.5129,  0.5177,  1.5348,  0.5287],\n",
       "        [-1.3708, -0.9684,  0.6913, -1.4711,  1.0809,  0.3603, -0.1313, -0.6446,\n",
       "         -0.5745,  0.5278, -0.7285, -0.4054, -0.4627, -2.4783,  0.0248, -0.8267,\n",
       "          1.0968,  1.2873,  1.1250, -1.3474],\n",
       "        [-1.3917,  0.2169,  0.3046, -1.6001, -0.3778, -1.1490,  1.2047, -0.6139,\n",
       "          1.0977, -0.1423, -1.2707, -0.1715, -1.8861, -0.9763,  0.4039,  0.2774,\n",
       "         -1.7637,  0.7432,  0.3654,  0.4488],\n",
       "        [ 1.6523, -0.2904,  1.2526, -0.2197,  0.1614, -0.8927, -0.7765, -0.5097,\n",
       "         -0.7301, -1.0441, -1.8693, -1.0954,  0.7750, -0.0489, -1.0132,  1.3177,\n",
       "          0.2608,  0.8696,  0.4121, -0.3619],\n",
       "        [ 1.2806,  1.0221, -1.9353, -0.5770,  1.4058, -0.6011,  0.8028, -0.3430,\n",
       "         -0.5752, -0.0897,  0.3867, -0.4285, -1.1298,  0.5034, -0.4217, -0.5619,\n",
       "          0.6960, -0.3948, -1.4646,  0.8082],\n",
       "        [ 0.7727,  0.1001, -1.6670, -2.0669, -0.0533, -0.5393,  2.1236, -2.2138,\n",
       "         -0.1098, -1.3235, -2.4324, -0.0448,  0.5219,  0.2354,  0.4039, -0.2340,\n",
       "         -0.4950,  0.8857, -0.8503, -0.8231],\n",
       "        [-0.7466,  1.4098,  0.9559,  1.2351,  0.1429, -0.8312,  0.4784,  0.2216,\n",
       "          0.5559, -1.0605,  1.2687, -1.6045,  1.2016, -0.0794,  0.1538, -0.0786,\n",
       "          0.9677,  0.7164, -0.1997,  2.9523],\n",
       "        [-0.3954, -1.9481, -0.4545,  0.5026, -1.2283, -0.5065, -0.9150, -0.1364,\n",
       "         -1.7738, -0.9546, -0.0233,  0.9169, -0.4801, -0.8558,  0.0306, -0.5516,\n",
       "          0.5482, -1.1720, -1.1115, -0.5792],\n",
       "        [ 1.0439, -0.1519, -1.1131, -0.1841,  0.6153,  0.5909,  0.2468,  2.1369,\n",
       "         -3.8099, -0.6750,  0.2553,  0.4230,  0.7332, -0.0964,  0.0973, -2.0714,\n",
       "          0.5861, -0.4278, -0.2168, -0.6586],\n",
       "        [ 0.0000,  0.0000,  0.0000,  0.0000,  0.0000,  0.0000,  0.0000,  0.0000,\n",
       "          0.0000,  0.0000,  0.0000,  0.0000,  0.0000,  0.0000,  0.0000,  0.0000,\n",
       "          0.0000,  0.0000,  0.0000,  0.0000]], requires_grad=True)"
      ]
     },
     "execution_count": 28,
     "metadata": {},
     "output_type": "execute_result"
    }
   ],
   "source": [
    "embedding.weight"
   ]
  },
  {
   "cell_type": "code",
   "execution_count": 29,
   "metadata": {},
   "outputs": [
    {
     "data": {
      "text/plain": [
       "torch.Size([26, 20])"
      ]
     },
     "execution_count": 29,
     "metadata": {},
     "output_type": "execute_result"
    }
   ],
   "source": [
    "embedding.weight.shape"
   ]
  },
  {
   "attachments": {},
   "cell_type": "markdown",
   "metadata": {},
   "source": [
    "## Postional Encoding\n",
    "We will use the  sine and cosine functions of different frequencie to embed positional information as in the original BERT method."
   ]
  },
  {
   "cell_type": "code",
   "execution_count": 98,
   "metadata": {},
   "outputs": [],
   "source": [
    "class PositionalEncoding(nn.Module):\n",
    "    \"\"\"\n",
    "    Impement the PE function.\n",
    "    \n",
    "    The PE forward function is different from the BERT-pytorch. Here we used the original method in BERT so\n",
    "    PE embeddings are added to the input embeddings and no graident tracking is used.\n",
    "    \"\"\"\n",
    "\n",
    "    def __init__(self, d_model, dropout, max_len=1500):\n",
    "        super().__init__()\n",
    "        self.dropout = nn.Dropout(p=dropout)\n",
    "\n",
    "        # Compute the positional encodings once in log space.\n",
    "        pe = torch.zeros(max_len, d_model)\n",
    "        position = torch.arange(0, max_len).unsqueeze(1)\n",
    "        div_term = torch.exp(torch.arange(0, d_model, 2) * -(math.log(10000.0)/d_model))\n",
    "        pe[:, 0::2] = torch.sin(position * div_term)\n",
    "        pe[:, 1::2] = torch.cos(position * div_term)\n",
    "        pe = pe.unsqueeze(0)\n",
    "        self.register_buffer(\"pe\", pe)\n",
    "\n",
    "    def forward(self, x):\n",
    "        print(f'x.shape in PositionalEncoding: {x.shape}')\n",
    "        print(f'x.shape: {x.shape},pe.shape: {self.pe.shape}')\n",
    "        print(f'pe[:, : x.size(1)]: {self.pe[:, : x.size(1)]}')\n",
    "\n",
    "\n",
    "        x = x + self.pe[:, : x.size(1)].requires_grad_(False)\n",
    "        return self.dropout(x)"
   ]
  },
  {
   "cell_type": "code",
   "execution_count": 99,
   "metadata": {},
   "outputs": [],
   "source": [
    "class SeqEncoding(nn.Module):\n",
    "    \"\"\"\n",
    "    Encode amino acid sequence. Input sequence is represented by summing the corresponding sequence token,\n",
    "    segment (e.g. question and answer or any segments separated by <SEP>), and position embeddings. In our \n",
    "    model, we only need the token and position embedding so segment embeddign is not implemented here.    \n",
    "    \"\"\"\n",
    "    def __init__(self, num_embeddings, embedding_dim, dropout=0.1):\n",
    "        super().__init__()\n",
    "        self.token_embedding = TokenEmbedding(num_embeddings, embedding_dim)\n",
    "        self.position = PositionalEncoding(embedding_dim, dropout)\n",
    "        self.embeddng_dim = embedding_dim\n",
    "        self.dropout = nn.Dropout(dropout)\n",
    "        \n",
    "    def forward(self, seq:str):\n",
    "        x = torch.IntTensor(tokenize_seq(seq))\n",
    "        x = self.token_embedding(x)\n",
    "        x = self.position(x)\n",
    "        return self.dropout(x)"
   ]
  },
  {
   "cell_type": "code",
   "execution_count": 100,
   "metadata": {},
   "outputs": [
    {
     "name": "stdout",
     "output_type": "stream",
     "text": [
      "Parameters in SeqEncoding: 13312\n",
      "x.shape in PositionalEncoding: torch.Size([1275, 512])\n",
      "x.shape: torch.Size([1275, 512]),pe.shape: torch.Size([1, 1500, 512])\n",
      "pe[:, : x.size(1)]: tensor([[[ 0.0000e+00,  1.0000e+00,  0.0000e+00,  ...,  1.0000e+00,\n",
      "           0.0000e+00,  1.0000e+00],\n",
      "         [ 8.4147e-01,  5.4030e-01,  8.2186e-01,  ...,  1.0000e+00,\n",
      "           1.0366e-04,  1.0000e+00],\n",
      "         [ 9.0930e-01, -4.1615e-01,  9.3641e-01,  ...,  1.0000e+00,\n",
      "           2.0733e-04,  1.0000e+00],\n",
      "         ...,\n",
      "         [ 6.1950e-02,  9.9808e-01,  7.9820e-01,  ...,  9.9850e-01,\n",
      "           5.2740e-02,  9.9861e-01],\n",
      "         [ 8.7333e-01,  4.8714e-01,  9.4981e-01,  ...,  9.9850e-01,\n",
      "           5.2844e-02,  9.9860e-01],\n",
      "         [ 8.8177e-01, -4.7168e-01,  2.8401e-01,  ...,  9.9849e-01,\n",
      "           5.2947e-02,  9.9860e-01]]])\n"
     ]
    },
    {
     "ename": "RuntimeError",
     "evalue": "The size of tensor a (1275) must match the size of tensor b (512) at non-singleton dimension 1",
     "output_type": "error",
     "traceback": [
      "\u001b[0;31m---------------------------------------------------------------------------\u001b[0m",
      "\u001b[0;31mRuntimeError\u001b[0m                              Traceback (most recent call last)",
      "\u001b[0;32m/tmp/ipykernel_450938/64279473.py\u001b[0m in \u001b[0;36m<module>\u001b[0;34m\u001b[0m\n\u001b[1;32m      2\u001b[0m \u001b[0mnum_parameters_seq_encoding\u001b[0m \u001b[0;34m=\u001b[0m \u001b[0msum\u001b[0m\u001b[0;34m(\u001b[0m\u001b[0mp\u001b[0m\u001b[0;34m.\u001b[0m\u001b[0mnumel\u001b[0m\u001b[0;34m(\u001b[0m\u001b[0;34m)\u001b[0m \u001b[0;32mfor\u001b[0m \u001b[0mp\u001b[0m \u001b[0;32min\u001b[0m \u001b[0mtest_seq_encode\u001b[0m\u001b[0;34m.\u001b[0m\u001b[0mparameters\u001b[0m\u001b[0;34m(\u001b[0m\u001b[0;34m)\u001b[0m \u001b[0;32mif\u001b[0m \u001b[0mp\u001b[0m\u001b[0;34m.\u001b[0m\u001b[0mrequires_grad\u001b[0m\u001b[0;34m)\u001b[0m\u001b[0;34m\u001b[0m\u001b[0;34m\u001b[0m\u001b[0m\n\u001b[1;32m      3\u001b[0m \u001b[0mprint\u001b[0m\u001b[0;34m(\u001b[0m\u001b[0;34mf'Parameters in SeqEncoding: {num_parameters_seq_encoding}'\u001b[0m\u001b[0;34m)\u001b[0m\u001b[0;34m\u001b[0m\u001b[0;34m\u001b[0m\u001b[0m\n\u001b[0;32m----> 4\u001b[0;31m \u001b[0mprint\u001b[0m\u001b[0;34m(\u001b[0m\u001b[0mtest_seq_encode\u001b[0m\u001b[0;34m(\u001b[0m\u001b[0mtest_seqs\u001b[0m\u001b[0;34m[\u001b[0m\u001b[0;36m0\u001b[0m\u001b[0;34m]\u001b[0m\u001b[0;34m)\u001b[0m\u001b[0;34m)\u001b[0m\u001b[0;34m\u001b[0m\u001b[0;34m\u001b[0m\u001b[0m\n\u001b[0m",
      "\u001b[0;32m~/miniconda3/lib/python3.9/site-packages/torch/nn/modules/module.py\u001b[0m in \u001b[0;36m_call_impl\u001b[0;34m(self, *input, **kwargs)\u001b[0m\n\u001b[1;32m   1100\u001b[0m         if not (self._backward_hooks or self._forward_hooks or self._forward_pre_hooks or _global_backward_hooks\n\u001b[1;32m   1101\u001b[0m                 or _global_forward_hooks or _global_forward_pre_hooks):\n\u001b[0;32m-> 1102\u001b[0;31m             \u001b[0;32mreturn\u001b[0m \u001b[0mforward_call\u001b[0m\u001b[0;34m(\u001b[0m\u001b[0;34m*\u001b[0m\u001b[0minput\u001b[0m\u001b[0;34m,\u001b[0m \u001b[0;34m**\u001b[0m\u001b[0mkwargs\u001b[0m\u001b[0;34m)\u001b[0m\u001b[0;34m\u001b[0m\u001b[0;34m\u001b[0m\u001b[0m\n\u001b[0m\u001b[1;32m   1103\u001b[0m         \u001b[0;31m# Do not call functions when jit is used\u001b[0m\u001b[0;34m\u001b[0m\u001b[0;34m\u001b[0m\u001b[0;34m\u001b[0m\u001b[0m\n\u001b[1;32m   1104\u001b[0m         \u001b[0mfull_backward_hooks\u001b[0m\u001b[0;34m,\u001b[0m \u001b[0mnon_full_backward_hooks\u001b[0m \u001b[0;34m=\u001b[0m \u001b[0;34m[\u001b[0m\u001b[0;34m]\u001b[0m\u001b[0;34m,\u001b[0m \u001b[0;34m[\u001b[0m\u001b[0;34m]\u001b[0m\u001b[0;34m\u001b[0m\u001b[0;34m\u001b[0m\u001b[0m\n",
      "\u001b[0;32m/tmp/ipykernel_450938/2008568237.py\u001b[0m in \u001b[0;36mforward\u001b[0;34m(self, seq)\u001b[0m\n\u001b[1;32m     15\u001b[0m         \u001b[0mx\u001b[0m \u001b[0;34m=\u001b[0m \u001b[0mtorch\u001b[0m\u001b[0;34m.\u001b[0m\u001b[0mIntTensor\u001b[0m\u001b[0;34m(\u001b[0m\u001b[0mtokenize_seq\u001b[0m\u001b[0;34m(\u001b[0m\u001b[0mseq\u001b[0m\u001b[0;34m)\u001b[0m\u001b[0;34m)\u001b[0m\u001b[0;34m\u001b[0m\u001b[0;34m\u001b[0m\u001b[0m\n\u001b[1;32m     16\u001b[0m         \u001b[0mx\u001b[0m \u001b[0;34m=\u001b[0m \u001b[0mself\u001b[0m\u001b[0;34m.\u001b[0m\u001b[0mtoken_embedding\u001b[0m\u001b[0;34m(\u001b[0m\u001b[0mx\u001b[0m\u001b[0;34m)\u001b[0m\u001b[0;34m\u001b[0m\u001b[0;34m\u001b[0m\u001b[0m\n\u001b[0;32m---> 17\u001b[0;31m         \u001b[0mx\u001b[0m \u001b[0;34m=\u001b[0m \u001b[0mself\u001b[0m\u001b[0;34m.\u001b[0m\u001b[0mposition\u001b[0m\u001b[0;34m(\u001b[0m\u001b[0mx\u001b[0m\u001b[0;34m)\u001b[0m\u001b[0;34m\u001b[0m\u001b[0;34m\u001b[0m\u001b[0m\n\u001b[0m\u001b[1;32m     18\u001b[0m         \u001b[0;32mreturn\u001b[0m \u001b[0mself\u001b[0m\u001b[0;34m.\u001b[0m\u001b[0mdropout\u001b[0m\u001b[0;34m(\u001b[0m\u001b[0mx\u001b[0m\u001b[0;34m)\u001b[0m\u001b[0;34m\u001b[0m\u001b[0;34m\u001b[0m\u001b[0m\n",
      "\u001b[0;32m~/miniconda3/lib/python3.9/site-packages/torch/nn/modules/module.py\u001b[0m in \u001b[0;36m_call_impl\u001b[0;34m(self, *input, **kwargs)\u001b[0m\n\u001b[1;32m   1100\u001b[0m         if not (self._backward_hooks or self._forward_hooks or self._forward_pre_hooks or _global_backward_hooks\n\u001b[1;32m   1101\u001b[0m                 or _global_forward_hooks or _global_forward_pre_hooks):\n\u001b[0;32m-> 1102\u001b[0;31m             \u001b[0;32mreturn\u001b[0m \u001b[0mforward_call\u001b[0m\u001b[0;34m(\u001b[0m\u001b[0;34m*\u001b[0m\u001b[0minput\u001b[0m\u001b[0;34m,\u001b[0m \u001b[0;34m**\u001b[0m\u001b[0mkwargs\u001b[0m\u001b[0;34m)\u001b[0m\u001b[0;34m\u001b[0m\u001b[0;34m\u001b[0m\u001b[0m\n\u001b[0m\u001b[1;32m   1103\u001b[0m         \u001b[0;31m# Do not call functions when jit is used\u001b[0m\u001b[0;34m\u001b[0m\u001b[0;34m\u001b[0m\u001b[0;34m\u001b[0m\u001b[0m\n\u001b[1;32m   1104\u001b[0m         \u001b[0mfull_backward_hooks\u001b[0m\u001b[0;34m,\u001b[0m \u001b[0mnon_full_backward_hooks\u001b[0m \u001b[0;34m=\u001b[0m \u001b[0;34m[\u001b[0m\u001b[0;34m]\u001b[0m\u001b[0;34m,\u001b[0m \u001b[0;34m[\u001b[0m\u001b[0;34m]\u001b[0m\u001b[0;34m\u001b[0m\u001b[0;34m\u001b[0m\u001b[0m\n",
      "\u001b[0;32m/tmp/ipykernel_450938/3788943354.py\u001b[0m in \u001b[0;36mforward\u001b[0;34m(self, x)\u001b[0m\n\u001b[1;32m     26\u001b[0m \u001b[0;34m\u001b[0m\u001b[0m\n\u001b[1;32m     27\u001b[0m \u001b[0;34m\u001b[0m\u001b[0m\n\u001b[0;32m---> 28\u001b[0;31m         \u001b[0mx\u001b[0m \u001b[0;34m=\u001b[0m \u001b[0mx\u001b[0m \u001b[0;34m+\u001b[0m \u001b[0mself\u001b[0m\u001b[0;34m.\u001b[0m\u001b[0mpe\u001b[0m\u001b[0;34m[\u001b[0m\u001b[0;34m:\u001b[0m\u001b[0;34m,\u001b[0m \u001b[0;34m:\u001b[0m \u001b[0mx\u001b[0m\u001b[0;34m.\u001b[0m\u001b[0msize\u001b[0m\u001b[0;34m(\u001b[0m\u001b[0;36m1\u001b[0m\u001b[0;34m)\u001b[0m\u001b[0;34m]\u001b[0m\u001b[0;34m.\u001b[0m\u001b[0mrequires_grad_\u001b[0m\u001b[0;34m(\u001b[0m\u001b[0;32mFalse\u001b[0m\u001b[0;34m)\u001b[0m\u001b[0;34m\u001b[0m\u001b[0;34m\u001b[0m\u001b[0m\n\u001b[0m\u001b[1;32m     29\u001b[0m         \u001b[0;32mreturn\u001b[0m \u001b[0mself\u001b[0m\u001b[0;34m.\u001b[0m\u001b[0mdropout\u001b[0m\u001b[0;34m(\u001b[0m\u001b[0mx\u001b[0m\u001b[0;34m)\u001b[0m\u001b[0;34m\u001b[0m\u001b[0;34m\u001b[0m\u001b[0m\n",
      "\u001b[0;31mRuntimeError\u001b[0m: The size of tensor a (1275) must match the size of tensor b (512) at non-singleton dimension 1"
     ]
    }
   ],
   "source": [
    "test_seq_encode = SeqEncoding(n_tokens, 512, 0.1)\n",
    "num_parameters_seq_encoding = sum(p.numel() for p in test_seq_encode.parameters() if p.requires_grad)\n",
    "print(f'Parameters in SeqEncoding: {num_parameters_seq_encoding}')\n",
    "print(test_seq_encode(test_seqs[0]))"
   ]
  },
  {
   "attachments": {},
   "cell_type": "markdown",
   "metadata": {},
   "source": [
    "# Model Definition\n",
    "\n",
    "Here we define a model based on BERT. Part of the implementation is based on [BERT-pytorch](https://github.com/codertimo/BERT-pytorch)"
   ]
  },
  {
   "cell_type": "code",
   "execution_count": 30,
   "metadata": {},
   "outputs": [],
   "source": [
    "def clones(module, N):\n",
    "    \"\"\"Produce N identical layers\"\"\"\n",
    "    return nn.ModuleList([copy.deepcopy(module) for _ in range(N)])"
   ]
  },
  {
   "cell_type": "code",
   "execution_count": null,
   "metadata": {},
   "outputs": [],
   "source": [
    "class Transformer:\n",
    "    "
   ]
  },
  {
   "cell_type": "code",
   "execution_count": null,
   "metadata": {},
   "outputs": [],
   "source": [
    "class BERT(nn.Module):\n",
    "    \"\"\"\n",
    "    BERT model\n",
    "    \"\"\"\n",
    "\n",
    "    def __init__(self, vocabl_size: int = 26, hidden: int = 768, n_layer: int = 12, attn_heads: int = 12, dropout: float = 0.1):\n",
    "        \"\"\"\n",
    "        vacab_size: vacabulary or token size\n",
    "        hidden: BERT model size (used as input size and hidden size)\n",
    "        n_layer: number of Transformer layers\n",
    "        attn_heads: attenion heads\n",
    "        dropout: dropout ratio\n",
    "        \"\"\"\n",
    "\n",
    "        super().__init__()\n",
    "        self.hidden  = hidden\n",
    "        self.n_layer = n_layer\n",
    "        self.attn_heads = attn_heads\n",
    "\n",
    "        self.feed_forward_hidden = hidden * 4\n",
    "        self.embedding = TokenEmbedding(vocabl_size, embed_size=hidden, padding_idx=25)\n",
    "\n",
    "        self.transformer_blocks = clones(Transformer(hidden, attn_heads, hidden *4, dropout), n_layer)\n",
    "\n",
    "    def forward(self)\n"
   ]
  }
 ],
 "metadata": {
  "kernelspec": {
   "display_name": "base",
   "language": "python",
   "name": "python3"
  },
  "language_info": {
   "codemirror_mode": {
    "name": "ipython",
    "version": 3
   },
   "file_extension": ".py",
   "mimetype": "text/x-python",
   "name": "python",
   "nbconvert_exporter": "python",
   "pygments_lexer": "ipython3",
   "version": "3.9.5"
  },
  "orig_nbformat": 4
 },
 "nbformat": 4,
 "nbformat_minor": 2
}
