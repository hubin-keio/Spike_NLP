{
 "cells": [
  {
   "attachments": {},
   "cell_type": "markdown",
   "metadata": {},
   "source": [
    "# Test BERT-Pytorch\n",
    "\n",
    "BERT-pytorch is a PyTorch implementation of the BERT algorithm.\n",
    "\n",
    "[BERT-pytorch](https://github.com/codertimo/BERT-pytorch)\n",
    "\n",
    "\n",
    "## Embedding\n",
    "In the BERT implemetnation (bert_pytorch/model/bert.py), the masking is done after the second token (x>0) since in the original BERT paper, the first element of the input is always \\[CLS\\]. In our model, we will use the variant name as the \\[CLS\\] and the values are:\n",
    "[wt, alpha, delta, omicron, na], where \"na\" stands for not assigned."
   ]
  },
  {
   "cell_type": "code",
   "execution_count": 3,
   "metadata": {},
   "outputs": [],
   "source": [
    "import io\n",
    "import copy\n",
    "import math\n",
    "from Bio import SeqIO\n",
    "import torch\n",
    "import torch.nn as nn\n",
    "# from bert_pytorch.model import BERT"
   ]
  },
  {
   "attachments": {},
   "cell_type": "markdown",
   "metadata": {},
   "source": [
    "## Tokenization and Vocabulary\n",
    "In [ProteinBERT](https://academic.oup.com/bioinformatics/article/38/8/2102/6502274), Brandes et al used 26 unique tokens to represent the 20 standard amino acids, selenocysteine (U), and undefined amino acid (X), another amino acid (OTHER) and three speical tokens \\<START\\>, \\<END\\>, \\<PAD\\>."
   ]
  },
  {
   "cell_type": "code",
   "execution_count": 62,
   "metadata": {},
   "outputs": [],
   "source": [
    "# Based on the source code of protein_bert\n",
    "ALL_AAS = 'ACDEFGHIKLMNPQRSTUVWXY'\n",
    "ADDITIONAL_TOKENS = ['<OTHER>', '<START>', '<END>', '<PAD>']\n",
    "\n",
    "# Each sequence is added <START> a\n",
    "ADDED_TOKENS_PER_SEQ = 2\n",
    "\n",
    "n_aas = len(ALL_AAS)\n",
    "aa_to_token_index = {aa: i for i, aa in enumerate(ALL_AAS)}\n",
    "additional_token_to_index = {token: i + n_aas for i, token in enumerate(ADDITIONAL_TOKENS)}\n",
    "token_to_index = {**aa_to_token_index, **additional_token_to_index}\n",
    "index_to_token = {index: token for token, index in token_to_index.items()}\n",
    "n_tokens = len(token_to_index)\n",
    "\n",
    "def tokenize_seq(seq, max_len):\n",
    "    other_token_index = additional_token_to_index['<OTHER>']\n",
    "    token_seq = [additional_token_to_index['<START>']] + [aa_to_token_index.get(aa, other_token_index) for aa in seq]\n",
    "    if len(token_seq) < max_len - 1: # -1 is for the <END> token\n",
    "        len_pad = max_len -1 - len(token_seq)\n",
    "        token_seq.extend(token_to_index['<PAD>'] for _ in range(len_pad))\n",
    "    token_seq += [additional_token_to_index['<END>']]\n",
    "    return torch.IntTensor(token_seq)"
   ]
  },
  {
   "attachments": {},
   "cell_type": "markdown",
   "metadata": {},
   "source": [
    "## Amino Acid Token Embeddings\n",
    "We will derive it from the [torch.nn.Embedding class](https://pytorch.org/docs/stable/generated/torch.nn.Embedding.html). The size of the vacabulary equals the number of tokens. This approach allows the learning of the embeddings from the model intself. If we train the model with virus sepcific squences, the embeddings shall reflect the hidden properties of the amino acids in context of the trainign sequences. Note that the \\<START\\> and \\<END\\> tokens are always added at the beginning of the sequence. \\<PAD\\> tokens may be added before the \\<END\\> token if the sequence is shorter than the input sequence.\n",
    "\n",
    "Note that using the \"from_pretrained\" class method of torch.nn.Embedding, we can load pretrained weights of the embedding.\n"
   ]
  },
  {
   "cell_type": "code",
   "execution_count": 63,
   "metadata": {},
   "outputs": [
    {
     "name": "stdout",
     "output_type": "stream",
     "text": [
      "25\n"
     ]
    }
   ],
   "source": [
    "class TokenEmbedding(nn.Embedding):\n",
    "    def __init__(self, num_embeddings: torch.Tensor, embedding_dim: int = 512, max_len: int=1500, padding_idx=None):\n",
    "        super().__init__(num_embeddings, embedding_dim, padding_idx)\n",
    "\n",
    "padding_idx = token_to_index['<PAD>']\n",
    "print(padding_idx)\n"
   ]
  },
  {
   "cell_type": "code",
   "execution_count": 33,
   "metadata": {},
   "outputs": [
    {
     "data": {
      "text/plain": [
       "1413"
      ]
     },
     "execution_count": 33,
     "metadata": {},
     "output_type": "execute_result"
    }
   ],
   "source": [
    "test_wt_seq = \"\"\">sp|P0DTC2|SPIKE_SARS2 Spike glycoprotein OS=Severe acute respiratory syndrome coronavirus 2 OX=2697049 GN=S PE=1 SV=1\n",
    "MFVFLVLLPLVSSQCVNLTTRTQLPPAYTNSFTRGVYYPDKVFRSSVLHSTQDLFLPFFS\n",
    "NVTWFHAIHVSGTNGTKRFDNPVLPFNDGVYFASTEKSNIIRGWIFGTTLDSKTQSLLIV\n",
    "NNATNVVIKVCEFQFCNDPFLGVYYHKNNKSWMESEFRVYSSANNCTFEYVSQPFLMDLE\n",
    "GKQGNFKNLREFVFKNIDGYFKIYSKHTPINLVRDLPQGFSALEPLVDLPIGINITRFQT\n",
    "LLALHRSYLTPGDSSSGWTAGAAAYYVGYLQPRTFLLKYNENGTITDAVDCALDPLSETK\n",
    "CTLKSFTVEKGIYQTSNFRVQPTESIVRFPNITNLCPFGEVFNATRFASVYAWNRKRISN\n",
    "CVADYSVLYNSASFSTFKCYGVSPTKLNDLCFTNVYADSFVIRGDEVRQIAPGQTGKIAD\n",
    "YNYKLPDDFTGCVIAWNSNNLDSKVGGNYNYLYRLFRKSNLKPFERDISTEIYQAGSTPC\n",
    "NGVEGFNCYFPLQSYGFQPTNGVGYQPYRVVVLSFELLHAPATVCGPKKSTNLVKNKCVN\n",
    "FNFNGLTGTGVLTESNKKFLPFQQFGRDIADTTDAVRDPQTLEILDITPCSFGGVSVITP\n",
    "GTNTSNQVAVLYQDVNCTEVPVAIHADQLTPTWRVYSTGSNVFQTRAGCLIGAEHVNNSY\n",
    "ECDIPIGAGICASYQTQTNSPRRARSVASQSIIAYTMSLGAENSVAYSNNSIAIPTNFTI\n",
    "SVTTEILPVSMTKTSVDCTMYICGDSTECSNLLLQYGSFCTQLNRALTGIAVEQDKNTQE\n",
    "VFAQVKQIYKTPPIKDFGGFNFSQILPDPSKPSKRSFIEDLLFNKVTLADAGFIKQYGDC\n",
    "LGDIAARDLICAQKFNGLTVLPPLLTDEMIAQYTSALLAGTITSGWTFGAGAALQIPFAM\n",
    "QMAYRFNGIGVTQNVLYENQKLIANQFNSAIGKIQDSLSSTASALGKLQDVVNQNAQALN\n",
    "TLVKQLSSNFGAISSVLNDILSRLDKVEAEVQIDRLITGRLQSLQTYVTQQLIRAAEIRA\n",
    "SANLAATKMSECVLGQSKRVDFCGKGYHLMSFPQSAPHGVVFLHVTYVPAQEKNFTTAPA\n",
    "ICHDGKAHFPREGVFVSNGTHWFVTQRNFYEPQIITTDNTFVSGNCDVVIGIVNNTVYDP\n",
    "LQPELDSFKEELDKYFKNHTSPDVDLGDISGINASVVNIQKEIDRLNEVAKNLNESLIDL\n",
    "QELGKYEQYIKWPWYIWLGFIAGLIAIVMVTIMLCCMTSCCSCLKGCCSCGSCCKFDEDD\n",
    "SEPVLKGVKLHYT\"\"\"\n",
    "len(test_wt_seq)"
   ]
  },
  {
   "cell_type": "code",
   "execution_count": 64,
   "metadata": {},
   "outputs": [],
   "source": [
    "test_seqs = []\n",
    "fa_parser = SeqIO.parse(io.StringIO(test_wt_seq), 'fasta')\n",
    "for record in fa_parser:\n",
    "    seq = record.seq\n",
    "    test_seqs.append(str(seq))"
   ]
  },
  {
   "cell_type": "code",
   "execution_count": 65,
   "metadata": {},
   "outputs": [
    {
     "name": "stdout",
     "output_type": "stream",
     "text": [
      "Shape of test sequence embedding: torch.Size([1500, 20])\n"
     ]
    }
   ],
   "source": [
    "num_embeddings = n_tokens\n",
    "embedding_dim = 20\n",
    "max_len = 1500\n",
    "embedding = TokenEmbedding(num_embeddings, embedding_dim, max_len=1500, padding_idx=padding_idx)\n",
    "test_embedding = embedding(tokenize_seq(test_seqs[0], max_len))\n",
    "print(f'Shape of test sequence embedding: {test_embedding.shape}')\n"
   ]
  },
  {
   "attachments": {},
   "cell_type": "markdown",
   "metadata": {},
   "source": [
    "Let's take a look of the embedding weights:"
   ]
  },
  {
   "cell_type": "code",
   "execution_count": 66,
   "metadata": {},
   "outputs": [
    {
     "data": {
      "text/plain": [
       "Parameter containing:\n",
       "tensor([[ 2.4855e-01, -6.0301e-01, -8.9350e-01,  1.0500e+00,  1.1623e+00,\n",
       "          2.1284e+00,  9.9412e-01, -2.1245e+00, -7.0741e-01, -4.8086e-01,\n",
       "          1.0270e+00, -2.1130e-01,  1.3697e-01,  1.3649e-01,  2.8259e-01,\n",
       "         -9.0673e-02, -7.8031e-01,  1.0446e+00,  1.7205e-01,  1.3393e+00],\n",
       "        [-1.2577e+00, -1.7306e+00,  4.7949e-02, -6.1586e-01,  2.3227e+00,\n",
       "          1.9112e+00, -3.9107e-01, -1.4216e-01,  1.1763e+00, -2.2798e-01,\n",
       "          2.9397e-01, -1.1841e+00,  4.3349e-02, -7.8844e-01,  1.0073e-01,\n",
       "          2.0124e-02,  1.9426e-01,  9.9476e-01, -1.3050e+00,  6.6223e-01],\n",
       "        [-1.0654e+00,  1.2877e+00, -1.5136e+00, -5.2084e-01,  1.2437e+00,\n",
       "          1.8556e+00, -4.0181e-01, -4.1998e-01, -1.9787e+00, -2.1260e-01,\n",
       "         -4.7483e-01, -1.3029e-01,  1.7986e+00,  4.4688e-02,  7.9517e-01,\n",
       "         -4.6092e-01, -2.9534e-01,  2.2252e+00,  2.1702e-01, -1.0765e+00],\n",
       "        [-1.2580e+00,  1.2980e+00,  9.9607e-01, -8.0020e-01,  1.2469e+00,\n",
       "          5.4245e-01,  8.6359e-01,  1.1226e+00,  9.6219e-01, -2.9798e-01,\n",
       "         -3.2332e-01, -1.3804e+00,  1.0523e-01, -2.0592e-01,  9.4481e-01,\n",
       "          2.1004e+00,  2.1588e+00,  4.2068e-02,  1.3664e+00,  1.9217e-01],\n",
       "        [-5.1342e-01,  4.3300e-01,  1.8491e-01,  1.3225e+00, -7.5574e-01,\n",
       "         -3.0221e-01,  1.7648e+00,  4.2828e-01,  4.4590e-01,  3.1370e-02,\n",
       "          7.1313e-01, -1.2213e+00,  1.8773e-02,  1.5263e+00, -1.5758e+00,\n",
       "          2.7567e-01,  2.3106e-01, -1.0241e+00,  1.0530e+00, -2.7891e-01],\n",
       "        [-2.6574e-01, -1.1086e+00,  1.5525e-02, -3.7364e-01, -8.7297e-01,\n",
       "         -5.5187e-02, -2.0043e+00, -9.5358e-01,  1.5098e+00, -2.7736e+00,\n",
       "          5.5895e-01, -6.9275e-01, -3.0379e+00, -8.8072e-01, -1.6199e-01,\n",
       "          7.1914e-01,  1.2481e-01, -2.4229e-01,  1.0951e+00, -1.0474e+00],\n",
       "        [ 5.7423e-01, -1.2696e-01, -2.1657e-01, -1.1491e+00,  3.8204e-01,\n",
       "         -1.1916e+00,  7.2983e-01,  5.4879e-01, -9.4423e-01, -1.2535e+00,\n",
       "          8.0410e-01,  5.5332e-02, -8.8509e-01, -2.0987e-01,  7.0629e-01,\n",
       "         -3.3613e-01,  1.2687e-03,  2.3221e+00, -9.4136e-01,  1.6136e+00],\n",
       "        [-3.7273e-01, -9.2380e-01,  2.4289e-01, -3.5121e-01, -1.2813e+00,\n",
       "         -8.2357e-02, -3.0757e-01,  7.5663e-01,  1.0637e+00,  1.3769e+00,\n",
       "          7.8379e-01,  2.2374e+00, -3.1979e-01, -7.2734e-01, -2.7089e+00,\n",
       "         -6.2763e-02,  1.8890e+00,  1.1536e-01, -2.4673e+00,  1.2681e-01],\n",
       "        [ 1.2111e+00, -2.6769e-01,  1.8074e-01,  1.8460e-01, -7.6444e-01,\n",
       "          1.8670e+00, -2.6890e-01,  2.4572e-01,  1.6831e+00, -8.3224e-01,\n",
       "          1.2182e-01,  2.8023e+00, -6.7994e-01, -1.6028e+00,  8.5184e-02,\n",
       "          1.7882e-01, -5.8673e-01, -7.8162e-01,  5.9230e-01, -8.4504e-01],\n",
       "        [-1.6766e+00,  1.4351e+00,  3.1670e+00,  1.2252e+00, -1.3803e+00,\n",
       "         -3.1538e+00,  6.1637e-01, -5.6684e-01, -9.3278e-01,  2.0373e-01,\n",
       "         -2.0825e-01,  8.6298e-01,  2.4486e-01, -5.0803e-01,  3.5720e-01,\n",
       "          1.0056e+00, -1.0896e+00,  8.8727e-01, -4.1360e-01, -9.1093e-01],\n",
       "        [-9.1476e-01,  8.7371e-01,  5.9059e-01, -2.5673e-01,  4.6254e-01,\n",
       "         -3.2351e-01,  6.8145e-01,  4.2507e-01, -5.8258e-01, -1.3302e+00,\n",
       "          6.0202e-02,  1.0917e+00, -7.4836e-01, -4.5190e-01,  4.1548e-01,\n",
       "         -5.9391e-01, -8.3604e-01, -1.5843e+00, -8.9676e-02, -1.1987e+00],\n",
       "        [ 6.1389e-01, -1.5787e+00,  8.7288e-01, -8.1981e-01, -3.8337e-01,\n",
       "          1.4783e+00, -2.4546e-01,  9.9283e-01, -1.3105e+00,  1.9662e-01,\n",
       "          1.1944e-01, -5.2902e-01,  2.1869e-02, -6.6756e-01,  2.1692e-01,\n",
       "          9.1512e-01, -1.9623e+00,  1.2655e+00,  1.3470e-01, -3.7538e-01],\n",
       "        [ 9.6589e-01, -1.5958e+00, -2.6895e-01, -6.9228e-01,  5.7292e-01,\n",
       "         -3.1077e-01,  1.1333e-01, -8.5476e-01,  1.0016e+00, -5.7650e-01,\n",
       "         -9.6012e-01,  7.5598e-01, -7.2714e-02,  7.3856e-01, -1.4485e+00,\n",
       "         -6.7713e-01,  1.1626e+00, -1.1326e+00, -8.4753e-01,  5.5756e-01],\n",
       "        [ 7.1218e-01, -1.2627e+00, -4.3166e-01,  4.7140e-01, -1.0764e-01,\n",
       "         -7.8181e-01, -1.0812e+00, -1.2626e+00, -1.0821e+00, -7.2575e-01,\n",
       "          2.2994e-01,  3.2452e-01, -6.5571e-01,  1.8825e+00,  1.7447e+00,\n",
       "         -6.2521e-03,  5.3523e-01, -3.5560e-01,  5.0626e-01,  2.1959e+00],\n",
       "        [ 2.5956e-01,  9.9532e-02, -3.8548e-01, -3.0376e-01,  6.4704e-01,\n",
       "         -3.1021e-01, -2.2404e+00,  1.2268e+00,  4.0068e-01, -8.5555e-01,\n",
       "         -4.3670e-01, -2.1883e+00, -1.8491e+00, -1.0238e+00,  6.4162e-01,\n",
       "         -9.3089e-02,  1.9937e+00, -7.9666e-02, -6.8240e-01, -7.5849e-01],\n",
       "        [ 3.7963e-02, -2.7232e-01,  6.9600e-01, -4.0973e-01,  5.1475e-01,\n",
       "         -1.3303e+00,  1.3333e+00, -9.0034e-01, -7.3225e-01, -6.1072e-01,\n",
       "         -6.7647e-01, -3.1547e-01, -1.6952e+00,  8.4500e-01, -1.6018e+00,\n",
       "          1.4973e+00,  1.1815e+00,  1.8644e-01, -8.3962e-01, -8.2295e-02],\n",
       "        [ 1.5653e-01,  2.6996e-01, -2.9942e-02, -1.3120e+00,  8.7793e-02,\n",
       "          3.1952e-01,  1.1980e-01,  2.7307e-02,  3.5441e-01,  8.0047e-01,\n",
       "          6.9770e-01, -3.9785e-01,  4.6930e-01, -9.9678e-01,  1.3855e+00,\n",
       "          6.0139e-01, -2.0120e+00, -2.1259e+00, -1.1857e+00,  1.8075e+00],\n",
       "        [-1.7508e-01,  4.4562e-01, -3.5756e-02,  4.9371e-01, -7.2894e-01,\n",
       "          4.1769e-01,  2.5344e-01, -9.3044e-01,  1.4303e-01, -9.9770e-01,\n",
       "         -3.1199e-01,  9.2516e-01,  1.9262e+00,  3.6832e-01,  1.9052e-01,\n",
       "          6.6105e-01,  3.7638e-01,  1.3498e-01,  4.8911e-01, -2.1738e-01],\n",
       "        [-7.4464e-01, -6.3476e-01,  2.6702e-01, -1.0265e+00,  8.2865e-01,\n",
       "          1.3093e+00,  3.9550e-01,  4.2139e-01, -1.3011e+00,  6.6905e-01,\n",
       "         -9.0013e-01, -1.2854e-01, -6.1789e-02,  2.6740e-01, -1.5511e+00,\n",
       "         -1.3057e+00, -7.4567e-02, -2.3763e-02,  1.4345e-01, -1.2613e+00],\n",
       "        [ 1.3228e+00,  5.9337e-01,  1.9563e+00, -7.6320e-01, -4.2324e-02,\n",
       "         -7.5157e-02, -6.7664e-01,  5.4693e-01, -1.5452e-01,  3.6941e-01,\n",
       "         -7.5596e-01,  3.9849e-01, -1.4135e+00,  4.5920e-01, -2.5962e+00,\n",
       "          1.2849e+00, -1.3292e+00,  2.6929e-01, -6.7763e-01,  1.8230e+00],\n",
       "        [-8.7537e-01,  1.6226e-02, -3.1759e-01,  1.3378e+00, -1.4019e+00,\n",
       "          1.6494e+00, -9.5310e-01,  1.7034e-01, -1.6434e-01,  6.9501e-01,\n",
       "         -5.9259e-01,  1.5694e+00, -3.2110e+00, -2.0978e+00,  9.2976e-01,\n",
       "          8.7487e-01, -1.2702e+00, -6.8763e-01,  1.5376e+00, -3.5826e-01],\n",
       "        [-1.7142e+00, -2.9962e-02,  8.2030e-01,  1.8898e+00,  2.6951e-01,\n",
       "         -9.7005e-01, -3.9880e-01,  6.2113e-01,  1.5554e+00, -1.0489e+00,\n",
       "          3.6768e-01, -1.7708e+00,  8.9295e-02,  7.6111e-01, -9.4019e-01,\n",
       "          4.8889e-01,  2.3018e-01,  3.7175e-01, -1.7929e+00, -3.2468e-01],\n",
       "        [-1.3667e+00, -2.4568e-01,  4.7001e-01,  4.4162e-01,  1.2335e+00,\n",
       "         -1.4359e+00,  7.7343e-01, -1.0607e-01,  8.6780e-01,  5.0465e-01,\n",
       "         -5.4156e-01, -1.4170e+00, -4.3749e-01, -3.8638e-01,  2.1073e-01,\n",
       "          1.1242e+00, -1.4485e+00, -7.5018e-01,  1.1636e+00, -2.2386e-01],\n",
       "        [ 4.1209e-01,  1.2508e-01, -1.8687e-01, -1.3935e+00, -3.6126e-01,\n",
       "         -1.4792e+00,  1.3541e+00, -1.3609e+00, -5.0575e-01, -1.7982e+00,\n",
       "         -1.2081e+00, -3.9805e-01,  1.1965e-01,  8.7106e-01,  1.8028e-01,\n",
       "          2.8427e-01, -1.6919e+00, -8.1278e-01, -7.4642e-01, -9.3390e-01],\n",
       "        [-5.9112e-01, -9.1612e-01, -2.5365e-01, -2.2361e-01,  6.9690e-01,\n",
       "         -1.1480e+00, -1.3679e-03, -4.9362e-01,  1.1244e+00, -2.0659e+00,\n",
       "         -1.3085e+00, -8.3171e-02, -2.2910e-01,  6.0847e-01,  1.2351e+00,\n",
       "          1.8353e+00,  1.6454e+00,  2.4205e-01,  9.3233e-01,  3.2855e-01],\n",
       "        [ 0.0000e+00,  0.0000e+00,  0.0000e+00,  0.0000e+00,  0.0000e+00,\n",
       "          0.0000e+00,  0.0000e+00,  0.0000e+00,  0.0000e+00,  0.0000e+00,\n",
       "          0.0000e+00,  0.0000e+00,  0.0000e+00,  0.0000e+00,  0.0000e+00,\n",
       "          0.0000e+00,  0.0000e+00,  0.0000e+00,  0.0000e+00,  0.0000e+00]],\n",
       "       requires_grad=True)"
      ]
     },
     "execution_count": 66,
     "metadata": {},
     "output_type": "execute_result"
    }
   ],
   "source": [
    "embedding.weight"
   ]
  },
  {
   "cell_type": "code",
   "execution_count": 67,
   "metadata": {},
   "outputs": [
    {
     "data": {
      "text/plain": [
       "torch.Size([26, 20])"
      ]
     },
     "execution_count": 67,
     "metadata": {},
     "output_type": "execute_result"
    }
   ],
   "source": [
    "embedding.weight.shape"
   ]
  },
  {
   "attachments": {},
   "cell_type": "markdown",
   "metadata": {},
   "source": [
    "## Postional Encoding\n",
    "We will use the  sine and cosine functions of different frequencie to embed positional information as in the original BERT method."
   ]
  },
  {
   "cell_type": "code",
   "execution_count": 68,
   "metadata": {},
   "outputs": [],
   "source": [
    "class PositionalEncoding(nn.Module):\n",
    "    \"\"\"\n",
    "    Impement the PE function.\n",
    "    \n",
    "    The PE forward function is different from the BERT-pytorch. Here we used the original method in BERT so\n",
    "    PE embeddings are added to the input embeddings and no graident tracking is used.\n",
    "    \"\"\"\n",
    "\n",
    "    def __init__(self, d_model, dropout, max_len=1500):\n",
    "        super().__init__()\n",
    "        self.dropout = nn.Dropout(p=dropout)\n",
    "\n",
    "        # Compute the positional encodings once in log space.\n",
    "        pe = torch.zeros(max_len, d_model)\n",
    "        position = torch.arange(0, max_len).unsqueeze(1)\n",
    "        div_term = torch.exp(torch.arange(0, d_model, 2) * -(math.log(10000.0)/d_model))\n",
    "        pe[:, 0::2] = torch.sin(position * div_term)\n",
    "        pe[:, 1::2] = torch.cos(position * div_term)\n",
    "        self.register_buffer(\"pe\", pe)\n",
    "\n",
    "    def forward(self, x):\n",
    "        print(f'x.shape in PositionalEncoding: {x.shape}')\n",
    "        print(f'x.shape: {x.shape},pe.shape: {self.pe.shape}')\n",
    "        print(f'pe[:, : x.size(1)]: {self.pe[:, : x.size(1)].shape}')\n",
    "\n",
    "\n",
    "        x = x + self.pe[:, : x.size(1)].requires_grad_(False)\n",
    "        return self.dropout(x)"
   ]
  },
  {
   "cell_type": "code",
   "execution_count": 69,
   "metadata": {},
   "outputs": [],
   "source": [
    "class SeqEncoding(nn.Module):\n",
    "    \"\"\"\n",
    "    Encode amino acid sequence. Input sequence is represented by summing the corresponding sequence token,\n",
    "    segment (e.g. question and answer or any segments separated by <SEP>), and position embeddings. In our \n",
    "    model, we only need the token and position embedding so segment embeddign is not implemented here.    \n",
    "    \"\"\"\n",
    "    def __init__(self, num_embeddings, embedding_dim, dropout=0.1, max_len=1500, padding_idx=25):\n",
    "        super().__init__()\n",
    "        self.token_embedding = TokenEmbedding(num_embeddings, embedding_dim, max_len, padding_idx)\n",
    "        self.position = PositionalEncoding(embedding_dim, dropout, max_len)\n",
    "        self.embeddng_dim = embedding_dim\n",
    "        self.dropout = nn.Dropout(dropout)\n",
    "        \n",
    "    def forward(self, seq:str):\n",
    "        x = tokenize_seq(seq, max_len)\n",
    "        x = self.token_embedding(x)\n",
    "        x = self.position(x)\n",
    "        return self.dropout(x)"
   ]
  },
  {
   "cell_type": "code",
   "execution_count": 70,
   "metadata": {},
   "outputs": [
    {
     "name": "stdout",
     "output_type": "stream",
     "text": [
      "Parameters in SeqEncoding: 13312\n",
      "x.shape in PositionalEncoding: torch.Size([1500, 512])\n",
      "x.shape: torch.Size([1500, 512]),pe.shape: torch.Size([1500, 512])\n",
      "pe[:, : x.size(1)]: torch.Size([1500, 512])\n",
      "tensor([[ 0.8716,  0.7394,  1.3862,  ...,  1.1798, -0.9199,  2.1998],\n",
      "        [ 3.1870,  3.0478,  1.5118,  ...,  0.9575, -0.3805,  1.0238],\n",
      "        [ 0.8325, -0.0000,  1.7789,  ...,  1.4181, -1.5577,  3.7161],\n",
      "        ...,\n",
      "        [ 1.2340, -0.0384, -1.0611,  ...,  1.2186,  0.0000,  0.0000],\n",
      "        [ 0.6344, -1.0591, -0.0857,  ...,  1.2186,  0.1909,  0.0000],\n",
      "        [-0.0000, -0.0000,  1.9457,  ...,  0.5950, -0.3285,  3.7168]],\n",
      "       grad_fn=<MulBackward0>)\n"
     ]
    }
   ],
   "source": [
    "test_seq_encode = SeqEncoding(n_tokens, 512, 0.1)\n",
    "num_parameters_seq_encoding = sum(p.numel() for p in test_seq_encode.parameters() if p.requires_grad)\n",
    "print(f'Parameters in SeqEncoding: {num_parameters_seq_encoding}')\n",
    "print(test_seq_encode(test_seqs[0]))"
   ]
  },
  {
   "attachments": {},
   "cell_type": "markdown",
   "metadata": {},
   "source": [
    "# Model Definition\n",
    "\n",
    "Here we define a model based on BERT. Part of the implementation is based on [BERT-pytorch](https://github.com/codertimo/BERT-pytorch)"
   ]
  },
  {
   "cell_type": "code",
   "execution_count": 30,
   "metadata": {},
   "outputs": [],
   "source": [
    "def clones(module, N):\n",
    "    \"\"\"Produce N identical layers\"\"\"\n",
    "    return nn.ModuleList([copy.deepcopy(module) for _ in range(N)])"
   ]
  },
  {
   "cell_type": "code",
   "execution_count": null,
   "metadata": {},
   "outputs": [],
   "source": [
    "class Transformer:\n",
    "    "
   ]
  },
  {
   "cell_type": "code",
   "execution_count": null,
   "metadata": {},
   "outputs": [],
   "source": [
    "class BERT(nn.Module):\n",
    "    \"\"\"\n",
    "    BERT model\n",
    "    \"\"\"\n",
    "\n",
    "    def __init__(self, vocabl_size: int = 26, hidden: int = 768, n_layer: int = 12, attn_heads: int = 12, dropout: float = 0.1):\n",
    "        \"\"\"\n",
    "        vacab_size: vacabulary or token size\n",
    "        hidden: BERT model size (used as input size and hidden size)\n",
    "        n_layer: number of Transformer layers\n",
    "        attn_heads: attenion heads\n",
    "        dropout: dropout ratio\n",
    "        \"\"\"\n",
    "\n",
    "        super().__init__()\n",
    "        self.hidden  = hidden\n",
    "        self.n_layer = n_layer\n",
    "        self.attn_heads = attn_heads\n",
    "\n",
    "        self.feed_forward_hidden = hidden * 4\n",
    "        self.embedding = TokenEmbedding(vocabl_size, embed_size=hidden, padding_idx=25)\n",
    "\n",
    "        self.transformer_blocks = clones(Transformer(hidden, attn_heads, hidden *4, dropout), n_layer)\n",
    "\n",
    "    def forward(self)\n"
   ]
  }
 ],
 "metadata": {
  "kernelspec": {
   "display_name": "base",
   "language": "python",
   "name": "python3"
  },
  "language_info": {
   "codemirror_mode": {
    "name": "ipython",
    "version": 3
   },
   "file_extension": ".py",
   "mimetype": "text/x-python",
   "name": "python",
   "nbconvert_exporter": "python",
   "pygments_lexer": "ipython3",
   "version": "3.8.12"
  },
  "orig_nbformat": 4,
  "vscode": {
   "interpreter": {
    "hash": "3f28ad5bbb02419dfa4fc8e8c46da9bd89100d91bb344ce9fd3a3101abf33cb2"
   }
  }
 },
 "nbformat": 4,
 "nbformat_minor": 2
}
