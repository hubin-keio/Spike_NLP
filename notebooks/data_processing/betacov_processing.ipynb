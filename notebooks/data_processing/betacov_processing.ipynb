{
 "cells": [
  {
   "cell_type": "markdown",
   "metadata": {},
   "source": [
    "## Beta-Corona Virus Data Processing\n",
    "\n",
    "Most of the [data](https://github.com/jbloomlab/SARS-CoV-2-RBD_DMS/blob/master/data/alignments/unaligned-sequences/RBDs.fasta) for the Beta-Corona Virus data set was gathered from a paper, [Deep mutational scanning of SARS-CoV-2 receptor binding domain reveals constraints on folding and ACE2 binding](https://www.sciencedirect.com/science/article/pii/S0092867420310035?via%3Dihub), conducted by Tyler Starr, Allie Greaney, and Jesse Bloom. \n",
    "\n",
    "The MERS sequences were manually extracted from querying the accession number [ALA49374.1](https://www.ncbi.nlm.nih.gov/protein/ALA49374.1) through [blastp](https://blast.ncbi.nlm.nih.gov/Blast.cgi?PAGE=Proteins&PROGRAM=blastp&PAGE_TYPE=BlastSearch&BLAST_SPEC=). After obtaining the FASTA file, we changed the FASTA file to a CSV."
   ]
  },
  {
   "cell_type": "code",
   "execution_count": null,
   "metadata": {},
   "outputs": [],
   "source": [
    "\"\"\"\n",
    "Change FASTA file to csv\n",
    "\"\"\"\n",
    "\n",
    "fasta_file = 'MERS_seq.fasta'\n",
    "csv_file = 'MERS_seq.csv'\n",
    "\n",
    "with open(csv_file, 'w', newline='') as csvfile:\n",
    "    csvwriter = csv.writer(csvfile, delimiter=',', quotechar='\"', quoting=csv.QUOTE_MINIMAL)\n",
    "    csvwriter.writerow(['ID', 'Sequence'])  # Write header\n",
    "\n",
    "    for seq_record in SeqIO.parse(fasta_file, \"fasta\"):\n",
    "        csvwriter.writerow([seq_record.id, str(seq_record.seq)])"
   ]
  },
  {
   "cell_type": "markdown",
   "metadata": {},
   "source": [
    "After obtaining the CSV, we went through the sequences to find their RBD [region](https://www.ncbi.nlm.nih.gov/Structure/cdd/cddsrv.cgi?uid=cd21486). Then, we parsed through all the RBD sequences and removed the ones that were the same. We finally combined the two data sets together to form `betacoronavirus_seq.csv` and `betacoronavirus_seq.fasta`"
   ]
  },
  {
   "cell_type": "markdown",
   "metadata": {},
   "source": []
  }
 ],
 "metadata": {
  "kernelspec": {
   "display_name": "spike_env",
   "language": "python",
   "name": "python3"
  },
  "language_info": {
   "name": "python",
   "version": "3.11.5"
  }
 },
 "nbformat": 4,
 "nbformat_minor": 2
}
