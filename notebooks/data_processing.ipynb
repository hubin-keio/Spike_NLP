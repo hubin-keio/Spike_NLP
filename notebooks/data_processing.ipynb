{
 "cells": [
  {
   "cell_type": "markdown",
   "metadata": {},
   "source": [
    "# Data Processing \n",
    "This notebook will cover how we processed the data sets to be used in the model runners and other scripts.\n",
    "- Receptor Binding Domain (RBD) Data Set\n",
    "- Deep Mutational Scan (DMS) Data Set \n",
    "    - Expression\n",
    "    - Binding\n",
    "- AlphaSeq Data Set\n",
    "- BetaCorona Data Set"
   ]
  },
  {
   "cell_type": "code",
   "execution_count": 2,
   "metadata": {},
   "outputs": [],
   "source": [
    "import os\n",
    "import re\n",
    "import pandas as pd\n",
    "\n",
    "import csv\n",
    "import random\n",
    "from Bio import SeqIO\n",
    "from collections import defaultdict\n",
    "\n",
    "import numpy as np\n",
    "import seaborn as sns\n",
    "import matplotlib.pyplot as plt"
   ]
  },
  {
   "cell_type": "markdown",
   "metadata": {},
   "source": [
    "--- \n",
    "## RBD\n",
    "From our paper, this is how this data was collected: \n",
    "> All the SARS-CoV-2 spike protein sequences were downloaded from GISAID (Elbe and Buckland‐Merrett, 2017) as of version 20230203 followed by MD5-based search for deduplication and removal of sequences with a length shorter than 600aa or containing any unknown residues (X), we obtained a dataset of 312,888 unique sequences. Using the reference sequence of RDB region (YP_009724390:319..541), we performed similarity search against the dataset using DIAMOND blastp algorithm (Buchfink et al., 2021) and extracted 312,783 RBD regions that align with the complete 223aa RBD region. All the four data sets are available for download. Sequences and metadata from GISAID can be accessed using the EPI_SET ID: EPI_SET_231127oe.\n",
    "\n",
    "More recent data collection in May saw an increase in sequences to 347,624. There are 200 sequences that are present in the noX.RBD fasta file, but not in the GISAID metadata file. Metadata was also retrieved by parsing protein fasta header.\n",
    "\n",
    "We applied this bash command to isolate the variant labels from the metadata file to match with the sequence IDs in the fasta file:```cat spikeprot0528.clean.uniq.noX.RBD.metadata.tsv | cut -f 5,16 | awk '{print $1, $3}' > spikeprot0528.clean.uniq.noX.RBD.metadata_variants.txt```. Let's take a closer look at the metadata and fasta file to confirm the numbers from before... We have 347432 total rows of data in the metadata."
   ]
  },
  {
   "cell_type": "code",
   "execution_count": 2,
   "metadata": {},
   "outputs": [
    {
     "data": {
      "text/html": [
       "<div>\n",
       "<style scoped>\n",
       "    .dataframe tbody tr th:only-of-type {\n",
       "        vertical-align: middle;\n",
       "    }\n",
       "\n",
       "    .dataframe tbody tr th {\n",
       "        vertical-align: top;\n",
       "    }\n",
       "\n",
       "    .dataframe thead th {\n",
       "        text-align: right;\n",
       "    }\n",
       "</style>\n",
       "<table border=\"1\" class=\"dataframe\">\n",
       "  <thead>\n",
       "    <tr style=\"text-align: right;\">\n",
       "      <th></th>\n",
       "      <th>Accession</th>\n",
       "      <th>Variant</th>\n",
       "    </tr>\n",
       "  </thead>\n",
       "  <tbody>\n",
       "    <tr>\n",
       "      <th>0</th>\n",
       "      <td>EPI_ISL_5120698</td>\n",
       "      <td>Delta</td>\n",
       "    </tr>\n",
       "    <tr>\n",
       "      <th>1</th>\n",
       "      <td>EPI_ISL_5123727</td>\n",
       "      <td>Delta</td>\n",
       "    </tr>\n",
       "    <tr>\n",
       "      <th>2</th>\n",
       "      <td>EPI_ISL_14904955</td>\n",
       "      <td>Omicron</td>\n",
       "    </tr>\n",
       "    <tr>\n",
       "      <th>3</th>\n",
       "      <td>EPI_ISL_5119677</td>\n",
       "      <td>Delta</td>\n",
       "    </tr>\n",
       "    <tr>\n",
       "      <th>4</th>\n",
       "      <td>EPI_ISL_14904971</td>\n",
       "      <td>Omicron</td>\n",
       "    </tr>\n",
       "    <tr>\n",
       "      <th>...</th>\n",
       "      <td>...</td>\n",
       "      <td>...</td>\n",
       "    </tr>\n",
       "    <tr>\n",
       "      <th>347427</th>\n",
       "      <td>EPI_ISL_14903692</td>\n",
       "      <td>Omicron</td>\n",
       "    </tr>\n",
       "    <tr>\n",
       "      <th>347428</th>\n",
       "      <td>EPI_ISL_14902388</td>\n",
       "      <td>Omicron</td>\n",
       "    </tr>\n",
       "    <tr>\n",
       "      <th>347429</th>\n",
       "      <td>EPI_ISL_14905423</td>\n",
       "      <td>Omicron</td>\n",
       "    </tr>\n",
       "    <tr>\n",
       "      <th>347430</th>\n",
       "      <td>EPI_ISL_5123715</td>\n",
       "      <td>Delta</td>\n",
       "    </tr>\n",
       "    <tr>\n",
       "      <th>347431</th>\n",
       "      <td>EPI_ISL_14894617</td>\n",
       "      <td>Omicron</td>\n",
       "    </tr>\n",
       "  </tbody>\n",
       "</table>\n",
       "<p>347432 rows × 2 columns</p>\n",
       "</div>"
      ],
      "text/plain": [
       "               Accession  Variant\n",
       "0        EPI_ISL_5120698    Delta\n",
       "1        EPI_ISL_5123727    Delta\n",
       "2       EPI_ISL_14904955  Omicron\n",
       "3        EPI_ISL_5119677    Delta\n",
       "4       EPI_ISL_14904971  Omicron\n",
       "...                  ...      ...\n",
       "347427  EPI_ISL_14903692  Omicron\n",
       "347428  EPI_ISL_14902388  Omicron\n",
       "347429  EPI_ISL_14905423  Omicron\n",
       "347430   EPI_ISL_5123715    Delta\n",
       "347431  EPI_ISL_14894617  Omicron\n",
       "\n",
       "[347432 rows x 2 columns]"
      ]
     },
     "execution_count": 2,
     "metadata": {},
     "output_type": "execute_result"
    }
   ],
   "source": [
    "data_dir = '../data'\n",
    "metadata_file = os.path.join(data_dir, 'spikeprot0528.clean.uniq.noX.RBD.metadata_variants.txt')\n",
    "metadata_df = pd.read_csv(metadata_file, sep=\" \", header=0)\n",
    "metadata_df"
   ]
  },
  {
   "cell_type": "markdown",
   "metadata": {},
   "source": [
    "We can compare this to the fasta file, which has 347624 total rows of data. So there are indeed 200 less lines in the metadata."
   ]
  },
  {
   "cell_type": "code",
   "execution_count": 3,
   "metadata": {},
   "outputs": [
    {
     "data": {
      "text/html": [
       "<div>\n",
       "<style scoped>\n",
       "    .dataframe tbody tr th:only-of-type {\n",
       "        vertical-align: middle;\n",
       "    }\n",
       "\n",
       "    .dataframe tbody tr th {\n",
       "        vertical-align: top;\n",
       "    }\n",
       "\n",
       "    .dataframe thead th {\n",
       "        text-align: right;\n",
       "    }\n",
       "</style>\n",
       "<table border=\"1\" class=\"dataframe\">\n",
       "  <thead>\n",
       "    <tr style=\"text-align: right;\">\n",
       "      <th></th>\n",
       "      <th>Accession</th>\n",
       "      <th>Sequence</th>\n",
       "    </tr>\n",
       "  </thead>\n",
       "  <tbody>\n",
       "    <tr>\n",
       "      <th>0</th>\n",
       "      <td>EPI_ISL_10306118</td>\n",
       "      <td>RVQPTESIVRFPNITNLCPFGEVFNATRFASVYAWNRKRISNCVAD...</td>\n",
       "    </tr>\n",
       "    <tr>\n",
       "      <th>1</th>\n",
       "      <td>EPI_ISL_15254300</td>\n",
       "      <td>RVQPTESIVRFPNITNLCPFGEVFNATRFASVYAWNRKRISNCVAD...</td>\n",
       "    </tr>\n",
       "    <tr>\n",
       "      <th>2</th>\n",
       "      <td>EPI_ISL_1040472</td>\n",
       "      <td>RVQPTESIVRFPNITNLCPFGEVFNATRFASVYAWNRKRISNCVAD...</td>\n",
       "    </tr>\n",
       "    <tr>\n",
       "      <th>3</th>\n",
       "      <td>EPI_ISL_3922857</td>\n",
       "      <td>RVQPTESIVRFPNITNLCPFGEVFNATRFASVYAWNRKRISNCVAD...</td>\n",
       "    </tr>\n",
       "    <tr>\n",
       "      <th>4</th>\n",
       "      <td>EPI_ISL_2203432</td>\n",
       "      <td>RVQPTESIVRFPNITNLCPFGEVFNATRFASVYAWNRKRISNCVAD...</td>\n",
       "    </tr>\n",
       "    <tr>\n",
       "      <th>...</th>\n",
       "      <td>...</td>\n",
       "      <td>...</td>\n",
       "    </tr>\n",
       "    <tr>\n",
       "      <th>347619</th>\n",
       "      <td>EPI_ISL_10943765</td>\n",
       "      <td>RVQPTESIVRFPNITNLCPFDEVFNATRFASVYAWNRKRISNCVAD...</td>\n",
       "    </tr>\n",
       "    <tr>\n",
       "      <th>347620</th>\n",
       "      <td>EPI_ISL_12362530</td>\n",
       "      <td>RVQPTESIVRFPNITNLCPFDEVFNATRFASVYAWNRKRISNCVAD...</td>\n",
       "    </tr>\n",
       "    <tr>\n",
       "      <th>347621</th>\n",
       "      <td>EPI_ISL_12083634</td>\n",
       "      <td>RVQPTESIVRFPNITNLCPFDEVFNATRFASVYAWNRKRISNCVAD...</td>\n",
       "    </tr>\n",
       "    <tr>\n",
       "      <th>347622</th>\n",
       "      <td>EPI_ISL_13002370</td>\n",
       "      <td>RVQPTESIVRFPNITNLCPFDEVFNATRFASVYAWNRKRISNCVAD...</td>\n",
       "    </tr>\n",
       "    <tr>\n",
       "      <th>347623</th>\n",
       "      <td>EPI_ISL_10943767</td>\n",
       "      <td>RVQPTESIVRFPNITNLCPFDDRKRISNCVADYSVLYNFAPPGQTG...</td>\n",
       "    </tr>\n",
       "  </tbody>\n",
       "</table>\n",
       "<p>347624 rows × 2 columns</p>\n",
       "</div>"
      ],
      "text/plain": [
       "               Accession                                           Sequence\n",
       "0       EPI_ISL_10306118  RVQPTESIVRFPNITNLCPFGEVFNATRFASVYAWNRKRISNCVAD...\n",
       "1       EPI_ISL_15254300  RVQPTESIVRFPNITNLCPFGEVFNATRFASVYAWNRKRISNCVAD...\n",
       "2        EPI_ISL_1040472  RVQPTESIVRFPNITNLCPFGEVFNATRFASVYAWNRKRISNCVAD...\n",
       "3        EPI_ISL_3922857  RVQPTESIVRFPNITNLCPFGEVFNATRFASVYAWNRKRISNCVAD...\n",
       "4        EPI_ISL_2203432  RVQPTESIVRFPNITNLCPFGEVFNATRFASVYAWNRKRISNCVAD...\n",
       "...                  ...                                                ...\n",
       "347619  EPI_ISL_10943765  RVQPTESIVRFPNITNLCPFDEVFNATRFASVYAWNRKRISNCVAD...\n",
       "347620  EPI_ISL_12362530  RVQPTESIVRFPNITNLCPFDEVFNATRFASVYAWNRKRISNCVAD...\n",
       "347621  EPI_ISL_12083634  RVQPTESIVRFPNITNLCPFDEVFNATRFASVYAWNRKRISNCVAD...\n",
       "347622  EPI_ISL_13002370  RVQPTESIVRFPNITNLCPFDEVFNATRFASVYAWNRKRISNCVAD...\n",
       "347623  EPI_ISL_10943767  RVQPTESIVRFPNITNLCPFDDRKRISNCVADYSVLYNFAPPGQTG...\n",
       "\n",
       "[347624 rows x 2 columns]"
      ]
     },
     "execution_count": 3,
     "metadata": {},
     "output_type": "execute_result"
    }
   ],
   "source": [
    "from Bio import SeqIO\n",
    "\n",
    "fasta_file = os.path.join(data_dir, 'spikeprot0528.clean.uniq.noX.RBD.fasta')\n",
    "\n",
    "# Parse the FASTA file\n",
    "fasta_data = []\n",
    "for record in SeqIO.parse(fasta_file, \"fasta\"):\n",
    "    fasta_data.append([record.id, str(record.seq)])\n",
    "\n",
    "# Convert the list to a pandas DataFrame\n",
    "fasta_df = pd.DataFrame(fasta_data, columns=['Accession', 'Sequence'])\n",
    "fasta_df"
   ]
  },
  {
   "cell_type": "markdown",
   "metadata": {},
   "source": [
    "Let's combine these two files using the `Accession` columns of both data frames, which refer to the sequence ID, and save the file. We will left merge metadata_df into fasta_df, so that all entries in the larger fasta_df are preserved in the merge as we match the Accession IDs in metadata_df. We'll save this file as it includes all data, especially since we used all data to train the original model runner."
   ]
  },
  {
   "cell_type": "code",
   "execution_count": 4,
   "metadata": {},
   "outputs": [
    {
     "data": {
      "text/html": [
       "<div>\n",
       "<style scoped>\n",
       "    .dataframe tbody tr th:only-of-type {\n",
       "        vertical-align: middle;\n",
       "    }\n",
       "\n",
       "    .dataframe tbody tr th {\n",
       "        vertical-align: top;\n",
       "    }\n",
       "\n",
       "    .dataframe thead th {\n",
       "        text-align: right;\n",
       "    }\n",
       "</style>\n",
       "<table border=\"1\" class=\"dataframe\">\n",
       "  <thead>\n",
       "    <tr style=\"text-align: right;\">\n",
       "      <th></th>\n",
       "      <th>seq_id</th>\n",
       "      <th>variant</th>\n",
       "      <th>sequence</th>\n",
       "    </tr>\n",
       "  </thead>\n",
       "  <tbody>\n",
       "    <tr>\n",
       "      <th>0</th>\n",
       "      <td>EPI_ISL_10306118</td>\n",
       "      <td>Omicron</td>\n",
       "      <td>RVQPTESIVRFPNITNLCPFGEVFNATRFASVYAWNRKRISNCVAD...</td>\n",
       "    </tr>\n",
       "    <tr>\n",
       "      <th>1</th>\n",
       "      <td>EPI_ISL_15254300</td>\n",
       "      <td>Omicron</td>\n",
       "      <td>RVQPTESIVRFPNITNLCPFGEVFNATRFASVYAWNRKRISNCVAD...</td>\n",
       "    </tr>\n",
       "    <tr>\n",
       "      <th>2</th>\n",
       "      <td>EPI_ISL_1040472</td>\n",
       "      <td>NaN</td>\n",
       "      <td>RVQPTESIVRFPNITNLCPFGEVFNATRFASVYAWNRKRISNCVAD...</td>\n",
       "    </tr>\n",
       "    <tr>\n",
       "      <th>3</th>\n",
       "      <td>EPI_ISL_3922857</td>\n",
       "      <td>NaN</td>\n",
       "      <td>RVQPTESIVRFPNITNLCPFGEVFNATRFASVYAWNRKRISNCVAD...</td>\n",
       "    </tr>\n",
       "    <tr>\n",
       "      <th>4</th>\n",
       "      <td>EPI_ISL_2203432</td>\n",
       "      <td>NaN</td>\n",
       "      <td>RVQPTESIVRFPNITNLCPFGEVFNATRFASVYAWNRKRISNCVAD...</td>\n",
       "    </tr>\n",
       "    <tr>\n",
       "      <th>...</th>\n",
       "      <td>...</td>\n",
       "      <td>...</td>\n",
       "      <td>...</td>\n",
       "    </tr>\n",
       "    <tr>\n",
       "      <th>347619</th>\n",
       "      <td>EPI_ISL_10943765</td>\n",
       "      <td>Omicron</td>\n",
       "      <td>RVQPTESIVRFPNITNLCPFDEVFNATRFASVYAWNRKRISNCVAD...</td>\n",
       "    </tr>\n",
       "    <tr>\n",
       "      <th>347620</th>\n",
       "      <td>EPI_ISL_12362530</td>\n",
       "      <td>Omicron</td>\n",
       "      <td>RVQPTESIVRFPNITNLCPFDEVFNATRFASVYAWNRKRISNCVAD...</td>\n",
       "    </tr>\n",
       "    <tr>\n",
       "      <th>347621</th>\n",
       "      <td>EPI_ISL_12083634</td>\n",
       "      <td>Omicron</td>\n",
       "      <td>RVQPTESIVRFPNITNLCPFDEVFNATRFASVYAWNRKRISNCVAD...</td>\n",
       "    </tr>\n",
       "    <tr>\n",
       "      <th>347622</th>\n",
       "      <td>EPI_ISL_13002370</td>\n",
       "      <td>Omicron</td>\n",
       "      <td>RVQPTESIVRFPNITNLCPFDEVFNATRFASVYAWNRKRISNCVAD...</td>\n",
       "    </tr>\n",
       "    <tr>\n",
       "      <th>347623</th>\n",
       "      <td>EPI_ISL_10943767</td>\n",
       "      <td>Omicron</td>\n",
       "      <td>RVQPTESIVRFPNITNLCPFDDRKRISNCVADYSVLYNFAPPGQTG...</td>\n",
       "    </tr>\n",
       "  </tbody>\n",
       "</table>\n",
       "<p>347624 rows × 3 columns</p>\n",
       "</div>"
      ],
      "text/plain": [
       "                  seq_id  variant  \\\n",
       "0       EPI_ISL_10306118  Omicron   \n",
       "1       EPI_ISL_15254300  Omicron   \n",
       "2        EPI_ISL_1040472      NaN   \n",
       "3        EPI_ISL_3922857      NaN   \n",
       "4        EPI_ISL_2203432      NaN   \n",
       "...                  ...      ...   \n",
       "347619  EPI_ISL_10943765  Omicron   \n",
       "347620  EPI_ISL_12362530  Omicron   \n",
       "347621  EPI_ISL_12083634  Omicron   \n",
       "347622  EPI_ISL_13002370  Omicron   \n",
       "347623  EPI_ISL_10943767  Omicron   \n",
       "\n",
       "                                                 sequence  \n",
       "0       RVQPTESIVRFPNITNLCPFGEVFNATRFASVYAWNRKRISNCVAD...  \n",
       "1       RVQPTESIVRFPNITNLCPFGEVFNATRFASVYAWNRKRISNCVAD...  \n",
       "2       RVQPTESIVRFPNITNLCPFGEVFNATRFASVYAWNRKRISNCVAD...  \n",
       "3       RVQPTESIVRFPNITNLCPFGEVFNATRFASVYAWNRKRISNCVAD...  \n",
       "4       RVQPTESIVRFPNITNLCPFGEVFNATRFASVYAWNRKRISNCVAD...  \n",
       "...                                                   ...  \n",
       "347619  RVQPTESIVRFPNITNLCPFDEVFNATRFASVYAWNRKRISNCVAD...  \n",
       "347620  RVQPTESIVRFPNITNLCPFDEVFNATRFASVYAWNRKRISNCVAD...  \n",
       "347621  RVQPTESIVRFPNITNLCPFDEVFNATRFASVYAWNRKRISNCVAD...  \n",
       "347622  RVQPTESIVRFPNITNLCPFDEVFNATRFASVYAWNRKRISNCVAD...  \n",
       "347623  RVQPTESIVRFPNITNLCPFDDRKRISNCVADYSVLYNFAPPGQTG...  \n",
       "\n",
       "[347624 rows x 3 columns]"
      ]
     },
     "execution_count": 4,
     "metadata": {},
     "output_type": "execute_result"
    }
   ],
   "source": [
    "save_as = os.path.join(data_dir, 'spikeprot0528.clean.uniq.noX.RBD_variants_all.csv')\n",
    "merged_df = pd.merge(fasta_df, metadata_df, on='Accession', how='left')\n",
    "merged_df = merged_df.rename(columns={'Accession': 'seq_id', 'Sequence':'sequence', 'Variant':'variant'})\n",
    "merged_df = merged_df[['seq_id', 'variant', 'sequence']]\n",
    "merged_df.to_csv(save_as, index=False)\n",
    "merged_df"
   ]
  },
  {
   "cell_type": "markdown",
   "metadata": {},
   "source": [
    "Now, let's clean this up a bit. We'll start with removing any other NaN values, and with it those 200 sequences that are not in the metadata. Now we have 306515 entries that have both sequence and variant information. We'll save this data for use in our distribution plots below, and also for use in our clustering maps."
   ]
  },
  {
   "cell_type": "code",
   "execution_count": 5,
   "metadata": {},
   "outputs": [
    {
     "data": {
      "text/html": [
       "<div>\n",
       "<style scoped>\n",
       "    .dataframe tbody tr th:only-of-type {\n",
       "        vertical-align: middle;\n",
       "    }\n",
       "\n",
       "    .dataframe tbody tr th {\n",
       "        vertical-align: top;\n",
       "    }\n",
       "\n",
       "    .dataframe thead th {\n",
       "        text-align: right;\n",
       "    }\n",
       "</style>\n",
       "<table border=\"1\" class=\"dataframe\">\n",
       "  <thead>\n",
       "    <tr style=\"text-align: right;\">\n",
       "      <th></th>\n",
       "      <th>seq_id</th>\n",
       "      <th>variant</th>\n",
       "      <th>sequence</th>\n",
       "    </tr>\n",
       "  </thead>\n",
       "  <tbody>\n",
       "    <tr>\n",
       "      <th>0</th>\n",
       "      <td>EPI_ISL_10306118</td>\n",
       "      <td>Omicron</td>\n",
       "      <td>RVQPTESIVRFPNITNLCPFGEVFNATRFASVYAWNRKRISNCVAD...</td>\n",
       "    </tr>\n",
       "    <tr>\n",
       "      <th>1</th>\n",
       "      <td>EPI_ISL_15254300</td>\n",
       "      <td>Omicron</td>\n",
       "      <td>RVQPTESIVRFPNITNLCPFGEVFNATRFASVYAWNRKRISNCVAD...</td>\n",
       "    </tr>\n",
       "    <tr>\n",
       "      <th>2</th>\n",
       "      <td>EPI_ISL_9430191</td>\n",
       "      <td>Omicron</td>\n",
       "      <td>RVQPTESIVRFPNITNLCPFGEVFNATRFASVYAWNRKRISNCVAD...</td>\n",
       "    </tr>\n",
       "    <tr>\n",
       "      <th>3</th>\n",
       "      <td>EPI_ISL_9429868</td>\n",
       "      <td>Delta</td>\n",
       "      <td>RVQPTESIVRFPNITNLCPFGEVFNATRFASVYAWNRKRISNCVAD...</td>\n",
       "    </tr>\n",
       "    <tr>\n",
       "      <th>4</th>\n",
       "      <td>EPI_ISL_9430172</td>\n",
       "      <td>Delta</td>\n",
       "      <td>RVQPTESIVRFPNITNLCPFGEVFNATRFASVYAWNRKRISNCVAD...</td>\n",
       "    </tr>\n",
       "    <tr>\n",
       "      <th>...</th>\n",
       "      <td>...</td>\n",
       "      <td>...</td>\n",
       "      <td>...</td>\n",
       "    </tr>\n",
       "    <tr>\n",
       "      <th>306510</th>\n",
       "      <td>EPI_ISL_10943765</td>\n",
       "      <td>Omicron</td>\n",
       "      <td>RVQPTESIVRFPNITNLCPFDEVFNATRFASVYAWNRKRISNCVAD...</td>\n",
       "    </tr>\n",
       "    <tr>\n",
       "      <th>306511</th>\n",
       "      <td>EPI_ISL_12362530</td>\n",
       "      <td>Omicron</td>\n",
       "      <td>RVQPTESIVRFPNITNLCPFDEVFNATRFASVYAWNRKRISNCVAD...</td>\n",
       "    </tr>\n",
       "    <tr>\n",
       "      <th>306512</th>\n",
       "      <td>EPI_ISL_12083634</td>\n",
       "      <td>Omicron</td>\n",
       "      <td>RVQPTESIVRFPNITNLCPFDEVFNATRFASVYAWNRKRISNCVAD...</td>\n",
       "    </tr>\n",
       "    <tr>\n",
       "      <th>306513</th>\n",
       "      <td>EPI_ISL_13002370</td>\n",
       "      <td>Omicron</td>\n",
       "      <td>RVQPTESIVRFPNITNLCPFDEVFNATRFASVYAWNRKRISNCVAD...</td>\n",
       "    </tr>\n",
       "    <tr>\n",
       "      <th>306514</th>\n",
       "      <td>EPI_ISL_10943767</td>\n",
       "      <td>Omicron</td>\n",
       "      <td>RVQPTESIVRFPNITNLCPFDDRKRISNCVADYSVLYNFAPPGQTG...</td>\n",
       "    </tr>\n",
       "  </tbody>\n",
       "</table>\n",
       "<p>306515 rows × 3 columns</p>\n",
       "</div>"
      ],
      "text/plain": [
       "                  seq_id  variant  \\\n",
       "0       EPI_ISL_10306118  Omicron   \n",
       "1       EPI_ISL_15254300  Omicron   \n",
       "2        EPI_ISL_9430191  Omicron   \n",
       "3        EPI_ISL_9429868    Delta   \n",
       "4        EPI_ISL_9430172    Delta   \n",
       "...                  ...      ...   \n",
       "306510  EPI_ISL_10943765  Omicron   \n",
       "306511  EPI_ISL_12362530  Omicron   \n",
       "306512  EPI_ISL_12083634  Omicron   \n",
       "306513  EPI_ISL_13002370  Omicron   \n",
       "306514  EPI_ISL_10943767  Omicron   \n",
       "\n",
       "                                                 sequence  \n",
       "0       RVQPTESIVRFPNITNLCPFGEVFNATRFASVYAWNRKRISNCVAD...  \n",
       "1       RVQPTESIVRFPNITNLCPFGEVFNATRFASVYAWNRKRISNCVAD...  \n",
       "2       RVQPTESIVRFPNITNLCPFGEVFNATRFASVYAWNRKRISNCVAD...  \n",
       "3       RVQPTESIVRFPNITNLCPFGEVFNATRFASVYAWNRKRISNCVAD...  \n",
       "4       RVQPTESIVRFPNITNLCPFGEVFNATRFASVYAWNRKRISNCVAD...  \n",
       "...                                                   ...  \n",
       "306510  RVQPTESIVRFPNITNLCPFDEVFNATRFASVYAWNRKRISNCVAD...  \n",
       "306511  RVQPTESIVRFPNITNLCPFDEVFNATRFASVYAWNRKRISNCVAD...  \n",
       "306512  RVQPTESIVRFPNITNLCPFDEVFNATRFASVYAWNRKRISNCVAD...  \n",
       "306513  RVQPTESIVRFPNITNLCPFDEVFNATRFASVYAWNRKRISNCVAD...  \n",
       "306514  RVQPTESIVRFPNITNLCPFDDRKRISNCVADYSVLYNFAPPGQTG...  \n",
       "\n",
       "[306515 rows x 3 columns]"
      ]
     },
     "execution_count": 5,
     "metadata": {},
     "output_type": "execute_result"
    }
   ],
   "source": [
    "save_as = os.path.join(data_dir, 'spikeprot0528.clean.uniq.noX.RBD_variants.csv')\n",
    "merged_df = merged_df.dropna(subset=['variant']).reset_index(drop=True)\n",
    "merged_df.to_csv(save_as, index=False)\n",
    "merged_df"
   ]
  },
  {
   "cell_type": "markdown",
   "metadata": {},
   "source": [
    "Now let's plot this to get some idea of the distribution in the data. First is the variant distribution, which is also **Figure 1A** in our paper. We can see that 3 variants stand out the most: Alpha, Delta, and Omicron. We utilize these three in the clustering notebooks, where we plot UMAP and t-SNE plots."
   ]
  },
  {
   "cell_type": "code",
   "execution_count": 6,
   "metadata": {},
   "outputs": [],
   "source": [
    "def plot_variant_distribution(csv_file:str):\n",
    "    save_as = csv_file.replace('.csv', '_variant_percentage_distribution.pdf')\n",
    "    df = pd.read_csv(csv_file, sep=',', header=0)\n",
    "    all_variants = sorted(np.unique(df['variant']))\n",
    "    variant_percentages = [(df['variant'] == variant).mean() * 100 for variant in all_variants]\n",
    "\n",
    "    # Create a bar plot to visualize the distribution\n",
    "    sns.set_theme()\n",
    "    sns.set_context('talk')\n",
    "    sns.set(style='white')\n",
    "    plt.figure(figsize=(16, 9))\n",
    "    plt.rcParams['font.family'] = 'sans-serif'\n",
    "\n",
    "    bar_width= 0.45\n",
    "    x = np.arange(len(all_variants))\n",
    "    bars = plt.bar(x, variant_percentages, width=bar_width, color=\"dimgrey\")\n",
    "\n",
    "    # Add bar labels\n",
    "    for i, percentage in enumerate(variant_percentages):\n",
    "        plt.text(x[i], percentage, f'{percentage:.2f}%', ha='center', va='bottom', fontsize=10)\n",
    "\n",
    "    # Remove grey grid background\n",
    "    plt.grid(False)\n",
    "    plt.gca().set_facecolor('none')\n",
    "    for spine in plt.gca().spines.values():\n",
    "        spine.set_visible(True)\n",
    "        spine.set_color('black')\n",
    "    \n",
    "    #plt.title('Variant Distribution')\n",
    "    plt.xlabel('Variant')\n",
    "    plt.ylabel('Quantity (%)')\n",
    "    plt.xticks(x, all_variants)\n",
    "    plt.style.use('ggplot')\n",
    "    plt.tight_layout()\n",
    "    plt.savefig(save_as, format='pdf')\n",
    "    plt.show()"
   ]
  },
  {
   "cell_type": "code",
   "execution_count": 7,
   "metadata": {},
   "outputs": [
    {
     "data": {
      "image/png": "[encoded data removed]",
      "text/plain": [
       "<Figure size 1600x900 with 1 Axes>"
      ]
     },
     "metadata": {},
     "output_type": "display_data"
    }
   ],
   "source": [
    "merged_csv = os.path.join(data_dir, 'spikeprot0528.clean.uniq.noX.RBD_variants.csv')\n",
    "plot_variant_distribution(merged_csv)"
   ]
  },
  {
   "cell_type": "markdown",
   "metadata": {},
   "source": [
    "Next, we take a look at the distribution of amino acids across all sequences, which refers to **Figure 1B**. This is useful for comparing against our original BERT model runner's heatmap in our paper. We notice that the amino acid Methionine, \"M\", is our lowest performing amino acid, but also the amino acid we have least of. For further breakdown of this amino acid:\n",
    "- There are 3106 total Ms across all sequences\n",
    "- 3093 (out of 306515), or 1.01% sequences have at least 1 M \n",
    "- Here are the breakdowns per variant that contain at least 1 M:\n",
    "    - 'Iota' - has 1: 1,\n",
    "    - 'Zeta' - has 1: 2,\n",
    "    - 'Delta' - has 1: 86, \n",
    "    - 'Alpha' - has 1: 55, \n",
    "    - 'Eta' - has 1: 1,\n",
    "    - 'Mu' - has 1: 1,\n",
    "    - 'Gamma' - has 1: 6,\n",
    "    - 'Omicron' - has 1: 2928, has more than 1: 13"
   ]
  },
  {
   "cell_type": "code",
   "execution_count": 8,
   "metadata": {},
   "outputs": [],
   "source": [
    "def plot_aa_distribution(csv_file:str):\n",
    "    save_as = csv_file.replace('.csv', '_variant_aa_percentage_distribution.pdf')\n",
    "    aa_dict = defaultdict(int)\n",
    "    m_seqs = defaultdict(list)\n",
    "\n",
    "    df = pd.read_csv(csv_file, sep=',', header=0)\n",
    "\n",
    "    for seq_id, variant, seq in zip(df['seq_id'], df['variant'], df['sequence']):\n",
    "        m_count = 0\n",
    "        for aa in seq:\n",
    "            aa_dict[aa] += 1\n",
    "            if aa == \"M\":\n",
    "                m_count += 1\n",
    "\n",
    "        if \"M\" in seq:\n",
    "            if variant not in m_seqs:\n",
    "                m_seqs[variant] = [0, 0] \n",
    "\n",
    "            if m_count == 1:\n",
    "                m_seqs[variant][0] += 1\n",
    "            elif m_count > 1:\n",
    "                m_seqs[variant][1] += 1\n",
    "\n",
    "    n_m_seqs = sum([sum(counts) for counts in m_seqs.values()])\n",
    "    print(f\"M count: {aa_dict['M']} AAs, n seqs with M: {n_m_seqs} (out of {len(df)}), % seqs with M: {n_m_seqs/len(df)*100:.2f}%\")\n",
    "    print(m_seqs)\n",
    "\n",
    "    amino_acids = sorted(aa_dict.keys())\n",
    "    counts = [aa_dict[aa] for aa in amino_acids]\n",
    "    total_counts = sum(counts)\n",
    "    percentages = [(count/total_counts) * 100 for count in counts]\n",
    "\n",
    "    # Create a bar plot to visualize the distribution\n",
    "    sns.set_theme()\n",
    "    sns.set_context('talk')\n",
    "    sns.set(style='white')\n",
    "    plt.figure(figsize=(16, 9))\n",
    "    plt.rcParams['font.family'] = 'sans-serif'\n",
    "\n",
    "    x = np.arange(len(aa_dict))\n",
    "    bar_width = 0.45\n",
    "    plt.bar(x, percentages, width=bar_width, color=\"dimgrey\")\n",
    "\n",
    "    # Add bar labels\n",
    "    for i, percentage in enumerate(percentages):\n",
    "        plt.text(i, percentage, f'{percentage:.3f}%', ha='center', va='bottom', fontsize=10)\n",
    "\n",
    "    # Remove grey grid background\n",
    "    plt.grid(False)\n",
    "    plt.gca().set_facecolor('none')\n",
    "    for spine in plt.gca().spines.values():\n",
    "        spine.set_visible(True)\n",
    "        spine.set_color('black')\n",
    "    \n",
    "    #plt.title('Amino Acid Distribution')\n",
    "    plt.xlabel('Amino Acid')\n",
    "    plt.ylabel('Quantity (%)')\n",
    "    plt.xticks(x, amino_acids)\n",
    "    plt.style.use('ggplot')\n",
    "    plt.tight_layout()\n",
    "    plt.savefig(save_as, format='pdf')"
   ]
  },
  {
   "cell_type": "code",
   "execution_count": 9,
   "metadata": {},
   "outputs": [
    {
     "name": "stdout",
     "output_type": "stream",
     "text": [
      "M count: 3106 AAs, n seqs with M: 3093 (out of 306515), % seqs with M: 1.01%\n",
      "defaultdict(<class 'list'>, {'Iota': [1, 0], 'Zeta': [2, 0], 'Delta': [86, 0], 'Alpha': [55, 0], 'Eta': [1, 0], 'Mu': [1, 0], 'Gamma': [6, 0], 'Omicron': [2928, 13]})\n"
     ]
    },
    {
     "data": {
      "image/png": "[encoded data removed]",
      "text/plain": [
       "<Figure size 1600x900 with 1 Axes>"
      ]
     },
     "metadata": {},
     "output_type": "display_data"
    }
   ],
   "source": [
    "merged_csv = os.path.join(data_dir, 'spikeprot0528.clean.uniq.noX.RBD_variants.csv')\n",
    "plot_aa_distribution(merged_csv)"
   ]
  },
  {
   "cell_type": "markdown",
   "metadata": {},
   "source": [
    "---\n",
    "## DMS\n",
    "We utilize the DMS [expression](https://github.com/jbloomlab/SARS-CoV-2-RBD_DMS/blob/master/results/expression_meanFs/expression_meanFs.csv) and [binding](https://github.com/jbloomlab/SARS-CoV-2-RBD_DMS/blob/master/results/binding_Kds/binding_Kds.csv) data sets from the 'Deep Mutational Scanning of SARS-CoV-2 Receptor Binding Domain Reveals Constraints on Folding and ACE2 Binding' paper by Starr et al. We need to do some data processing prior to usage within our ML models. This portion of the notebook will cover the `process_dms.py` script.\n",
    "\n",
    "We will need to utilize the below function for these DMS data sets. Given the below reference sequence, this applies the mutations present in the mutation label, or `aa_substitions` column in both .csv, to the reference sequence. This gives us our protein sequence that we later use in our models."
   ]
  },
  {
   "cell_type": "code",
   "execution_count": 10,
   "metadata": {},
   "outputs": [],
   "source": [
    "def label_to_seq(label: str) -> str:\n",
    "    \"\"\" Generate sequence based on reference sequence and mutation label. \"\"\"\n",
    "\n",
    "    refseq = list('NITNLCPFGEVFNATRFASVYAWNRKRISNCVADYSVLYNSASFSTFKCYGVSPTKLNDLCFTNVYADSFVIRGDEVRQIAPGQTGKIADYNYKLPDDFTGCVIAWNSNNLDSKVGGNYNYLYRLFRKSNLKPFERDISTEIYQAGSTPCNGVEGFNCYFPLQSYGFQPTNGVGYQPYRVVVLSFELLHAPATVCGPKKST')\n",
    "    seq = refseq.copy()\n",
    "    p = '([0-9]+)'\n",
    "    if '_' in label:\n",
    "        for mutcode in label.split('_'):\n",
    "            [ori, pos, mut] = re.split(p, mutcode)\n",
    "            pos = int(pos)-1    # use 0-based counting\n",
    "            assert refseq[pos].upper() == ori\n",
    "            seq[pos] = mut.upper()\n",
    "        seq = ''.join(seq)\n",
    "        return seq\n",
    "\n",
    "    if label=='wildtype': return ''.join(seq)\n",
    "\n",
    "    [ori, pos, mut] = re.split(p, label)\n",
    "    pos = int(pos)-1    # use 0-based counting\n",
    "    assert refseq[pos] == ori\n",
    "    seq[pos] = mut.upper()\n",
    "    seq = ''.join(seq)\n",
    "    return seq"
   ]
  },
  {
   "cell_type": "markdown",
   "metadata": {},
   "source": [
    "### Expression\n",
    "Let's load in our first data set, `dms_expression_meanFs.csv` (renamed for organizational purposes, originally downloaded as `expression_meanFs.csv`). The following sections will be an expanded version of the function `process_data`. We will be focusing on 3 main columns to process our data: \n",
    "- `ML_meanF`, \n",
    "- `variant_class`, and \n",
    "- `aa_substitutions`."
   ]
  },
  {
   "cell_type": "code",
   "execution_count": 11,
   "metadata": {},
   "outputs": [
    {
     "data": {
      "text/html": [
       "<div>\n",
       "<style scoped>\n",
       "    .dataframe tbody tr th:only-of-type {\n",
       "        vertical-align: middle;\n",
       "    }\n",
       "\n",
       "    .dataframe tbody tr th {\n",
       "        vertical-align: top;\n",
       "    }\n",
       "\n",
       "    .dataframe thead th {\n",
       "        text-align: right;\n",
       "    }\n",
       "</style>\n",
       "<table border=\"1\" class=\"dataframe\">\n",
       "  <thead>\n",
       "    <tr style=\"text-align: right;\">\n",
       "      <th></th>\n",
       "      <th>library</th>\n",
       "      <th>target</th>\n",
       "      <th>barcode</th>\n",
       "      <th>variant_call_support</th>\n",
       "      <th>total_count</th>\n",
       "      <th>ML_meanF</th>\n",
       "      <th>delta_ML_meanF</th>\n",
       "      <th>var_ML_meanF</th>\n",
       "      <th>variant_class</th>\n",
       "      <th>aa_substitutions</th>\n",
       "      <th>n_aa_substitutions</th>\n",
       "    </tr>\n",
       "  </thead>\n",
       "  <tbody>\n",
       "    <tr>\n",
       "      <th>0</th>\n",
       "      <td>lib1</td>\n",
       "      <td>SARS-CoV-2</td>\n",
       "      <td>AAAAAAAAAATTGTAA</td>\n",
       "      <td>1</td>\n",
       "      <td>0.00</td>\n",
       "      <td>NaN</td>\n",
       "      <td>NaN</td>\n",
       "      <td>NaN</td>\n",
       "      <td>&gt;1 nonsynonymous</td>\n",
       "      <td>Y91L K199Y</td>\n",
       "      <td>2</td>\n",
       "    </tr>\n",
       "    <tr>\n",
       "      <th>1</th>\n",
       "      <td>lib1</td>\n",
       "      <td>SARS-CoV-2</td>\n",
       "      <td>AAAAAAAAACTTAAAT</td>\n",
       "      <td>2</td>\n",
       "      <td>64.71</td>\n",
       "      <td>7.45</td>\n",
       "      <td>-3.01</td>\n",
       "      <td>0.04</td>\n",
       "      <td>&gt;1 nonsynonymous</td>\n",
       "      <td>N13S L60P K94N S147T C150Y</td>\n",
       "      <td>5</td>\n",
       "    </tr>\n",
       "    <tr>\n",
       "      <th>2</th>\n",
       "      <td>lib1</td>\n",
       "      <td>SARS-CoV-2</td>\n",
       "      <td>AAAAAAAAACTTCAAT</td>\n",
       "      <td>5</td>\n",
       "      <td>117.96</td>\n",
       "      <td>7.92</td>\n",
       "      <td>-2.54</td>\n",
       "      <td>0.03</td>\n",
       "      <td>&gt;1 nonsynonymous</td>\n",
       "      <td>A22C R127G E141D L188V</td>\n",
       "      <td>4</td>\n",
       "    </tr>\n",
       "    <tr>\n",
       "      <th>3</th>\n",
       "      <td>lib1</td>\n",
       "      <td>SARS-CoV-2</td>\n",
       "      <td>AAAAAAAACAAGCAGA</td>\n",
       "      <td>6</td>\n",
       "      <td>244.34</td>\n",
       "      <td>8.93</td>\n",
       "      <td>-1.53</td>\n",
       "      <td>0.01</td>\n",
       "      <td>1 nonsynonymous</td>\n",
       "      <td>N13F</td>\n",
       "      <td>1</td>\n",
       "    </tr>\n",
       "    <tr>\n",
       "      <th>4</th>\n",
       "      <td>lib1</td>\n",
       "      <td>SARS-CoV-2</td>\n",
       "      <td>AAAAAAAACAATATAA</td>\n",
       "      <td>1</td>\n",
       "      <td>95.35</td>\n",
       "      <td>6.21</td>\n",
       "      <td>-4.25</td>\n",
       "      <td>0.03</td>\n",
       "      <td>&gt;1 nonsynonymous</td>\n",
       "      <td>C6K T15W K94Y V103W</td>\n",
       "      <td>4</td>\n",
       "    </tr>\n",
       "    <tr>\n",
       "      <th>...</th>\n",
       "      <td>...</td>\n",
       "      <td>...</td>\n",
       "      <td>...</td>\n",
       "      <td>...</td>\n",
       "      <td>...</td>\n",
       "      <td>...</td>\n",
       "      <td>...</td>\n",
       "      <td>...</td>\n",
       "      <td>...</td>\n",
       "      <td>...</td>\n",
       "      <td>...</td>\n",
       "    </tr>\n",
       "    <tr>\n",
       "      <th>195076</th>\n",
       "      <td>lib2</td>\n",
       "      <td>SARS-CoV-2</td>\n",
       "      <td>TTTTTTTACAGTCTTG</td>\n",
       "      <td>12</td>\n",
       "      <td>295.44</td>\n",
       "      <td>8.49</td>\n",
       "      <td>-1.89</td>\n",
       "      <td>0.02</td>\n",
       "      <td>1 nonsynonymous</td>\n",
       "      <td>Y165S</td>\n",
       "      <td>1</td>\n",
       "    </tr>\n",
       "    <tr>\n",
       "      <th>195077</th>\n",
       "      <td>lib2</td>\n",
       "      <td>SARS-CoV-2</td>\n",
       "      <td>TTTTTTTACCAGACTG</td>\n",
       "      <td>14</td>\n",
       "      <td>423.57</td>\n",
       "      <td>7.76</td>\n",
       "      <td>-2.62</td>\n",
       "      <td>0.01</td>\n",
       "      <td>&gt;1 nonsynonymous</td>\n",
       "      <td>G83V D98L</td>\n",
       "      <td>2</td>\n",
       "    </tr>\n",
       "    <tr>\n",
       "      <th>195078</th>\n",
       "      <td>lib2</td>\n",
       "      <td>SARS-CoV-2</td>\n",
       "      <td>TTTTTTTCTTTAAAAA</td>\n",
       "      <td>7</td>\n",
       "      <td>159.59</td>\n",
       "      <td>7.68</td>\n",
       "      <td>-2.70</td>\n",
       "      <td>0.02</td>\n",
       "      <td>&gt;1 nonsynonymous</td>\n",
       "      <td>V71H S147Q</td>\n",
       "      <td>2</td>\n",
       "    </tr>\n",
       "    <tr>\n",
       "      <th>195079</th>\n",
       "      <td>lib2</td>\n",
       "      <td>SARS-CoV-2</td>\n",
       "      <td>TTTTTTTGAAGCCCCA</td>\n",
       "      <td>8</td>\n",
       "      <td>98.22</td>\n",
       "      <td>10.38</td>\n",
       "      <td>0.00</td>\n",
       "      <td>0.03</td>\n",
       "      <td>wildtype</td>\n",
       "      <td>NaN</td>\n",
       "      <td>0</td>\n",
       "    </tr>\n",
       "    <tr>\n",
       "      <th>195080</th>\n",
       "      <td>lib2</td>\n",
       "      <td>SARS-CoV-2</td>\n",
       "      <td>TTTTTTTTAAAATATA</td>\n",
       "      <td>5</td>\n",
       "      <td>72.52</td>\n",
       "      <td>8.30</td>\n",
       "      <td>-2.08</td>\n",
       "      <td>0.04</td>\n",
       "      <td>&gt;1 nonsynonymous</td>\n",
       "      <td>N1I Q84I N130L</td>\n",
       "      <td>3</td>\n",
       "    </tr>\n",
       "  </tbody>\n",
       "</table>\n",
       "<p>195081 rows × 11 columns</p>\n",
       "</div>"
      ],
      "text/plain": [
       "       library      target           barcode  variant_call_support  \\\n",
       "0         lib1  SARS-CoV-2  AAAAAAAAAATTGTAA                     1   \n",
       "1         lib1  SARS-CoV-2  AAAAAAAAACTTAAAT                     2   \n",
       "2         lib1  SARS-CoV-2  AAAAAAAAACTTCAAT                     5   \n",
       "3         lib1  SARS-CoV-2  AAAAAAAACAAGCAGA                     6   \n",
       "4         lib1  SARS-CoV-2  AAAAAAAACAATATAA                     1   \n",
       "...        ...         ...               ...                   ...   \n",
       "195076    lib2  SARS-CoV-2  TTTTTTTACAGTCTTG                    12   \n",
       "195077    lib2  SARS-CoV-2  TTTTTTTACCAGACTG                    14   \n",
       "195078    lib2  SARS-CoV-2  TTTTTTTCTTTAAAAA                     7   \n",
       "195079    lib2  SARS-CoV-2  TTTTTTTGAAGCCCCA                     8   \n",
       "195080    lib2  SARS-CoV-2  TTTTTTTTAAAATATA                     5   \n",
       "\n",
       "        total_count  ML_meanF  delta_ML_meanF  var_ML_meanF     variant_class  \\\n",
       "0              0.00       NaN             NaN           NaN  >1 nonsynonymous   \n",
       "1             64.71      7.45           -3.01          0.04  >1 nonsynonymous   \n",
       "2            117.96      7.92           -2.54          0.03  >1 nonsynonymous   \n",
       "3            244.34      8.93           -1.53          0.01   1 nonsynonymous   \n",
       "4             95.35      6.21           -4.25          0.03  >1 nonsynonymous   \n",
       "...             ...       ...             ...           ...               ...   \n",
       "195076       295.44      8.49           -1.89          0.02   1 nonsynonymous   \n",
       "195077       423.57      7.76           -2.62          0.01  >1 nonsynonymous   \n",
       "195078       159.59      7.68           -2.70          0.02  >1 nonsynonymous   \n",
       "195079        98.22     10.38            0.00          0.03          wildtype   \n",
       "195080        72.52      8.30           -2.08          0.04  >1 nonsynonymous   \n",
       "\n",
       "                  aa_substitutions  n_aa_substitutions  \n",
       "0                       Y91L K199Y                   2  \n",
       "1       N13S L60P K94N S147T C150Y                   5  \n",
       "2           A22C R127G E141D L188V                   4  \n",
       "3                             N13F                   1  \n",
       "4              C6K T15W K94Y V103W                   4  \n",
       "...                            ...                 ...  \n",
       "195076                       Y165S                   1  \n",
       "195077                   G83V D98L                   2  \n",
       "195078                  V71H S147Q                   2  \n",
       "195079                         NaN                   0  \n",
       "195080              N1I Q84I N130L                   3  \n",
       "\n",
       "[195081 rows x 11 columns]"
      ]
     },
     "execution_count": 11,
     "metadata": {},
     "output_type": "execute_result"
    }
   ],
   "source": [
    "data_dir = '../data'\n",
    "\n",
    "# Load in .csv\n",
    "expression_csv = os.path.join(data_dir, 'dms_expression_meanFs.csv')\n",
    "expression_df = pd.read_csv(expression_csv, sep=',', header=0)\n",
    "expression_df"
   ]
  },
  {
   "cell_type": "markdown",
   "metadata": {},
   "source": [
    "Nice, we have 195080 rows of data to start with. Now we want to drop the entries that have any NA/N values. This leaves us with 179005 remaining entries."
   ]
  },
  {
   "cell_type": "code",
   "execution_count": 12,
   "metadata": {},
   "outputs": [
    {
     "name": "stdout",
     "output_type": "stream",
     "text": [
      "179005\n"
     ]
    }
   ],
   "source": [
    "# Remove rows where specified column is NA\n",
    "expression_df = expression_df.dropna(subset=['ML_meanF']).reset_index(drop=True)\n",
    "print(len(expression_df))"
   ]
  },
  {
   "cell_type": "markdown",
   "metadata": {},
   "source": [
    "Let's take a look at how many of each `variant_class` there are. In the end, we want to filter out any variant classes that are not nonsynonymous mutations. We should have 147739 nonsynonymous mutations total."
   ]
  },
  {
   "cell_type": "code",
   "execution_count": 13,
   "metadata": {},
   "outputs": [
    {
     "name": "stdout",
     "output_type": "stream",
     "text": [
      "variant_class\n",
      ">1 nonsynonymous    120383\n",
      "1 nonsynonymous      27356\n",
      "stop                 21574\n",
      "wildtype              8144\n",
      "synonymous            1548\n",
      "Name: count, dtype: int64\n",
      "147739\n"
     ]
    }
   ],
   "source": [
    "# Count number of entries per variant class\n",
    "value_counts = expression_df['variant_class'].value_counts()\n",
    "print(value_counts)\n",
    "\n",
    "# Filter out variant classes that are not nonsynonymous\n",
    "nonsynonymous_df = expression_df[expression_df['variant_class'].str.contains('nonsynonymous', case=False, na=False)]\n",
    "print(len(nonsynonymous_df))"
   ]
  },
  {
   "cell_type": "markdown",
   "metadata": {},
   "source": [
    "Now we want to acquire the unique nonsynonymous mutations. We will do this by creating a new DataFrame taking the mean value of `ML_meanF` across each `aa_substitutions`. We then merge this new DataFrame with the older DataFrame containing only nonsynonymous mutations, replacing the old `ML_meanF` column with the new one with mean values for duplicate `aa_substitutions` nonsynonymous mutations. Then we drop any of these duplicates, leaving 116257 unique nonsynonymous mutations. \n",
    "\n",
    "We can also double check that we have no duplicates by counting the number of unique values in `aa_substitutions`. It matches with 116257 entries!"
   ]
  },
  {
   "cell_type": "code",
   "execution_count": 14,
   "metadata": {},
   "outputs": [
    {
     "name": "stdout",
     "output_type": "stream",
     "text": [
      "116257\n",
      "Number of unique nonsynonymous mutations: 116257\n"
     ]
    }
   ],
   "source": [
    "# Group by 'aa_substitutions' and calculate the mean of the specified value column for each group\n",
    "unique_nonsynonymous_df = nonsynonymous_df.groupby('aa_substitutions', as_index=False)['ML_meanF'].mean()\n",
    "\n",
    "# Merge dfs, replace duplicate with average\n",
    "merged_df = pd.merge(unique_nonsynonymous_df, nonsynonymous_df.drop(columns='ML_meanF'), on='aa_substitutions', how='left')\n",
    "\n",
    "# Drop duplicate rows based on 'aa_substitutions'\n",
    "merged_df = merged_df.drop_duplicates(subset='aa_substitutions').reset_index(drop=True)\n",
    "print(len(merged_df))\n",
    "\n",
    "# Count number of unique nonsynonymous mutations\n",
    "unique_nonsynonymous_mutations_counts = merged_df['aa_substitutions'].nunique()\n",
    "print(f\"Number of unique nonsynonymous mutations: {unique_nonsynonymous_mutations_counts}\")"
   ]
  },
  {
   "cell_type": "markdown",
   "metadata": {},
   "source": [
    "Now we can select down to the columns we want, `aa_substitution` and `ML_meanF`. To match with the formatting of the `label_to_seq` function, we need to replace all spaces ' ' in `aa_substitutions` with underscores '_'. After, we can create a new column in our DataFrame containing the sequence (reference sequence with substitutions applied), and also rename the `aa_substitutions` to `labels`."
   ]
  },
  {
   "cell_type": "code",
   "execution_count": 15,
   "metadata": {},
   "outputs": [
    {
     "data": {
      "text/html": [
       "<div>\n",
       "<style scoped>\n",
       "    .dataframe tbody tr th:only-of-type {\n",
       "        vertical-align: middle;\n",
       "    }\n",
       "\n",
       "    .dataframe tbody tr th {\n",
       "        vertical-align: top;\n",
       "    }\n",
       "\n",
       "    .dataframe thead th {\n",
       "        text-align: right;\n",
       "    }\n",
       "</style>\n",
       "<table border=\"1\" class=\"dataframe\">\n",
       "  <thead>\n",
       "    <tr style=\"text-align: right;\">\n",
       "      <th></th>\n",
       "      <th>labels</th>\n",
       "      <th>ML_meanF</th>\n",
       "      <th>sequence</th>\n",
       "    </tr>\n",
       "  </thead>\n",
       "  <tbody>\n",
       "    <tr>\n",
       "      <th>0</th>\n",
       "      <td>A105C</td>\n",
       "      <td>8.77</td>\n",
       "      <td>NITNLCPFGEVFNATRFASVYAWNRKRISNCVADYSVLYNSASFST...</td>\n",
       "    </tr>\n",
       "    <tr>\n",
       "      <th>1</th>\n",
       "      <td>A105C_D112L_K128H_S147P</td>\n",
       "      <td>7.82</td>\n",
       "      <td>NITNLCPFGEVFNATRFASVYAWNRKRISNCVADYSVLYNSASFST...</td>\n",
       "    </tr>\n",
       "    <tr>\n",
       "      <th>2</th>\n",
       "      <td>A105C_D112S</td>\n",
       "      <td>8.26</td>\n",
       "      <td>NITNLCPFGEVFNATRFASVYAWNRKRISNCVADYSVLYNSASFST...</td>\n",
       "    </tr>\n",
       "    <tr>\n",
       "      <th>3</th>\n",
       "      <td>A105C_F134V</td>\n",
       "      <td>8.05</td>\n",
       "      <td>NITNLCPFGEVFNATRFASVYAWNRKRISNCVADYSVLYNSASFST...</td>\n",
       "    </tr>\n",
       "    <tr>\n",
       "      <th>4</th>\n",
       "      <td>A105C_G117S_L162T</td>\n",
       "      <td>7.84</td>\n",
       "      <td>NITNLCPFGEVFNATRFASVYAWNRKRISNCVADYSVLYNSASFST...</td>\n",
       "    </tr>\n",
       "    <tr>\n",
       "      <th>...</th>\n",
       "      <td>...</td>\n",
       "      <td>...</td>\n",
       "      <td>...</td>\n",
       "    </tr>\n",
       "    <tr>\n",
       "      <th>116252</th>\n",
       "      <td>Y93W_V103W_T148R_G152R_T170L</td>\n",
       "      <td>7.18</td>\n",
       "      <td>NITNLCPFGEVFNATRFASVYAWNRKRISNCVADYSVLYNSASFST...</td>\n",
       "    </tr>\n",
       "    <tr>\n",
       "      <th>116253</th>\n",
       "      <td>Y93W_Y119R</td>\n",
       "      <td>7.17</td>\n",
       "      <td>NITNLCPFGEVFNATRFASVYAWNRKRISNCVADYSVLYNSASFST...</td>\n",
       "    </tr>\n",
       "    <tr>\n",
       "      <th>116254</th>\n",
       "      <td>Y93W_Y121P</td>\n",
       "      <td>7.61</td>\n",
       "      <td>NITNLCPFGEVFNATRFASVYAWNRKRISNCVADYSVLYNSASFST...</td>\n",
       "    </tr>\n",
       "    <tr>\n",
       "      <th>116255</th>\n",
       "      <td>Y93W_Y123L_Y143E_Y159S</td>\n",
       "      <td>8.24</td>\n",
       "      <td>NITNLCPFGEVFNATRFASVYAWNRKRISNCVADYSVLYNSASFST...</td>\n",
       "    </tr>\n",
       "    <tr>\n",
       "      <th>116256</th>\n",
       "      <td>Y93W_Y178S</td>\n",
       "      <td>7.66</td>\n",
       "      <td>NITNLCPFGEVFNATRFASVYAWNRKRISNCVADYSVLYNSASFST...</td>\n",
       "    </tr>\n",
       "  </tbody>\n",
       "</table>\n",
       "<p>116257 rows × 3 columns</p>\n",
       "</div>"
      ],
      "text/plain": [
       "                              labels  ML_meanF  \\\n",
       "0                              A105C      8.77   \n",
       "1            A105C_D112L_K128H_S147P      7.82   \n",
       "2                        A105C_D112S      8.26   \n",
       "3                        A105C_F134V      8.05   \n",
       "4                  A105C_G117S_L162T      7.84   \n",
       "...                              ...       ...   \n",
       "116252  Y93W_V103W_T148R_G152R_T170L      7.18   \n",
       "116253                    Y93W_Y119R      7.17   \n",
       "116254                    Y93W_Y121P      7.61   \n",
       "116255        Y93W_Y123L_Y143E_Y159S      8.24   \n",
       "116256                    Y93W_Y178S      7.66   \n",
       "\n",
       "                                                 sequence  \n",
       "0       NITNLCPFGEVFNATRFASVYAWNRKRISNCVADYSVLYNSASFST...  \n",
       "1       NITNLCPFGEVFNATRFASVYAWNRKRISNCVADYSVLYNSASFST...  \n",
       "2       NITNLCPFGEVFNATRFASVYAWNRKRISNCVADYSVLYNSASFST...  \n",
       "3       NITNLCPFGEVFNATRFASVYAWNRKRISNCVADYSVLYNSASFST...  \n",
       "4       NITNLCPFGEVFNATRFASVYAWNRKRISNCVADYSVLYNSASFST...  \n",
       "...                                                   ...  \n",
       "116252  NITNLCPFGEVFNATRFASVYAWNRKRISNCVADYSVLYNSASFST...  \n",
       "116253  NITNLCPFGEVFNATRFASVYAWNRKRISNCVADYSVLYNSASFST...  \n",
       "116254  NITNLCPFGEVFNATRFASVYAWNRKRISNCVADYSVLYNSASFST...  \n",
       "116255  NITNLCPFGEVFNATRFASVYAWNRKRISNCVADYSVLYNSASFST...  \n",
       "116256  NITNLCPFGEVFNATRFASVYAWNRKRISNCVADYSVLYNSASFST...  \n",
       "\n",
       "[116257 rows x 3 columns]"
      ]
     },
     "execution_count": 15,
     "metadata": {},
     "output_type": "execute_result"
    }
   ],
   "source": [
    "# Filter to only the columns we want and copy the DataFrame to avoid SettingWithCopyWarning\n",
    "unique_filtered_df = merged_df[['aa_substitutions', 'ML_meanF']].copy()\n",
    "\n",
    "# Add '_' to substitutions\n",
    "unique_filtered_df.loc[:, 'aa_substitutions'] = unique_filtered_df['aa_substitutions'].replace(' ', '_', regex=True)\n",
    "\n",
    "# Utilize 'aa_substitutions' to generate the mutated sequence\n",
    "unique_filtered_df['sequence'] = unique_filtered_df['aa_substitutions'].apply(label_to_seq)\n",
    "\n",
    "# Change 'aa_substitutions' to 'labels'\n",
    "unique_filtered_df = unique_filtered_df.rename(columns={'aa_substitutions': 'labels'})\n",
    "unique_filtered_df"
   ]
  },
  {
   "cell_type": "markdown",
   "metadata": {},
   "source": [
    "We save our data as a whole data set. Then, finally, we split our data into an 80/20 distribution between training and testing. We utilize the `split_csv` function from `split_data.py`, which splits the data 80/20 randomly based on the random seed (we use 0 as the random seed). "
   ]
  },
  {
   "cell_type": "code",
   "execution_count": 16,
   "metadata": {},
   "outputs": [],
   "source": [
    "def split_csv(rnd_seed: int, input_csv: str):\n",
    "    \"\"\"\n",
    "    Split csv file into train, test data.\n",
    "    \"\"\"\n",
    "    train_csv = input_csv.replace('.csv', '_train.csv')\n",
    "    test_csv  = input_csv.replace('.csv', '_test.csv')\n",
    "\n",
    "    with open(input_csv, \"r\") as input_file:\n",
    "        reader = csv.reader(input_file)\n",
    "        header = next(reader)\n",
    "        input_records = list(reader)\n",
    "\n",
    "    random.seed(rnd_seed)\n",
    "    random.shuffle(input_records)\n",
    "\n",
    "    split_idx = int(0.8 * len(input_records))\n",
    "    train_records = input_records[:split_idx]\n",
    "    test_records = input_records[split_idx:]\n",
    "\n",
    "    with open(train_csv, 'w') as ft, open(test_csv, 'w') as fv:\n",
    "        train_writer = csv.writer(ft)\n",
    "        test_writer = csv.writer(fv)\n",
    "\n",
    "        train_writer.writerow(header)\n",
    "        test_writer.writerow(header)\n",
    "\n",
    "        for record in train_records:\n",
    "            train_writer.writerow(record)\n",
    "\n",
    "        for record in test_records:\n",
    "            test_writer.writerow(record)\n",
    "\n",
    "    print(f'Total: {len(input_records)}, Train: {len(train_records)}, Test: {len(test_records)}')"
   ]
  },
  {
   "cell_type": "code",
   "execution_count": 17,
   "metadata": {},
   "outputs": [
    {
     "name": "stdout",
     "output_type": "stream",
     "text": [
      "Total: 116257, Train: 93005, Test: 23252\n"
     ]
    }
   ],
   "source": [
    "# Save processed data to .csv\n",
    "save_as = os.path.join(data_dir, 'dms_mutation_expression_meanFs.csv')\n",
    "unique_filtered_df.to_csv(save_as, index=False)\n",
    "\n",
    "# Split to train, test data (80/20)\n",
    "rnd_seed = 0\n",
    "split_csv(rnd_seed, save_as)"
   ]
  },
  {
   "cell_type": "markdown",
   "metadata": {},
   "source": [
    "Our final numbers for the processed data: \n",
    "- Total: 116257\n",
    "    - Train: 93005\n",
    "    - Test: 23252\n",
    "\n",
    "We also have a separate file that includes all nonsynonmyous mutations. This is for observing the distributions found in `plot_dms_distribution.py`."
   ]
  },
  {
   "cell_type": "code",
   "execution_count": 18,
   "metadata": {},
   "outputs": [],
   "source": [
    "duplicate_filtered_df = nonsynonymous_df.copy()\n",
    "duplicate_filtered_df.loc[:, 'aa_substitutions'] = duplicate_filtered_df['aa_substitutions'].replace(' ', '_', regex=True)\n",
    "duplicate_filtered_df['sequence'] = duplicate_filtered_df['aa_substitutions'].apply(label_to_seq)\n",
    "duplicate_filtered_df = duplicate_filtered_df.rename(columns={'aa_substitutions': 'labels'})\n",
    "\n",
    "save_as = os.path.join(data_dir, 'dms_mutation_expression_meanFs.csv')\n",
    "unique_filtered_df.to_csv(save_as, index=False)"
   ]
  },
  {
   "cell_type": "markdown",
   "metadata": {},
   "source": [
    "### Binding\n",
    "We can run the same process on the binding DMS data set.\n",
    "\n",
    "Our final numbers for the processed data: \n",
    "- Total: 105525\n",
    "    - Train: 84420\n",
    "    - Test: 21105"
   ]
  },
  {
   "cell_type": "code",
   "execution_count": 19,
   "metadata": {},
   "outputs": [],
   "source": [
    "def process_data(input_csv, output_csv):\n",
    "    \"\"\" \n",
    "    Process the DMS binding and expression datasets.\n",
    "    - Drop NAs\n",
    "    - Select only nonsynonymous variant classes\n",
    "    - Select unique nonsynonymous mutations\n",
    "        - For duplicate aa_substitutions, take the mean value of log10Ka or ML_meanF\n",
    "    - Apply mutations to reference sequence\n",
    "    \"\"\"\n",
    "\n",
    "    if  \"binding\" in input_csv:\n",
    "        value_column = \"log10Ka\"\n",
    "        print(\"Looking at DMS binding dataset.\")\n",
    "    elif \"expression\" in input_csv:\n",
    "        value_column = \"ML_meanF\"\n",
    "        print(\"Looking at DMS expression dataset.\")\n",
    "\n",
    "    full_df = pd.read_csv(input_csv, sep=',', header=0)\n",
    "    row_count = len(full_df)\n",
    "    print(f\"Number of data points: {row_count}\")\n",
    "\n",
    "    # Remove rows where specified column is NA\n",
    "    full_df = full_df.dropna(subset=[value_column]).reset_index(drop=True)\n",
    "    print(f\"Number of data points with na: {row_count-len(full_df)}\")\n",
    "    print(f\"Number of data points left {len(full_df)}\")\n",
    "    \n",
    "    # Count number of entries per variant class\n",
    "    value_counts = full_df[\"variant_class\"].value_counts()\n",
    "    print(f\"{value_counts}\")\n",
    "    # Filter out variant classes that are not nonsynonymous\n",
    "    nonsynonymous_df = full_df[full_df['variant_class'].str.contains('nonsynonymous', case=False, na=False)]\n",
    "    \n",
    "    # Group by 'aa_substitutions' and calculate the mean of the specified value column for each group\n",
    "    unique_nonsynonymous_df = nonsynonymous_df.groupby('aa_substitutions', as_index=False)[value_column].mean()\n",
    "    # Merge dfs\n",
    "    merged_df = pd.merge(unique_nonsynonymous_df, nonsynonymous_df.drop(columns=value_column), on='aa_substitutions', how='left')\n",
    "    # Drop duplicate rows based on 'aa_substitutions'\n",
    "    merged_df = merged_df.drop_duplicates(subset='aa_substitutions').reset_index(drop=True)\n",
    "    # Count number of unique nonsynonymous mutations\n",
    "    unique_nonsynonymous_mutations_counts = merged_df['aa_substitutions'].nunique()\n",
    "    print(f\"Number of unique nonsynonymous mutations: {unique_nonsynonymous_mutations_counts}\")\n",
    "    \n",
    "    # Filter to only the columns we want and copy the DataFrame to avoid SettingWithCopyWarning\n",
    "    unique_filtered_df = merged_df[[\"aa_substitutions\", value_column]].copy()\n",
    "    duplicate_filtered_df = nonsynonymous_df.copy()\n",
    "    # Add '_' to substitutions\n",
    "    unique_filtered_df.loc[:, \"aa_substitutions\"] = unique_filtered_df[\"aa_substitutions\"].replace(' ', '_', regex=True)\n",
    "    duplicate_filtered_df.loc[:, \"aa_substitutions\"] = duplicate_filtered_df[\"aa_substitutions\"].replace(' ', '_', regex=True)\n",
    "    # Utilize \"aa_substitutions\" to generate the mutated sequence\n",
    "    unique_filtered_df['sequence'] = unique_filtered_df['aa_substitutions'].apply(label_to_seq)\n",
    "    duplicate_filtered_df['sequence'] = duplicate_filtered_df['aa_substitutions'].apply(label_to_seq)\n",
    "    # Change \"aa_substitutions\" to \"labels\"\n",
    "    unique_filtered_df = unique_filtered_df.rename(columns={\"aa_substitutions\": \"labels\"})\n",
    "    duplicate_filtered_df = duplicate_filtered_df.rename(columns={\"aa_substitutions\": \"labels\"})\n",
    "    \n",
    "    # Save to csv\n",
    "    unique_filtered_df.to_csv(output_csv, index=False)\n",
    "    duplicate_output_csv = output_csv.replace(\"mutation\", \"duplicate_mutation\")\n",
    "    duplicate_filtered_df.to_csv(duplicate_output_csv, index=False)\n",
    "\n",
    "    # Split to train, test data (80/20)\n",
    "    rnd_seed = 0\n",
    "    split_csv(rnd_seed, output_csv)\n",
    "    print(\"\")"
   ]
  },
  {
   "cell_type": "code",
   "execution_count": 20,
   "metadata": {},
   "outputs": [
    {
     "name": "stdout",
     "output_type": "stream",
     "text": [
      "Looking at DMS binding dataset.\n",
      "Number of data points: 195081\n",
      "Number of data points with na: 48644\n",
      "Number of data points left 146437\n",
      "variant_class\n",
      ">1 nonsynonymous    108365\n",
      "1 nonsynonymous      27839\n",
      "wildtype              8619\n",
      "synonymous            1614\n",
      "Name: count, dtype: int64\n",
      "Number of unique nonsynonymous mutations: 105525\n",
      "Total: 105525, Train: 84420, Test: 21105\n",
      "\n"
     ]
    }
   ],
   "source": [
    "binding_csv = os.path.join(data_dir, 'dms_binding_Kds.csv')\n",
    "save_as = os.path.join(data_dir, 'dms_mutation_binding_Kds.csv')\n",
    "process_data(binding_csv, save_as)"
   ]
  },
  {
   "cell_type": "markdown",
   "metadata": {},
   "source": [
    "### Distribution of Data\n",
    "Let's take a look at some distributions of the data these are similar and generated in the same way to the **Supplementary Figure 5A and 5B**, but are not currently in the manuscript supplementary section. First up, the function `plot_value_distribution` creates a plot that consists of the distribution of the measured binding or expression value. We plot this using the unique nonsynonymous mutation dataset. We will load from the .csv, just to make sure it was created properly."
   ]
  },
  {
   "cell_type": "code",
   "execution_count": 21,
   "metadata": {},
   "outputs": [],
   "source": [
    "def plot_value_distribution(df, value_col:str, save_as:str=None):\n",
    "    \"\"\" \n",
    "    Plots the measured value (binding log10Ka or expression ML_meanF) distribution. \n",
    "    \"\"\"\n",
    "    sns.set_theme()\n",
    "    sns.set_context('talk')\n",
    "    sns.set(style='white')\n",
    "    plt.figure(figsize=(16, 9))\n",
    "    plt.rcParams['font.family'] = 'sans-serif'\n",
    "\n",
    "    # Create histogram and kde plot\n",
    "    sns.histplot(df[value_col], kde=False, stat='density', bins=100, color='dimgrey', edgecolor='black')\n",
    "    sns.kdeplot(df[value_col], color='red', linewidth=2)\n",
    "\n",
    "    plt.tight_layout()\n",
    "    plt.xticks(fontsize=14)\n",
    "    plt.yticks(fontsize=14)\n",
    "    plt.xlabel(f'Measured {value_col}', fontsize=16)\n",
    "    plt.ylabel('Density', fontsize=16)\n",
    "    plt.show()"
   ]
  },
  {
   "cell_type": "code",
   "execution_count": 22,
   "metadata": {},
   "outputs": [
    {
     "data": {
      "image/png": "[encoded data removed]",
      "text/plain": [
       "<Figure size 1600x900 with 1 Axes>"
      ]
     },
     "metadata": {},
     "output_type": "display_data"
    }
   ],
   "source": [
    "# Expression Data Set\n",
    "expression_csv = os.path.join(data_dir, 'dms_duplicate_mutation_expression_meanFs.csv')\n",
    "unique_expression_df = pd.read_csv(expression_csv, sep=',', header=0)\n",
    "plot_value_distribution(unique_expression_df, 'ML_meanF')"
   ]
  },
  {
   "cell_type": "code",
   "execution_count": 23,
   "metadata": {},
   "outputs": [
    {
     "data": {
      "image/png": "[encoded data removed]",
      "text/plain": [
       "<Figure size 1600x900 with 1 Axes>"
      ]
     },
     "metadata": {},
     "output_type": "display_data"
    }
   ],
   "source": [
    "# Binding Data Set\n",
    "binding_csv = os.path.join(data_dir, 'dms_duplicate_mutation_binding_Kds.csv')\n",
    "unique_binding_df = pd.read_csv(binding_csv, sep=',', header=0)\n",
    "plot_value_distribution(unique_binding_df, 'log10Ka')"
   ]
  },
  {
   "cell_type": "markdown",
   "metadata": {},
   "source": [
    "We can also look at the distribution of (Root Mean Squared Error) RMSE values. We can then use these to compare to our model runs and their RMSE plots."
   ]
  },
  {
   "cell_type": "code",
   "execution_count": 24,
   "metadata": {},
   "outputs": [],
   "source": [
    "def plot_rmse_distribution(df, save_as:str=None):\n",
    "    \"\"\" \n",
    "    Plots the RMSE density distribution for repeated sequences. \n",
    "    \"\"\"\n",
    "    sns.set_theme()\n",
    "    sns.set_context('talk')\n",
    "    sns.set(style='white')\n",
    "    plt.figure(figsize=(16, 9))\n",
    "    plt.rcParams['font.family'] = 'sans-serif'\n",
    "\n",
    "    # Create histogram and kde plot\n",
    "    sns.histplot(df['rmse'], kde=False, stat='density', bins=100, color='dimgrey', edgecolor='black')\n",
    "    sns.kdeplot(df['rmse'], color='red', linewidth=2)\n",
    "\n",
    "    plt.tight_layout()\n",
    "    plt.xticks(fontsize=14)\n",
    "    plt.yticks(fontsize=14)\n",
    "    plt.xlabel('RMSE', fontsize=16)\n",
    "    plt.ylabel('Density', fontsize=16)\n",
    "    plt.show()"
   ]
  },
  {
   "cell_type": "code",
   "execution_count": 25,
   "metadata": {},
   "outputs": [
    {
     "data": {
      "image/png": "[encoded data removed]",
      "text/plain": [
       "<Figure size 1600x900 with 1 Axes>"
      ]
     },
     "metadata": {},
     "output_type": "display_data"
    }
   ],
   "source": [
    "# Expression Data Set\n",
    "\n",
    "# Mean ML_meanF and RMSE calculation\n",
    "expression_df = pd.read_csv(expression_csv, sep=',', header=0)\n",
    "expression_df = expression_df[['labels', 'ML_meanF', 'sequence']].copy()\n",
    "expression_df['mean_ML_meanF'] = expression_df.groupby('labels')['ML_meanF'].transform('mean')\n",
    "expression_df['squared_difference'] = (expression_df['ML_meanF'] - expression_df['mean_ML_meanF'])**2\n",
    "expression_df['mse'] = expression_df.groupby('labels')['squared_difference'].transform('mean')\n",
    "expression_df['rmse'] = np.sqrt(expression_df['mse'])\n",
    "unique_expression_df = expression_df.drop_duplicates(subset='labels', keep='first')\n",
    "plot_rmse_distribution(unique_expression_df)"
   ]
  },
  {
   "cell_type": "code",
   "execution_count": 26,
   "metadata": {},
   "outputs": [
    {
     "data": {
      "image/png": "[encoded data removed]",
      "text/plain": [
       "<Figure size 1600x900 with 1 Axes>"
      ]
     },
     "metadata": {},
     "output_type": "display_data"
    }
   ],
   "source": [
    "# Binding Data Set\n",
    "\n",
    "# Mean log10KA and RMSE calculation \n",
    "binding_df = pd.read_csv(binding_csv, sep=',', header=0)\n",
    "binding_df = binding_df[['labels', 'log10Ka', 'sequence']].copy()\n",
    "binding_df['mean_log10Ka'] = binding_df.groupby('labels')['log10Ka'].transform('mean')\n",
    "binding_df['squared_difference'] = (binding_df['log10Ka'] - binding_df['mean_log10Ka'])**2\n",
    "binding_df['mse'] = binding_df.groupby('labels')['squared_difference'].transform('mean')\n",
    "binding_df['rmse'] = np.sqrt(binding_df['mse'])\n",
    "unique_binding_df = binding_df.drop_duplicates(subset='labels', keep='first')\n",
    "plot_rmse_distribution(unique_binding_df)"
   ]
  },
  {
   "cell_type": "markdown",
   "metadata": {},
   "source": [
    "---\n",
    "## AlphaSeq Data Set\n",
    "\n",
    "For the AlphaSeq data set, we used an already cleaned dataset from a past project that Kaetlyn Gibson worked on, [Machine Learning Approach to a Novel Curated Covid-19 Antibody Database](https://github.com/rferina/covid_machine_learning/tree/main?tab=readme-ov-file#machine-learning-approach-to-a-novel-curated-covid-19-antibody-database). The script below was provided by the [github](https://github.com/rferina/covid_machine_learning/blob/main/data_cleaning_scripts/AlphaSeq/clean_AlphaSeq.py#L5).\n",
    "\n",
    "The AlphaSeq data set was collected by Emily Engelhart, Ryan Emerson, Leslie Shing, Chelsea Lennartz, Daniel Guion, Mary Kelley, Charles Lin, Randolph Lopez, David Younger & Matthew E. Walsh, [A dataset comprised of binding interactions for 104,972 antibodies against a SARS-CoV-2 peptide](https://www.nature.com/articles/s41597-022-01779-4)."
   ]
  },
  {
   "cell_type": "markdown",
   "metadata": {},
   "source": [
    "The raw data contained 14 [columns](https://www.nature.com/articles/s41597-022-01779-4/tables/5):\n",
    "* POI - Alphanumeric label corresponding to amino acid sequence\n",
    "* Sequence - Single letter amino acid representation of scFv measured.\n",
    "* Target - Protein target represented by a text label for which the measured antibody interacted with.\n",
    "* Assay - Unique assay identifier, either 1 or 2\n",
    "* Replicate - Unique replicate identifier, either 1, 2 or 3\n",
    "* Pred_affinity - Value representing the score from the AlphaSeq assay. These values estimate the protein-protein dissociation constant in nanomolar, on a log scale, and are the result of empirical measurement. Lower values indicate stronger binding.\n",
    "* HC - Single letter amino acid sequence of the heavy chain (HC).\n",
    "* LC - Single letter amino acid sequence of the light chain (LC)\n",
    "* CDRH1 - Single letter amino acid sequence of a CDR region where H indicates heavy chain and the numerical value represents CDR 1.\n",
    "* CDRH2 - Single letter amino acid sequence of a CDR region where H indicates heavy chain and the numerical value represents CDR 2.\n",
    "* CDRH3 - Single letter amino acid sequence of a CDR region where H indicates heavy chain and the numerical value represents CDR 3.\n",
    "* CDRL1 - Single letter amino acid sequence of a CDR region where L indicates light chain and the numerical value represents CDR 1.\n",
    "* CDRL2 - Single letter amino acid sequence of a CDR region where L indicates light chain and the numerical value represents CDR 2.\n",
    "* CDRL3 - Single letter amino acid sequence of a CDR region where L indicates light chain and the numerical value represents CDR 3."
   ]
  },
  {
   "cell_type": "markdown",
   "metadata": {},
   "source": [
    "### Load in Raw Data and Count all Unique Values from the Columns"
   ]
  },
  {
   "cell_type": "code",
   "execution_count": 6,
   "metadata": {},
   "outputs": [
    {
     "name": "stdout",
     "output_type": "stream",
     "text": [
      "            POI                                           Sequence  \\\n",
      "0   AAYL50_1332  EVQLVETGGGLVQPGGSLRLSCAASGFTLNSYGISWVRQAPGKGPE...   \n",
      "1  AAYL50_20866  EVQLVETGGGLVQPGGSLRLSCAASGFTLNSYGISWVRQAPGKGPE...   \n",
      "2     AAYL49_28  EVQLVETGGGLVQPGGSLRLSCAASNFTLQSYGISWVRQAPGKGPE...   \n",
      "3  AAYL50_13317  EVQLVETGGGLVQPGGSLRLSCAASGFTLNSYGISWVRQAPGKGPE...   \n",
      "4   AAYL50_7657  EVQLVETGGGLVQPGGSLRLSCAASGFTLNSYGISWVRQAPGKGPE...   \n",
      "\n",
      "       Target  Assay  Replicate  Pred_affinity  \\\n",
      "0  MIT_Target      1          1       0.866129   \n",
      "1  MIT_Target      1          1       1.450543   \n",
      "2  MIT_Target      1          1       1.789996   \n",
      "3  MIT_Target      1          1       1.704217   \n",
      "4  MIT_Target      1          1       1.625471   \n",
      "\n",
      "                                                  HC  \\\n",
      "0  EVQLVETGGGLVQPGGSLRLSCAASGFTLNSYGISWVRQAPGKGPE...   \n",
      "1  EVQLVETGGGLVQPGGSLRLSCAASGFTLNSYGISWVRQAPGKGPE...   \n",
      "2  EVQLVETGGGLVQPGGSLRLSCAASNFTLQSYGISWVRQAPGKGPE...   \n",
      "3  EVQLVETGGGLVQPGGSLRLSCAASGFTLNSYGISWVRQAPGKGPE...   \n",
      "4  EVQLVETGGGLVQPGGSLRLSCAASGFTLNSYGISWVRQAPGKGPE...   \n",
      "\n",
      "                                                  LC       CDRH1  \\\n",
      "0  DVVMTQSPESLAVSLGERATISCHSSQSVGYESRMKNSVAWYQQKA...  GFTLNSYGIS   \n",
      "1  DVVMTQSPESLAVSLGERATISCKSSQSVLYESRNKVSVAWYQQKA...  GFTLNSYGIS   \n",
      "2  DVVMTQSPESLAVSLGERATISCKSSQSVLYESRNKNSVAWYQQKA...  NFTLQSYGIS   \n",
      "3  DVVMTQSPESLAVSLGERATISCKSSQSVGYESRNKNSVAWYQQKA...  GFTLNSYGIS   \n",
      "4  DVVMTQSPESLAVSLGERATISCKSSESVLYQSRNKNSVAWYQQKA...  GFTLNSYGIS   \n",
      "\n",
      "              CDRH2      CDRH3              CDRL1    CDRL2      CDRL3  \n",
      "0  VIYSDGRRTFYGDSVK  GRAAGTFDS  HSSQSVGYESRMKNSVA  WASTRES  QQYHRLPLS  \n",
      "1  VIYSDGRRTFYGDSVK  GRAAGTFDS  KSSQSVLYESRNKVSVA  HANTRES  QQYHRLPLS  \n",
      "2  VIYSDGRRTFYGDSVK  GRAAGTFDS  KSSQSVLYESRNKNSVA  WASTRES  QQYHRLPLS  \n",
      "3  VIYSDGRRTFYGDSVK  GRAAGTFDS  KSSQSVGYESRNKNSVA  VASTRAS  QQYHRLPLS  \n",
      "4  VIYSDGRRTFYGDSVK  GRAAGTFDS  KSSESVLYQSRNKNSVA  WASTRES  QAYHRLPLS  \n",
      "hc 48928\n",
      "lc 56043\n",
      "cdrh1 7868\n",
      "cdrh2 18150\n",
      "cdrh3 6799\n",
      "cdrl1 19656\n",
      "cdrl2 5526\n",
      "cdrl3 11325\n"
     ]
    }
   ],
   "source": [
    "data_dir = '../data'\n",
    "alpha_seq_data = pd.read_csv(os.path.join(data_dir, \"MITLL_AAlphaBio_Ab_Binding_dataset.csv\"))\n",
    "\n",
    "print(alpha_seq_data.head())\n",
    "\n",
    "# look at unique values in all columns\n",
    "poi_unique = alpha_seq_data['POI'].unique()\n",
    "seq_unique = alpha_seq_data['Sequence'].unique()\n",
    "target_unique = alpha_seq_data['Target'].unique()\n",
    "assay_unique = alpha_seq_data['Assay'].unique() #1,2\n",
    "replicate_unique = alpha_seq_data['Replicate'].unique() #1,2,3\n",
    "affinity_unique = alpha_seq_data['Pred_affinity'].unique()\n",
    "hc_unique = alpha_seq_data['HC'].unique()\n",
    "lc_unique = alpha_seq_data['LC'].unique()\n",
    "cdrh1_unique = alpha_seq_data['CDRH1'].unique()\n",
    "cdrh2_unique = alpha_seq_data['CDRH2'].unique()\n",
    "cdrh3_unique = alpha_seq_data['CDRH3'].unique()\n",
    "cdrl1_unique = alpha_seq_data['CDRL1'].unique()\n",
    "cdrl2_unique = alpha_seq_data['CDRL2'].unique()\n",
    "cdrl3_unique = alpha_seq_data['CDRL3'].unique()\n",
    "\n",
    "print('hc', len(hc_unique)) # 48928\n",
    "print('lc', len(lc_unique)) # 56043\n",
    "print('cdrh1', len(cdrh1_unique)) # 7868\n",
    "print('cdrh2', len(cdrh2_unique)) # 18150\n",
    "print('cdrh3', len(cdrh3_unique)) # 6799\n",
    "print('cdrl1', len(cdrl1_unique)) # 19656 \n",
    "print('cdrl2', len(cdrl2_unique)) # 5526\n",
    "print('cdrl3', len(cdrl3_unique)) # 11325"
   ]
  },
  {
   "cell_type": "markdown",
   "metadata": {},
   "source": [
    "### Find Length of Sequences and Check for Empty Entries"
   ]
  },
  {
   "cell_type": "code",
   "execution_count": 7,
   "metadata": {},
   "outputs": [
    {
     "name": "stdout",
     "output_type": "stream",
     "text": [
      "poi: {8, 9, 10, 11, 12, 14}\n",
      "sequence: {240, 249, 246}\n",
      "target: {9, 10}\n",
      "hc: {117, 118, 119}\n",
      "lc: {113, 115, 108}\n",
      "cdrh1: {10}\n",
      "cdrh2: {16}\n",
      "cdrh3: {8, 9, 10}\n",
      "cdrl1: {17, 11, 14}\n",
      "cdrl2: {13, 7}\n",
      "cdrl3: {9, 11}\n"
     ]
    }
   ],
   "source": [
    "# check unique lengths of entries to see how long sequences are; if there are missing entries\n",
    "def len_checker(data, col):\n",
    "    \"\"\"\n",
    "    Takes in dataframe column, returns unique lengths of\n",
    "    entries in a set.\n",
    "    \"\"\"\n",
    "    len_set = set()\n",
    "    for item in data[col]:\n",
    "        length = len(item)\n",
    "        len_set.add(length)\n",
    "    return len_set\n",
    "\n",
    "# poi len set: {8, 9, 10, 11, 12, 14}\n",
    "print('poi:', len_checker(alpha_seq_data, 'POI'))\n",
    "# seq len set: {240, 249, 246}\n",
    "print('sequence:', len_checker(alpha_seq_data, 'Sequence'))\n",
    "# target len set: {9, 10}\n",
    "print('target:', len_checker(alpha_seq_data, 'Target'))\n",
    "# doesn't work for assay, replicate, or pred_affinity because they're integers not in a list\n",
    "# HC len set: {117, 118, 119}\n",
    "print('hc:', len_checker(alpha_seq_data, 'HC'))\n",
    "# LC len set: {113, 115, 108}\n",
    "print('lc:', len_checker(alpha_seq_data, 'LC'))\n",
    "# cdrh1 len set: {10}\n",
    "print('cdrh1:', len_checker(alpha_seq_data, 'CDRH1'))\n",
    "# cdrh2: {16}\n",
    "print('cdrh2:', len_checker(alpha_seq_data, 'CDRH2'))\n",
    "# cdrh3: {8, 9, 10}\n",
    "print('cdrh3:', len_checker(alpha_seq_data, 'CDRH3'))\n",
    "# cdrl1: {17, 11, 14}\n",
    "print('cdrl1:', len_checker(alpha_seq_data, 'CDRL1'))\n",
    "# cdrl2: {13, 7}\n",
    "print('cdrl2:', len_checker(alpha_seq_data, 'CDRL2'))\n",
    "# cdrl3: {9, 11}\n",
    "print('cdrl3:', len_checker(alpha_seq_data, 'CDRL3'))"
   ]
  },
  {
   "cell_type": "markdown",
   "metadata": {},
   "source": [
    "### Check for Missing Values from Columns and Remove them\n",
    "Missing values were only found in `Pred_affinity`"
   ]
  },
  {
   "cell_type": "code",
   "execution_count": 8,
   "metadata": {},
   "outputs": [
    {
     "name": "stdout",
     "output_type": "stream",
     "text": [
      "0\n",
      "0\n",
      "0\n",
      "0\n",
      "0\n",
      "pred affinity: 907561\n",
      "0\n",
      "0\n",
      "0\n",
      "0\n",
      "0\n",
      "0\n",
      "0\n",
      "0\n",
      "total na values: 907561\n",
      "no seq NA len: 352139\n"
     ]
    }
   ],
   "source": [
    "# check for missing values in all columns; found only in Pred_affinity\n",
    "print(alpha_seq_data['POI'].isna().sum()) # 0\n",
    "print(alpha_seq_data['Sequence'].isna().sum()) # 0\n",
    "print(alpha_seq_data['Target'].isna().sum()) # 0\n",
    "print(alpha_seq_data['Assay'].isna().sum()) # 0\n",
    "print(alpha_seq_data['Replicate'].isna().sum()) # 0\n",
    "print('pred affinity:', alpha_seq_data['Pred_affinity'].isna().sum()) # 907561\n",
    "print(alpha_seq_data['HC'].isna().sum()) # 0\n",
    "print(alpha_seq_data['LC'].isna().sum()) # 0\n",
    "print(alpha_seq_data['CDRH1'].isna().sum()) # 0\n",
    "print(alpha_seq_data['CDRH2'].isna().sum()) # 0\n",
    "print(alpha_seq_data['CDRH3'].isna().sum()) # 0\n",
    "print(alpha_seq_data['CDRL1'].isna().sum()) # 0\n",
    "print(alpha_seq_data['CDRL2'].isna().sum()) # 0\n",
    "print(alpha_seq_data['CDRL3'].isna().sum()) # 0\n",
    "\n",
    "# confirmed that total missing entries for dataframe are only in Pred_affinity column\n",
    "print('total na values:', alpha_seq_data.isnull().sum().sum())  # 907561\n",
    "# 1259701 - 907561 = 352140 usable entries (352139 not counting header line)\n",
    "\n",
    "na_free = alpha_seq_data.dropna()\n",
    "print('no seq NA len:', len(na_free))  # 352139 as expected"
   ]
  },
  {
   "cell_type": "markdown",
   "metadata": {},
   "source": [
    "### Put `Sequence` duplicates in a Set"
   ]
  },
  {
   "cell_type": "code",
   "execution_count": 9,
   "metadata": {},
   "outputs": [
    {
     "name": "stdout",
     "output_type": "stream",
     "text": [
      "seq set: 87807\n"
     ]
    }
   ],
   "source": [
    "# check for duplicate sequences by putting sequences in set\n",
    "sequence_set = set()\n",
    "for seq in na_free['Sequence']:\n",
    "    sequence_set.add(seq)\n",
    "print('seq set:', len(sequence_set)) # 87807 unique sequences"
   ]
  },
  {
   "cell_type": "markdown",
   "metadata": {},
   "source": [
    "### Create a new column for Mean Affinity\n",
    "Mean affinity is calculated by taking the average of the `Pred_affinity` from each `POI`"
   ]
  },
  {
   "cell_type": "code",
   "execution_count": 10,
   "metadata": {},
   "outputs": [
    {
     "name": "stderr",
     "output_type": "stream",
     "text": [
      "/tmp/ipykernel_4100270/1972936728.py:2: SettingWithCopyWarning: \n",
      "A value is trying to be set on a copy of a slice from a DataFrame.\n",
      "Try using .loc[row_indexer,col_indexer] = value instead\n",
      "\n",
      "See the caveats in the documentation: https://pandas.pydata.org/pandas-docs/stable/user_guide/indexing.html#returning-a-view-versus-a-copy\n",
      "  na_free['Mean_Affinity'] = na_free['Pred_affinity'].groupby(na_free['POI']).transform('mean')\n"
     ]
    }
   ],
   "source": [
    "# create new column with average affinity for each replicate\n",
    "na_free['Mean_Affinity'] = na_free['Pred_affinity'].groupby(na_free['POI']).transform('mean')"
   ]
  },
  {
   "cell_type": "markdown",
   "metadata": {},
   "source": [
    "### Drop all duplicate sequences"
   ]
  },
  {
   "cell_type": "code",
   "execution_count": 11,
   "metadata": {},
   "outputs": [
    {
     "name": "stdout",
     "output_type": "stream",
     "text": [
      "dedup len: 87807\n"
     ]
    }
   ],
   "source": [
    "# drop replicates using sequences\n",
    "dedup_alpha_seq = na_free.drop_duplicates(subset='Sequence', keep='first')\n",
    "print('dedup len:', len(dedup_alpha_seq)) # 87807"
   ]
  },
  {
   "cell_type": "markdown",
   "metadata": {},
   "source": [
    "### Create a new CSV with Clean Data\n",
    "The clean data has removed all entries that are empty. It has created a new column for `Mean_Affinity` and dropped all duplicate sequences."
   ]
  },
  {
   "cell_type": "code",
   "execution_count": 12,
   "metadata": {},
   "outputs": [],
   "source": [
    "# write out NA-free averaged replicate data to clean csv\n",
    "dedup_alpha_seq.to_csv(os.path.join(data_dir, \"clean_avg_alpha_seq.csv\"), index=False) "
   ]
  },
  {
   "cell_type": "markdown",
   "metadata": {},
   "source": [
    "---\n",
    "## Beta-Corona Virus Data Set (Refers to Table 1)\n",
    "\n",
    "Most of the [data](https://github.com/jbloomlab/SARS-CoV-2-RBD_DMS/blob/master/data/alignments/unaligned-sequences/RBDs.fasta) for the Beta-Corona Virus data set was gathered from a paper, [Deep mutational scanning of SARS-CoV-2 receptor binding domain reveals constraints on folding and ACE2 binding](https://www.sciencedirect.com/science/article/pii/S0092867420310035?via%3Dihub), conducted by Tyler Starr, Allie Greaney, and Jesse Bloom. \n",
    "\n",
    "The MERS sequences were manually extracted from querying the accession number [ALA49374.1](https://www.ncbi.nlm.nih.gov/protein/ALA49374.1) through [blastp](https://blast.ncbi.nlm.nih.gov/Blast.cgi?PAGE=Proteins&PROGRAM=blastp&PAGE_TYPE=BlastSearch&BLAST_SPEC=). After obtaining the FASTA file, we changed the FASTA file to a CSV. "
   ]
  },
  {
   "cell_type": "code",
   "execution_count": null,
   "metadata": {},
   "outputs": [],
   "source": [
    "\"\"\"\n",
    "Change FASTA file to csv\n",
    "\"\"\"\n",
    "\n",
    "fasta_file = 'MERS_seq.fasta'\n",
    "csv_file = 'MERS_seq.csv'\n",
    "\n",
    "with open(csv_file, 'w', newline='') as csvfile:\n",
    "    csvwriter = csv.writer(csvfile, delimiter=',', quotechar='\"', quoting=csv.QUOTE_MINIMAL)\n",
    "    csvwriter.writerow(['ID', 'Sequence'])  # Write header\n",
    "\n",
    "    for seq_record in SeqIO.parse(fasta_file, \"fasta\"):\n",
    "        csvwriter.writerow([seq_record.id, str(seq_record.seq)])"
   ]
  },
  {
   "cell_type": "markdown",
   "metadata": {},
   "source": [
    "After obtaining the CSV, we went through the sequences to find their RBD [region](https://www.ncbi.nlm.nih.gov/Structure/cdd/cddsrv.cgi?uid=cd21486). Then, we parsed through all the RBD sequences and removed the ones that were the same. We finally combined the two data sets together to form `betacoronavirus_seq.csv` and `betacoronavirus_seq.fasta`"
   ]
  }
 ],
 "metadata": {
  "kernelspec": {
   "display_name": "spike_env",
   "language": "python",
   "name": "python3"
  },
  "language_info": {
   "codemirror_mode": {
    "name": "ipython",
    "version": 3
   },
   "file_extension": ".py",
   "mimetype": "text/x-python",
   "name": "python",
   "nbconvert_exporter": "python",
   "pygments_lexer": "ipython3",
   "version": "3.11.5"
  }
 },
 "nbformat": 4,
 "nbformat_minor": 2
}
