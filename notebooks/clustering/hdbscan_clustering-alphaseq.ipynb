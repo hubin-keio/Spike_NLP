{
 "cells": [
  {
   "cell_type": "markdown",
   "metadata": {},
   "source": [
    "# WIP"
   ]
  },
  {
   "cell_type": "code",
   "execution_count": null,
   "metadata": {},
   "outputs": [],
   "source": [
    "class AlphaSeqDataset(Dataset):\n",
    "    \"\"\" AlphaSeq sequence dataset, embedded with ESM model. \"\"\"\n",
    "\n",
    "    def __init__(self, csv_file:str, device:str):\n",
    "        self.df = pd.read_csv(csv_file, sep=',', header=0)\n",
    "        self.device = device\n",
    "\n",
    "        self.df = self.df[['POI', 'Sequence', 'Mean_Affinity']]\n",
    "        self.df['variant'] = pd.qcut(self.df['Mean_Affinity'], 4, labels=['Q1', 'Q2', 'Q3', 'Q4']) # Quantile based on mean affinity\n",
    "        self.df = self.df.rename(columns={'POI':'seq_id', 'Sequence':'sequence'})\n",
    "\n",
    "    def __len__(self) -> int:\n",
    "        return len(self.df)\n",
    "\n",
    "    def __getitem__(self, idx):\n",
    "        return self.df.iloc[idx]['seq_id'], self.df.iloc[idx]['variant'], self.df.iloc[idx]['sequence']"
   ]
  },
  {
   "cell_type": "code",
   "execution_count": null,
   "metadata": {},
   "outputs": [],
   "source": [
    "def plot_from_embedding(csv_file, type):\n",
    "    df = pd.read_csv(csv_file, sep=',', header=0)\n",
    "\n",
    "    # Custom color mapping for specified variants\n",
    "    cmap = {'Q1': 'black', \n",
    "            'Q2': '#1f77b4',    # blue\n",
    "            'Q3': '#d62728',    # red\n",
    "            'Q4': '#f7b6d2'}    # pink\n",
    "\n",
    "    variant_labels = sorted(df[\"variant\"].unique())    \n",
    "    variant_colors = {}\n",
    "    for variant in variant_labels:\n",
    "        if variant in cmap:\n",
    "            variant_colors[variant] = cmap[variant]\n",
    "            \n",
    "    df['colors'] = [variant_colors[variant] for variant in df['variant']]\n",
    "\n",
    "    # Legend handles\n",
    "    legend_handles = [plt.Line2D([0], [0], marker='o', color='w', markerfacecolor=variant_colors[variant], label=variant) for variant in variant_labels]\n",
    "\n",
    "    # Create a scatter plot\n",
    "    plt.figure(figsize=(16,9))\n",
    "    plt.rcParams['font.family'] = 'sans-serif'\n",
    "    plt.scatter(df['DIM_1'], df['DIM_2'], c=df['colors'], s=20, edgecolor='w', alpha=0.7)\n",
    "    plt.xlabel(f'{type} Dimension 1')\n",
    "    plt.ylabel(f'{type} Dimension 2')\n",
    "    plt.legend(handles=legend_handles, loc='upper right')\n",
    "    plt.tight_layout()\n",
    "    plt.savefig(csv_file.replace('_coordinates.csv', '_plot.pdf'), format='pdf')"
   ]
  }
 ],
 "metadata": {
  "language_info": {
   "name": "python"
  }
 },
 "nbformat": 4,
 "nbformat_minor": 2
}
